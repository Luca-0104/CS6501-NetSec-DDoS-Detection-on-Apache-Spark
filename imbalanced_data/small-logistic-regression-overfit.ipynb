{
 "cells": [
  {
   "cell_type": "code",
   "execution_count": 1,
   "id": "44b1687b-57d3-4bc6-b270-7a75c7d9e02b",
   "metadata": {},
   "outputs": [
    {
     "name": "stdout",
     "output_type": "stream",
     "text": [
      "Defaulting to user installation because normal site-packages is not writeable\n",
      "Requirement already satisfied: findspark in ./.local/lib/python3.10/site-packages (2.0.1)\n"
     ]
    }
   ],
   "source": [
    "!pip3 install findspark"
   ]
  },
  {
   "cell_type": "code",
   "execution_count": 2,
   "id": "685a5bdb-c7ce-46d6-a22b-788017090ff6",
   "metadata": {},
   "outputs": [
    {
     "name": "stdout",
     "output_type": "stream",
     "text": [
      "Defaulting to user installation because normal site-packages is not writeable\n",
      "Requirement already satisfied: numpy in ./.local/lib/python3.10/site-packages (1.26.4)\n"
     ]
    }
   ],
   "source": [
    "!pip3 install numpy"
   ]
  },
  {
   "cell_type": "code",
   "execution_count": 3,
   "id": "f3b8c8f7-cfb7-4346-b3e0-0208cd4c1ccc",
   "metadata": {},
   "outputs": [
    {
     "data": {
      "text/plain": [
       "'/home/ubuntu/spark-3.3.1-bin-hadoop3'"
      ]
     },
     "execution_count": 3,
     "metadata": {},
     "output_type": "execute_result"
    }
   ],
   "source": [
    "import findspark\n",
    "findspark.init('/home/ubuntu/spark-3.3.1-bin-hadoop3')\n",
    "findspark.find()"
   ]
  },
  {
   "cell_type": "code",
   "execution_count": 4,
   "id": "03315ce3-217c-4833-b790-1d4fe14275fe",
   "metadata": {},
   "outputs": [
    {
     "name": "stderr",
     "output_type": "stream",
     "text": [
      "Setting default log level to \"WARN\".\n",
      "To adjust logging level use sc.setLogLevel(newLevel). For SparkR, use setLogLevel(newLevel).\n"
     ]
    },
    {
     "name": "stdout",
     "output_type": "stream",
     "text": [
      "24/04/19 19:54:41 WARN NativeCodeLoader: Unable to load native-hadoop library for your platform... using builtin-java classes where applicable\n"
     ]
    }
   ],
   "source": [
    "from pyspark.sql import SparkSession\n",
    "\n",
    "# The entry point into all functionality in Spark is the SparkSession class.\n",
    "spark = (SparkSession\n",
    "\t.builder\n",
    "\t.appName(\"DS5110/CS5501: DDoS detection project\")\n",
    "\t.master(\"spark://172.31.24.89:7077\")\n",
    "\t.config(\"spark.executor.memory\", \"1024M\")\n",
    "\t.getOrCreate())"
   ]
  },
  {
   "cell_type": "markdown",
   "id": "90db79c6-4b87-4bbe-a47c-ebcb5bcec8ac",
   "metadata": {},
   "source": [
    "### Load csv data into dataframe"
   ]
  },
  {
   "cell_type": "code",
   "execution_count": 5,
   "id": "57db617d-c774-4fb2-b975-ca8e2ea82251",
   "metadata": {},
   "outputs": [
    {
     "name": "stderr",
     "output_type": "stream",
     "text": [
      "                                                                                \r"
     ]
    }
   ],
   "source": [
    "df = (spark.read\n",
    "         .format(\"csv\")\n",
    "         .option(\"inferSchema\", True)\n",
    "         .option(\"header\", True)\n",
    "         .load(\"hdfs://172.31.24.89:9000/02-21-2018.csv\"))"
   ]
  },
  {
   "cell_type": "code",
   "execution_count": 6,
   "id": "f31ccbaf-225f-4052-a2f3-4dca93f85d81",
   "metadata": {},
   "outputs": [],
   "source": [
    "from pyspark.ml.classification import LogisticRegression\n",
    "from pyspark.ml.feature import VectorAssembler\n",
    "from pyspark.ml import Pipeline\n",
    "from pyspark.ml.evaluation import BinaryClassificationEvaluator"
   ]
  },
  {
   "cell_type": "markdown",
   "id": "560c5d98-7f58-48ef-a258-e654bf235f31",
   "metadata": {},
   "source": [
    "### Data preprocessing"
   ]
  },
  {
   "cell_type": "code",
   "execution_count": 7,
   "id": "edd9fa31-9648-45c8-a1fa-2f5f044d13f7",
   "metadata": {},
   "outputs": [],
   "source": [
    "from pyspark.sql.functions import col, when\n",
    "#drop unused columns, drop Nan values, convert string labels to integer\n",
    "df = df.drop('Timestamp')\n",
    "df = df.na.drop()\n",
    "df = df.withColumn(\"Label\", when(col(\"Label\") == \"Benign\", 1).otherwise(0))"
   ]
  },
  {
   "cell_type": "code",
   "execution_count": 8,
   "id": "275b62bb-ac62-46db-8565-b751fe1c8b53",
   "metadata": {},
   "outputs": [],
   "source": [
    "#separate features and label columns\n",
    "features = df.columns[:-1]\n",
    "label = df.columns[-1]\n",
    "# Replace missing values in 'Label' with the most common value (mode)\n",
    "# mode = labels.groupBy(\"Label\").count().orderBy(\"count\", ascending=False).first()[\"Label\"]\n",
    "# labels = labels.na.fill(value=mode, subset=[\"Label\"])"
   ]
  },
  {
   "cell_type": "markdown",
   "id": "9c20b459-47c2-4f57-9c2b-3dc2bf007783",
   "metadata": {},
   "source": [
    "### Feature selection using PCA"
   ]
  },
  {
   "cell_type": "code",
   "execution_count": 9,
   "id": "a08ab608-20bc-4d77-b139-54564e2212cd",
   "metadata": {},
   "outputs": [],
   "source": [
    "from pyspark.ml.feature import PCA, VectorAssembler"
   ]
  },
  {
   "cell_type": "code",
   "execution_count": 12,
   "id": "493e273b-b71b-4df4-be90-4e32d839b3ec",
   "metadata": {},
   "outputs": [],
   "source": [
    "pca_50 = PCA(k=50, inputCol=\"features\", outputCol=\"pca50Features\")  # Reduce to 50 principal components"
   ]
  },
  {
   "cell_type": "code",
   "execution_count": null,
   "id": "32da0513-aa06-4ec4-b73f-580ccb1027dd",
   "metadata": {},
   "outputs": [],
   "source": []
  },
  {
   "cell_type": "markdown",
   "id": "0fb523b8-b25f-4e1c-a17a-a34fa02b8022",
   "metadata": {},
   "source": [
    "### Logistic regression "
   ]
  },
  {
   "cell_type": "code",
   "execution_count": 14,
   "id": "5218f3b9-4d37-4953-8aa5-f984320df3d3",
   "metadata": {},
   "outputs": [
    {
     "name": "stderr",
     "output_type": "stream",
     "text": [
      "                                                                                \r"
     ]
    }
   ],
   "source": [
    "# Assemble the features into a single vector (necessary for Spark MLlib models)\n",
    "assembler = VectorAssembler(inputCols=features, outputCol=\"features\")\n",
    "data = assembler.transform(df)\n",
    "\n",
    "model = pca_50.fit(data)\n",
    "data = model.transform(data)\n",
    "\n",
    "# Select the features vector and the label column\n",
    "data = data.select(\"pca50Features\", label)\n",
    "# Split the data into training and test sets\n",
    "trainData, testData = data.randomSplit([0.7, 0.3])"
   ]
  },
  {
   "cell_type": "code",
   "execution_count": 16,
   "id": "8f2e85f7-0043-4e78-baf6-b8c4c393cdc4",
   "metadata": {},
   "outputs": [
    {
     "name": "stderr",
     "output_type": "stream",
     "text": [
      "                                                                                \r"
     ]
    },
    {
     "name": "stdout",
     "output_type": "stream",
     "text": [
      "Execution time: 37.73619198799133 seconds\n"
     ]
    }
   ],
   "source": [
    "# Define and fit the Logistic Regression model\n",
    "import time\n",
    "start_time = time.time()\n",
    "lr = LogisticRegression(featuresCol=\"pca50Features\", labelCol=label, maxIter=10, regParam=0.3, elasticNetParam=0.8)\n",
    "lrModel = lr.fit(trainData)\n",
    "end_time = time.time()\n",
    "print(f\"Execution time: {end_time - start_time} seconds\")"
   ]
  },
  {
   "cell_type": "code",
   "execution_count": 17,
   "id": "b98e1141-e670-4c98-8dbe-a970de5e1ccd",
   "metadata": {},
   "outputs": [],
   "source": [
    "predictions = lrModel.transform(testData)"
   ]
  },
  {
   "cell_type": "markdown",
   "id": "1f8bbf4c-e8b6-4a93-b7ac-3530aa7ac9a0",
   "metadata": {},
   "source": [
    "### Evaluation"
   ]
  },
  {
   "cell_type": "code",
   "execution_count": 18,
   "id": "588a81ba-2f04-48f2-a2f7-0a1df755742a",
   "metadata": {},
   "outputs": [
    {
     "name": "stderr",
     "output_type": "stream",
     "text": [
      "[Stage 35:===========================================>              (3 + 1) / 4]\r"
     ]
    },
    {
     "name": "stdout",
     "output_type": "stream",
     "text": [
      "Accuracy: 0.9340538128462116\n",
      "Precision: 0.6627410031939793\n",
      "Recall: 0.9981158164308597\n"
     ]
    },
    {
     "name": "stderr",
     "output_type": "stream",
     "text": [
      "                                                                                \r"
     ]
    }
   ],
   "source": [
    "from pyspark.ml.evaluation import MulticlassClassificationEvaluator\n",
    "# Evaluate the model\n",
    "evaluator = BinaryClassificationEvaluator(labelCol=\"Label\")\n",
    "accuracy = evaluator.evaluate(predictions)\n",
    "\n",
    "precision_evaluator = MulticlassClassificationEvaluator(\n",
    "    labelCol=\"Label\",\n",
    "    predictionCol=\"prediction\",\n",
    "    metricName=\"precisionByLabel\")\n",
    "\n",
    "# You can specify the label here if you have multiple classes and you are interested in one specific class\n",
    "precision = precision_evaluator.evaluate(predictions)\n",
    "\n",
    "# Evaluator for recall\n",
    "recall_evaluator = MulticlassClassificationEvaluator(\n",
    "    labelCol=\"Label\",\n",
    "    predictionCol=\"prediction\",\n",
    "    metricName=\"recallByLabel\")\n",
    "\n",
    "# As with precision, specify the label for recall calculation if needed\n",
    "recall = recall_evaluator.evaluate(predictions)\n",
    "\n",
    "print(f\"Accuracy: {accuracy}\")\n",
    "print(f\"Precision: {precision}\")\n",
    "print(f\"Recall: {recall}\")\n"
   ]
  },
  {
   "cell_type": "code",
   "execution_count": null,
   "id": "3a5e730b-5cc2-450b-9dd3-64b25e767216",
   "metadata": {},
   "outputs": [],
   "source": []
  }
 ],
 "metadata": {
  "kernelspec": {
   "display_name": "Python 3 (ipykernel)",
   "language": "python",
   "name": "python3"
  },
  "language_info": {
   "codemirror_mode": {
    "name": "ipython",
    "version": 3
   },
   "file_extension": ".py",
   "mimetype": "text/x-python",
   "name": "python",
   "nbconvert_exporter": "python",
   "pygments_lexer": "ipython3",
   "version": "3.10.12"
  }
 },
 "nbformat": 4,
 "nbformat_minor": 5
}
