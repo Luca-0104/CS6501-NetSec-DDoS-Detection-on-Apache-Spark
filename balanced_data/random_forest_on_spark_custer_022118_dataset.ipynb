{
 "cells": [
  {
   "cell_type": "code",
   "execution_count": 1,
   "id": "37a6a711-0598-4138-8276-f33fbc1b2d7d",
   "metadata": {},
   "outputs": [
    {
     "name": "stdout",
     "output_type": "stream",
     "text": [
      "Defaulting to user installation because normal site-packages is not writeable\n",
      "Requirement already satisfied: pyspark in /home/ubuntu/.local/lib/python3.10/site-packages (3.5.1)\n",
      "Requirement already satisfied: py4j==0.10.9.7 in /home/ubuntu/.local/lib/python3.10/site-packages (from pyspark) (0.10.9.7)\n"
     ]
    }
   ],
   "source": [
    "!pip3 install pyspark"
   ]
  },
  {
   "cell_type": "code",
   "execution_count": 2,
   "id": "0fe96d5c-e3d5-42ea-862d-24321480e476",
   "metadata": {},
   "outputs": [
    {
     "name": "stdout",
     "output_type": "stream",
     "text": [
      "Defaulting to user installation because normal site-packages is not writeable\n",
      "Requirement already satisfied: findspark in /home/ubuntu/.local/lib/python3.10/site-packages (2.0.1)\n"
     ]
    }
   ],
   "source": [
    "!pip3 install findspark"
   ]
  },
  {
   "cell_type": "code",
   "execution_count": 5,
   "id": "4042371c-2a7b-4314-be69-ab8707693cda",
   "metadata": {},
   "outputs": [
    {
     "data": {
      "text/plain": [
       "'/home/ubuntu/spark-3.3.1-bin-hadoop3'"
      ]
     },
     "execution_count": 5,
     "metadata": {},
     "output_type": "execute_result"
    }
   ],
   "source": [
    "import findspark\n",
    "findspark.init('/home/ubuntu/spark-3.3.1-bin-hadoop3')\n",
    "findspark.find()"
   ]
  },
  {
   "cell_type": "code",
   "execution_count": 6,
   "id": "f72df189-e168-4fba-b560-3618a7a542ce",
   "metadata": {},
   "outputs": [],
   "source": [
    "from pyspark.sql import SparkSession\n",
    "\n",
    "# The entry point into all functionality in Spark is the SparkSession class.\n",
    "spark = (SparkSession\n",
    "\t.builder\n",
    "\t.appName(\"DS5110/CS5501: my awesome Spark program - balanced att2 - on 022118 dataset\")\n",
    "\t.master(\"spark://172.31.8.146:7077\")\n",
    "\t.config(\"spark.executor.memory\", \"1024M\")\n",
    "\t.getOrCreate())"
   ]
  },
  {
   "cell_type": "code",
   "execution_count": 7,
   "id": "633b8cb1-2f55-4540-b895-78f4cc5bb4a4",
   "metadata": {},
   "outputs": [
    {
     "data": {
      "text/html": [
       "\n",
       "            <div>\n",
       "                <p><b>SparkSession - in-memory</b></p>\n",
       "                \n",
       "        <div>\n",
       "            <p><b>SparkContext</b></p>\n",
       "\n",
       "            <p><a href=\"http://ip-172-31-8-146.ec2.internal:4041\">Spark UI</a></p>\n",
       "\n",
       "            <dl>\n",
       "              <dt>Version</dt>\n",
       "                <dd><code>v3.3.1</code></dd>\n",
       "              <dt>Master</dt>\n",
       "                <dd><code>spark://172.31.8.146:7077</code></dd>\n",
       "              <dt>AppName</dt>\n",
       "                <dd><code>DS5110/CS5501: my awesome Spark program - balanced att2 - on 022118 dataset</code></dd>\n",
       "            </dl>\n",
       "        </div>\n",
       "        \n",
       "            </div>\n",
       "        "
      ],
      "text/plain": [
       "<pyspark.sql.session.SparkSession at 0x7bbd21df8850>"
      ]
     },
     "execution_count": 7,
     "metadata": {},
     "output_type": "execute_result"
    }
   ],
   "source": [
    "spark"
   ]
  },
  {
   "cell_type": "code",
   "execution_count": null,
   "id": "96dd6050-67e4-4099-a2e2-210b90151cff",
   "metadata": {},
   "outputs": [],
   "source": []
  },
  {
   "cell_type": "code",
   "execution_count": null,
   "id": "00d84b41-6e68-4901-bb19-776f56fe8610",
   "metadata": {},
   "outputs": [],
   "source": []
  },
  {
   "cell_type": "code",
   "execution_count": null,
   "id": "f1dd496a-3e70-4a41-beec-3a6e8912091c",
   "metadata": {},
   "outputs": [],
   "source": []
  },
  {
   "cell_type": "code",
   "execution_count": 8,
   "id": "a8e4c1c5-7946-4338-aa39-5cd071e5bf12",
   "metadata": {},
   "outputs": [],
   "source": [
    "import seaborn as sns\n",
    "import matplotlib.pyplot as plt\n",
    "\n",
    "from pyspark.sql.types import *\n",
    "from pyspark.sql.functions import col, count, desc, rand, when\n",
    "\n",
    "from pyspark.ml.feature import ChiSqSelector\n",
    "from pyspark.ml.stat import Correlation\n",
    "from pyspark.ml.evaluation import MulticlassClassificationEvaluator\n",
    "from pyspark.sql import SparkSession\n",
    "from pyspark.ml import Pipeline\n",
    "from pyspark.ml.feature import VectorAssembler, StringIndexer, StandardScaler, PCA\n",
    "from pyspark.ml.classification import RandomForestClassifier\n",
    "from pyspark.ml.evaluation import BinaryClassificationEvaluator\n",
    "from pyspark.ml.tuning import CrossValidator, ParamGridBuilder\n",
    "\n",
    "from pyspark.sql import functions as F\n"
   ]
  },
  {
   "cell_type": "code",
   "execution_count": null,
   "id": "1d8ba669-f385-4d62-b98b-3573c3479ace",
   "metadata": {},
   "outputs": [],
   "source": []
  },
  {
   "cell_type": "markdown",
   "id": "c505f47a-3cf0-48e6-ae6a-f695a269f506",
   "metadata": {},
   "source": [
    "## specify the data type of each column "
   ]
  },
  {
   "cell_type": "code",
   "execution_count": 9,
   "id": "6932807c-4cd6-407b-9ac7-16a0d4228b8d",
   "metadata": {},
   "outputs": [],
   "source": [
    "# Define the schema for the DataFrame\n",
    "schema = StructType([\n",
    "    StructField('Dst Port', IntegerType()),\n",
    "    StructField('Protocol', IntegerType()),\n",
    "    StructField('Timestamp', StringType()),\n",
    "    StructField('Flow Duration', IntegerType()),\n",
    "    StructField('Tot Fwd Pkts', IntegerType()),\n",
    "    StructField('Tot Bwd Pkts', IntegerType()),\n",
    "    StructField('TotLen Fwd Pkts', FloatType()),\n",
    "    StructField('TotLen Bwd Pkts', FloatType()),\n",
    "    StructField('Fwd Pkt Len Max', FloatType()),\n",
    "    StructField('Fwd Pkt Len Min', FloatType()),\n",
    "    StructField('Fwd Pkt Len Mean', FloatType()),\n",
    "    StructField('Fwd Pkt Len Std', FloatType()),\n",
    "    StructField('Bwd Pkt Len Max', FloatType()),\n",
    "    StructField('Bwd Pkt Len Min', FloatType()),\n",
    "    StructField('Bwd Pkt Len Mean', FloatType()),\n",
    "    StructField('Bwd Pkt Len Std', FloatType()),\n",
    "    StructField('Flow Byts/s', FloatType()),\n",
    "    StructField('Flow Pkts/s', FloatType()),\n",
    "    StructField('Flow IAT Mean', FloatType()),\n",
    "    StructField('Flow IAT Std', FloatType()),\n",
    "    StructField('Flow IAT Max', FloatType()),\n",
    "    StructField('Flow IAT Min', FloatType()),\n",
    "    StructField('Fwd IAT Tot', FloatType()),\n",
    "    StructField('Fwd IAT Mean', FloatType()),\n",
    "    StructField('Fwd IAT Std', FloatType()),\n",
    "    StructField('Fwd IAT Max', FloatType()),\n",
    "    StructField('Fwd IAT Min', FloatType()),\n",
    "    StructField('Bwd IAT Tot', FloatType()),\n",
    "    StructField('Bwd IAT Mean', FloatType()),\n",
    "    StructField('Bwd IAT Std', FloatType()),\n",
    "    StructField('Bwd IAT Max', FloatType()),\n",
    "    StructField('Bwd IAT Min', FloatType()),\n",
    "    StructField('Fwd PSH Flags', IntegerType()),\n",
    "    StructField('Bwd PSH Flags', IntegerType()),\n",
    "    StructField('Fwd URG Flags', IntegerType()),\n",
    "    StructField('Bwd URG Flags', IntegerType()),\n",
    "    StructField('Fwd Header Len', IntegerType()),\n",
    "    StructField('Bwd Header Len', IntegerType()),\n",
    "    StructField('Fwd Pkts/s', FloatType()),\n",
    "    StructField('Bwd Pkts/s', FloatType()),\n",
    "    StructField('Pkt Len Min', FloatType()),\n",
    "    StructField('Pkt Len Max', FloatType()),\n",
    "    StructField('Pkt Len Mean', FloatType()),\n",
    "    StructField('Pkt Len Std', FloatType()),\n",
    "    StructField('Pkt Len Var', FloatType()),\n",
    "    StructField('FIN Flag Cnt', IntegerType()),\n",
    "    StructField('SYN Flag Cnt', IntegerType()),\n",
    "    StructField('RST Flag Cnt', IntegerType()),\n",
    "    StructField('PSH Flag Cnt', IntegerType()),\n",
    "    StructField('ACK Flag Cnt', IntegerType()),\n",
    "    StructField('URG Flag Cnt', IntegerType()),\n",
    "    StructField('CWE Flag Count', IntegerType()),\n",
    "    StructField('ECE Flag Cnt', IntegerType()),\n",
    "    StructField('Down/Up Ratio', FloatType()),\n",
    "    StructField('Pkt Size Avg', FloatType()),\n",
    "    StructField('Fwd Seg Size Avg', FloatType()),\n",
    "    StructField('Bwd Seg Size Avg', FloatType()),\n",
    "    StructField('Fwd Byts/b Avg', IntegerType()),\n",
    "    StructField('Fwd Pkts/b Avg', IntegerType()),\n",
    "    StructField('Fwd Blk Rate Avg', IntegerType()),\n",
    "    StructField('Bwd Byts/b Avg', IntegerType()),\n",
    "    StructField('Bwd Pkts/b Avg', IntegerType()),\n",
    "    StructField('Bwd Blk Rate Avg', IntegerType()),\n",
    "    StructField('Subflow Fwd Pkts', IntegerType()),\n",
    "    StructField('Subflow Fwd Byts', IntegerType()),\n",
    "    StructField('Subflow Bwd Pkts', IntegerType()),\n",
    "    StructField('Subflow Bwd Byts', IntegerType()),\n",
    "    StructField('Init Fwd Win Byts', IntegerType()),\n",
    "    StructField('Init Bwd Win Byts', IntegerType()),\n",
    "    StructField('Fwd Act Data Pkts', IntegerType()),\n",
    "    StructField('Fwd Seg Size Min', IntegerType()),\n",
    "    StructField('Active Mean', FloatType()),\n",
    "    StructField('Active Std', FloatType()),\n",
    "    StructField('Active Max', FloatType()),\n",
    "    StructField('Active Min', FloatType()),\n",
    "    StructField('Idle Mean', FloatType()),\n",
    "    StructField('Idle Std', FloatType()),\n",
    "    StructField('Idle Max', FloatType()),\n",
    "    StructField('Idle Min', FloatType()),\n",
    "    StructField('Label', StringType())\n",
    "])"
   ]
  },
  {
   "cell_type": "markdown",
   "id": "c87c3eff-f9b6-4eff-9ff1-bdf00889cf0f",
   "metadata": {},
   "source": [
    "## Read the balanced dataset info dataframe"
   ]
  },
  {
   "cell_type": "code",
   "execution_count": 38,
   "id": "50d46ce0-abf5-4ca6-b801-80b7cf8a9d4d",
   "metadata": {},
   "outputs": [],
   "source": [
    "df = spark.read.csv(\"hdfs://172.31.8.146:9000/02-21-2018.csv\", schema=schema, header=True)\n",
    "# df = spark.read.csv(\"hdfs://172.31.8.146:9000/02-21-2018.csv\", header=True)"
   ]
  },
  {
   "cell_type": "markdown",
   "id": "369cc04a-d890-4358-9784-c1cc67c6cd6f",
   "metadata": {},
   "source": [
    "#### without schema"
   ]
  },
  {
   "cell_type": "code",
   "execution_count": 32,
   "id": "b1983665-fd2c-49a8-95ec-f8dea2ae605d",
   "metadata": {
    "scrolled": true
   },
   "outputs": [
    {
     "data": {
      "text/plain": [
       "Row(Dst Port='80', Protocol='6', Timestamp='21/02/2018 08:33:25', Flow Duration='37953', Tot Fwd Pkts='5', Tot Bwd Pkts='3', TotLen Fwd Pkts='135', TotLen Bwd Pkts='127', Fwd Pkt Len Max='135', Fwd Pkt Len Min='0', Fwd Pkt Len Mean='27', Fwd Pkt Len Std='60.37383539', Bwd Pkt Len Max='127', Bwd Pkt Len Min='0', Bwd Pkt Len Mean='42.33333333', Bwd Pkt Len Std='73.32348419', Flow Byts/s='6903.275103', Flow Pkts/s='210.7870261', Flow IAT Mean='5421.857143', Flow IAT Std='5403.580246', Flow IAT Max='12099', Flow IAT Min='23', Fwd IAT Tot='37953', Fwd IAT Mean='9488.25', Fwd IAT Std='3245.485108', Fwd IAT Max='12382', Fwd IAT Min='6013', Bwd IAT Tot='19960', Bwd IAT Mean='9980', Bwd IAT Std='13546.75171', Bwd IAT Max='19559', Bwd IAT Min='401', Fwd PSH Flags='0', Bwd PSH Flags='0', Fwd URG Flags='0', Bwd URG Flags='0', Fwd Header Len='168', Bwd Header Len='104', Fwd Pkts/s='131.7418913', Bwd Pkts/s='79.04513477', Pkt Len Min='0', Pkt Len Max='135', Pkt Len Mean='29.11111111', Pkt Len Std='57.80018262', Pkt Len Var='3340.861111', FIN Flag Cnt='0', SYN Flag Cnt='0', RST Flag Cnt='0', PSH Flag Cnt='1', ACK Flag Cnt='0', URG Flag Cnt='0', CWE Flag Count='0', ECE Flag Cnt='0', Down/Up Ratio='0', Pkt Size Avg='32.75', Fwd Seg Size Avg='27', Bwd Seg Size Avg='42.33333333', Fwd Byts/b Avg='0', Fwd Pkts/b Avg='0', Fwd Blk Rate Avg='0', Bwd Byts/b Avg='0', Bwd Pkts/b Avg='0', Bwd Blk Rate Avg='0', Subflow Fwd Pkts='5', Subflow Fwd Byts='135', Subflow Bwd Pkts='3', Subflow Bwd Byts='127', Init Fwd Win Byts='29200', Init Bwd Win Byts='219', Fwd Act Data Pkts='1', Fwd Seg Size Min='32', Active Mean='0', Active Std='0', Active Max='0', Active Min='0', Idle Mean='0', Idle Std='0', Idle Max='0', Idle Min='0', Label='Benign')"
      ]
     },
     "execution_count": 32,
     "metadata": {},
     "output_type": "execute_result"
    }
   ],
   "source": [
    "df.head()"
   ]
  },
  {
   "cell_type": "code",
   "execution_count": 34,
   "id": "42cff7f8-4f4e-4b49-866c-bb6b9deb9346",
   "metadata": {},
   "outputs": [
    {
     "name": "stderr",
     "output_type": "stream",
     "text": [
      "[Stage 18:=================================================>      (14 + 2) / 16]\r"
     ]
    },
    {
     "name": "stdout",
     "output_type": "stream",
     "text": [
      "Benign\n",
      "DDOS attack-HOIC\n",
      "DDOS attack-LOIC-UDP\n"
     ]
    },
    {
     "name": "stderr",
     "output_type": "stream",
     "text": [
      "                                                                                \r"
     ]
    }
   ],
   "source": [
    "# check distinct label values\n",
    "distinct_labels = df.select(\"Label\").distinct().collect()\n",
    "# Print the distinct values\n",
    "for row in distinct_labels:\n",
    "    print(row[\"Label\"])"
   ]
  },
  {
   "cell_type": "code",
   "execution_count": 35,
   "id": "c5bb5a4a-77ff-45d6-91e3-306cc9c5979e",
   "metadata": {},
   "outputs": [
    {
     "data": {
      "text/plain": [
       "['Dst Port',\n",
       " 'Protocol',\n",
       " 'Timestamp',\n",
       " 'Flow Duration',\n",
       " 'Tot Fwd Pkts',\n",
       " 'Tot Bwd Pkts',\n",
       " 'TotLen Fwd Pkts',\n",
       " 'TotLen Bwd Pkts',\n",
       " 'Fwd Pkt Len Max',\n",
       " 'Fwd Pkt Len Min',\n",
       " 'Fwd Pkt Len Mean',\n",
       " 'Fwd Pkt Len Std',\n",
       " 'Bwd Pkt Len Max',\n",
       " 'Bwd Pkt Len Min',\n",
       " 'Bwd Pkt Len Mean',\n",
       " 'Bwd Pkt Len Std',\n",
       " 'Flow Byts/s',\n",
       " 'Flow Pkts/s',\n",
       " 'Flow IAT Mean',\n",
       " 'Flow IAT Std',\n",
       " 'Flow IAT Max',\n",
       " 'Flow IAT Min',\n",
       " 'Fwd IAT Tot',\n",
       " 'Fwd IAT Mean',\n",
       " 'Fwd IAT Std',\n",
       " 'Fwd IAT Max',\n",
       " 'Fwd IAT Min',\n",
       " 'Bwd IAT Tot',\n",
       " 'Bwd IAT Mean',\n",
       " 'Bwd IAT Std',\n",
       " 'Bwd IAT Max',\n",
       " 'Bwd IAT Min',\n",
       " 'Fwd PSH Flags',\n",
       " 'Bwd PSH Flags',\n",
       " 'Fwd URG Flags',\n",
       " 'Bwd URG Flags',\n",
       " 'Fwd Header Len',\n",
       " 'Bwd Header Len',\n",
       " 'Fwd Pkts/s',\n",
       " 'Bwd Pkts/s',\n",
       " 'Pkt Len Min',\n",
       " 'Pkt Len Max',\n",
       " 'Pkt Len Mean',\n",
       " 'Pkt Len Std',\n",
       " 'Pkt Len Var',\n",
       " 'FIN Flag Cnt',\n",
       " 'SYN Flag Cnt',\n",
       " 'RST Flag Cnt',\n",
       " 'PSH Flag Cnt',\n",
       " 'ACK Flag Cnt',\n",
       " 'URG Flag Cnt',\n",
       " 'CWE Flag Count',\n",
       " 'ECE Flag Cnt',\n",
       " 'Down/Up Ratio',\n",
       " 'Pkt Size Avg',\n",
       " 'Fwd Seg Size Avg',\n",
       " 'Bwd Seg Size Avg',\n",
       " 'Fwd Byts/b Avg',\n",
       " 'Fwd Pkts/b Avg',\n",
       " 'Fwd Blk Rate Avg',\n",
       " 'Bwd Byts/b Avg',\n",
       " 'Bwd Pkts/b Avg',\n",
       " 'Bwd Blk Rate Avg',\n",
       " 'Subflow Fwd Pkts',\n",
       " 'Subflow Fwd Byts',\n",
       " 'Subflow Bwd Pkts',\n",
       " 'Subflow Bwd Byts',\n",
       " 'Init Fwd Win Byts',\n",
       " 'Init Bwd Win Byts',\n",
       " 'Fwd Act Data Pkts',\n",
       " 'Fwd Seg Size Min',\n",
       " 'Active Mean',\n",
       " 'Active Std',\n",
       " 'Active Max',\n",
       " 'Active Min',\n",
       " 'Idle Mean',\n",
       " 'Idle Std',\n",
       " 'Idle Max',\n",
       " 'Idle Min',\n",
       " 'Label']"
      ]
     },
     "execution_count": 35,
     "metadata": {},
     "output_type": "execute_result"
    }
   ],
   "source": [
    "df.columns"
   ]
  },
  {
   "cell_type": "code",
   "execution_count": 36,
   "id": "2d061c4f-b99d-4571-8456-10cc0d9cc908",
   "metadata": {},
   "outputs": [
    {
     "data": {
      "text/plain": [
       "80"
      ]
     },
     "execution_count": 36,
     "metadata": {},
     "output_type": "execute_result"
    }
   ],
   "source": [
    "len(df.columns)"
   ]
  },
  {
   "cell_type": "code",
   "execution_count": null,
   "id": "647e6dc1-e5b2-47c6-be7b-ba91e782ef1c",
   "metadata": {},
   "outputs": [],
   "source": []
  },
  {
   "cell_type": "markdown",
   "id": "15b73d31-bf83-42f3-945c-c250f8247c2a",
   "metadata": {},
   "source": [
    "#### with schema"
   ]
  },
  {
   "cell_type": "code",
   "execution_count": 39,
   "id": "dc7412c1-0334-49e7-b565-f8d1cdb80027",
   "metadata": {},
   "outputs": [
    {
     "data": {
      "text/plain": [
       "Row(Dst Port=80, Protocol=6, Timestamp='21/02/2018 08:33:25', Flow Duration=37953, Tot Fwd Pkts=5, Tot Bwd Pkts=3, TotLen Fwd Pkts=135.0, TotLen Bwd Pkts=127.0, Fwd Pkt Len Max=135.0, Fwd Pkt Len Min=0.0, Fwd Pkt Len Mean=27.0, Fwd Pkt Len Std=60.373836517333984, Bwd Pkt Len Max=127.0, Bwd Pkt Len Min=0.0, Bwd Pkt Len Mean=42.33333206176758, Bwd Pkt Len Std=73.323486328125, Flow Byts/s=6903.27490234375, Flow Pkts/s=210.7870330810547, Flow IAT Mean=5421.85693359375, Flow IAT Std=5403.580078125, Flow IAT Max=12099.0, Flow IAT Min=23.0, Fwd IAT Tot=37953.0, Fwd IAT Mean=9488.25, Fwd IAT Std=3245.485107421875, Fwd IAT Max=12382.0, Fwd IAT Min=6013.0, Bwd IAT Tot=19960.0, Bwd IAT Mean=9980.0, Bwd IAT Std=13546.751953125, Bwd IAT Max=19559.0, Bwd IAT Min=401.0, Fwd PSH Flags=0, Bwd PSH Flags=0, Fwd URG Flags=0, Bwd URG Flags=0, Fwd Header Len=168, Bwd Header Len=104, Fwd Pkts/s=131.7418975830078, Bwd Pkts/s=79.04513549804688, Pkt Len Min=0.0, Pkt Len Max=135.0, Pkt Len Mean=29.11111068725586, Pkt Len Std=57.8001823425293, Pkt Len Var=3340.861083984375, FIN Flag Cnt=0, SYN Flag Cnt=0, RST Flag Cnt=0, PSH Flag Cnt=1, ACK Flag Cnt=0, URG Flag Cnt=0, CWE Flag Count=0, ECE Flag Cnt=0, Down/Up Ratio=0.0, Pkt Size Avg=32.75, Fwd Seg Size Avg=27.0, Bwd Seg Size Avg=42.33333206176758, Fwd Byts/b Avg=0, Fwd Pkts/b Avg=0, Fwd Blk Rate Avg=0, Bwd Byts/b Avg=0, Bwd Pkts/b Avg=0, Bwd Blk Rate Avg=0, Subflow Fwd Pkts=5, Subflow Fwd Byts=135, Subflow Bwd Pkts=3, Subflow Bwd Byts=127, Init Fwd Win Byts=29200, Init Bwd Win Byts=219, Fwd Act Data Pkts=1, Fwd Seg Size Min=32, Active Mean=0.0, Active Std=0.0, Active Max=0.0, Active Min=0.0, Idle Mean=0.0, Idle Std=0.0, Idle Max=0.0, Idle Min=0.0, Label='Benign')"
      ]
     },
     "execution_count": 39,
     "metadata": {},
     "output_type": "execute_result"
    }
   ],
   "source": [
    "df.head()"
   ]
  },
  {
   "cell_type": "code",
   "execution_count": 40,
   "id": "a679c504-ff66-43f9-a592-9cbdc6e50c8e",
   "metadata": {},
   "outputs": [
    {
     "data": {
      "text/plain": [
       "['Dst Port',\n",
       " 'Protocol',\n",
       " 'Timestamp',\n",
       " 'Flow Duration',\n",
       " 'Tot Fwd Pkts',\n",
       " 'Tot Bwd Pkts',\n",
       " 'TotLen Fwd Pkts',\n",
       " 'TotLen Bwd Pkts',\n",
       " 'Fwd Pkt Len Max',\n",
       " 'Fwd Pkt Len Min',\n",
       " 'Fwd Pkt Len Mean',\n",
       " 'Fwd Pkt Len Std',\n",
       " 'Bwd Pkt Len Max',\n",
       " 'Bwd Pkt Len Min',\n",
       " 'Bwd Pkt Len Mean',\n",
       " 'Bwd Pkt Len Std',\n",
       " 'Flow Byts/s',\n",
       " 'Flow Pkts/s',\n",
       " 'Flow IAT Mean',\n",
       " 'Flow IAT Std',\n",
       " 'Flow IAT Max',\n",
       " 'Flow IAT Min',\n",
       " 'Fwd IAT Tot',\n",
       " 'Fwd IAT Mean',\n",
       " 'Fwd IAT Std',\n",
       " 'Fwd IAT Max',\n",
       " 'Fwd IAT Min',\n",
       " 'Bwd IAT Tot',\n",
       " 'Bwd IAT Mean',\n",
       " 'Bwd IAT Std',\n",
       " 'Bwd IAT Max',\n",
       " 'Bwd IAT Min',\n",
       " 'Fwd PSH Flags',\n",
       " 'Bwd PSH Flags',\n",
       " 'Fwd URG Flags',\n",
       " 'Bwd URG Flags',\n",
       " 'Fwd Header Len',\n",
       " 'Bwd Header Len',\n",
       " 'Fwd Pkts/s',\n",
       " 'Bwd Pkts/s',\n",
       " 'Pkt Len Min',\n",
       " 'Pkt Len Max',\n",
       " 'Pkt Len Mean',\n",
       " 'Pkt Len Std',\n",
       " 'Pkt Len Var',\n",
       " 'FIN Flag Cnt',\n",
       " 'SYN Flag Cnt',\n",
       " 'RST Flag Cnt',\n",
       " 'PSH Flag Cnt',\n",
       " 'ACK Flag Cnt',\n",
       " 'URG Flag Cnt',\n",
       " 'CWE Flag Count',\n",
       " 'ECE Flag Cnt',\n",
       " 'Down/Up Ratio',\n",
       " 'Pkt Size Avg',\n",
       " 'Fwd Seg Size Avg',\n",
       " 'Bwd Seg Size Avg',\n",
       " 'Fwd Byts/b Avg',\n",
       " 'Fwd Pkts/b Avg',\n",
       " 'Fwd Blk Rate Avg',\n",
       " 'Bwd Byts/b Avg',\n",
       " 'Bwd Pkts/b Avg',\n",
       " 'Bwd Blk Rate Avg',\n",
       " 'Subflow Fwd Pkts',\n",
       " 'Subflow Fwd Byts',\n",
       " 'Subflow Bwd Pkts',\n",
       " 'Subflow Bwd Byts',\n",
       " 'Init Fwd Win Byts',\n",
       " 'Init Bwd Win Byts',\n",
       " 'Fwd Act Data Pkts',\n",
       " 'Fwd Seg Size Min',\n",
       " 'Active Mean',\n",
       " 'Active Std',\n",
       " 'Active Max',\n",
       " 'Active Min',\n",
       " 'Idle Mean',\n",
       " 'Idle Std',\n",
       " 'Idle Max',\n",
       " 'Idle Min',\n",
       " 'Label']"
      ]
     },
     "execution_count": 40,
     "metadata": {},
     "output_type": "execute_result"
    }
   ],
   "source": [
    "df.columns"
   ]
  },
  {
   "cell_type": "code",
   "execution_count": 41,
   "id": "18d91011-b239-4fac-ae5a-59c23da65a84",
   "metadata": {},
   "outputs": [
    {
     "data": {
      "text/plain": [
       "80"
      ]
     },
     "execution_count": 41,
     "metadata": {},
     "output_type": "execute_result"
    }
   ],
   "source": [
    "len(df.columns)"
   ]
  },
  {
   "cell_type": "markdown",
   "id": "2cdbc21c-3764-48ca-87a7-e42a9dab6719",
   "metadata": {},
   "source": [
    "# Both Training and Testing of the Random Forest on this 022118 dataset"
   ]
  },
  {
   "cell_type": "code",
   "execution_count": 42,
   "id": "532673a9-f454-4166-9e32-982f6d3e2832",
   "metadata": {},
   "outputs": [
    {
     "name": "stderr",
     "output_type": "stream",
     "text": [
      "[Stage 22:==========================================>             (12 + 4) / 16]\r"
     ]
    },
    {
     "name": "stdout",
     "output_type": "stream",
     "text": [
      "Benign\n",
      "DDOS attack-HOIC\n",
      "DDOS attack-LOIC-UDP\n"
     ]
    },
    {
     "name": "stderr",
     "output_type": "stream",
     "text": [
      "                                                                                \r"
     ]
    }
   ],
   "source": [
    "# check distinct label values\n",
    "distinct_labels = df.select(\"Label\").distinct().collect()\n",
    "# Print the distinct values\n",
    "for row in distinct_labels:\n",
    "    print(row[\"Label\"])"
   ]
  },
  {
   "cell_type": "code",
   "execution_count": 43,
   "id": "7cede58d-4009-4abf-b461-89303116bb4d",
   "metadata": {},
   "outputs": [
    {
     "data": {
      "text/plain": [
       "[Row(Label='Benign'),\n",
       " Row(Label='DDOS attack-HOIC'),\n",
       " Row(Label='DDOS attack-LOIC-UDP')]"
      ]
     },
     "execution_count": 43,
     "metadata": {},
     "output_type": "execute_result"
    }
   ],
   "source": [
    "distinct_labels"
   ]
  },
  {
   "cell_type": "code",
   "execution_count": 44,
   "id": "cf5be39c-0a91-45f2-9e0b-077fa30fa515",
   "metadata": {},
   "outputs": [],
   "source": [
    "# Map \"ddos\" to 1 and \"Benign\" to 0 in the label column\n",
    "# This is required by the random forest in PySpark\n",
    "df = df.withColumn(\"Label\", when(col(\"Label\") == \"Benign\", 0).otherwise(1))"
   ]
  },
  {
   "cell_type": "code",
   "execution_count": 45,
   "id": "8c736e28-d7f6-4a54-a9a1-7e9cec5c0080",
   "metadata": {},
   "outputs": [
    {
     "name": "stderr",
     "output_type": "stream",
     "text": [
      "[Stage 25:=================>                                      (5 + 11) / 16]\r"
     ]
    },
    {
     "name": "stdout",
     "output_type": "stream",
     "text": [
      "1\n",
      "0\n"
     ]
    },
    {
     "name": "stderr",
     "output_type": "stream",
     "text": [
      "                                                                                \r"
     ]
    }
   ],
   "source": [
    "# check distinct label values\n",
    "distinct_labels = df.select(\"Label\").distinct().collect()\n",
    "# Print the distinct values\n",
    "for row in distinct_labels:\n",
    "    print(row[\"Label\"])"
   ]
  },
  {
   "cell_type": "code",
   "execution_count": 46,
   "id": "bb6d6e20-3733-4cce-a0a4-3e55ffa66b3f",
   "metadata": {},
   "outputs": [],
   "source": [
    "selected_features = ['Fwd Pkt Len Mean',\n",
    "                     'PSH Flag Cnt',\n",
    "                     'ACK Flag Cnt',\n",
    "                     'Pkt Size Avg',\n",
    "                     'Fwd Seg Size Avg',\n",
    "                     'Init Bwd Win Byts',\n",
    "                     'Fwd Seg Size Min']"
   ]
  },
  {
   "cell_type": "code",
   "execution_count": 47,
   "id": "23eb435c-16fd-423a-8bcf-91bfb440fc2e",
   "metadata": {},
   "outputs": [],
   "source": [
    "selected_cols = [col for col in df.columns if col in selected_features]\n",
    "\n",
    "# Select features\n",
    "assembler = VectorAssembler(inputCols=selected_cols, outputCol=\"features\")"
   ]
  },
  {
   "cell_type": "markdown",
   "id": "8ce15e73-4c4c-4bcc-9bcc-926414041861",
   "metadata": {},
   "source": [
    "### Perform data preprocessing using scaler\n",
    "Feature scaling (also known as data normalization or standardization) is a preprocessing step that transforms the features (columns) of a dataset to have similar scales or ranges.\n",
    "\n",
    "The purpose of feature scaling here is to ensure that all features contribute equally to our model training process, preventing features with larger scales from dominating those with smaller scales. It also helps the algorithms converge faster and may improve the performance of certain machine learning algorithms, particularly those that rely on distance metrics or gradient descent optimization."
   ]
  },
  {
   "cell_type": "code",
   "execution_count": 48,
   "id": "be3e6adc-efa5-4ff0-af51-28e6b1d5aba2",
   "metadata": {},
   "outputs": [],
   "source": [
    "scaler = StandardScaler(inputCol=\"features\", outputCol=\"scaledFeatures\")"
   ]
  },
  {
   "cell_type": "markdown",
   "id": "3f4db5e7-a4db-48f2-9546-c73ccbf664c5",
   "metadata": {},
   "source": [
    "### Use PCA for feature selection to reduce the number of features"
   ]
  },
  {
   "cell_type": "code",
   "execution_count": 49,
   "id": "dfeb901e-c552-4523-b536-7f7d5730367b",
   "metadata": {},
   "outputs": [],
   "source": [
    "# reduce to 3 principal components\n",
    "pca = PCA(k=3, inputCol=\"scaledFeatures\", outputCol=\"pcaFeatures\")"
   ]
  },
  {
   "cell_type": "markdown",
   "id": "60874d6f-92c9-4574-8046-026e03c57edd",
   "metadata": {},
   "source": [
    "### We adopt the hyperparameter combination of the one we got from the previous tunning processing on the small-scale dataset"
   ]
  },
  {
   "cell_type": "code",
   "execution_count": 58,
   "id": "2731905f-1ad4-4683-954c-d153676810f0",
   "metadata": {},
   "outputs": [],
   "source": [
    "# Define fixed values for numTrees and maxDepth\n",
    "num_trees = 10\n",
    "max_depth = 10"
   ]
  },
  {
   "cell_type": "markdown",
   "id": "86480c2a-658f-4a34-9759-557c7be4ffbe",
   "metadata": {},
   "source": [
    "### Define a new Random Forest model"
   ]
  },
  {
   "cell_type": "code",
   "execution_count": 59,
   "id": "d6618ad3-6177-4a9f-8051-18826bbab4c4",
   "metadata": {},
   "outputs": [],
   "source": [
    "rf = RandomForestClassifier(labelCol=\"Label\", featuresCol=\"pcaFeatures\", numTrees=num_trees, maxDepth=max_depth)\n",
    "pipeline = Pipeline(stages=[assembler, scaler, pca, rf])"
   ]
  },
  {
   "cell_type": "markdown",
   "id": "5c8f1920-5734-4523-900a-2b9b098fe785",
   "metadata": {},
   "source": [
    "### Try k-fold cross validation (10-fold)"
   ]
  },
  {
   "cell_type": "code",
   "execution_count": 60,
   "id": "21c0eacc-f928-4c65-a99f-2afb214853a6",
   "metadata": {},
   "outputs": [],
   "source": [
    "# use ROC index for evaluation\n",
    "evaluator = BinaryClassificationEvaluator(labelCol=\"Label\", metricName=\"areaUnderROC\")\n",
    "# we do not need grid search this time, but the empty parameter is required by the CrossValidator\n",
    "params_grid = ParamGridBuilder().build()\n",
    "# 10-fold cross-validation\n",
    "crossval = CrossValidator(estimator=pipeline,\n",
    "                          estimatorParamMaps=params_grid,\n",
    "                          evaluator=evaluator,\n",
    "                          numFolds=10)  "
   ]
  },
  {
   "cell_type": "code",
   "execution_count": 61,
   "id": "dd75f11a-b0d9-4a11-b4ea-9be3e8ee76f2",
   "metadata": {},
   "outputs": [
    {
     "name": "stderr",
     "output_type": "stream",
     "text": [
      "[Stage 567:=================>                                     (5 + 11) / 16]\r"
     ]
    },
    {
     "name": "stdout",
     "output_type": "stream",
     "text": [
      "1\n",
      "0\n"
     ]
    },
    {
     "name": "stderr",
     "output_type": "stream",
     "text": [
      "                                                                                \r"
     ]
    }
   ],
   "source": [
    "distinct_labels = df.select(\"Label\").distinct().collect()\n",
    "# Print the distinct values\n",
    "for row in distinct_labels:\n",
    "    print(row[\"Label\"])"
   ]
  },
  {
   "cell_type": "markdown",
   "id": "69f53303-9d34-4842-abf9-9bfa24a91da9",
   "metadata": {},
   "source": [
    "### Train the model"
   ]
  },
  {
   "cell_type": "code",
   "execution_count": 62,
   "id": "0761371f-702c-41b3-b801-9b1726490eb3",
   "metadata": {},
   "outputs": [
    {
     "name": "stderr",
     "output_type": "stream",
     "text": [
      "                                                                                \r"
     ]
    },
    {
     "name": "stdout",
     "output_type": "stream",
     "text": [
      "CPU times: user 942 ms, sys: 242 ms, total: 1.18 s\n",
      "Wall time: 2min 41s\n"
     ]
    }
   ],
   "source": [
    "%%time\n",
    "cvModel = crossval.fit(df)"
   ]
  },
  {
   "cell_type": "markdown",
   "id": "c0da157c-9b0a-41b9-b281-73b81a7d7962",
   "metadata": {},
   "source": [
    "### Make predictions"
   ]
  },
  {
   "cell_type": "code",
   "execution_count": 63,
   "id": "43d4958a-18f8-4554-ae2b-4a1f45dbaf43",
   "metadata": {},
   "outputs": [
    {
     "name": "stdout",
     "output_type": "stream",
     "text": [
      "CPU times: user 14.8 ms, sys: 0 ns, total: 14.8 ms\n",
      "Wall time: 141 ms\n"
     ]
    }
   ],
   "source": [
    "%%time\n",
    "# Make predictions\n",
    "predictions = cvModel.transform(df)"
   ]
  },
  {
   "cell_type": "markdown",
   "id": "57c37e53-73db-4eda-926f-e22a02703953",
   "metadata": {},
   "source": [
    "### Evaluation the model"
   ]
  },
  {
   "cell_type": "code",
   "execution_count": 64,
   "id": "98843290-4d6c-4e28-bfb8-6f3416ebbd18",
   "metadata": {},
   "outputs": [
    {
     "name": "stderr",
     "output_type": "stream",
     "text": [
      "                                                                                \r"
     ]
    },
    {
     "data": {
      "text/plain": [
       "0.9999860535304912"
      ]
     },
     "execution_count": 64,
     "metadata": {},
     "output_type": "execute_result"
    }
   ],
   "source": [
    "# Evaluate model performance\n",
    "roc = evaluator.evaluate(predictions)\n",
    "roc"
   ]
  },
  {
   "cell_type": "code",
   "execution_count": 65,
   "id": "f40c1a0e-9ba2-49f3-84f4-ffcecebf8e59",
   "metadata": {},
   "outputs": [
    {
     "name": "stderr",
     "output_type": "stream",
     "text": [
      "[Stage 1102:==============================>                        (9 + 7) / 16]\r"
     ]
    },
    {
     "name": "stdout",
     "output_type": "stream",
     "text": [
      "Accuracy:  0.9990692129795198\n",
      "Precision:  0.9973354340284976\n",
      "Recall:  0.9999667436182389\n",
      "F1 Score:  0.9990695037725204\n",
      "ROC:  0.9999860535304912\n"
     ]
    },
    {
     "name": "stderr",
     "output_type": "stream",
     "text": [
      "                                                                                \r"
     ]
    }
   ],
   "source": [
    "# more evaluations\n",
    "\n",
    "from pyspark.ml.evaluation import MulticlassClassificationEvaluator\n",
    "\n",
    "# Define a multiclass classification evaluator\n",
    "multiclass_evaluator = MulticlassClassificationEvaluator(labelCol=\"Label\", predictionCol=\"prediction\")\n",
    "\n",
    "# Calculate accuracy\n",
    "accuracy = multiclass_evaluator.evaluate(predictions, {multiclass_evaluator.metricName: \"accuracy\"})\n",
    "\n",
    "# Calculate precision\n",
    "precision = multiclass_evaluator.evaluate(predictions, {multiclass_evaluator.metricName: \"precisionByLabel\"})\n",
    "\n",
    "# Calculate recall\n",
    "recall = multiclass_evaluator.evaluate(predictions, {multiclass_evaluator.metricName: \"recallByLabel\"})\n",
    "\n",
    "# Calculate F1 score\n",
    "f1_score = multiclass_evaluator.evaluate(predictions, {multiclass_evaluator.metricName: \"f1\"})\n",
    "\n",
    "# Print the evaluation metrics\n",
    "print(\"Accuracy: \", accuracy)\n",
    "print(\"Precision: \", precision)\n",
    "print(\"Recall: \", recall)\n",
    "print(\"F1 Score: \", f1_score)\n",
    "print(\"ROC: \", roc)"
   ]
  },
  {
   "cell_type": "code",
   "execution_count": null,
   "id": "7d691a49-adce-496c-8109-90b4db623ca5",
   "metadata": {},
   "outputs": [],
   "source": []
  },
  {
   "cell_type": "markdown",
   "id": "fa24dd3e-40f5-485a-9558-b30ad0b493c8",
   "metadata": {},
   "source": [
    "# A simpler RF"
   ]
  },
  {
   "cell_type": "code",
   "execution_count": 66,
   "id": "67e90695-fc14-4309-b1f9-fa874679898a",
   "metadata": {},
   "outputs": [],
   "source": [
    "df = spark.read.csv(\"hdfs://172.31.8.146:9000/02-21-2018.csv\", schema=schema, header=True)"
   ]
  },
  {
   "cell_type": "code",
   "execution_count": 67,
   "id": "d966d14e-29ce-4e44-a655-fa5ed14998c4",
   "metadata": {},
   "outputs": [
    {
     "name": "stderr",
     "output_type": "stream",
     "text": [
      "[Stage 1104:========================================>             (12 + 4) / 16]\r"
     ]
    },
    {
     "name": "stdout",
     "output_type": "stream",
     "text": [
      "Benign\n",
      "DDOS attack-LOIC-UDP\n",
      "DDOS attack-HOIC\n"
     ]
    },
    {
     "name": "stderr",
     "output_type": "stream",
     "text": [
      "                                                                                \r"
     ]
    }
   ],
   "source": [
    "# check distinct label values\n",
    "distinct_labels = df.select(\"Label\").distinct().collect()\n",
    "# Print the distinct values\n",
    "for row in distinct_labels:\n",
    "    print(row[\"Label\"])"
   ]
  },
  {
   "cell_type": "code",
   "execution_count": 68,
   "id": "206a986e-c9d4-4714-b2e7-1646cbc9520b",
   "metadata": {},
   "outputs": [],
   "source": [
    "# Map \"ddos\" to 1 and \"Benign\" to 0 in the label column\n",
    "# This is required by the random forest in PySpark\n",
    "df = df.withColumn(\"Label\", when(col(\"Label\") == \"Benign\", 0).otherwise(1))"
   ]
  },
  {
   "cell_type": "code",
   "execution_count": 69,
   "id": "e3975971-7fc7-4882-a726-b4a0db5c9b2d",
   "metadata": {},
   "outputs": [
    {
     "name": "stdout",
     "output_type": "stream",
     "text": [
      "1\n",
      "0\n"
     ]
    }
   ],
   "source": [
    "# check distinct label values\n",
    "distinct_labels = df.select(\"Label\").distinct().collect()\n",
    "# Print the distinct values\n",
    "for row in distinct_labels:\n",
    "    print(row[\"Label\"])"
   ]
  },
  {
   "cell_type": "code",
   "execution_count": 70,
   "id": "568a2211-2878-483b-be4a-be3d09202003",
   "metadata": {},
   "outputs": [],
   "source": [
    "selected_features = ['Fwd Pkt Len Mean',\n",
    "                     'PSH Flag Cnt',\n",
    "                     'ACK Flag Cnt',\n",
    "                     'Pkt Size Avg',\n",
    "                     'Fwd Seg Size Avg',\n",
    "                     'Init Bwd Win Byts',\n",
    "                     'Fwd Seg Size Min']"
   ]
  },
  {
   "cell_type": "code",
   "execution_count": 72,
   "id": "3196ef70-2701-45ea-be50-85ad3a7ec4fb",
   "metadata": {},
   "outputs": [],
   "source": [
    "selected_cols = [col for col in df.columns if col in selected_features]\n",
    "\n",
    "# Select features\n",
    "assembler = VectorAssembler(inputCols=selected_cols, outputCol=\"features\")\n",
    "data = assembler.transform(df)"
   ]
  },
  {
   "cell_type": "code",
   "execution_count": 73,
   "id": "35e8488c-7463-435a-a39c-6c3333f93953",
   "metadata": {},
   "outputs": [],
   "source": [
    "# Split the data into training and test sets\n",
    "(training_data, test_data) = data.randomSplit([0.7, 0.3])"
   ]
  },
  {
   "cell_type": "code",
   "execution_count": 74,
   "id": "208ac0a7-ac8f-40b5-8139-9dc78afea39e",
   "metadata": {},
   "outputs": [],
   "source": [
    "# Create a RandomForestClassifier\n",
    "rf = RandomForestClassifier(labelCol=\"Label\", featuresCol=\"features\", numTrees=10)"
   ]
  },
  {
   "cell_type": "code",
   "execution_count": 75,
   "id": "4420fd35-5371-4e4f-9110-2b2f8ef20e70",
   "metadata": {},
   "outputs": [
    {
     "name": "stderr",
     "output_type": "stream",
     "text": [
      "                                                                                \r"
     ]
    }
   ],
   "source": [
    "# Train the model\n",
    "model = rf.fit(training_data)"
   ]
  },
  {
   "cell_type": "code",
   "execution_count": 76,
   "id": "6f5bf5a9-c0d3-4e34-9fbc-f3dd7759f804",
   "metadata": {},
   "outputs": [],
   "source": [
    "# Make predictions on the test data\n",
    "predictions = model.transform(test_data)"
   ]
  },
  {
   "cell_type": "code",
   "execution_count": 78,
   "id": "868bddc2-10d0-4445-8f18-b8a7b25f07b5",
   "metadata": {},
   "outputs": [
    {
     "name": "stderr",
     "output_type": "stream",
     "text": [
      "                                                                                \r"
     ]
    },
    {
     "name": "stdout",
     "output_type": "stream",
     "text": [
      "Accuracy: 0.9999776661083194\n"
     ]
    },
    {
     "name": "stderr",
     "output_type": "stream",
     "text": [
      "                                                                                \r"
     ]
    },
    {
     "name": "stdout",
     "output_type": "stream",
     "text": [
      "Precision: 0.9999776668675993\n"
     ]
    },
    {
     "name": "stderr",
     "output_type": "stream",
     "text": [
      "                                                                                \r"
     ]
    },
    {
     "name": "stdout",
     "output_type": "stream",
     "text": [
      "Recall: 0.9999776661083193\n"
     ]
    },
    {
     "name": "stderr",
     "output_type": "stream",
     "text": [
      "[Stage 1133:==================================================>   (15 + 1) / 16]\r"
     ]
    },
    {
     "name": "stdout",
     "output_type": "stream",
     "text": [
      "F1-Score: 0.9999776659346572\n"
     ]
    },
    {
     "name": "stderr",
     "output_type": "stream",
     "text": [
      "                                                                                \r"
     ]
    }
   ],
   "source": [
    "# Evaluate the model\n",
    "evaluator = MulticlassClassificationEvaluator(labelCol=\"Label\", predictionCol=\"prediction\")\n",
    "\n",
    "# Compute accuracy\n",
    "accuracy = evaluator.evaluate(predictions, {evaluator.metricName: \"accuracy\"})\n",
    "print(\"Accuracy: {}\".format(accuracy))\n",
    "\n",
    "# Compute precision\n",
    "precision = evaluator.evaluate(predictions, {evaluator.metricName: \"weightedPrecision\"})\n",
    "print(\"Precision: {}\".format(precision))\n",
    "\n",
    "# Compute recall\n",
    "recall = evaluator.evaluate(predictions, {evaluator.metricName: \"weightedRecall\"})\n",
    "print(\"Recall: {}\".format(recall))\n",
    "\n",
    "# Compute F1-score\n",
    "f1_score = evaluator.evaluate(predictions, {evaluator.metricName: \"f1\"})\n",
    "print(\"F1-Score: {}\".format(f1_score))"
   ]
  },
  {
   "cell_type": "code",
   "execution_count": null,
   "id": "c2cb8374-6892-4dbc-9192-f631b9e265ce",
   "metadata": {},
   "outputs": [],
   "source": []
  },
  {
   "cell_type": "markdown",
   "id": "8917a8f7-79fe-4f48-91f9-2e522060b9b3",
   "metadata": {},
   "source": [
    "# Train model on the 200000 rows Balanced dataset, then test the model on the 022118 dataset"
   ]
  },
  {
   "cell_type": "code",
   "execution_count": 10,
   "id": "876d7365-adc6-4b35-808e-73053d524510",
   "metadata": {},
   "outputs": [],
   "source": [
    "# Define the schema for the balenced DataFrame\n",
    "schema_bal = StructType([\n",
    "    StructField('_c0', IntegerType()),\n",
    "    StructField('Flow ID', StringType()),\n",
    "    StructField('Src IP', StringType()),\n",
    "    StructField('Src Port', IntegerType()),\n",
    "    StructField('Dst IP', StringType()),\n",
    "    StructField('Dst Port', IntegerType()),\n",
    "    StructField('Protocol', IntegerType()),\n",
    "    StructField('Timestamp', StringType()),\n",
    "    StructField('Flow Duration', IntegerType()),\n",
    "    StructField('Tot Fwd Pkts', IntegerType()),\n",
    "    StructField('Tot Bwd Pkts', IntegerType()),\n",
    "    StructField('TotLen Fwd Pkts', FloatType()),\n",
    "    StructField('TotLen Bwd Pkts', FloatType()),\n",
    "    StructField('Fwd Pkt Len Max', FloatType()),\n",
    "    StructField('Fwd Pkt Len Min', FloatType()),\n",
    "    StructField('Fwd Pkt Len Mean', FloatType()),\n",
    "    StructField('Fwd Pkt Len Std', FloatType()),\n",
    "    StructField('Bwd Pkt Len Max', FloatType()),\n",
    "    StructField('Bwd Pkt Len Min', FloatType()),\n",
    "    StructField('Bwd Pkt Len Mean', FloatType()),\n",
    "    StructField('Bwd Pkt Len Std', FloatType()),\n",
    "    StructField('Flow Byts/s', FloatType()),\n",
    "    StructField('Flow Pkts/s', FloatType()),\n",
    "    StructField('Flow IAT Mean', FloatType()),\n",
    "    StructField('Flow IAT Std', FloatType()),\n",
    "    StructField('Flow IAT Max', FloatType()),\n",
    "    StructField('Flow IAT Min', FloatType()),\n",
    "    StructField('Fwd IAT Tot', FloatType()),\n",
    "    StructField('Fwd IAT Mean', FloatType()),\n",
    "    StructField('Fwd IAT Std', FloatType()),\n",
    "    StructField('Fwd IAT Max', FloatType()),\n",
    "    StructField('Fwd IAT Min', FloatType()),\n",
    "    StructField('Bwd IAT Tot', FloatType()),\n",
    "    StructField('Bwd IAT Mean', FloatType()),\n",
    "    StructField('Bwd IAT Std', FloatType()),\n",
    "    StructField('Bwd IAT Max', FloatType()),\n",
    "    StructField('Bwd IAT Min', FloatType()),\n",
    "    StructField('Fwd PSH Flags', IntegerType()),\n",
    "    StructField('Bwd PSH Flags', IntegerType()),\n",
    "    StructField('Fwd URG Flags', IntegerType()),\n",
    "    StructField('Bwd URG Flags', IntegerType()),\n",
    "    StructField('Fwd Header Len', IntegerType()),\n",
    "    StructField('Bwd Header Len', IntegerType()),\n",
    "    StructField('Fwd Pkts/s', FloatType()),\n",
    "    StructField('Bwd Pkts/s', FloatType()),\n",
    "    StructField('Pkt Len Min', FloatType()),\n",
    "    StructField('Pkt Len Max', FloatType()),\n",
    "    StructField('Pkt Len Mean', FloatType()),\n",
    "    StructField('Pkt Len Std', FloatType()),\n",
    "    StructField('Pkt Len Var', FloatType()),\n",
    "    StructField('FIN Flag Cnt', IntegerType()),\n",
    "    StructField('SYN Flag Cnt', IntegerType()),\n",
    "    StructField('RST Flag Cnt', IntegerType()),\n",
    "    StructField('PSH Flag Cnt', IntegerType()),\n",
    "    StructField('ACK Flag Cnt', IntegerType()),\n",
    "    StructField('URG Flag Cnt', IntegerType()),\n",
    "    StructField('CWE Flag Count', IntegerType()),\n",
    "    StructField('ECE Flag Cnt', IntegerType()),\n",
    "    StructField('Down/Up Ratio', FloatType()),\n",
    "    StructField('Pkt Size Avg', FloatType()),\n",
    "    StructField('Fwd Seg Size Avg', FloatType()),\n",
    "    StructField('Bwd Seg Size Avg', FloatType()),\n",
    "    StructField('Fwd Byts/b Avg', IntegerType()),\n",
    "    StructField('Fwd Pkts/b Avg', IntegerType()),\n",
    "    StructField('Fwd Blk Rate Avg', IntegerType()),\n",
    "    StructField('Bwd Byts/b Avg', IntegerType()),\n",
    "    StructField('Bwd Pkts/b Avg', IntegerType()),\n",
    "    StructField('Bwd Blk Rate Avg', IntegerType()),\n",
    "    StructField('Subflow Fwd Pkts', IntegerType()),\n",
    "    StructField('Subflow Fwd Byts', IntegerType()),\n",
    "    StructField('Subflow Bwd Pkts', IntegerType()),\n",
    "    StructField('Subflow Bwd Byts', IntegerType()),\n",
    "    StructField('Init Fwd Win Byts', IntegerType()),\n",
    "    StructField('Init Bwd Win Byts', IntegerType()),\n",
    "    StructField('Fwd Act Data Pkts', IntegerType()),\n",
    "    StructField('Fwd Seg Size Min', IntegerType()),\n",
    "    StructField('Active Mean', FloatType()),\n",
    "    StructField('Active Std', FloatType()),\n",
    "    StructField('Active Max', FloatType()),\n",
    "    StructField('Active Min', FloatType()),\n",
    "    StructField('Idle Mean', FloatType()),\n",
    "    StructField('Idle Std', FloatType()),\n",
    "    StructField('Idle Max', FloatType()),\n",
    "    StructField('Idle Min', FloatType()),\n",
    "    StructField('Label', StringType())\n",
    "])"
   ]
  },
  {
   "cell_type": "code",
   "execution_count": 11,
   "id": "8f31f18e-74c6-4b9b-95e5-d127ae41ce9a",
   "metadata": {},
   "outputs": [],
   "source": [
    "# load the balanced dataset\n",
    "df_bal = spark.read.csv(\"hdfs://172.31.8.146:9000/bal_min_200000.csv\", schema=schema_bal, header=True)"
   ]
  },
  {
   "cell_type": "code",
   "execution_count": 41,
   "id": "4fbec9cb-25c9-4b72-9a89-40bd0d68f966",
   "metadata": {},
   "outputs": [],
   "source": [
    "# load the 022118 dataset for testing\n",
    "df_test = spark.read.csv(\"hdfs://172.31.8.146:9000/02-21-2018.csv\", schema=schema, header=True)"
   ]
  },
  {
   "cell_type": "markdown",
   "id": "5f457177-199a-46e9-a981-3da756e6fb87",
   "metadata": {},
   "source": [
    "### RF model training on the balanced dataset"
   ]
  },
  {
   "cell_type": "code",
   "execution_count": 13,
   "id": "1ceb2fc8-f695-47f8-867a-adc976231f41",
   "metadata": {},
   "outputs": [
    {
     "data": {
      "text/plain": [
       "['_c0',\n",
       " 'Flow ID',\n",
       " 'Src IP',\n",
       " 'Src Port',\n",
       " 'Dst IP',\n",
       " 'Dst Port',\n",
       " 'Protocol',\n",
       " 'Timestamp',\n",
       " 'Flow Duration',\n",
       " 'Tot Fwd Pkts',\n",
       " 'Tot Bwd Pkts',\n",
       " 'TotLen Fwd Pkts',\n",
       " 'TotLen Bwd Pkts',\n",
       " 'Fwd Pkt Len Max',\n",
       " 'Fwd Pkt Len Min',\n",
       " 'Fwd Pkt Len Mean',\n",
       " 'Fwd Pkt Len Std',\n",
       " 'Bwd Pkt Len Max',\n",
       " 'Bwd Pkt Len Min',\n",
       " 'Bwd Pkt Len Mean',\n",
       " 'Bwd Pkt Len Std',\n",
       " 'Flow Byts/s',\n",
       " 'Flow Pkts/s',\n",
       " 'Flow IAT Mean',\n",
       " 'Flow IAT Std',\n",
       " 'Flow IAT Max',\n",
       " 'Flow IAT Min',\n",
       " 'Fwd IAT Tot',\n",
       " 'Fwd IAT Mean',\n",
       " 'Fwd IAT Std',\n",
       " 'Fwd IAT Max',\n",
       " 'Fwd IAT Min',\n",
       " 'Bwd IAT Tot',\n",
       " 'Bwd IAT Mean',\n",
       " 'Bwd IAT Std',\n",
       " 'Bwd IAT Max',\n",
       " 'Bwd IAT Min',\n",
       " 'Fwd PSH Flags',\n",
       " 'Bwd PSH Flags',\n",
       " 'Fwd URG Flags',\n",
       " 'Bwd URG Flags',\n",
       " 'Fwd Header Len',\n",
       " 'Bwd Header Len',\n",
       " 'Fwd Pkts/s',\n",
       " 'Bwd Pkts/s',\n",
       " 'Pkt Len Min',\n",
       " 'Pkt Len Max',\n",
       " 'Pkt Len Mean',\n",
       " 'Pkt Len Std',\n",
       " 'Pkt Len Var',\n",
       " 'FIN Flag Cnt',\n",
       " 'SYN Flag Cnt',\n",
       " 'RST Flag Cnt',\n",
       " 'PSH Flag Cnt',\n",
       " 'ACK Flag Cnt',\n",
       " 'URG Flag Cnt',\n",
       " 'CWE Flag Count',\n",
       " 'ECE Flag Cnt',\n",
       " 'Down/Up Ratio',\n",
       " 'Pkt Size Avg',\n",
       " 'Fwd Seg Size Avg',\n",
       " 'Bwd Seg Size Avg',\n",
       " 'Fwd Byts/b Avg',\n",
       " 'Fwd Pkts/b Avg',\n",
       " 'Fwd Blk Rate Avg',\n",
       " 'Bwd Byts/b Avg',\n",
       " 'Bwd Pkts/b Avg',\n",
       " 'Bwd Blk Rate Avg',\n",
       " 'Subflow Fwd Pkts',\n",
       " 'Subflow Fwd Byts',\n",
       " 'Subflow Bwd Pkts',\n",
       " 'Subflow Bwd Byts',\n",
       " 'Init Fwd Win Byts',\n",
       " 'Init Bwd Win Byts',\n",
       " 'Fwd Act Data Pkts',\n",
       " 'Fwd Seg Size Min',\n",
       " 'Active Mean',\n",
       " 'Active Std',\n",
       " 'Active Max',\n",
       " 'Active Min',\n",
       " 'Idle Mean',\n",
       " 'Idle Std',\n",
       " 'Idle Max',\n",
       " 'Idle Min',\n",
       " 'Label']"
      ]
     },
     "execution_count": 13,
     "metadata": {},
     "output_type": "execute_result"
    }
   ],
   "source": [
    "df_bal.columns"
   ]
  },
  {
   "cell_type": "code",
   "execution_count": 14,
   "id": "f3d6db11-9f6f-4ac2-b550-dc19d9209340",
   "metadata": {},
   "outputs": [
    {
     "name": "stderr",
     "output_type": "stream",
     "text": [
      "                                                                                \r"
     ]
    },
    {
     "data": {
      "text/plain": [
       "200000"
      ]
     },
     "execution_count": 14,
     "metadata": {},
     "output_type": "execute_result"
    }
   ],
   "source": [
    "df_bal.count()"
   ]
  },
  {
   "cell_type": "code",
   "execution_count": 16,
   "id": "3abe529c-6268-4fbf-8c59-0de95be2ade1",
   "metadata": {},
   "outputs": [
    {
     "data": {
      "text/plain": [
       "['Fwd Pkt Len Mean',\n",
       " 'PSH Flag Cnt',\n",
       " 'ACK Flag Cnt',\n",
       " 'Pkt Size Avg',\n",
       " 'Fwd Seg Size Avg',\n",
       " 'Init Bwd Win Byts',\n",
       " 'Fwd Seg Size Min']"
      ]
     },
     "execution_count": 16,
     "metadata": {},
     "output_type": "execute_result"
    }
   ],
   "source": [
    "selected_features = ['Fwd Pkt Len Mean',\n",
    "                     'PSH Flag Cnt',\n",
    "                     'ACK Flag Cnt',\n",
    "                     'Pkt Size Avg',\n",
    "                     'Fwd Seg Size Avg',\n",
    "                     'Init Bwd Win Byts',\n",
    "                     'Fwd Seg Size Min']\n",
    "selected_features"
   ]
  },
  {
   "cell_type": "code",
   "execution_count": 17,
   "id": "d4f046b7-fed3-45fe-aa5a-8eafff2762bd",
   "metadata": {},
   "outputs": [
    {
     "name": "stderr",
     "output_type": "stream",
     "text": [
      "[Stage 3:=========================>                                (7 + 9) / 16]\r"
     ]
    },
    {
     "name": "stdout",
     "output_type": "stream",
     "text": [
      "ddos\n",
      "Benign\n"
     ]
    },
    {
     "name": "stderr",
     "output_type": "stream",
     "text": [
      "                                                                                \r"
     ]
    }
   ],
   "source": [
    "distinct_labels = df_bal.select(\"Label\").distinct().collect()\n",
    "# Print the distinct values\n",
    "for row in distinct_labels:\n",
    "    print(row[\"Label\"])"
   ]
  },
  {
   "cell_type": "code",
   "execution_count": 18,
   "id": "91184994-bd91-4222-ba22-fd3ae187aceb",
   "metadata": {},
   "outputs": [],
   "source": [
    "# Map \"ddos\" to 1 and \"Benign\" to 0 in the label column\n",
    "# This is required by the random forest in PySpark\n",
    "df_bal = df_bal.withColumn(\"Label\", when(col(\"Label\") == \"ddos\", 1).otherwise(0))"
   ]
  },
  {
   "cell_type": "code",
   "execution_count": 19,
   "id": "f06ee9cf-8c13-44dd-a069-bffcaedce002",
   "metadata": {},
   "outputs": [
    {
     "name": "stderr",
     "output_type": "stream",
     "text": [
      "[Stage 6:================================>                         (9 + 7) / 16]\r"
     ]
    },
    {
     "name": "stdout",
     "output_type": "stream",
     "text": [
      "1\n",
      "0\n"
     ]
    },
    {
     "name": "stderr",
     "output_type": "stream",
     "text": [
      "                                                                                \r"
     ]
    }
   ],
   "source": [
    "distinct_labels = df_bal.select(\"Label\").distinct().collect()\n",
    "# Print the distinct values\n",
    "for row in distinct_labels:\n",
    "    print(row[\"Label\"])"
   ]
  },
  {
   "cell_type": "code",
   "execution_count": 20,
   "id": "c786a4d4-bd87-44a3-8c38-863d1e6b2d29",
   "metadata": {},
   "outputs": [],
   "source": [
    "selected_cols = [col for col in df_bal.columns if col in selected_features]\n",
    "\n",
    "# Select features\n",
    "assembler = VectorAssembler(inputCols=selected_cols, outputCol=\"features\")"
   ]
  },
  {
   "cell_type": "code",
   "execution_count": 21,
   "id": "9ae26dcc-df61-4bdd-9e4a-2d6d2e8de3e4",
   "metadata": {},
   "outputs": [],
   "source": [
    "scaler = StandardScaler(inputCol=\"features\", outputCol=\"scaledFeatures\")"
   ]
  },
  {
   "cell_type": "code",
   "execution_count": 22,
   "id": "ff35a810-6a17-40ac-aeee-e03ce528d90d",
   "metadata": {},
   "outputs": [],
   "source": [
    "# reduce to 5 principal components\n",
    "pca = PCA(k=5, inputCol=\"scaledFeatures\", outputCol=\"pcaFeatures\")"
   ]
  },
  {
   "cell_type": "code",
   "execution_count": 23,
   "id": "854f60bb-22c6-4e84-86cd-8eb1c38f261f",
   "metadata": {},
   "outputs": [],
   "source": [
    "rf = RandomForestClassifier(labelCol=\"Label\", featuresCol=\"pcaFeatures\")\n",
    "pipeline = Pipeline(stages=[assembler, scaler, pca, rf])"
   ]
  },
  {
   "cell_type": "code",
   "execution_count": 25,
   "id": "48f77a2c-4dbf-4395-b9e0-082049570a62",
   "metadata": {},
   "outputs": [],
   "source": [
    "# use ROC index for evaluation\n",
    "evaluator = BinaryClassificationEvaluator(labelCol=\"Label\", metricName=\"areaUnderROC\")\n",
    "# Define hyperparameter grid for tuning\n",
    "params_grid = ParamGridBuilder() \\\n",
    "    .addGrid(rf.numTrees, [10, 50, 100]) \\\n",
    "    .addGrid(rf.maxDepth, [5, 10, 15]) \\\n",
    "    .build()\n",
    "# 10-fold cross-validation\n",
    "crossval = CrossValidator(estimator=pipeline,\n",
    "                          estimatorParamMaps=params_grid,\n",
    "                          evaluator=evaluator,\n",
    "                          numFolds=10)"
   ]
  },
  {
   "cell_type": "code",
   "execution_count": 26,
   "id": "a7af2008-69c9-4485-8f0d-06141f78e221",
   "metadata": {},
   "outputs": [
    {
     "name": "stderr",
     "output_type": "stream",
     "text": [
      "[Stage 9:==========================================>              (12 + 4) / 16]\r"
     ]
    },
    {
     "name": "stdout",
     "output_type": "stream",
     "text": [
      "1\n",
      "0\n"
     ]
    },
    {
     "name": "stderr",
     "output_type": "stream",
     "text": [
      "                                                                                \r"
     ]
    }
   ],
   "source": [
    "distinct_labels = df_bal.select(\"Label\").distinct().collect()\n",
    "# Print the distinct values\n",
    "for row in distinct_labels:\n",
    "    print(row[\"Label\"])"
   ]
  },
  {
   "cell_type": "code",
   "execution_count": 27,
   "id": "9ea35c5e-b28e-4144-b6fe-eee13a90065c",
   "metadata": {},
   "outputs": [
    {
     "name": "stdout",
     "output_type": "stream",
     "text": [
      "24/04/26 00:35:17 WARN package: Truncated the string representation of a plan since it was too large. This behavior can be adjusted by setting 'spark.sql.debug.maxToStringFields'.\n"
     ]
    },
    {
     "name": "stderr",
     "output_type": "stream",
     "text": [
      "                                                                                \r"
     ]
    },
    {
     "name": "stdout",
     "output_type": "stream",
     "text": [
      "24/04/26 00:35:32 WARN LAPACK: Failed to load implementation from: com.github.fommil.netlib.NativeSystemLAPACK\n",
      "24/04/26 00:35:32 WARN LAPACK: Failed to load implementation from: com.github.fommil.netlib.NativeRefLAPACK\n"
     ]
    },
    {
     "name": "stderr",
     "output_type": "stream",
     "text": [
      "                                                                                \r"
     ]
    },
    {
     "name": "stdout",
     "output_type": "stream",
     "text": [
      "CPU times: user 7.77 s, sys: 1.92 s, total: 9.69 s\n",
      "Wall time: 11min 7s\n"
     ]
    }
   ],
   "source": [
    "%%time\n",
    "cvModel = crossval.fit(df_bal)"
   ]
  },
  {
   "cell_type": "markdown",
   "id": "7f1fa7a7-019f-432b-9fc6-f7b674a1f020",
   "metadata": {},
   "source": [
    "### Make predictions on the 022118 dataset"
   ]
  },
  {
   "cell_type": "code",
   "execution_count": 42,
   "id": "3e099eb5-c012-4277-88df-ba2f24a4a5ba",
   "metadata": {},
   "outputs": [
    {
     "name": "stdout",
     "output_type": "stream",
     "text": [
      "Benign\n",
      "DDOS attack-LOIC-UDP\n",
      "DDOS attack-HOIC\n"
     ]
    },
    {
     "name": "stderr",
     "output_type": "stream",
     "text": [
      "                                                                                \r"
     ]
    }
   ],
   "source": [
    "# check distinct label values\n",
    "distinct_labels = df_test.select(\"Label\").distinct().collect()\n",
    "# Print the distinct values\n",
    "for row in distinct_labels:\n",
    "    print(row[\"Label\"])"
   ]
  },
  {
   "cell_type": "code",
   "execution_count": 43,
   "id": "6d878203-2720-4126-a441-c97ffe042bd2",
   "metadata": {},
   "outputs": [],
   "source": [
    "# Map \"ddos\" to 1 and \"Benign\" to 0 in the label column\n",
    "# This is required by the random forest in PySpark\n",
    "df_test = df_test.withColumn(\"Label\", when(col(\"Label\") == \"Benign\", 0).otherwise(1))"
   ]
  },
  {
   "cell_type": "code",
   "execution_count": 44,
   "id": "d7f42b98-cf40-4dcc-946c-8a5a8bbbb1fc",
   "metadata": {
    "scrolled": true
   },
   "outputs": [
    {
     "name": "stdout",
     "output_type": "stream",
     "text": [
      "1\n",
      "0\n"
     ]
    }
   ],
   "source": [
    "# check distinct label values\n",
    "distinct_labels = df_test.select(\"Label\").distinct().collect()\n",
    "# Print the distinct values\n",
    "for row in distinct_labels:\n",
    "    print(row[\"Label\"])"
   ]
  },
  {
   "cell_type": "markdown",
   "id": "87539ca8-f851-4344-98bf-efbc9f60994b",
   "metadata": {},
   "source": [
    "#### Before making the prediction, we also need to do the feature engineering pipeline on the 022118 dataset, including assembler, scaler, pca."
   ]
  },
  {
   "cell_type": "code",
   "execution_count": 45,
   "id": "73b5412f-1487-486f-b9c2-bcf18cc07997",
   "metadata": {},
   "outputs": [
    {
     "name": "stderr",
     "output_type": "stream",
     "text": [
      "                                                                                \r"
     ]
    }
   ],
   "source": [
    "selected_cols_test = [col for col in df_test.columns if col in selected_features]\n",
    "\n",
    "# Create new instances for StandardScaler and PCA and assembler for the testing dataset\n",
    "assembler_test = VectorAssembler(inputCols=selected_cols_test, outputCol=\"features_test\")\n",
    "scaler_test = StandardScaler(inputCol=\"features_test\", outputCol=\"scaledFeatures_test\")\n",
    "pca_test = PCA(k=3, inputCol=\"scaledFeatures_test\", outputCol=\"pcaFeatures_test\")\n",
    "\n",
    "# Assemble features using the same VectorAssembler instance\n",
    "df_test_assembled = assembler_test.transform(df_test)\n",
    "# Scale features using the new StandardScaler instance for testing\n",
    "df_test_scaled = scaler_test.fit(df_test_assembled).transform(df_test_assembled)\n",
    "# Apply PCA using the new PCA instance for testing\n",
    "df_test_pca = pca_test.fit(df_test_scaled).transform(df_test_scaled)"
   ]
  },
  {
   "cell_type": "code",
   "execution_count": null,
   "id": "c49a1c19-ff9f-446c-bf99-6376c8d17cb8",
   "metadata": {},
   "outputs": [],
   "source": []
  },
  {
   "cell_type": "code",
   "execution_count": null,
   "id": "e129e854-8dd2-4e50-9c43-17bbc91e9577",
   "metadata": {},
   "outputs": [],
   "source": []
  },
  {
   "cell_type": "code",
   "execution_count": 46,
   "id": "0016b047-fa76-4c3f-a418-102a0812bee5",
   "metadata": {},
   "outputs": [
    {
     "name": "stdout",
     "output_type": "stream",
     "text": [
      "CPU times: user 23.4 ms, sys: 1.76 ms, total: 25.2 ms\n",
      "Wall time: 163 ms\n"
     ]
    }
   ],
   "source": [
    "%%time\n",
    "# Make predictions\n",
    "predictions = cvModel.transform(df_test_pca)"
   ]
  },
  {
   "cell_type": "code",
   "execution_count": 47,
   "id": "480483e8-f7fd-48ab-994a-f8dbf3f01e54",
   "metadata": {},
   "outputs": [
    {
     "name": "stderr",
     "output_type": "stream",
     "text": [
      "                                                                                \r"
     ]
    },
    {
     "data": {
      "text/plain": [
       "0.002749194225583562"
      ]
     },
     "execution_count": 47,
     "metadata": {},
     "output_type": "execute_result"
    }
   ],
   "source": [
    "# Evaluate model performance\n",
    "roc = evaluator.evaluate(predictions)\n",
    "roc"
   ]
  },
  {
   "cell_type": "code",
   "execution_count": 48,
   "id": "82402780-9ebe-4175-b46b-ad3ee0b401d2",
   "metadata": {},
   "outputs": [
    {
     "name": "stderr",
     "output_type": "stream",
     "text": [
      "[Stage 4352:===============================================>      (14 + 2) / 16]\r"
     ]
    },
    {
     "name": "stdout",
     "output_type": "stream",
     "text": [
      "Accuracy:  0.3441174927878311\n",
      "Precision:  0.3441174927878311\n",
      "Recall:  1.0\n",
      "F1 Score:  0.17620014541582205\n",
      "ROC:  0.002749194225583562\n"
     ]
    },
    {
     "name": "stderr",
     "output_type": "stream",
     "text": [
      "                                                                                \r"
     ]
    }
   ],
   "source": [
    "# more evaluations\n",
    "\n",
    "from pyspark.ml.evaluation import MulticlassClassificationEvaluator\n",
    "\n",
    "# Define a multiclass classification evaluator\n",
    "multiclass_evaluator = MulticlassClassificationEvaluator(labelCol=\"Label\", predictionCol=\"prediction\")\n",
    "\n",
    "# Calculate accuracy\n",
    "accuracy = multiclass_evaluator.evaluate(predictions, {multiclass_evaluator.metricName: \"accuracy\"})\n",
    "\n",
    "# Calculate precision\n",
    "precision = multiclass_evaluator.evaluate(predictions, {multiclass_evaluator.metricName: \"precisionByLabel\"})\n",
    "\n",
    "# Calculate recall\n",
    "recall = multiclass_evaluator.evaluate(predictions, {multiclass_evaluator.metricName: \"recallByLabel\"})\n",
    "\n",
    "# Calculate F1 score\n",
    "f1_score = multiclass_evaluator.evaluate(predictions, {multiclass_evaluator.metricName: \"f1\"})\n",
    "\n",
    "# Print the evaluation metrics\n",
    "print(\"Accuracy: \", accuracy)\n",
    "print(\"Precision: \", precision)\n",
    "print(\"Recall: \", recall)\n",
    "print(\"F1 Score: \", f1_score)\n",
    "print(\"ROC: \", roc)"
   ]
  },
  {
   "cell_type": "code",
   "execution_count": null,
   "id": "cedbac87-894d-461f-b5df-3879f3b20fc9",
   "metadata": {},
   "outputs": [],
   "source": []
  },
  {
   "cell_type": "code",
   "execution_count": null,
   "id": "509300fb-2e0a-4417-baf2-3a4ae18227a0",
   "metadata": {},
   "outputs": [],
   "source": []
  },
  {
   "cell_type": "code",
   "execution_count": null,
   "id": "ba9e8619-2d41-48b0-8b48-4720548e3c9f",
   "metadata": {},
   "outputs": [],
   "source": []
  },
  {
   "cell_type": "code",
   "execution_count": 49,
   "id": "3594daad-7eea-4b20-9d77-b96f5644f130",
   "metadata": {},
   "outputs": [],
   "source": [
    "spark.stop()"
   ]
  },
  {
   "cell_type": "code",
   "execution_count": null,
   "id": "a5befa66-f71d-458e-a90c-efb0c9312017",
   "metadata": {},
   "outputs": [],
   "source": []
  },
  {
   "cell_type": "code",
   "execution_count": null,
   "id": "72b95481-000e-4e18-aaaa-39f408f61c66",
   "metadata": {},
   "outputs": [],
   "source": []
  },
  {
   "cell_type": "code",
   "execution_count": 64,
   "id": "b328b01c-cf49-40a3-91c3-7797343da92c",
   "metadata": {},
   "outputs": [],
   "source": [
    "df = df_backup"
   ]
  },
  {
   "cell_type": "code",
   "execution_count": 65,
   "id": "9349a590-c346-494b-bfcc-307099d3c4b4",
   "metadata": {},
   "outputs": [],
   "source": [
    "# Map \"ddos\" to 1 and \"Benign\" to 0 in the label column\n",
    "# This is required by the random forest in PySpark\n",
    "df = df.withColumn(\"Label\", when(col(\"Label\") == \"ddos\", 1).otherwise(0))"
   ]
  },
  {
   "cell_type": "code",
   "execution_count": 66,
   "id": "3dea303c-e22d-4377-ac92-1e3acbd81be3",
   "metadata": {},
   "outputs": [],
   "source": [
    "selected_cols = [col for col in df.columns if col in selected_features]\n",
    "\n",
    "# Select features\n",
    "assembler = VectorAssembler(inputCols=selected_cols, outputCol=\"features\")"
   ]
  },
  {
   "cell_type": "markdown",
   "id": "1536de46-b69a-4b41-b05e-aaa217501de7",
   "metadata": {},
   "source": [
    "### Perform data preprocessing using scaler\n",
    "Feature scaling (also known as data normalization or standardization) is a preprocessing step that transforms the features (columns) of a dataset to have similar scales or ranges.\n",
    "\n",
    "The purpose of feature scaling here is to ensure that all features contribute equally to our model training process, preventing features with larger scales from dominating those with smaller scales. It also helps the algorithms converge faster and may improve the performance of certain machine learning algorithms, particularly those that rely on distance metrics or gradient descent optimization."
   ]
  },
  {
   "cell_type": "code",
   "execution_count": 67,
   "id": "6dc8c485-fad4-4109-a8e9-28994bad5115",
   "metadata": {},
   "outputs": [],
   "source": [
    "scaler = StandardScaler(inputCol=\"features\", outputCol=\"scaledFeatures\")"
   ]
  },
  {
   "cell_type": "code",
   "execution_count": null,
   "id": "f5f31b1c-7a72-45de-b33f-b00d0d4ca79c",
   "metadata": {},
   "outputs": [],
   "source": []
  },
  {
   "cell_type": "markdown",
   "id": "16550644-3659-405d-af9f-62b55bda38d2",
   "metadata": {},
   "source": [
    "### Use PCA for feature selection to reduce the number of features"
   ]
  },
  {
   "cell_type": "code",
   "execution_count": 68,
   "id": "f14b07a8-e3b2-4b4d-8155-cc3eb21c59a0",
   "metadata": {},
   "outputs": [],
   "source": [
    "# reduce to 3 principal components\n",
    "pca = PCA(k=3, inputCol=\"scaledFeatures\", outputCol=\"pcaFeatures\")"
   ]
  },
  {
   "cell_type": "code",
   "execution_count": null,
   "id": "bd32a0fc-3294-4f32-8cf1-9cdda0058c97",
   "metadata": {},
   "outputs": [],
   "source": []
  },
  {
   "cell_type": "code",
   "execution_count": null,
   "id": "8216b8ee-f25e-4e5f-a864-2c0472076088",
   "metadata": {},
   "outputs": [],
   "source": []
  },
  {
   "cell_type": "markdown",
   "id": "461ea686-d5a5-4246-b82e-f71bcfa1117f",
   "metadata": {},
   "source": [
    "### Define a new Random Forest model"
   ]
  },
  {
   "cell_type": "code",
   "execution_count": 69,
   "id": "4ad9396c-c370-402d-8e92-4f7cb9c30819",
   "metadata": {},
   "outputs": [],
   "source": [
    "rf = RandomForestClassifier(labelCol=\"Label\", featuresCol=\"pcaFeatures\")\n",
    "pipeline = Pipeline(stages=[assembler, scaler, pca, rf])"
   ]
  },
  {
   "cell_type": "code",
   "execution_count": null,
   "id": "5cc8d60d-4610-494a-9482-c05571ccef74",
   "metadata": {},
   "outputs": [],
   "source": []
  },
  {
   "cell_type": "markdown",
   "id": "8587aa5a-9255-4f68-93e7-7040d5e8a898",
   "metadata": {},
   "source": [
    "### Add the process of hyperparameter tunning\n",
    "This usually works together with the k-fold cross validation"
   ]
  },
  {
   "cell_type": "code",
   "execution_count": 70,
   "id": "c3b4414e-cd61-44ba-aa5c-091338b585e5",
   "metadata": {},
   "outputs": [],
   "source": [
    "# Define hyperparameter grid for tuning\n",
    "paramGrid = ParamGridBuilder() \\\n",
    "    .addGrid(rf.numTrees, [10, 50, 100]) \\\n",
    "    .addGrid(rf.maxDepth, [5, 10, 15]) \\\n",
    "    .build()"
   ]
  },
  {
   "cell_type": "code",
   "execution_count": null,
   "id": "eb08396e-a91a-437b-8803-fceecfcfd0ac",
   "metadata": {},
   "outputs": [],
   "source": []
  },
  {
   "cell_type": "markdown",
   "id": "078cba8d-4747-41d4-983c-ebf6909002ad",
   "metadata": {},
   "source": [
    "### Try k-fold cross validation (10-fold)"
   ]
  },
  {
   "cell_type": "code",
   "execution_count": 71,
   "id": "fd3482d6-b580-4d47-9b72-470731db2c1e",
   "metadata": {},
   "outputs": [],
   "source": [
    "# use ROC index for evaluation\n",
    "evaluator = BinaryClassificationEvaluator(labelCol=\"Label\", metricName=\"areaUnderROC\")\n",
    "# 10-fold cross-validation\n",
    "crossval = CrossValidator(estimator=pipeline,\n",
    "                          estimatorParamMaps=paramGrid,\n",
    "                          evaluator=evaluator,\n",
    "                          numFolds=10)  "
   ]
  },
  {
   "cell_type": "code",
   "execution_count": 72,
   "id": "7c78564d-2946-438a-867b-2bbe4f708461",
   "metadata": {
    "scrolled": true
   },
   "outputs": [
    {
     "name": "stderr",
     "output_type": "stream",
     "text": [
      "                                                                                \r"
     ]
    },
    {
     "name": "stdout",
     "output_type": "stream",
     "text": [
      "CPU times: user 7.64 s, sys: 1.79 s, total: 9.42 s\n",
      "Wall time: 9min\n"
     ]
    }
   ],
   "source": [
    "%%time\n",
    "cvModel = crossval.fit(df)"
   ]
  },
  {
   "cell_type": "code",
   "execution_count": 73,
   "id": "8cc4d4c8-6baa-4578-aa7d-dbab7c68ca44",
   "metadata": {},
   "outputs": [
    {
     "name": "stdout",
     "output_type": "stream",
     "text": [
      "CPU times: user 19.1 ms, sys: 2.88 ms, total: 22 ms\n",
      "Wall time: 137 ms\n"
     ]
    }
   ],
   "source": [
    "%%time\n",
    "# Make predictions\n",
    "predictions = cvModel.transform(df)"
   ]
  },
  {
   "cell_type": "code",
   "execution_count": 74,
   "id": "03752520-7179-4515-913d-469b843bbe69",
   "metadata": {},
   "outputs": [
    {
     "name": "stderr",
     "output_type": "stream",
     "text": [
      "                                                                                \r"
     ]
    },
    {
     "data": {
      "text/plain": [
       "0.9999935525865022"
      ]
     },
     "execution_count": 74,
     "metadata": {},
     "output_type": "execute_result"
    }
   ],
   "source": [
    "# Evaluate model performance\n",
    "roc = evaluator.evaluate(predictions)\n",
    "roc"
   ]
  },
  {
   "cell_type": "code",
   "execution_count": 75,
   "id": "783b506f-5a34-47fc-b301-edfbc1f21985",
   "metadata": {},
   "outputs": [
    {
     "name": "stderr",
     "output_type": "stream",
     "text": [
      "[Stage 14556:==============================================>      (14 + 2) / 16]\r"
     ]
    },
    {
     "name": "stdout",
     "output_type": "stream",
     "text": [
      "Accuracy:  0.9994278429679894\n",
      "Precision:  0.9988626985245275\n",
      "Recall:  0.9999899240271648\n",
      "F1 Score:  0.9994278440043086\n",
      "ROC:  0.9999935525865022\n"
     ]
    },
    {
     "name": "stderr",
     "output_type": "stream",
     "text": [
      "                                                                                \r"
     ]
    }
   ],
   "source": [
    "# more evaluations\n",
    "\n",
    "from pyspark.ml.evaluation import MulticlassClassificationEvaluator\n",
    "\n",
    "# Define a multiclass classification evaluator\n",
    "multiclass_evaluator = MulticlassClassificationEvaluator(labelCol=\"Label\", predictionCol=\"prediction\")\n",
    "\n",
    "# Calculate accuracy\n",
    "accuracy = multiclass_evaluator.evaluate(predictions, {multiclass_evaluator.metricName: \"accuracy\"})\n",
    "\n",
    "# Calculate precision\n",
    "precision = multiclass_evaluator.evaluate(predictions, {multiclass_evaluator.metricName: \"precisionByLabel\"})\n",
    "\n",
    "# Calculate recall\n",
    "recall = multiclass_evaluator.evaluate(predictions, {multiclass_evaluator.metricName: \"recallByLabel\"})\n",
    "\n",
    "# Calculate F1 score\n",
    "f1_score = multiclass_evaluator.evaluate(predictions, {multiclass_evaluator.metricName: \"f1\"})\n",
    "\n",
    "# Print the evaluation metrics\n",
    "print(\"Accuracy: \", accuracy)\n",
    "print(\"Precision: \", precision)\n",
    "print(\"Recall: \", recall)\n",
    "print(\"F1 Score: \", f1_score)\n",
    "print(\"ROC: \", roc)"
   ]
  },
  {
   "cell_type": "code",
   "execution_count": 76,
   "id": "b78d7e1a-9dbc-4b44-a4f6-53069d838dba",
   "metadata": {},
   "outputs": [],
   "source": [
    "# get the hyperparameter combination of the best model\n",
    "best_model = cvModel.bestModel"
   ]
  },
  {
   "cell_type": "code",
   "execution_count": 77,
   "id": "fef0a97e-4159-43e6-8287-ec28c45e593d",
   "metadata": {},
   "outputs": [
    {
     "name": "stdout",
     "output_type": "stream",
     "text": [
      "Best Num Trees: 100\n",
      "Best Max Depth: 10\n"
     ]
    }
   ],
   "source": [
    "# Extract the parameter values from the best model\n",
    "best_num_trees = best_model.stages[-1].getNumTrees\n",
    "best_max_depth = best_model.stages[-1].getOrDefault('maxDepth')\n",
    "\n",
    "# Print the best hyperparameter combination\n",
    "print(\"Best Num Trees:\", best_num_trees)\n",
    "print(\"Best Max Depth:\", best_max_depth)"
   ]
  },
  {
   "cell_type": "code",
   "execution_count": null,
   "id": "3dd5ffbf-245a-44d0-b1a0-f0c3ac9ef4db",
   "metadata": {},
   "outputs": [],
   "source": []
  },
  {
   "cell_type": "code",
   "execution_count": null,
   "id": "3d9f2ffe-3876-498b-b449-16bd32032c4c",
   "metadata": {},
   "outputs": [],
   "source": []
  },
  {
   "cell_type": "code",
   "execution_count": null,
   "id": "86b8de5f-719f-41e2-8399-b0f1386ec816",
   "metadata": {},
   "outputs": [],
   "source": []
  },
  {
   "cell_type": "code",
   "execution_count": null,
   "id": "00730328-586c-4f41-8e89-b1827edb438d",
   "metadata": {},
   "outputs": [],
   "source": []
  },
  {
   "cell_type": "code",
   "execution_count": null,
   "id": "fbe14646-dae6-4edd-b2f9-3b4f2eece3a8",
   "metadata": {},
   "outputs": [],
   "source": []
  },
  {
   "cell_type": "code",
   "execution_count": 223,
   "id": "7c31e4f0-aefa-4266-a862-20b690647572",
   "metadata": {},
   "outputs": [
    {
     "data": {
      "image/png": "[encoded data removed]",
      "text/plain": [
       "<Figure size 1000x600 with 1 Axes>"
      ]
     },
     "metadata": {},
     "output_type": "display_data"
    }
   ],
   "source": [
    "# Define the evaluation metrics and their values\n",
    "metrics = ['Accuracy', 'Precision', 'Recall', 'F1 Score', 'ROC']\n",
    "values = [accuracy, precision, recall, f1_score, roc]\n",
    "\n",
    "# Plot the evaluation metrics\n",
    "plt.figure(figsize=(10, 6))\n",
    "plt.bar(metrics, values, color='blue')\n",
    "plt.xlabel('Evaluation Metric')\n",
    "plt.ylabel('Value')\n",
    "plt.title('Model Evaluation Metrics')\n",
    "plt.ylim(0, 1)  # Set y-axis limit from 0 to 1\n",
    "plt.show()"
   ]
  },
  {
   "cell_type": "markdown",
   "id": "93bf8d39-78b3-4de7-b239-4b510e722c04",
   "metadata": {},
   "source": [
    "Vitualize to compare the training time with different cluster structure"
   ]
  },
  {
   "cell_type": "code",
   "execution_count": 225,
   "id": "9776c4cf-a6ad-4b8b-9c35-29d8578fc913",
   "metadata": {},
   "outputs": [
    {
     "data": {
      "image/png": "[encoded data removed]",
      "text/plain": [
       "<Figure size 800x200 with 1 Axes>"
      ]
     },
     "metadata": {},
     "output_type": "display_data"
    }
   ],
   "source": [
    "# Data\n",
    "models = ['2-node Spark Cluster', '8-node Spark Cluster']\n",
    "training_times = [3308, 536]  # Replace with your actual training times in seconds\n",
    "\n",
    "# Plot\n",
    "plt.figure(figsize=(8, 2))\n",
    "bars = plt.barh(models, training_times, color=['orange', 'green'])\n",
    "\n",
    "# Add value on top of each bar\n",
    "for bar in bars:\n",
    "    plt.text(bar.get_width() - 5, bar.get_y() + bar.get_height()/2, f'{bar.get_width()}s', va='center')\n",
    "\n",
    "plt.xlabel('Training Time (seconds)')\n",
    "plt.ylabel('Model')\n",
    "plt.title('Training Time Comparison')\n",
    "plt.grid(axis='x')\n",
    "plt.show()"
   ]
  },
  {
   "cell_type": "code",
   "execution_count": null,
   "id": "ae7e9b56-5d5f-4cd3-912b-c90be64d8a37",
   "metadata": {},
   "outputs": [],
   "source": []
  }
 ],
 "metadata": {
  "kernelspec": {
   "display_name": "Python 3 (ipykernel)",
   "language": "python",
   "name": "python3"
  },
  "language_info": {
   "codemirror_mode": {
    "name": "ipython",
    "version": 3
   },
   "file_extension": ".py",
   "mimetype": "text/x-python",
   "name": "python",
   "nbconvert_exporter": "python",
   "pygments_lexer": "ipython3",
   "version": "3.10.12"
  }
 },
 "nbformat": 4,
 "nbformat_minor": 5
}
