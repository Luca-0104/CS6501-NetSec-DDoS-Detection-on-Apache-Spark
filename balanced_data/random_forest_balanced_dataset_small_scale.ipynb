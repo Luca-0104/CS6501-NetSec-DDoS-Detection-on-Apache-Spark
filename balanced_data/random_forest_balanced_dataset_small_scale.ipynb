{
 "cells": [
  {
   "cell_type": "code",
   "execution_count": 1,
   "id": "37a6a711-0598-4138-8276-f33fbc1b2d7d",
   "metadata": {},
   "outputs": [
    {
     "name": "stdout",
     "output_type": "stream",
     "text": [
      "Defaulting to user installation because normal site-packages is not writeable\n",
      "Requirement already satisfied: pyspark in /home/ubuntu/.local/lib/python3.10/site-packages (3.5.1)\n",
      "Requirement already satisfied: py4j==0.10.9.7 in /home/ubuntu/.local/lib/python3.10/site-packages (from pyspark) (0.10.9.7)\n"
     ]
    }
   ],
   "source": [
    "!pip3 install pyspark"
   ]
  },
  {
   "cell_type": "code",
   "execution_count": 2,
   "id": "0fe96d5c-e3d5-42ea-862d-24321480e476",
   "metadata": {},
   "outputs": [
    {
     "name": "stdout",
     "output_type": "stream",
     "text": [
      "Defaulting to user installation because normal site-packages is not writeable\n",
      "Requirement already satisfied: findspark in /home/ubuntu/.local/lib/python3.10/site-packages (2.0.1)\n"
     ]
    }
   ],
   "source": [
    "!pip3 install findspark"
   ]
  },
  {
   "cell_type": "code",
   "execution_count": 1,
   "id": "4042371c-2a7b-4314-be69-ab8707693cda",
   "metadata": {},
   "outputs": [
    {
     "data": {
      "text/plain": [
       "'/home/ubuntu/spark-3.3.1-bin-hadoop3'"
      ]
     },
     "execution_count": 1,
     "metadata": {},
     "output_type": "execute_result"
    }
   ],
   "source": [
    "import findspark\n",
    "findspark.init('/home/ubuntu/spark-3.3.1-bin-hadoop3')\n",
    "findspark.find()"
   ]
  },
  {
   "cell_type": "code",
   "execution_count": 2,
   "id": "f72df189-e168-4fba-b560-3618a7a542ce",
   "metadata": {},
   "outputs": [
    {
     "name": "stderr",
     "output_type": "stream",
     "text": [
      "Setting default log level to \"WARN\".\n",
      "To adjust logging level use sc.setLogLevel(newLevel). For SparkR, use setLogLevel(newLevel).\n"
     ]
    },
    {
     "name": "stdout",
     "output_type": "stream",
     "text": [
      "24/04/29 20:17:24 WARN NativeCodeLoader: Unable to load native-hadoop library for your platform... using builtin-java classes where applicable\n"
     ]
    }
   ],
   "source": [
    "from pyspark.sql import SparkSession\n",
    "\n",
    "# The entry point into all functionality in Spark is the SparkSession class.\n",
    "spark = (SparkSession\n",
    "\t.builder\n",
    "\t.appName(\"DS5110/CS5501: my awesome Spark program - balanced att1\")\n",
    "\t.master(\"spark://172.31.8.146:7077\")\n",
    "\t.config(\"spark.executor.memory\", \"1024M\")\n",
    "\t.getOrCreate())"
   ]
  },
  {
   "cell_type": "code",
   "execution_count": 3,
   "id": "633b8cb1-2f55-4540-b895-78f4cc5bb4a4",
   "metadata": {},
   "outputs": [
    {
     "data": {
      "text/html": [
       "\n",
       "            <div>\n",
       "                <p><b>SparkSession - in-memory</b></p>\n",
       "                \n",
       "        <div>\n",
       "            <p><b>SparkContext</b></p>\n",
       "\n",
       "            <p><a href=\"http://ip-172-31-8-146.ec2.internal:4040\">Spark UI</a></p>\n",
       "\n",
       "            <dl>\n",
       "              <dt>Version</dt>\n",
       "                <dd><code>v3.3.1</code></dd>\n",
       "              <dt>Master</dt>\n",
       "                <dd><code>spark://172.31.8.146:7077</code></dd>\n",
       "              <dt>AppName</dt>\n",
       "                <dd><code>DS5110/CS5501: my awesome Spark program - balanced att1</code></dd>\n",
       "            </dl>\n",
       "        </div>\n",
       "        \n",
       "            </div>\n",
       "        "
      ],
      "text/plain": [
       "<pyspark.sql.session.SparkSession at 0x734811d20820>"
      ]
     },
     "execution_count": 3,
     "metadata": {},
     "output_type": "execute_result"
    }
   ],
   "source": [
    "spark"
   ]
  },
  {
   "cell_type": "code",
   "execution_count": null,
   "id": "96dd6050-67e4-4099-a2e2-210b90151cff",
   "metadata": {},
   "outputs": [],
   "source": []
  },
  {
   "cell_type": "code",
   "execution_count": null,
   "id": "00d84b41-6e68-4901-bb19-776f56fe8610",
   "metadata": {},
   "outputs": [],
   "source": []
  },
  {
   "cell_type": "code",
   "execution_count": null,
   "id": "f1dd496a-3e70-4a41-beec-3a6e8912091c",
   "metadata": {},
   "outputs": [],
   "source": []
  },
  {
   "cell_type": "code",
   "execution_count": 4,
   "id": "a8e4c1c5-7946-4338-aa39-5cd071e5bf12",
   "metadata": {},
   "outputs": [],
   "source": [
    "import seaborn as sns\n",
    "import matplotlib.pyplot as plt\n",
    "\n",
    "from pyspark.sql.types import *\n",
    "from pyspark.sql.functions import col, count, desc, rand, when\n",
    "\n",
    "from pyspark.ml.feature import ChiSqSelector\n",
    "from pyspark.ml.stat import Correlation\n",
    "from pyspark.ml.evaluation import MulticlassClassificationEvaluator\n",
    "from pyspark.sql import SparkSession\n",
    "from pyspark.ml import Pipeline\n",
    "from pyspark.ml.feature import VectorAssembler, StringIndexer, StandardScaler, PCA\n",
    "from pyspark.ml.classification import RandomForestClassifier\n",
    "from pyspark.ml.evaluation import BinaryClassificationEvaluator\n",
    "from pyspark.ml.tuning import CrossValidator, ParamGridBuilder\n",
    "\n",
    "from pyspark.sql import functions as F\n"
   ]
  },
  {
   "cell_type": "code",
   "execution_count": null,
   "id": "1d8ba669-f385-4d62-b98b-3573c3479ace",
   "metadata": {},
   "outputs": [],
   "source": []
  },
  {
   "cell_type": "markdown",
   "id": "c505f47a-3cf0-48e6-ae6a-f695a269f506",
   "metadata": {},
   "source": [
    "## specify the data type of each column "
   ]
  },
  {
   "cell_type": "code",
   "execution_count": 5,
   "id": "6932807c-4cd6-407b-9ac7-16a0d4228b8d",
   "metadata": {},
   "outputs": [],
   "source": [
    "# Define the schema for the DataFrame\n",
    "schema = StructType([\n",
    "    StructField('_c0', IntegerType()),\n",
    "    StructField('Flow ID', StringType()),\n",
    "    StructField('Src IP', StringType()),\n",
    "    StructField('Src Port', IntegerType()),\n",
    "    StructField('Dst IP', StringType()),\n",
    "    StructField('Dst Port', IntegerType()),\n",
    "    StructField('Protocol', IntegerType()),\n",
    "    StructField('Timestamp', StringType()),\n",
    "    StructField('Flow Duration', IntegerType()),\n",
    "    StructField('Tot Fwd Pkts', IntegerType()),\n",
    "    StructField('Tot Bwd Pkts', IntegerType()),\n",
    "    StructField('TotLen Fwd Pkts', FloatType()),\n",
    "    StructField('TotLen Bwd Pkts', FloatType()),\n",
    "    StructField('Fwd Pkt Len Max', FloatType()),\n",
    "    StructField('Fwd Pkt Len Min', FloatType()),\n",
    "    StructField('Fwd Pkt Len Mean', FloatType()),\n",
    "    StructField('Fwd Pkt Len Std', FloatType()),\n",
    "    StructField('Bwd Pkt Len Max', FloatType()),\n",
    "    StructField('Bwd Pkt Len Min', FloatType()),\n",
    "    StructField('Bwd Pkt Len Mean', FloatType()),\n",
    "    StructField('Bwd Pkt Len Std', FloatType()),\n",
    "    StructField('Flow Byts/s', FloatType()),\n",
    "    StructField('Flow Pkts/s', FloatType()),\n",
    "    StructField('Flow IAT Mean', FloatType()),\n",
    "    StructField('Flow IAT Std', FloatType()),\n",
    "    StructField('Flow IAT Max', FloatType()),\n",
    "    StructField('Flow IAT Min', FloatType()),\n",
    "    StructField('Fwd IAT Tot', FloatType()),\n",
    "    StructField('Fwd IAT Mean', FloatType()),\n",
    "    StructField('Fwd IAT Std', FloatType()),\n",
    "    StructField('Fwd IAT Max', FloatType()),\n",
    "    StructField('Fwd IAT Min', FloatType()),\n",
    "    StructField('Bwd IAT Tot', FloatType()),\n",
    "    StructField('Bwd IAT Mean', FloatType()),\n",
    "    StructField('Bwd IAT Std', FloatType()),\n",
    "    StructField('Bwd IAT Max', FloatType()),\n",
    "    StructField('Bwd IAT Min', FloatType()),\n",
    "    StructField('Fwd PSH Flags', IntegerType()),\n",
    "    StructField('Bwd PSH Flags', IntegerType()),\n",
    "    StructField('Fwd URG Flags', IntegerType()),\n",
    "    StructField('Bwd URG Flags', IntegerType()),\n",
    "    StructField('Fwd Header Len', IntegerType()),\n",
    "    StructField('Bwd Header Len', IntegerType()),\n",
    "    StructField('Fwd Pkts/s', FloatType()),\n",
    "    StructField('Bwd Pkts/s', FloatType()),\n",
    "    StructField('Pkt Len Min', FloatType()),\n",
    "    StructField('Pkt Len Max', FloatType()),\n",
    "    StructField('Pkt Len Mean', FloatType()),\n",
    "    StructField('Pkt Len Std', FloatType()),\n",
    "    StructField('Pkt Len Var', FloatType()),\n",
    "    StructField('FIN Flag Cnt', IntegerType()),\n",
    "    StructField('SYN Flag Cnt', IntegerType()),\n",
    "    StructField('RST Flag Cnt', IntegerType()),\n",
    "    StructField('PSH Flag Cnt', IntegerType()),\n",
    "    StructField('ACK Flag Cnt', IntegerType()),\n",
    "    StructField('URG Flag Cnt', IntegerType()),\n",
    "    StructField('CWE Flag Count', IntegerType()),\n",
    "    StructField('ECE Flag Cnt', IntegerType()),\n",
    "    StructField('Down/Up Ratio', FloatType()),\n",
    "    StructField('Pkt Size Avg', FloatType()),\n",
    "    StructField('Fwd Seg Size Avg', FloatType()),\n",
    "    StructField('Bwd Seg Size Avg', FloatType()),\n",
    "    StructField('Fwd Byts/b Avg', IntegerType()),\n",
    "    StructField('Fwd Pkts/b Avg', IntegerType()),\n",
    "    StructField('Fwd Blk Rate Avg', IntegerType()),\n",
    "    StructField('Bwd Byts/b Avg', IntegerType()),\n",
    "    StructField('Bwd Pkts/b Avg', IntegerType()),\n",
    "    StructField('Bwd Blk Rate Avg', IntegerType()),\n",
    "    StructField('Subflow Fwd Pkts', IntegerType()),\n",
    "    StructField('Subflow Fwd Byts', IntegerType()),\n",
    "    StructField('Subflow Bwd Pkts', IntegerType()),\n",
    "    StructField('Subflow Bwd Byts', IntegerType()),\n",
    "    StructField('Init Fwd Win Byts', IntegerType()),\n",
    "    StructField('Init Bwd Win Byts', IntegerType()),\n",
    "    StructField('Fwd Act Data Pkts', IntegerType()),\n",
    "    StructField('Fwd Seg Size Min', IntegerType()),\n",
    "    StructField('Active Mean', FloatType()),\n",
    "    StructField('Active Std', FloatType()),\n",
    "    StructField('Active Max', FloatType()),\n",
    "    StructField('Active Min', FloatType()),\n",
    "    StructField('Idle Mean', FloatType()),\n",
    "    StructField('Idle Std', FloatType()),\n",
    "    StructField('Idle Max', FloatType()),\n",
    "    StructField('Idle Min', FloatType()),\n",
    "    StructField('Label', StringType())\n",
    "])"
   ]
  },
  {
   "cell_type": "markdown",
   "id": "c87c3eff-f9b6-4eff-9ff1-bdf00889cf0f",
   "metadata": {},
   "source": [
    "## Read the balanced dataset info dataframe"
   ]
  },
  {
   "cell_type": "code",
   "execution_count": null,
   "id": "fdf1415b-94bf-4042-8c07-6a303a8325c4",
   "metadata": {},
   "outputs": [],
   "source": []
  },
  {
   "cell_type": "code",
   "execution_count": null,
   "id": "1394bceb-a85b-4159-8660-92de1c7a7a5c",
   "metadata": {},
   "outputs": [],
   "source": []
  },
  {
   "cell_type": "code",
   "execution_count": null,
   "id": "8ed999cd-e858-4ba4-bb6d-0d643ff4ab7f",
   "metadata": {},
   "outputs": [],
   "source": []
  },
  {
   "cell_type": "code",
   "execution_count": 6,
   "id": "2176ab52-4113-45d9-9011-316ab1b5e8fb",
   "metadata": {},
   "outputs": [
    {
     "name": "stderr",
     "output_type": "stream",
     "text": [
      "                                                                                \r"
     ]
    }
   ],
   "source": [
    "df = spark.read.csv(\"hdfs://172.31.8.146:9000/final_dataset.csv\", header=True)"
   ]
  },
  {
   "cell_type": "code",
   "execution_count": 10,
   "id": "7b004e0b-d9bf-4013-9813-06a500e42e75",
   "metadata": {},
   "outputs": [
    {
     "name": "stdout",
     "output_type": "stream",
     "text": [
      "24/04/24 00:19:12 WARN package: Truncated the string representation of a plan since it was too large. This behavior can be adjusted by setting 'spark.sql.debug.maxToStringFields'.\n"
     ]
    },
    {
     "name": "stderr",
     "output_type": "stream",
     "text": [
      "                                                                                \r"
     ]
    },
    {
     "data": {
      "text/plain": [
       "[Row(_c0='624', Flow ID='192.168.4.118-203.73.24.75-4504-80-6', Src IP='192.168.4.118', Src Port='4504', Dst IP='203.73.24.75', Dst Port='80', Protocol='6', Timestamp='12/06/2010 08:34:32 AM', Flow Duration='3974862', Tot Fwd Pkts='29', Tot Bwd Pkts='44', TotLen Fwd Pkts='86.0', TotLen Bwd Pkts='59811.0', Fwd Pkt Len Max='86.0', Fwd Pkt Len Min='0.0', Fwd Pkt Len Mean='2.9655172413793096', Fwd Pkt Len Std='15.969799083226464', Bwd Pkt Len Max='1460.0', Bwd Pkt Len Min='0.0', Bwd Pkt Len Mean='1359.3409090909086', Bwd Pkt Len Std='372.02718975289076', Flow Byts/s='15068.950821437324', Flow Pkts/s='18.365417466065487', Flow IAT Mean='55206.41666666666', Flow IAT Std='195478.31665363663', Flow IAT Max='1566821.0', Flow IAT Min='167.0', Fwd IAT Tot='3735347.0', Fwd IAT Mean='133405.25', Fwd IAT Std='341775.6887123293', Fwd IAT Max='1805015.0', Fwd IAT Min='167.0', Bwd IAT Tot='3974862.0', Bwd IAT Mean='92438.65116279072', Bwd IAT Std='248174.8205743075', Bwd IAT Max='1566821.0', Bwd IAT Min='3997.0', Fwd PSH Flags='0', Bwd PSH Flags='0', Fwd URG Flags='0', Bwd URG Flags='0', Fwd Header Len='768', Bwd Header Len='896', Fwd Pkts/s='7.295850774190399', Bwd Pkts/s='11.069566691875089', Pkt Len Min='0.0', Pkt Len Max='1460.0', Pkt Len Mean='809.4189189189186', Pkt Len Std='728.8624277195806', Pkt Len Var='531240.438541281', FIN Flag Cnt='0', SYN Flag Cnt='1', RST Flag Cnt='0', PSH Flag Cnt='0', ACK Flag Cnt='0', URG Flag Cnt='0', CWE Flag Count='0', ECE Flag Cnt='0', Down/Up Ratio='1.0', Pkt Size Avg='820.5068493150685', Fwd Seg Size Avg='2.9655172413793105', Bwd Seg Size Avg='1359.340909090909', Fwd Byts/b Avg='0', Fwd Pkts/b Avg='0', Fwd Blk Rate Avg='0', Bwd Byts/b Avg='0', Bwd Pkts/b Avg='0', Bwd Blk Rate Avg='0', Subflow Fwd Pkts='29', Subflow Fwd Byts='86', Subflow Bwd Pkts='44', Subflow Bwd Byts='59811', Init Fwd Win Byts='-1', Init Bwd Win Byts='5840', Fwd Act Data Pkts='1', Fwd Seg Size Min='0', Active Mean='0.0', Active Std='0.0', Active Max='0.0', Active Min='0.0', Idle Mean='0.0', Idle Std='0.0', Idle Max='0.0', Idle Min='0.0', Label='ddos')]"
      ]
     },
     "execution_count": 10,
     "metadata": {},
     "output_type": "execute_result"
    }
   ],
   "source": [
    "# without schema\n",
    "df.head(1)"
   ]
  },
  {
   "cell_type": "code",
   "execution_count": null,
   "id": "fc1c4608-9bfa-484a-9302-d78a68c4fb01",
   "metadata": {},
   "outputs": [],
   "source": []
  },
  {
   "cell_type": "code",
   "execution_count": 7,
   "id": "50d46ce0-abf5-4ca6-b801-80b7cf8a9d4d",
   "metadata": {},
   "outputs": [],
   "source": [
    "df = spark.read.csv(\"hdfs://172.31.8.146:9000/final_dataset.csv\", schema=schema, header=True)"
   ]
  },
  {
   "cell_type": "code",
   "execution_count": 12,
   "id": "4f41a1f1-de99-43bd-aa64-4c5344f969b4",
   "metadata": {},
   "outputs": [
    {
     "name": "stderr",
     "output_type": "stream",
     "text": [
      "                                                                                \r"
     ]
    },
    {
     "data": {
      "text/plain": [
       "[Row(_c0=624, Flow ID='192.168.4.118-203.73.24.75-4504-80-6', Src IP='192.168.4.118', Src Port=4504, Dst IP='203.73.24.75', Dst Port=80, Protocol=6, Timestamp='12/06/2010 08:34:32 AM', Flow Duration=3974862, Tot Fwd Pkts=29, Tot Bwd Pkts=44, TotLen Fwd Pkts=86.0, TotLen Bwd Pkts=59811.0, Fwd Pkt Len Max=86.0, Fwd Pkt Len Min=0.0, Fwd Pkt Len Mean=2.965517282485962, Fwd Pkt Len Std=15.969799041748047, Bwd Pkt Len Max=1460.0, Bwd Pkt Len Min=0.0, Bwd Pkt Len Mean=1359.3409423828125, Bwd Pkt Len Std=372.0271911621094, Flow Byts/s=15068.951171875, Flow Pkts/s=18.36541748046875, Flow IAT Mean=55206.41796875, Flow IAT Std=195478.3125, Flow IAT Max=1566821.0, Flow IAT Min=167.0, Fwd IAT Tot=3735347.0, Fwd IAT Mean=133405.25, Fwd IAT Std=341775.6875, Fwd IAT Max=1805015.0, Fwd IAT Min=167.0, Bwd IAT Tot=3974862.0, Bwd IAT Mean=92438.6484375, Bwd IAT Std=248174.828125, Bwd IAT Max=1566821.0, Bwd IAT Min=3997.0, Fwd PSH Flags=0, Bwd PSH Flags=0, Fwd URG Flags=0, Bwd URG Flags=0, Fwd Header Len=768, Bwd Header Len=896, Fwd Pkts/s=7.29585075378418, Bwd Pkts/s=11.06956672668457, Pkt Len Min=0.0, Pkt Len Max=1460.0, Pkt Len Mean=809.4189453125, Pkt Len Std=728.8624267578125, Pkt Len Var=531240.4375, FIN Flag Cnt=0, SYN Flag Cnt=1, RST Flag Cnt=0, PSH Flag Cnt=0, ACK Flag Cnt=0, URG Flag Cnt=0, CWE Flag Count=0, ECE Flag Cnt=0, Down/Up Ratio=1.0, Pkt Size Avg=820.5068359375, Fwd Seg Size Avg=2.965517282485962, Bwd Seg Size Avg=1359.3409423828125, Fwd Byts/b Avg=0, Fwd Pkts/b Avg=0, Fwd Blk Rate Avg=0, Bwd Byts/b Avg=0, Bwd Pkts/b Avg=0, Bwd Blk Rate Avg=0, Subflow Fwd Pkts=29, Subflow Fwd Byts=86, Subflow Bwd Pkts=44, Subflow Bwd Byts=59811, Init Fwd Win Byts=-1, Init Bwd Win Byts=5840, Fwd Act Data Pkts=1, Fwd Seg Size Min=0, Active Mean=0.0, Active Std=0.0, Active Max=0.0, Active Min=0.0, Idle Mean=0.0, Idle Std=0.0, Idle Max=0.0, Idle Min=0.0, Label='ddos')]"
      ]
     },
     "execution_count": 12,
     "metadata": {},
     "output_type": "execute_result"
    }
   ],
   "source": [
    "# with schema\n",
    "df.head(1)"
   ]
  },
  {
   "cell_type": "code",
   "execution_count": 13,
   "id": "462ce383-23ca-4277-b3f7-40960bd90da7",
   "metadata": {},
   "outputs": [
    {
     "name": "stderr",
     "output_type": "stream",
     "text": [
      "                                                                                \r"
     ]
    },
    {
     "data": {
      "text/plain": [
       "[Row(_c0=7656685, Flow ID='169.254.169.254-172.31.65.89-80-49393-6', Src IP='172.31.65.89', Src Port=49393, Dst IP='169.254.169.254', Dst Port=80, Protocol=6, Timestamp='20/02/2018 09:55:40', Flow Duration=54, Tot Fwd Pkts=2, Tot Bwd Pkts=0, TotLen Fwd Pkts=0.0, TotLen Bwd Pkts=0.0, Fwd Pkt Len Max=0.0, Fwd Pkt Len Min=0.0, Fwd Pkt Len Mean=0.0, Fwd Pkt Len Std=0.0, Bwd Pkt Len Max=0.0, Bwd Pkt Len Min=0.0, Bwd Pkt Len Mean=0.0, Bwd Pkt Len Std=0.0, Flow Byts/s=0.0, Flow Pkts/s=37037.03515625, Flow IAT Mean=54.0, Flow IAT Std=0.0, Flow IAT Max=54.0, Flow IAT Min=54.0, Fwd IAT Tot=54.0, Fwd IAT Mean=54.0, Fwd IAT Std=0.0, Fwd IAT Max=54.0, Fwd IAT Min=54.0, Bwd IAT Tot=0.0, Bwd IAT Mean=0.0, Bwd IAT Std=0.0, Bwd IAT Max=0.0, Bwd IAT Min=0.0, Fwd PSH Flags=0, Bwd PSH Flags=0, Fwd URG Flags=0, Bwd URG Flags=0, Fwd Header Len=40, Bwd Header Len=0, Fwd Pkts/s=37037.03515625, Bwd Pkts/s=0.0, Pkt Len Min=0.0, Pkt Len Max=0.0, Pkt Len Mean=0.0, Pkt Len Std=0.0, Pkt Len Var=0.0, FIN Flag Cnt=0, SYN Flag Cnt=0, RST Flag Cnt=0, PSH Flag Cnt=0, ACK Flag Cnt=1, URG Flag Cnt=0, CWE Flag Count=0, ECE Flag Cnt=0, Down/Up Ratio=0.0, Pkt Size Avg=0.0, Fwd Seg Size Avg=0.0, Bwd Seg Size Avg=0.0, Fwd Byts/b Avg=0, Fwd Pkts/b Avg=0, Fwd Blk Rate Avg=0, Bwd Byts/b Avg=0, Bwd Pkts/b Avg=0, Bwd Blk Rate Avg=0, Subflow Fwd Pkts=2, Subflow Fwd Byts=0, Subflow Bwd Pkts=0, Subflow Bwd Byts=0, Init Fwd Win Byts=2238, Init Bwd Win Byts=-1, Fwd Act Data Pkts=0, Fwd Seg Size Min=20, Active Mean=0.0, Active Std=0.0, Active Max=0.0, Active Min=0.0, Idle Mean=0.0, Idle Std=0.0, Idle Max=0.0, Idle Min=0.0, Label='Benign')]"
      ]
     },
     "execution_count": 13,
     "metadata": {},
     "output_type": "execute_result"
    }
   ],
   "source": [
    "df.tail(1)"
   ]
  },
  {
   "cell_type": "code",
   "execution_count": null,
   "id": "a6357a92-18b6-406e-85ed-c057ea431419",
   "metadata": {},
   "outputs": [],
   "source": []
  },
  {
   "cell_type": "code",
   "execution_count": null,
   "id": "37b5e0a1-69c9-4f84-a2ee-d17de7b33a6f",
   "metadata": {},
   "outputs": [],
   "source": []
  },
  {
   "cell_type": "code",
   "execution_count": 14,
   "id": "49aebd44-358c-4c93-9740-c4b93dde353f",
   "metadata": {},
   "outputs": [],
   "source": [
    "sc = spark.sparkContext"
   ]
  },
  {
   "cell_type": "code",
   "execution_count": 15,
   "id": "d861b0af-e02e-4a4b-96f2-034db692d9c4",
   "metadata": {
    "scrolled": true
   },
   "outputs": [
    {
     "name": "stdout",
     "output_type": "stream",
     "text": [
      "root\n",
      " |-- _c0: integer (nullable = true)\n",
      " |-- Flow ID: string (nullable = true)\n",
      " |-- Src IP: string (nullable = true)\n",
      " |-- Src Port: integer (nullable = true)\n",
      " |-- Dst IP: string (nullable = true)\n",
      " |-- Dst Port: integer (nullable = true)\n",
      " |-- Protocol: integer (nullable = true)\n",
      " |-- Timestamp: string (nullable = true)\n",
      " |-- Flow Duration: integer (nullable = true)\n",
      " |-- Tot Fwd Pkts: integer (nullable = true)\n",
      " |-- Tot Bwd Pkts: integer (nullable = true)\n",
      " |-- TotLen Fwd Pkts: float (nullable = true)\n",
      " |-- TotLen Bwd Pkts: float (nullable = true)\n",
      " |-- Fwd Pkt Len Max: float (nullable = true)\n",
      " |-- Fwd Pkt Len Min: float (nullable = true)\n",
      " |-- Fwd Pkt Len Mean: float (nullable = true)\n",
      " |-- Fwd Pkt Len Std: float (nullable = true)\n",
      " |-- Bwd Pkt Len Max: float (nullable = true)\n",
      " |-- Bwd Pkt Len Min: float (nullable = true)\n",
      " |-- Bwd Pkt Len Mean: float (nullable = true)\n",
      " |-- Bwd Pkt Len Std: float (nullable = true)\n",
      " |-- Flow Byts/s: float (nullable = true)\n",
      " |-- Flow Pkts/s: float (nullable = true)\n",
      " |-- Flow IAT Mean: float (nullable = true)\n",
      " |-- Flow IAT Std: float (nullable = true)\n",
      " |-- Flow IAT Max: float (nullable = true)\n",
      " |-- Flow IAT Min: float (nullable = true)\n",
      " |-- Fwd IAT Tot: float (nullable = true)\n",
      " |-- Fwd IAT Mean: float (nullable = true)\n",
      " |-- Fwd IAT Std: float (nullable = true)\n",
      " |-- Fwd IAT Max: float (nullable = true)\n",
      " |-- Fwd IAT Min: float (nullable = true)\n",
      " |-- Bwd IAT Tot: float (nullable = true)\n",
      " |-- Bwd IAT Mean: float (nullable = true)\n",
      " |-- Bwd IAT Std: float (nullable = true)\n",
      " |-- Bwd IAT Max: float (nullable = true)\n",
      " |-- Bwd IAT Min: float (nullable = true)\n",
      " |-- Fwd PSH Flags: integer (nullable = true)\n",
      " |-- Bwd PSH Flags: integer (nullable = true)\n",
      " |-- Fwd URG Flags: integer (nullable = true)\n",
      " |-- Bwd URG Flags: integer (nullable = true)\n",
      " |-- Fwd Header Len: integer (nullable = true)\n",
      " |-- Bwd Header Len: integer (nullable = true)\n",
      " |-- Fwd Pkts/s: float (nullable = true)\n",
      " |-- Bwd Pkts/s: float (nullable = true)\n",
      " |-- Pkt Len Min: float (nullable = true)\n",
      " |-- Pkt Len Max: float (nullable = true)\n",
      " |-- Pkt Len Mean: float (nullable = true)\n",
      " |-- Pkt Len Std: float (nullable = true)\n",
      " |-- Pkt Len Var: float (nullable = true)\n",
      " |-- FIN Flag Cnt: integer (nullable = true)\n",
      " |-- SYN Flag Cnt: integer (nullable = true)\n",
      " |-- RST Flag Cnt: integer (nullable = true)\n",
      " |-- PSH Flag Cnt: integer (nullable = true)\n",
      " |-- ACK Flag Cnt: integer (nullable = true)\n",
      " |-- URG Flag Cnt: integer (nullable = true)\n",
      " |-- CWE Flag Count: integer (nullable = true)\n",
      " |-- ECE Flag Cnt: integer (nullable = true)\n",
      " |-- Down/Up Ratio: float (nullable = true)\n",
      " |-- Pkt Size Avg: float (nullable = true)\n",
      " |-- Fwd Seg Size Avg: float (nullable = true)\n",
      " |-- Bwd Seg Size Avg: float (nullable = true)\n",
      " |-- Fwd Byts/b Avg: integer (nullable = true)\n",
      " |-- Fwd Pkts/b Avg: integer (nullable = true)\n",
      " |-- Fwd Blk Rate Avg: integer (nullable = true)\n",
      " |-- Bwd Byts/b Avg: integer (nullable = true)\n",
      " |-- Bwd Pkts/b Avg: integer (nullable = true)\n",
      " |-- Bwd Blk Rate Avg: integer (nullable = true)\n",
      " |-- Subflow Fwd Pkts: integer (nullable = true)\n",
      " |-- Subflow Fwd Byts: integer (nullable = true)\n",
      " |-- Subflow Bwd Pkts: integer (nullable = true)\n",
      " |-- Subflow Bwd Byts: integer (nullable = true)\n",
      " |-- Init Fwd Win Byts: integer (nullable = true)\n",
      " |-- Init Bwd Win Byts: integer (nullable = true)\n",
      " |-- Fwd Act Data Pkts: integer (nullable = true)\n",
      " |-- Fwd Seg Size Min: integer (nullable = true)\n",
      " |-- Active Mean: float (nullable = true)\n",
      " |-- Active Std: float (nullable = true)\n",
      " |-- Active Max: float (nullable = true)\n",
      " |-- Active Min: float (nullable = true)\n",
      " |-- Idle Mean: float (nullable = true)\n",
      " |-- Idle Std: float (nullable = true)\n",
      " |-- Idle Max: float (nullable = true)\n",
      " |-- Idle Min: float (nullable = true)\n",
      " |-- Label: string (nullable = true)\n",
      "\n"
     ]
    }
   ],
   "source": [
    "df.printSchema()"
   ]
  },
  {
   "cell_type": "code",
   "execution_count": 30,
   "id": "a5676518-dbc5-449c-a92f-89cc69b6575f",
   "metadata": {
    "scrolled": true
   },
   "outputs": [
    {
     "name": "stdout",
     "output_type": "stream",
     "text": [
      "+------+--------+-------------+--------+------------+-------------+------------+------------+---------------+---------------+---------------+---------------+----------------+---------------+---------------+---------------+----------------+---------------+-----------+-----------+-------------+------------+------------+------------+-----------+------------+-----------+-----------+-----------+-----------+------------+-----------+-----------+-----------+------------------+-------------+-------------+-------------+--------------+--------------+----------+----------+-----------+-----------+------------+-----------+-----------+-----------------+------------------+-----------------+------------+------------+------------+--------------+------------+-------------+------------+----------------+----------------+--------------+--------------+----------------+--------------+--------------+----------------+----------------+----------------+----------------+----------------+-----------------+-----------------+-----------------+----------------+-----------+----------+----------+----------+---------+--------+--------+--------+-----+\n",
      "|Src IP|Src Port|       Dst IP|Dst Port|    Protocol|Flow Duration|Tot Fwd Pkts|Tot Bwd Pkts|TotLen Fwd Pkts|TotLen Bwd Pkts|Fwd Pkt Len Max|Fwd Pkt Len Min|Fwd Pkt Len Mean|Fwd Pkt Len Std|Bwd Pkt Len Max|Bwd Pkt Len Min|Bwd Pkt Len Mean|Bwd Pkt Len Std|Flow Byts/s|Flow Pkts/s|Flow IAT Mean|Flow IAT Std|Flow IAT Max|Flow IAT Min|Fwd IAT Tot|Fwd IAT Mean|Fwd IAT Std|Fwd IAT Max|Fwd IAT Min|Bwd IAT Tot|Bwd IAT Mean|Bwd IAT Std|Bwd IAT Max|Bwd IAT Min|     Fwd PSH Flags|Bwd PSH Flags|Fwd URG Flags|Bwd URG Flags|Fwd Header Len|Bwd Header Len|Fwd Pkts/s|Bwd Pkts/s|Pkt Len Min|Pkt Len Max|Pkt Len Mean|Pkt Len Std|Pkt Len Var|     FIN Flag Cnt|      SYN Flag Cnt|     RST Flag Cnt|PSH Flag Cnt|ACK Flag Cnt|URG Flag Cnt|CWE Flag Count|ECE Flag Cnt|Down/Up Ratio|Pkt Size Avg|Fwd Seg Size Avg|Bwd Seg Size Avg|Fwd Byts/b Avg|Fwd Pkts/b Avg|Fwd Blk Rate Avg|Bwd Byts/b Avg|Bwd Pkts/b Avg|Bwd Blk Rate Avg|Subflow Fwd Pkts|Subflow Fwd Byts|Subflow Bwd Pkts|Subflow Bwd Byts|Init Fwd Win Byts|Init Bwd Win Byts|Fwd Act Data Pkts|Fwd Seg Size Min|Active Mean|Active Std|Active Max|Active Min|Idle Mean|Idle Std|Idle Max|Idle Min|Label|\n",
      "+------+--------+-------------+--------+------------+-------------+------------+------------+---------------+---------------+---------------+---------------+----------------+---------------+---------------+---------------+----------------+---------------+-----------+-----------+-------------+------------+------------+------------+-----------+------------+-----------+-----------+-----------+-----------+------------+-----------+-----------+-----------+------------------+-------------+-------------+-------------+--------------+--------------+----------+----------+-----------+-----------+------------+-----------+-----------+-----------------+------------------+-----------------+------------+------------+------------+--------------+------------+-------------+------------+----------------+----------------+--------------+--------------+----------------+--------------+--------------+----------------+----------------+----------------+----------------+----------------+-----------------+-----------------+-----------------+----------------+-----------+----------+----------+----------+---------+--------+--------+--------+-----+\n",
      "|   624|    null|192.168.4.118|    4504|203.73.24.75|           80|           6|        null|      3974862.0|           29.0|           44.0|           86.0|         59811.0|           86.0|            0.0|      2.9655173|       15.969799|         1460.0|        0.0|   1359.341|     372.0272|   15068.951|   18.365417|   55206.418|  195478.31|   1566821.0|      167.0|  3735347.0|  133405.25|   341775.7|   1805015.0|      167.0|  3974862.0|   92438.65| 248174.8205743075|    1566821.0|       3997.0|            0|             0|             0|       0.0|     768.0|      896.0|  7.2958508|   11.069567|        0.0|     1460.0|809.4189189189186| 728.8624277195806| 531240.438541281|           0|           1|           0|             0|           0|          0.0|         0.0|             0.0|             1.0|          null|          null|            null|             0|             0|               0|               0|               0|               0|              29|               86|               44|            59811|              -1|     5840.0|       1.0|       0.0|       0.0|      0.0|     0.0|     0.0|     0.0|  0.0|\n",
      "|   625|    null|192.168.4.118|    4504|203.73.24.75|           80|           6|        null|           63.0|            1.0|            1.0|            0.0|             0.0|            0.0|            0.0|            0.0|             0.0|            0.0|        0.0|        0.0|          0.0|         0.0|   31746.031|        63.0|        0.0|        63.0|       63.0|        0.0|        0.0|        0.0|         0.0|        0.0|        0.0|        0.0|               0.0|          0.0|          0.0|            0|             0|             0|       0.0|      20.0|       20.0|  15873.016|   15873.016|        0.0|        0.0|              0.0|               0.0|              0.0|           0|           0|           0|             0|           1|          0.0|         0.0|             0.0|             1.0|          null|          null|            null|             0|             0|               0|               0|               0|               0|               1|                0|                1|                0|              -1|    17520.0|       0.0|       0.0|       0.0|      0.0|     0.0|     0.0|     0.0|  0.0|\n",
      "|   626|    null|192.168.4.118|    4505|203.73.24.75|           80|           6|        null|       476078.0|            2.0|            6.0|           86.0|          3037.0|           86.0|            0.0|           43.0|       60.811184|         1460.0|        0.0|  506.16666|     740.2244|   6559.8496|   16.803968|    68011.14|  110862.71|    232203.0|        6.0|      134.0|      134.0|        0.0|       134.0|      134.0|   476078.0|    95215.6|123467.30357993569|     232601.0|          6.0|            0|             0|             0|       0.0|      40.0|      136.0|   4.200992|   12.602977|        0.0|     1460.0|            347.0| 632.5152172082503|         400075.5|           0|           1|           0|             0|           0|          0.0|         0.0|             0.0|             3.0|          null|          null|            null|             0|             0|               0|               0|               0|               0|               2|               86|                6|             3037|              -1|     5840.0|       1.0|       0.0|       0.0|      0.0|     0.0|     0.0|     0.0|  0.0|\n",
      "|   627|    null|192.168.4.118|    4505|203.73.24.75|           80|           6|        null|          151.0|            2.0|            1.0|            0.0|             0.0|            0.0|            0.0|            0.0|             0.0|            0.0|        0.0|        0.0|          0.0|         0.0|   19867.549|        75.5|   98.28784|       145.0|        6.0|      145.0|      145.0|        0.0|       145.0|      145.0|        0.0|        0.0|               0.0|          0.0|          0.0|            0|             0|             0|       0.0|      40.0|       20.0|  13245.033|   6622.5166|        0.0|        0.0|              0.0|               0.0|              0.0|           0|           0|           0|             0|           1|          0.0|         0.0|             0.0|             0.0|          null|          null|            null|             0|             0|               0|               0|               0|               0|               2|                0|                1|                0|              -1|    17520.0|       0.0|       0.0|       0.0|      0.0|     0.0|     0.0|     0.0|  0.0|\n",
      "|   628|    null|192.168.4.118|    4506|203.73.24.75|           80|           6|        null|       472507.0|            2.0|            5.0|           73.0|          1050.0|           73.0|            0.0|           36.5|       51.618793|         1050.0|        0.0|      210.0|    469.57428|   2376.6843|   14.814595|   78751.164|  118675.49|    232355.0|        7.0|      179.0|      179.0|        0.0|       179.0|      179.0|   472507.0|  118126.75|131726.85733333448|     232875.0|          7.0|            0|             0|             0|       0.0|      40.0|      116.0|  4.2327414|   10.581854|        0.0|     1050.0|          140.375| 368.4306244057353|       135741.125|           0|           1|           0|             0|           0|          0.0|         0.0|             0.0|             2.0|          null|          null|            null|             0|             0|               0|               0|               0|               0|               2|               73|                5|             1050|              -1|     5840.0|       1.0|       0.0|       0.0|      0.0|     0.0|     0.0|     0.0|  0.0|\n",
      "|   629|    null|192.168.4.118|    4506|203.73.24.75|           80|           6|        null|          138.0|            1.0|            1.0|            0.0|             0.0|            0.0|            0.0|            0.0|             0.0|            0.0|        0.0|        0.0|          0.0|         0.0|   14492.754|       138.0|        0.0|       138.0|      138.0|        0.0|        0.0|        0.0|         0.0|        0.0|        0.0|        0.0|               0.0|          0.0|          0.0|            0|             0|             0|       0.0|      20.0|       20.0|   7246.377|    7246.377|        0.0|        0.0|              0.0|               0.0|              0.0|           0|           0|           0|             0|           1|          0.0|         0.0|             0.0|             1.0|          null|          null|            null|             0|             0|               0|               0|               0|               0|               1|                0|                1|                0|              -1|    16470.0|       0.0|       0.0|       0.0|      0.0|     0.0|     0.0|     0.0|  0.0|\n",
      "|   630|    null|192.168.4.118|    4507|203.73.24.75|           80|           6|        null|       469596.0|            2.0|            5.0|           69.0|           890.0|           69.0|            0.0|           34.5|       48.790367|          890.0|        0.0|      178.0|     398.0201|   2042.1809|    14.90643|     78266.0| 118162.336|    231830.0|        7.0|      142.0|      142.0|        0.0|       142.0|      142.0|   469596.0|   117399.0|131247.33116524693|     232353.0|          7.0|            0|             0|             0|       0.0|      40.0|      116.0|  4.2589803|    10.64745|        0.0|      890.0|          119.875|312.11281728613085|97414.41071428572|           0|           1|           0|             0|           0|          0.0|         0.0|             0.0|             2.0|          null|          null|            null|             0|             0|               0|               0|               0|               0|               2|               69|                5|              890|              -1|     5840.0|       1.0|       0.0|       0.0|      0.0|     0.0|     0.0|     0.0|  0.0|\n",
      "|   631|    null|192.168.4.118|    4507|203.73.24.75|           80|           6|        null|         1978.0|            1.0|            1.0|            0.0|             0.0|            0.0|            0.0|            0.0|             0.0|            0.0|        0.0|        0.0|          0.0|         0.0|   1011.1224|      1978.0|        0.0|      1978.0|     1978.0|        0.0|        0.0|        0.0|         0.0|        0.0|        0.0|        0.0|               0.0|          0.0|          0.0|            0|             0|             0|       0.0|      20.0|       20.0|   505.5612|    505.5612|        0.0|        0.0|              0.0|               0.0|              0.0|           0|           0|           0|             0|           1|          0.0|         0.0|             0.0|             1.0|          null|          null|            null|             0|             0|               0|               0|               0|               0|               1|                0|                1|                0|              -1|    16630.0|       0.0|       0.0|       0.0|      0.0|     0.0|     0.0|     0.0|  0.0|\n",
      "|   632|    null|192.168.4.118|    4508|203.73.24.75|           80|           6|        null|       468629.0|            2.0|            5.0|           70.0|           669.0|           70.0|            0.0|           35.0|       49.497475|          669.0|        0.0|      133.8|    299.18588|   1576.9404|   14.937189|   78104.836|  119118.09|    235236.0|        6.0|       92.0|       92.0|        0.0|        92.0|       92.0|   468629.0|  117157.25|132649.37390322154|     235540.0|          6.0|            0|             0|             0|       0.0|      40.0|      116.0|  4.2677684|   10.669421|        0.0|      669.0|           92.375|234.27574565029136|54885.12500000001|           0|           1|           0|             0|           0|          0.0|         0.0|             0.0|             2.0|          null|          null|            null|             0|             0|               0|               0|               0|               0|               2|               70|                5|              669|              -1|     5840.0|       1.0|       0.0|       0.0|      0.0|     0.0|     0.0|     0.0|  0.0|\n",
      "|   633|    null|192.168.4.118|    4508|203.73.24.75|           80|           6|        null|          102.0|            1.0|            1.0|            0.0|             0.0|            0.0|            0.0|            0.0|             0.0|            0.0|        0.0|        0.0|          0.0|         0.0|   19607.844|       102.0|        0.0|       102.0|      102.0|        0.0|        0.0|        0.0|         0.0|        0.0|        0.0|        0.0|               0.0|          0.0|          0.0|            0|             0|             0|       0.0|      20.0|       20.0|   9803.922|    9803.922|        0.0|        0.0|              0.0|               0.0|              0.0|           0|           0|           0|             0|           1|          0.0|         0.0|             0.0|             1.0|          null|          null|            null|             0|             0|               0|               0|               0|               0|               1|                0|                1|                0|              -1|    16851.0|       0.0|       0.0|       0.0|      0.0|     0.0|     0.0|     0.0|  0.0|\n",
      "|   636|    null|192.168.4.118|    4509|203.73.24.75|           80|           6|        null|      1434885.0|           14.0|           25.0|           63.0|         31473.0|           63.0|            0.0|            4.5|       16.837458|         1460.0|        0.0|    1258.92|    491.70535|   21978.068|   27.179878|   37760.133|  78207.734|    241160.0|      142.0|  1178154.0|  90627.234| 106869.984|    262982.0|      142.0|  1434885.0|  59786.875| 95568.93616666019|     241160.0|       3748.0|            0|             0|             0|       0.0|     280.0|      516.0|    9.75688|   17.422998|        0.0|     1460.0|            788.4| 726.1693593518927|527321.9384615384|           0|           1|           0|             0|           0|          0.0|         0.0|             0.0|             1.0|          null|          null|            null|             0|             0|               0|               0|               0|               0|              14|               63|               25|            31473|              -1|     5840.0|       1.0|       0.0|       0.0|      0.0|     0.0|     0.0|     0.0|  0.0|\n",
      "|   637|    null|192.168.4.118|    4509|203.73.24.75|           80|           6|        null|           39.0|            1.0|            1.0|            0.0|             0.0|            0.0|            0.0|            0.0|             0.0|            0.0|        0.0|        0.0|          0.0|         0.0|    51282.05|        39.0|        0.0|        39.0|       39.0|        0.0|        0.0|        0.0|         0.0|        0.0|        0.0|        0.0|               0.0|          0.0|          0.0|            0|             0|             0|       0.0|      20.0|       20.0|  25641.025|   25641.025|        0.0|        0.0|              0.0|               0.0|              0.0|           0|           0|           0|             0|           1|          0.0|         0.0|             0.0|             1.0|          null|          null|            null|             0|             0|               0|               0|               0|               0|               1|                0|                1|                0|              -1|    16707.0|       0.0|       0.0|       0.0|      0.0|     0.0|     0.0|     0.0|  0.0|\n",
      "|   638|    null|192.168.4.118|    4510|203.73.24.75|           80|           6|        null|       966411.0|            6.0|           12.0|           63.0|         11803.0|           63.0|            0.0|           10.5|       25.719643|         1460.0|        0.0|   983.5833|     704.4466|    12278.42|   18.625616|   56847.707| 100400.586|    238499.0|        6.0|   732476.0|   146495.2|   129599.2|    248169.0|      135.0|   966411.0|   87855.55|115204.12733523366|     239854.0|          6.0|            0|             0|             0|       0.0|     120.0|      256.0|  6.2085385|   12.417077|        0.0|     1460.0|624.5263157894738| 732.6234722193817|536737.1520467835|           0|           1|           0|             0|           0|          0.0|         0.0|             0.0|             2.0|          null|          null|            null|             0|             0|               0|               0|               0|               0|               6|               63|               12|            11803|              -1|     5840.0|       1.0|       0.0|       0.0|      0.0|     0.0|     0.0|     0.0|  0.0|\n",
      "|   639|    null|192.168.4.118|    4510|203.73.24.75|           80|           6|        null|            6.0|            1.0|            1.0|            0.0|             0.0|            0.0|            0.0|            0.0|             0.0|            0.0|        0.0|        0.0|          0.0|         0.0|   333333.34|         6.0|        0.0|         6.0|        6.0|        0.0|        0.0|        0.0|         0.0|        0.0|        0.0|        0.0|               0.0|          0.0|          0.0|            0|             0|             0|       0.0|      20.0|       20.0|  166666.67|   166666.67|        0.0|        0.0|              0.0|               0.0|              0.0|           0|           0|           0|             0|           1|          0.0|         0.0|             0.0|             1.0|          null|          null|            null|             0|             0|               0|               0|               0|               0|               1|                0|                1|                0|              -1|    17520.0|       0.0|       0.0|       0.0|      0.0|     0.0|     0.0|     0.0|  0.0|\n",
      "|   640|    null|192.168.4.118|    4511|203.73.24.75|           80|           6|        null|       510476.0|            6.0|           11.0|           70.0|         11403.0|           70.0|            0.0|      11.666667|       28.577381|         1460.0|        0.0|  1036.6364|    670.81476|   22475.102|    33.30225|    31904.75|   78336.85|    233822.0|      133.0|   276999.0|    55399.8|  111345.11|    254475.0|      133.0|   510476.0|    51047.6| 95784.02735691957|     234382.0|       3253.0|            0|             0|             0|       0.0|     120.0|      236.0|  11.753736|   21.548515|        0.0|     1460.0|637.3888888888888| 728.1251620662391|530166.2516339871|           0|           1|           0|             0|           0|          0.0|         0.0|             0.0|             1.0|          null|          null|            null|             0|             0|               0|               0|               0|               0|               6|               70|               11|            11403|              -1|     5840.0|       1.0|       0.0|       0.0|      0.0|     0.0|     0.0|     0.0|  0.0|\n",
      "|   641|    null|192.168.4.118|    4511|203.73.24.75|           80|           6|        null|            6.0|            1.0|            1.0|            0.0|             0.0|            0.0|            0.0|            0.0|             0.0|            0.0|        0.0|        0.0|          0.0|         0.0|   333333.34|         6.0|        0.0|         6.0|        6.0|        0.0|        0.0|        0.0|         0.0|        0.0|        0.0|        0.0|               0.0|          0.0|          0.0|            0|             0|             0|       0.0|      20.0|       20.0|  166666.67|   166666.67|        0.0|        0.0|              0.0|               0.0|              0.0|           0|           0|           0|             0|           1|          0.0|         0.0|             0.0|             1.0|          null|          null|            null|             0|             0|               0|               0|               0|               0|               1|                0|                1|                0|              -1|    16337.0|       0.0|       0.0|       0.0|      0.0|     0.0|     0.0|     0.0|  0.0|\n",
      "|   644|    null|192.168.4.118|    4512|203.73.24.75|           80|           6|        null|       513876.0|            6.0|           11.0|           70.0|         11403.0|           70.0|            0.0|      11.666667|       28.577381|         1460.0|        0.0|  1036.6364|    670.81476|   22326.398|    33.08191|    32117.25|   77781.36|    231567.0|      136.0|   281121.0|    56224.2|  113058.83|    258371.0|      136.0|   513876.0|    51387.6| 94937.27717486834|     232090.0|       3250.0|            0|             0|             0|       0.0|     120.0|      236.0|  11.675968|   21.405943|        0.0|     1460.0|637.3888888888888| 728.1251620662391|530166.2516339871|           0|           1|           0|             0|           0|          0.0|         0.0|             0.0|             1.0|          null|          null|            null|             0|             0|               0|               0|               0|               0|               6|               70|               11|            11403|              -1|     5840.0|       1.0|       0.0|       0.0|      0.0|     0.0|     0.0|     0.0|  0.0|\n",
      "|   645|    null|192.168.4.118|    4512|203.73.24.75|           80|           6|        null|            6.0|            1.0|            1.0|            0.0|             0.0|            0.0|            0.0|            0.0|             0.0|            0.0|        0.0|        0.0|          0.0|         0.0|   333333.34|         6.0|        0.0|         6.0|        6.0|        0.0|        0.0|        0.0|         0.0|        0.0|        0.0|        0.0|               0.0|          0.0|          0.0|            0|             0|             0|       0.0|      20.0|       20.0|  166666.67|   166666.67|        0.0|        0.0|              0.0|               0.0|              0.0|           0|           0|           0|             0|           1|          0.0|         0.0|             0.0|             1.0|          null|          null|            null|             0|             0|               0|               0|               0|               0|               1|                0|                1|                0|              -1|    16337.0|       0.0|       0.0|       0.0|      0.0|     0.0|     0.0|     0.0|  0.0|\n",
      "|   646|    null|192.168.4.118|    4513|203.73.24.75|           80|           6|        null|       506932.0|            6.0|           11.0|           70.0|         11403.0|           70.0|            0.0|      11.666667|       28.577381|         1460.0|        0.0|  1036.6364|    670.81476|   22632.227|    33.53507|    31683.25|   77944.28|    231716.0|      121.0|   274077.0|    54815.4|  110050.37|    251583.0|      121.0|   506932.0|    50693.2| 95294.54670628092|     232156.0|       3250.0|            0|             0|             0|       0.0|     120.0|      236.0|  11.835907|   21.699163|        0.0|     1460.0|637.3888888888888| 728.1251620662391|530166.2516339871|           0|           1|           0|             0|           0|          0.0|         0.0|             0.0|             1.0|          null|          null|            null|             0|             0|               0|               0|               0|               0|               6|               70|               11|            11403|              -1|     5840.0|       1.0|       0.0|       0.0|      0.0|     0.0|     0.0|     0.0|  0.0|\n",
      "|   647|    null|192.168.4.118|    4513|203.73.24.75|           80|           6|        null|            6.0|            1.0|            1.0|            0.0|             0.0|            0.0|            0.0|            0.0|             0.0|            0.0|        0.0|        0.0|          0.0|         0.0|   333333.34|         6.0|        0.0|         6.0|        6.0|        0.0|        0.0|        0.0|         0.0|        0.0|        0.0|        0.0|               0.0|          0.0|          0.0|            0|             0|             0|       0.0|      20.0|       20.0|  166666.67|   166666.67|        0.0|        0.0|              0.0|               0.0|              0.0|           0|           0|           0|             0|           1|          0.0|         0.0|             0.0|             1.0|          null|          null|            null|             0|             0|               0|               0|               0|               0|               1|                0|                1|                0|              -1|    16337.0|       0.0|       0.0|       0.0|      0.0|     0.0|     0.0|     0.0|  0.0|\n",
      "+------+--------+-------------+--------+------------+-------------+------------+------------+---------------+---------------+---------------+---------------+----------------+---------------+---------------+---------------+----------------+---------------+-----------+-----------+-------------+------------+------------+------------+-----------+------------+-----------+-----------+-----------+-----------+------------+-----------+-----------+-----------+------------------+-------------+-------------+-------------+--------------+--------------+----------+----------+-----------+-----------+------------+-----------+-----------+-----------------+------------------+-----------------+------------+------------+------------+--------------+------------+-------------+------------+----------------+----------------+--------------+--------------+----------------+--------------+--------------+----------------+----------------+----------------+----------------+----------------+-----------------+-----------------+-----------------+----------------+-----------+----------+----------+----------+---------+--------+--------+--------+-----+\n",
      "only showing top 20 rows\n",
      "\n"
     ]
    }
   ],
   "source": [
    "df.show()"
   ]
  },
  {
   "cell_type": "code",
   "execution_count": 16,
   "id": "aceb317d-6094-45ca-ae4f-ba3dcdbb35ae",
   "metadata": {},
   "outputs": [],
   "source": [
    "rdd = df.rdd"
   ]
  },
  {
   "cell_type": "code",
   "execution_count": 17,
   "id": "b3249c06-471e-49d8-a123-f6fa757985a0",
   "metadata": {},
   "outputs": [
    {
     "data": {
      "text/plain": [
       "MapPartitionsRDD[22] at javaToPython at NativeMethodAccessorImpl.java:0"
      ]
     },
     "execution_count": 17,
     "metadata": {},
     "output_type": "execute_result"
    }
   ],
   "source": [
    "rdd"
   ]
  },
  {
   "cell_type": "code",
   "execution_count": 12,
   "id": "3c136b34-7a80-4d2d-ad88-625ca5737ca3",
   "metadata": {
    "scrolled": true
   },
   "outputs": [
    {
     "name": "stderr",
     "output_type": "stream",
     "text": [
      "                                                                                \r"
     ]
    },
    {
     "data": {
      "text/plain": [
       "[Row(_c0=None, _c1='Flow ID', _c2='Src IP', _c3='Src Port', _c4='Dst IP', _c5='Dst Port', _c6='Protocol', _c7='Timestamp', _c8='Flow Duration', _c9='Tot Fwd Pkts', _c10='Tot Bwd Pkts', _c11='TotLen Fwd Pkts', _c12='TotLen Bwd Pkts', _c13='Fwd Pkt Len Max', _c14='Fwd Pkt Len Min', _c15='Fwd Pkt Len Mean', _c16='Fwd Pkt Len Std', _c17='Bwd Pkt Len Max', _c18='Bwd Pkt Len Min', _c19='Bwd Pkt Len Mean', _c20='Bwd Pkt Len Std', _c21='Flow Byts/s', _c22='Flow Pkts/s', _c23='Flow IAT Mean', _c24='Flow IAT Std', _c25='Flow IAT Max', _c26='Flow IAT Min', _c27='Fwd IAT Tot', _c28='Fwd IAT Mean', _c29='Fwd IAT Std', _c30='Fwd IAT Max', _c31='Fwd IAT Min', _c32='Bwd IAT Tot', _c33='Bwd IAT Mean', _c34='Bwd IAT Std', _c35='Bwd IAT Max', _c36='Bwd IAT Min', _c37='Fwd PSH Flags', _c38='Bwd PSH Flags', _c39='Fwd URG Flags', _c40='Bwd URG Flags', _c41='Fwd Header Len', _c42='Bwd Header Len', _c43='Fwd Pkts/s', _c44='Bwd Pkts/s', _c45='Pkt Len Min', _c46='Pkt Len Max', _c47='Pkt Len Mean', _c48='Pkt Len Std', _c49='Pkt Len Var', _c50='FIN Flag Cnt', _c51='SYN Flag Cnt', _c52='RST Flag Cnt', _c53='PSH Flag Cnt', _c54='ACK Flag Cnt', _c55='URG Flag Cnt', _c56='CWE Flag Count', _c57='ECE Flag Cnt', _c58='Down/Up Ratio', _c59='Pkt Size Avg', _c60='Fwd Seg Size Avg', _c61='Bwd Seg Size Avg', _c62='Fwd Byts/b Avg', _c63='Fwd Pkts/b Avg', _c64='Fwd Blk Rate Avg', _c65='Bwd Byts/b Avg', _c66='Bwd Pkts/b Avg', _c67='Bwd Blk Rate Avg', _c68='Subflow Fwd Pkts', _c69='Subflow Fwd Byts', _c70='Subflow Bwd Pkts', _c71='Subflow Bwd Byts', _c72='Init Fwd Win Byts', _c73='Init Bwd Win Byts', _c74='Fwd Act Data Pkts', _c75='Fwd Seg Size Min', _c76='Active Mean', _c77='Active Std', _c78='Active Max', _c79='Active Min', _c80='Idle Mean', _c81='Idle Std', _c82='Idle Max', _c83='Idle Min', _c84='Label'),\n",
       " Row(_c0='624', _c1='192.168.4.118-203.73.24.75-4504-80-6', _c2='192.168.4.118', _c3='4504', _c4='203.73.24.75', _c5='80', _c6='6', _c7='12/06/2010 08:34:32 AM', _c8='3974862', _c9='29', _c10='44', _c11='86.0', _c12='59811.0', _c13='86.0', _c14='0.0', _c15='2.9655172413793096', _c16='15.969799083226464', _c17='1460.0', _c18='0.0', _c19='1359.3409090909086', _c20='372.02718975289076', _c21='15068.950821437324', _c22='18.365417466065487', _c23='55206.41666666666', _c24='195478.31665363663', _c25='1566821.0', _c26='167.0', _c27='3735347.0', _c28='133405.25', _c29='341775.6887123293', _c30='1805015.0', _c31='167.0', _c32='3974862.0', _c33='92438.65116279072', _c34='248174.8205743075', _c35='1566821.0', _c36='3997.0', _c37='0', _c38='0', _c39='0', _c40='0', _c41='768', _c42='896', _c43='7.295850774190399', _c44='11.069566691875089', _c45='0.0', _c46='1460.0', _c47='809.4189189189186', _c48='728.8624277195806', _c49='531240.438541281', _c50='0', _c51='1', _c52='0', _c53='0', _c54='0', _c55='0', _c56='0', _c57='0', _c58='1.0', _c59='820.5068493150685', _c60='2.9655172413793105', _c61='1359.340909090909', _c62='0', _c63='0', _c64='0', _c65='0', _c66='0', _c67='0', _c68='29', _c69='86', _c70='44', _c71='59811', _c72='-1', _c73='5840', _c74='1', _c75='0', _c76='0.0', _c77='0.0', _c78='0.0', _c79='0.0', _c80='0.0', _c81='0.0', _c82='0.0', _c83='0.0', _c84='ddos'),\n",
       " Row(_c0='625', _c1='192.168.4.118-203.73.24.75-4504-80-6', _c2='192.168.4.118', _c3='4504', _c4='203.73.24.75', _c5='80', _c6='6', _c7='12/06/2010 08:34:36 AM', _c8='63', _c9='1', _c10='1', _c11='0.0', _c12='0.0', _c13='0.0', _c14='0.0', _c15='0.0', _c16='0.0', _c17='0.0', _c18='0.0', _c19='0.0', _c20='0.0', _c21='0.0', _c22='31746.031746031742', _c23='63.0', _c24='0.0', _c25='63.0', _c26='63.0', _c27='0.0', _c28='0.0', _c29='0.0', _c30='0.0', _c31='0.0', _c32='0.0', _c33='0.0', _c34='0.0', _c35='0.0', _c36='0.0', _c37='0', _c38='0', _c39='0', _c40='0', _c41='20', _c42='20', _c43='15873.015873015871', _c44='15873.015873015871', _c45='0.0', _c46='0.0', _c47='0.0', _c48='0.0', _c49='0.0', _c50='0', _c51='0', _c52='0', _c53='0', _c54='1', _c55='0', _c56='0', _c57='0', _c58='1.0', _c59='0.0', _c60='0.0', _c61='0.0', _c62='0', _c63='0', _c64='0', _c65='0', _c66='0', _c67='0', _c68='1', _c69='0', _c70='1', _c71='0', _c72='-1', _c73='17520', _c74='0', _c75='0', _c76='0.0', _c77='0.0', _c78='0.0', _c79='0.0', _c80='0.0', _c81='0.0', _c82='0.0', _c83='0.0', _c84='ddos'),\n",
       " Row(_c0='626', _c1='192.168.4.118-203.73.24.75-4505-80-6', _c2='192.168.4.118', _c3='4505', _c4='203.73.24.75', _c5='80', _c6='6', _c7='12/06/2010 08:34:36 AM', _c8='476078', _c9='2', _c10='6', _c11='86.0', _c12='3037.0', _c13='86.0', _c14='0.0', _c15='43.0', _c16='60.8111831820431', _c17='1460.0', _c18='0.0', _c19='506.16666666666674', _c20='740.224402912162', _c21='6559.849436436886', _c22='16.80396909750083', _c23='68011.14285714286', _c24='110862.70745149693', _c25='232203.0', _c26='6.0', _c27='134.0', _c28='134.0', _c29='0.0', _c30='134.0', _c31='134.0', _c32='476078.0', _c33='95215.6', _c34='123467.30357993569', _c35='232601.0', _c36='6.0', _c37='0', _c38='0', _c39='0', _c40='0', _c41='40', _c42='136', _c43='4.200992274375206', _c44='12.602976823125625', _c45='0.0', _c46='1460.0', _c47='347.0', _c48='632.5152172082503', _c49='400075.5', _c50='0', _c51='1', _c52='0', _c53='0', _c54='0', _c55='0', _c56='0', _c57='0', _c58='3.0', _c59='390.375', _c60='43.0', _c61='506.16666666666674', _c62='0', _c63='0', _c64='0', _c65='0', _c66='0', _c67='0', _c68='2', _c69='86', _c70='6', _c71='3037', _c72='-1', _c73='5840', _c74='1', _c75='0', _c76='0.0', _c77='0.0', _c78='0.0', _c79='0.0', _c80='0.0', _c81='0.0', _c82='0.0', _c83='0.0', _c84='ddos'),\n",
       " Row(_c0='627', _c1='192.168.4.118-203.73.24.75-4505-80-6', _c2='192.168.4.118', _c3='4505', _c4='203.73.24.75', _c5='80', _c6='6', _c7='12/06/2010 08:34:37 AM', _c8='151', _c9='2', _c10='1', _c11='0.0', _c12='0.0', _c13='0.0', _c14='0.0', _c15='0.0', _c16='0.0', _c17='0.0', _c18='0.0', _c19='0.0', _c20='0.0', _c21='0.0', _c22='19867.54966887417', _c23='75.5', _c24='98.28784258493008', _c25='145.0', _c26='6.0', _c27='145.0', _c28='145.0', _c29='0.0', _c30='145.0', _c31='145.0', _c32='0.0', _c33='0.0', _c34='0.0', _c35='0.0', _c36='0.0', _c37='0', _c38='0', _c39='0', _c40='0', _c41='40', _c42='20', _c43='13245.033112582783', _c44='6622.516556291392', _c45='0.0', _c46='0.0', _c47='0.0', _c48='0.0', _c49='0.0', _c50='0', _c51='0', _c52='0', _c53='0', _c54='1', _c55='0', _c56='0', _c57='0', _c58='0.0', _c59='0.0', _c60='0.0', _c61='0.0', _c62='0', _c63='0', _c64='0', _c65='0', _c66='0', _c67='0', _c68='2', _c69='0', _c70='1', _c71='0', _c72='-1', _c73='17520', _c74='0', _c75='0', _c76='0.0', _c77='0.0', _c78='0.0', _c79='0.0', _c80='0.0', _c81='0.0', _c82='0.0', _c83='0.0', _c84='ddos')]"
      ]
     },
     "execution_count": 12,
     "metadata": {},
     "output_type": "execute_result"
    }
   ],
   "source": [
    "rdd.take(5)"
   ]
  },
  {
   "cell_type": "code",
   "execution_count": 8,
   "id": "7bc3d114-d61e-485b-bc6b-116bbb68f4e0",
   "metadata": {},
   "outputs": [
    {
     "name": "stderr",
     "output_type": "stream",
     "text": [
      "                                                                                \r"
     ]
    },
    {
     "data": {
      "text/plain": [
       "12794627"
      ]
     },
     "execution_count": 8,
     "metadata": {},
     "output_type": "execute_result"
    }
   ],
   "source": [
    "# rows\n",
    "df.count()"
   ]
  },
  {
   "cell_type": "code",
   "execution_count": 9,
   "id": "2ed5d1de-479c-47d8-a7c4-129904884e98",
   "metadata": {
    "scrolled": true
   },
   "outputs": [
    {
     "data": {
      "text/plain": [
       "['_c0',\n",
       " 'Flow ID',\n",
       " 'Src IP',\n",
       " 'Src Port',\n",
       " 'Dst IP',\n",
       " 'Dst Port',\n",
       " 'Protocol',\n",
       " 'Timestamp',\n",
       " 'Flow Duration',\n",
       " 'Tot Fwd Pkts',\n",
       " 'Tot Bwd Pkts',\n",
       " 'TotLen Fwd Pkts',\n",
       " 'TotLen Bwd Pkts',\n",
       " 'Fwd Pkt Len Max',\n",
       " 'Fwd Pkt Len Min',\n",
       " 'Fwd Pkt Len Mean',\n",
       " 'Fwd Pkt Len Std',\n",
       " 'Bwd Pkt Len Max',\n",
       " 'Bwd Pkt Len Min',\n",
       " 'Bwd Pkt Len Mean',\n",
       " 'Bwd Pkt Len Std',\n",
       " 'Flow Byts/s',\n",
       " 'Flow Pkts/s',\n",
       " 'Flow IAT Mean',\n",
       " 'Flow IAT Std',\n",
       " 'Flow IAT Max',\n",
       " 'Flow IAT Min',\n",
       " 'Fwd IAT Tot',\n",
       " 'Fwd IAT Mean',\n",
       " 'Fwd IAT Std',\n",
       " 'Fwd IAT Max',\n",
       " 'Fwd IAT Min',\n",
       " 'Bwd IAT Tot',\n",
       " 'Bwd IAT Mean',\n",
       " 'Bwd IAT Std',\n",
       " 'Bwd IAT Max',\n",
       " 'Bwd IAT Min',\n",
       " 'Fwd PSH Flags',\n",
       " 'Bwd PSH Flags',\n",
       " 'Fwd URG Flags',\n",
       " 'Bwd URG Flags',\n",
       " 'Fwd Header Len',\n",
       " 'Bwd Header Len',\n",
       " 'Fwd Pkts/s',\n",
       " 'Bwd Pkts/s',\n",
       " 'Pkt Len Min',\n",
       " 'Pkt Len Max',\n",
       " 'Pkt Len Mean',\n",
       " 'Pkt Len Std',\n",
       " 'Pkt Len Var',\n",
       " 'FIN Flag Cnt',\n",
       " 'SYN Flag Cnt',\n",
       " 'RST Flag Cnt',\n",
       " 'PSH Flag Cnt',\n",
       " 'ACK Flag Cnt',\n",
       " 'URG Flag Cnt',\n",
       " 'CWE Flag Count',\n",
       " 'ECE Flag Cnt',\n",
       " 'Down/Up Ratio',\n",
       " 'Pkt Size Avg',\n",
       " 'Fwd Seg Size Avg',\n",
       " 'Bwd Seg Size Avg',\n",
       " 'Fwd Byts/b Avg',\n",
       " 'Fwd Pkts/b Avg',\n",
       " 'Fwd Blk Rate Avg',\n",
       " 'Bwd Byts/b Avg',\n",
       " 'Bwd Pkts/b Avg',\n",
       " 'Bwd Blk Rate Avg',\n",
       " 'Subflow Fwd Pkts',\n",
       " 'Subflow Fwd Byts',\n",
       " 'Subflow Bwd Pkts',\n",
       " 'Subflow Bwd Byts',\n",
       " 'Init Fwd Win Byts',\n",
       " 'Init Bwd Win Byts',\n",
       " 'Fwd Act Data Pkts',\n",
       " 'Fwd Seg Size Min',\n",
       " 'Active Mean',\n",
       " 'Active Std',\n",
       " 'Active Max',\n",
       " 'Active Min',\n",
       " 'Idle Mean',\n",
       " 'Idle Std',\n",
       " 'Idle Max',\n",
       " 'Idle Min',\n",
       " 'Label']"
      ]
     },
     "execution_count": 9,
     "metadata": {},
     "output_type": "execute_result"
    }
   ],
   "source": [
    "# cols\n",
    "df.columns"
   ]
  },
  {
   "cell_type": "code",
   "execution_count": 20,
   "id": "46610482-7607-4add-9452-aa433511a644",
   "metadata": {},
   "outputs": [
    {
     "data": {
      "text/plain": [
       "85"
      ]
     },
     "execution_count": 20,
     "metadata": {},
     "output_type": "execute_result"
    }
   ],
   "source": [
    "# cols\n",
    "len(df.columns)"
   ]
  },
  {
   "cell_type": "code",
   "execution_count": 36,
   "id": "db75f552-ad83-4bab-9191-29ea79e2d11d",
   "metadata": {
    "scrolled": true
   },
   "outputs": [
    {
     "name": "stderr",
     "output_type": "stream",
     "text": [
      "                                                                                \r"
     ]
    },
    {
     "name": "stdout",
     "output_type": "stream",
     "text": [
      "+-------+-----------------+--------+-----------+------------------+------------+------------------+-----------------+------------+--------------------+------------------+------------------+------------------+------------------+-----------------+-----------------+-----------------+------------------+-----------------+------------------+-----------------+------------------+------------+------------+------------------+------------------+--------------------+------------------+-------------------+------------------+------------------+--------------------+-----------------+-------------------+-----------------+------------------+------------------+------------------+--------------------+--------------------+--------------+----------+------------------+------------------+------------------+-----------------+-----------------+-----------------+-----------------+------------------+------------------+--------------------+------------------+-------------------+-------------------+------------------+-------------------+-------------------+-------------------+------------------+--------------+--------------+----------------+--------------+--------------+----------------+----------------+----------------+----------------+------------------+------------------+------------------+------------------+------------------+------------------+------------------+-----------------+------------------+------------------+------------------+------------------+--------------------+------------------+\n",
      "|summary|           Src IP|Src Port|     Dst IP|          Dst Port|    Protocol|     Flow Duration|     Tot Fwd Pkts|Tot Bwd Pkts|     TotLen Fwd Pkts|   TotLen Bwd Pkts|   Fwd Pkt Len Max|   Fwd Pkt Len Min|  Fwd Pkt Len Mean|  Fwd Pkt Len Std|  Bwd Pkt Len Max|  Bwd Pkt Len Min|  Bwd Pkt Len Mean|  Bwd Pkt Len Std|       Flow Byts/s|      Flow Pkts/s|     Flow IAT Mean|Flow IAT Std|Flow IAT Max|      Flow IAT Min|       Fwd IAT Tot|        Fwd IAT Mean|       Fwd IAT Std|        Fwd IAT Max|       Fwd IAT Min|       Bwd IAT Tot|        Bwd IAT Mean|      Bwd IAT Std|        Bwd IAT Max|      Bwd IAT Min|     Fwd PSH Flags|     Bwd PSH Flags|     Fwd URG Flags|       Bwd URG Flags|      Fwd Header Len|Bwd Header Len|Fwd Pkts/s|        Bwd Pkts/s|       Pkt Len Min|       Pkt Len Max|     Pkt Len Mean|      Pkt Len Std|      Pkt Len Var|     FIN Flag Cnt|      SYN Flag Cnt|      RST Flag Cnt|        PSH Flag Cnt|      ACK Flag Cnt|       URG Flag Cnt|     CWE Flag Count|      ECE Flag Cnt|      Down/Up Ratio|       Pkt Size Avg|   Fwd Seg Size Avg|  Bwd Seg Size Avg|Fwd Byts/b Avg|Fwd Pkts/b Avg|Fwd Blk Rate Avg|Bwd Byts/b Avg|Bwd Pkts/b Avg|Bwd Blk Rate Avg|Subflow Fwd Pkts|Subflow Fwd Byts|Subflow Bwd Pkts|  Subflow Bwd Byts| Init Fwd Win Byts| Init Bwd Win Byts| Fwd Act Data Pkts|  Fwd Seg Size Min|       Active Mean|        Active Std|       Active Max|        Active Min|         Idle Mean|          Idle Std|          Idle Max|            Idle Min|             Label|\n",
      "+-------+-----------------+--------+-----------+------------------+------------+------------------+-----------------+------------+--------------------+------------------+------------------+------------------+------------------+-----------------+-----------------+-----------------+------------------+-----------------+------------------+-----------------+------------------+------------+------------+------------------+------------------+--------------------+------------------+-------------------+------------------+------------------+--------------------+-----------------+-------------------+-----------------+------------------+------------------+------------------+--------------------+--------------------+--------------+----------+------------------+------------------+------------------+-----------------+-----------------+-----------------+-----------------+------------------+------------------+--------------------+------------------+-------------------+-------------------+------------------+-------------------+-------------------+-------------------+------------------+--------------+--------------+----------------+--------------+--------------+----------------+----------------+----------------+----------------+------------------+------------------+------------------+------------------+------------------+------------------+------------------+-----------------+------------------+------------------+------------------+------------------+--------------------+------------------+\n",
      "|  count|         12794627|       0|   12794627|           4044708|    12794627|          12794627|         12794627|           0|            12794627|          12794627|          12794627|          12794627|          12794627|         12794627|         12794627|         12794627|          12794627|         12794627|          12794627|         12794627|          12794627|    12764914|    12794627|          12794627|          12794627|            12794627|          12794627|           12794627|          12794627|          12794627|            12794627|         12794627|           12794627|         12794627|          12794627|          12794627|          12794627|            12794627|            12794627|      12794627|  12794627|          12794627|          12794627|          12794627|         12794627|         12794627|         12794627|         12794627|          12794627|          12794627|            12794627|          12794627|           12794627|           12794627|          12794627|           12794627|           12794627|           12794627|          12794627|             0|             0|               0|      12794627|      12794627|        12794627|        12794627|        12794627|        12794627|          12794627|          12794627|          12794627|          12794627|          12794627|          12794627|          12794627|         12794627|          12794627|          12794627|          12794627|          12794627|            12794627|          12794627|\n",
      "|   mean|2662390.441689234|    null|       null|1147.3267501634234|        null| 14642.89653078593|7.828587812681057|        null|   8219593.071093906|27.196363285932446|4.9742809227654705|1125.7262691597027|3264.9553844750612| 292.258098497127|7.095577151252631|76.22125751028365|130.79211947895223|301.0288615682192|16.946920922352795|91.89324506403791|122.43323439264955|    Infinity|    Infinity|1858786.8525441075| 954755.9584298098|   4340038.304569567|1450053.9647676325|  7144639.068958322|1909380.9893484777| 733793.8624299522|  3354991.4863203904|1461141.828434467|  5800245.065921969|840076.4338311825|1034288.2814113477|2614624.6209286135|217372.43858113253|0.028558081450909042|0.002485965397818...|           0.0|       0.0| 278.7390691420703|114.24841599524551|15820.856303468463|9268.574001347948|7.161794009313441|432.4782682605753|78.25743801780057|141.09382224807675|47930.918345033555|0.015493378587746246|0.1358005200151595|0.11096095259361606|0.20119515793621806|0.5109109472280825|0.01909653169256126|0.08459465055136035|0.19450164510462087|0.6935632433833359|          null|          null|            null|           0.0|           0.0|             0.0|             0.0|             0.0|             0.0|27.196363285932446|1125.7262691597027|4.9742809227654705|3264.9553843969034|2568.4208150812055|10191.202295854346|24.141446405588844| 8.11767377040378|136969.85428267298| 69363.46839246208|204986.80295627218| 90305.39335034933|  3119925.0473422166|109353.19762758333|\n",
      "| stddev|2169381.876693766|    null|       null| 4334.080674056136|        null|23063.826083140077|4.206167602129172|        null|2.4773266927249797E7|1720.5765273371583|250.92044176776054|54791.573410750956| 538767.7463142744|393.1045451993649|19.74605844066299|94.38474850476146| 189.0678337497973|443.1348595564243| 42.53934808760756| 141.403646078409| 181.3808947171951|         NaN|         NaN| 8888753.835212665|3430755.0510228267|1.3021731133807769E7| 8795805.544265246|2.448516345907508E7| 8982502.902769927|3547276.2686385633|1.2333053410431972E7|8819990.239374265|2.138127939470824E7|4042258.157711723| 3713834.974493264|  9532593.41438524| 3373671.496340526| 0.16656085855640484|0.049797445393055924|           0.0|       0.0|14176.071112336545|  5019.70594472617|154545.44446498214|79908.59692303385|17.62172530667011|515.7800835047614|94.38339114471269|167.40207244234207|180488.63095454764| 0.12350439263382591|0.3425766307722598|0.31408379025873534|0.40089360049821543|0.4998809565894012|0.13686436948277317| 0.2782775623399577| 0.3958165830296407|0.9748131482004536|          null|          null|            null|           0.0|           0.0|             0.0|             0.0|             0.0|             0.0|1720.5765273371583|54791.573410750956|250.92044176776054|  538767.752438264|7671.5048017570525|18969.694617317065|1711.5868778444794|9.138129070975571|  2301480.31307493|1399946.3706571632|3050190.4517125892|1934856.1578744887|1.2192610763047298E7|1414692.7876950437|\n",
      "|    min|                0|    null|1.0.132.203|                 0|  1.0.176.98|                 0|                0|        null|                -1.0|               0.0|               0.0|               0.0|               0.0|              0.0|              0.0|              0.0|               0.0|              0.0|               0.0|              0.0|               0.0|         0.0|  -2000000.0|              -1.0|               0.0|                -1.0|             -13.0|                0.0|               0.0|               0.0|                 0.0|              0.0|               -1.0|             -1.0|               0.0|              -1.0|              -1.0|                   0|                   0|             0|       0.0|               0.0|               0.0|               0.0|              0.0|              0.0|              0.0|              0.0|               0.0|               0.0|                   0|                 0|                  0|                  0|                 0|                0.0|                0.0|                0.0|               0.0|          null|          null|            null|             0|             0|               0|               0|               0|               0|                 0|                 0|                 0|                 0|                -1|              -1.0|               0.0|              0.0|               0.0|               0.0|               0.0|               0.0|                 0.0|               0.0|\n",
      "|    max|           999999|    null|99.46.42.37|             32767|99.224.25.39|             65535|               17|        null|               1.2E8|          309628.0|          291923.0|         9908096.0|       6.5545267E8|          23360.0|           1472.0|         4660.441|          7137.621|          65160.0|            3684.0|        30375.084|         22448.414|    Infinity|    Infinity|      1.19999328E8|        8.480808E7|        1.19999736E8|      1.19999328E8|              1.2E8|      1.19999328E8|       8.4852688E7|        1.19999872E8|     1.19999328E8|       1.19999912E8|     1.19963752E8| 999997.9820000001|         9999999.0|          999999.0|                   1|                   1|             0|       0.0|         4644876.0|         5838460.0|         6000000.0|        3000000.0|           1460.0|          65160.0|999.9811320754719| 999.9686361728633| 99999.25403225805|                   1|                 1|                  1|                  1|                 1|                1.0|                1.0|                1.0|             311.0|          null|          null|            null|             0|             0|               0|               0|               0|               0|            309628|           9908096|            291923|         655452688|             65535|           65535.0|          309628.0|             48.0|      1.13269144E8|       7.5232416E7|      1.13269144E8|      1.13269144E8|        1.19999736E8| 99999.31044962279|\n",
      "+-------+-----------------+--------+-----------+------------------+------------+------------------+-----------------+------------+--------------------+------------------+------------------+------------------+------------------+-----------------+-----------------+-----------------+------------------+-----------------+------------------+-----------------+------------------+------------+------------+------------------+------------------+--------------------+------------------+-------------------+------------------+------------------+--------------------+-----------------+-------------------+-----------------+------------------+------------------+------------------+--------------------+--------------------+--------------+----------+------------------+------------------+------------------+-----------------+-----------------+-----------------+-----------------+------------------+------------------+--------------------+------------------+-------------------+-------------------+------------------+-------------------+-------------------+-------------------+------------------+--------------+--------------+----------------+--------------+--------------+----------------+----------------+----------------+----------------+------------------+------------------+------------------+------------------+------------------+------------------+------------------+-----------------+------------------+------------------+------------------+------------------+--------------------+------------------+\n",
      "\n"
     ]
    }
   ],
   "source": [
    "df.describe().show()"
   ]
  },
  {
   "cell_type": "code",
   "execution_count": null,
   "id": "80103a97-1fc7-41c8-bb2a-c0b35d6f2fe4",
   "metadata": {},
   "outputs": [],
   "source": []
  },
  {
   "cell_type": "code",
   "execution_count": null,
   "id": "826b23d7-ce01-4e67-974e-6cb8c7046d59",
   "metadata": {},
   "outputs": [],
   "source": []
  },
  {
   "cell_type": "markdown",
   "id": "c1bd7454-b941-4fea-bc49-5b3a9e929004",
   "metadata": {},
   "source": [
    "## Derive a small-scale partial dataset from balanced dataset\n",
    "ddos 100000 rows\n",
    "ngign 100000 rows\n",
    "new df total 200000 rows"
   ]
  },
  {
   "cell_type": "code",
   "execution_count": null,
   "id": "e13066c6-9450-4cf7-8032-a221b966e00a",
   "metadata": {},
   "outputs": [],
   "source": []
  },
  {
   "cell_type": "code",
   "execution_count": 21,
   "id": "a7bcab90-1ee1-4513-95b3-7ee30710c023",
   "metadata": {
    "scrolled": true
   },
   "outputs": [
    {
     "name": "stdout",
     "output_type": "stream",
     "text": [
      "root\n",
      " |-- _c0: integer (nullable = true)\n",
      " |-- Flow ID: string (nullable = true)\n",
      " |-- Src IP: string (nullable = true)\n",
      " |-- Src Port: integer (nullable = true)\n",
      " |-- Dst IP: string (nullable = true)\n",
      " |-- Dst Port: integer (nullable = true)\n",
      " |-- Protocol: integer (nullable = true)\n",
      " |-- Timestamp: string (nullable = true)\n",
      " |-- Flow Duration: integer (nullable = true)\n",
      " |-- Tot Fwd Pkts: integer (nullable = true)\n",
      " |-- Tot Bwd Pkts: integer (nullable = true)\n",
      " |-- TotLen Fwd Pkts: float (nullable = true)\n",
      " |-- TotLen Bwd Pkts: float (nullable = true)\n",
      " |-- Fwd Pkt Len Max: float (nullable = true)\n",
      " |-- Fwd Pkt Len Min: float (nullable = true)\n",
      " |-- Fwd Pkt Len Mean: float (nullable = true)\n",
      " |-- Fwd Pkt Len Std: float (nullable = true)\n",
      " |-- Bwd Pkt Len Max: float (nullable = true)\n",
      " |-- Bwd Pkt Len Min: float (nullable = true)\n",
      " |-- Bwd Pkt Len Mean: float (nullable = true)\n",
      " |-- Bwd Pkt Len Std: float (nullable = true)\n",
      " |-- Flow Byts/s: float (nullable = true)\n",
      " |-- Flow Pkts/s: float (nullable = true)\n",
      " |-- Flow IAT Mean: float (nullable = true)\n",
      " |-- Flow IAT Std: float (nullable = true)\n",
      " |-- Flow IAT Max: float (nullable = true)\n",
      " |-- Flow IAT Min: float (nullable = true)\n",
      " |-- Fwd IAT Tot: float (nullable = true)\n",
      " |-- Fwd IAT Mean: float (nullable = true)\n",
      " |-- Fwd IAT Std: float (nullable = true)\n",
      " |-- Fwd IAT Max: float (nullable = true)\n",
      " |-- Fwd IAT Min: float (nullable = true)\n",
      " |-- Bwd IAT Tot: float (nullable = true)\n",
      " |-- Bwd IAT Mean: float (nullable = true)\n",
      " |-- Bwd IAT Std: float (nullable = true)\n",
      " |-- Bwd IAT Max: float (nullable = true)\n",
      " |-- Bwd IAT Min: float (nullable = true)\n",
      " |-- Fwd PSH Flags: integer (nullable = true)\n",
      " |-- Bwd PSH Flags: integer (nullable = true)\n",
      " |-- Fwd URG Flags: integer (nullable = true)\n",
      " |-- Bwd URG Flags: integer (nullable = true)\n",
      " |-- Fwd Header Len: integer (nullable = true)\n",
      " |-- Bwd Header Len: integer (nullable = true)\n",
      " |-- Fwd Pkts/s: float (nullable = true)\n",
      " |-- Bwd Pkts/s: float (nullable = true)\n",
      " |-- Pkt Len Min: float (nullable = true)\n",
      " |-- Pkt Len Max: float (nullable = true)\n",
      " |-- Pkt Len Mean: float (nullable = true)\n",
      " |-- Pkt Len Std: float (nullable = true)\n",
      " |-- Pkt Len Var: float (nullable = true)\n",
      " |-- FIN Flag Cnt: integer (nullable = true)\n",
      " |-- SYN Flag Cnt: integer (nullable = true)\n",
      " |-- RST Flag Cnt: integer (nullable = true)\n",
      " |-- PSH Flag Cnt: integer (nullable = true)\n",
      " |-- ACK Flag Cnt: integer (nullable = true)\n",
      " |-- URG Flag Cnt: integer (nullable = true)\n",
      " |-- CWE Flag Count: integer (nullable = true)\n",
      " |-- ECE Flag Cnt: integer (nullable = true)\n",
      " |-- Down/Up Ratio: float (nullable = true)\n",
      " |-- Pkt Size Avg: float (nullable = true)\n",
      " |-- Fwd Seg Size Avg: float (nullable = true)\n",
      " |-- Bwd Seg Size Avg: float (nullable = true)\n",
      " |-- Fwd Byts/b Avg: integer (nullable = true)\n",
      " |-- Fwd Pkts/b Avg: integer (nullable = true)\n",
      " |-- Fwd Blk Rate Avg: integer (nullable = true)\n",
      " |-- Bwd Byts/b Avg: integer (nullable = true)\n",
      " |-- Bwd Pkts/b Avg: integer (nullable = true)\n",
      " |-- Bwd Blk Rate Avg: integer (nullable = true)\n",
      " |-- Subflow Fwd Pkts: integer (nullable = true)\n",
      " |-- Subflow Fwd Byts: integer (nullable = true)\n",
      " |-- Subflow Bwd Pkts: integer (nullable = true)\n",
      " |-- Subflow Bwd Byts: integer (nullable = true)\n",
      " |-- Init Fwd Win Byts: integer (nullable = true)\n",
      " |-- Init Bwd Win Byts: integer (nullable = true)\n",
      " |-- Fwd Act Data Pkts: integer (nullable = true)\n",
      " |-- Fwd Seg Size Min: integer (nullable = true)\n",
      " |-- Active Mean: float (nullable = true)\n",
      " |-- Active Std: float (nullable = true)\n",
      " |-- Active Max: float (nullable = true)\n",
      " |-- Active Min: float (nullable = true)\n",
      " |-- Idle Mean: float (nullable = true)\n",
      " |-- Idle Std: float (nullable = true)\n",
      " |-- Idle Max: float (nullable = true)\n",
      " |-- Idle Min: float (nullable = true)\n",
      " |-- Label: string (nullable = true)\n",
      "\n"
     ]
    },
    {
     "name": "stderr",
     "output_type": "stream",
     "text": [
      "                                                                                \r"
     ]
    },
    {
     "name": "stdout",
     "output_type": "stream",
     "text": [
      "+-------+--------------------+--------------+--------+---------------+--------+--------+--------------------+-------------+------------+------------+---------------+---------------+---------------+---------------+----------------+---------------+---------------+---------------+----------------+---------------+-----------+-----------+-------------+------------+------------+------------+-----------+------------+-----------+-----------+-----------+-----------+------------+-----------+-----------+-----------+-------------+-------------+-------------+-------------+--------------+--------------+----------+----------+-----------+-----------+------------+-----------+-----------+------------+------------+------------+------------+------------+------------+--------------+------------+-------------+------------+----------------+----------------+--------------+--------------+----------------+--------------+--------------+----------------+----------------+----------------+----------------+----------------+-----------------+-----------------+-----------------+----------------+-----------+----------+----------+----------+---------+---------+---------+---------+------+\n",
      "|    _c0|             Flow ID|        Src IP|Src Port|         Dst IP|Dst Port|Protocol|           Timestamp|Flow Duration|Tot Fwd Pkts|Tot Bwd Pkts|TotLen Fwd Pkts|TotLen Bwd Pkts|Fwd Pkt Len Max|Fwd Pkt Len Min|Fwd Pkt Len Mean|Fwd Pkt Len Std|Bwd Pkt Len Max|Bwd Pkt Len Min|Bwd Pkt Len Mean|Bwd Pkt Len Std|Flow Byts/s|Flow Pkts/s|Flow IAT Mean|Flow IAT Std|Flow IAT Max|Flow IAT Min|Fwd IAT Tot|Fwd IAT Mean|Fwd IAT Std|Fwd IAT Max|Fwd IAT Min|Bwd IAT Tot|Bwd IAT Mean|Bwd IAT Std|Bwd IAT Max|Bwd IAT Min|Fwd PSH Flags|Bwd PSH Flags|Fwd URG Flags|Bwd URG Flags|Fwd Header Len|Bwd Header Len|Fwd Pkts/s|Bwd Pkts/s|Pkt Len Min|Pkt Len Max|Pkt Len Mean|Pkt Len Std|Pkt Len Var|FIN Flag Cnt|SYN Flag Cnt|RST Flag Cnt|PSH Flag Cnt|ACK Flag Cnt|URG Flag Cnt|CWE Flag Count|ECE Flag Cnt|Down/Up Ratio|Pkt Size Avg|Fwd Seg Size Avg|Bwd Seg Size Avg|Fwd Byts/b Avg|Fwd Pkts/b Avg|Fwd Blk Rate Avg|Bwd Byts/b Avg|Bwd Pkts/b Avg|Bwd Blk Rate Avg|Subflow Fwd Pkts|Subflow Fwd Byts|Subflow Bwd Pkts|Subflow Bwd Byts|Init Fwd Win Byts|Init Bwd Win Byts|Fwd Act Data Pkts|Fwd Seg Size Min|Active Mean|Active Std|Active Max|Active Min|Idle Mean| Idle Std| Idle Max| Idle Min| Label|\n",
      "+-------+--------------------+--------------+--------+---------------+--------+--------+--------------------+-------------+------------+------------+---------------+---------------+---------------+---------------+----------------+---------------+---------------+---------------+----------------+---------------+-----------+-----------+-------------+------------+------------+------------+-----------+------------+-----------+-----------+-----------+-----------+------------+-----------+-----------+-----------+-------------+-------------+-------------+-------------+--------------+--------------+----------+----------+-----------+-----------+------------+-----------+-----------+------------+------------+------------+------------+------------+------------+--------------+------------+-------------+------------+----------------+----------------+--------------+--------------+----------------+--------------+--------------+----------------+----------------+----------------+----------------+----------------+-----------------+-----------------+-----------------+----------------+-----------+----------+----------+----------+---------+---------+---------+---------+------+\n",
      "| 523035|172.31.69.28-18.2...|  18.218.11.51|   55137|   172.31.69.28|      80|       6|21/02/2018 11:56:...|         2446|           1|           1|            0.0|            0.0|            0.0|            0.0|             0.0|            0.0|            0.0|            0.0|             0.0|            0.0|        0.0|   817.6615|       2446.0|         0.0|      2446.0|      2446.0|        0.0|         0.0|        0.0|        0.0|        0.0|        0.0|         0.0|        0.0|        0.0|        0.0|            0|            0|            0|            0|            20|            20| 408.83075| 408.83075|        0.0|        0.0|         0.0|        0.0|        0.0|           0|           0|           0|           0|           1|           0|             0|           0|          1.0|         0.0|             0.0|             0.0|             0|             0|               0|             0|             0|               0|               1|               0|               1|               0|               -1|            32738|                0|               0|        0.0|       0.0|       0.0|       0.0|      0.0|      0.0|      0.0|      0.0|  ddos|\n",
      "| 520897|172.31.69.28-52.1...| 52.14.136.135|   57606|   172.31.69.28|      80|       6|21/02/2018 11:56:...|        17050|           1|           1|            0.0|            0.0|            0.0|            0.0|             0.0|            0.0|            0.0|            0.0|             0.0|            0.0|        0.0| 117.302055|      17050.0|         0.0|     17050.0|     17050.0|        0.0|         0.0|        0.0|        0.0|        0.0|        0.0|         0.0|        0.0|        0.0|        0.0|            0|            0|            0|            0|            20|            20| 58.651028| 58.651028|        0.0|        0.0|         0.0|        0.0|        0.0|           0|           0|           0|           0|           1|           0|             0|           0|          1.0|         0.0|             0.0|             0.0|             0|             0|               0|             0|             0|               0|               1|               0|               1|               0|               -1|            32738|                0|               0|        0.0|       0.0|       0.0|       0.0|      0.0|      0.0|      0.0|      0.0|  ddos|\n",
      "|7519879|169.254.169.254-1...|  172.31.65.46|   49630|169.254.169.254|      80|       6| 20/02/2018 11:38:27|      5867346|           4|           4|           97.0|          231.0|           97.0|            0.0|           24.25|           48.5|          231.0|            0.0|           57.75|          115.5|   55.90262|  1.3634784|     838192.3|   2210930.2|   5852096.0|        12.0|    15250.0|   5083.3335|   8594.404|    15007.0|       55.0|  5867170.0|   1955723.4|  3386867.5|  5866541.0|      249.0|            0|            0|            0|            0|            92|            92| 0.6817392| 0.6817392|        0.0|      231.0|   36.444443|   79.69961|   6352.028|           0|           0|           1|           1|           0|           0|             0|           1|          1.0|        41.0|           24.25|           57.75|             0|             0|               0|             0|             0|               0|               4|              97|               4|             231|             8192|              141|                1|              20|        0.0|       0.0|       0.0|       0.0|      0.0|      0.0|      0.0|      0.0|Benign|\n",
      "|4900898|172.31.67.57-68.6...|  172.31.67.57|   51679|  68.67.178.199|     443|       6| 20/02/2018 11:01:28|     18947051|          16|          23|         8463.0|        16837.0|         1403.0|            0.0|        528.9375|      643.40674|         1460.0|            0.0|       732.04346|      663.00964|  1335.3002|  2.0583677|     498606.6|   2008074.8|   9945221.0|         0.0|  9001830.0|    600122.0|  1970427.1|  7706896.0|      244.0| 1.893066E7|   860484.56|  2616008.5|  9999081.0|        0.0|            0|            0|            0|            0|           332|           464| 0.8444586| 1.2139093|        0.0|     1460.0|       632.5|  653.98083|  427690.94|           0|           0|           1|           1|           0|           0|             0|           1|          1.0|   648.71796|        528.9375|       732.04346|             0|             0|               0|             0|             0|               0|              16|            8463|              23|           16837|             8192|            46299|                8|              20|   647467.0| 815643.44| 1224214.0|   70720.0|8826058.0|1582734.8|9945221.0|7706896.0|Benign|\n",
      "| 465153|172.31.69.28-18.2...|18.216.200.189|   49348|   172.31.69.28|      80|       6|21/02/2018 11:53:...|         2140|           1|           1|            0.0|            0.0|            0.0|            0.0|             0.0|            0.0|            0.0|            0.0|             0.0|            0.0|        0.0|  934.57947|       2140.0|         0.0|      2140.0|      2140.0|        0.0|         0.0|        0.0|        0.0|        0.0|        0.0|         0.0|        0.0|        0.0|        0.0|            0|            0|            0|            0|            20|            20| 467.28973| 467.28973|        0.0|        0.0|         0.0|        0.0|        0.0|           0|           0|           0|           0|           1|           0|             0|           0|          1.0|         0.0|             0.0|             0.0|             0|             0|               0|             0|             0|               0|               1|               0|               1|               0|               -1|            32738|                0|               0|        0.0|       0.0|       0.0|       0.0|      0.0|      0.0|      0.0|      0.0|  ddos|\n",
      "+-------+--------------------+--------------+--------+---------------+--------+--------+--------------------+-------------+------------+------------+---------------+---------------+---------------+---------------+----------------+---------------+---------------+---------------+----------------+---------------+-----------+-----------+-------------+------------+------------+------------+-----------+------------+-----------+-----------+-----------+-----------+------------+-----------+-----------+-----------+-------------+-------------+-------------+-------------+--------------+--------------+----------+----------+-----------+-----------+------------+-----------+-----------+------------+------------+------------+------------+------------+------------+--------------+------------+-------------+------------+----------------+----------------+--------------+--------------+----------------+--------------+--------------+----------------+----------------+----------------+----------------+----------------+-----------------+-----------------+-----------------+----------------+-----------+----------+----------+----------+---------+---------+---------+---------+------+\n",
      "only showing top 5 rows\n",
      "\n"
     ]
    }
   ],
   "source": [
    "# Filter out DDOS data\n",
    "ddos_data = df.filter(df['Label'] == 'ddos').limit(100000)\n",
    "\n",
    "# Filter out benign data\n",
    "benign_data = df.filter(df['Label'] == 'Benign').limit(100000)\n",
    "\n",
    "# Combine the two datasets\n",
    "new_df = ddos_data.union(benign_data)\n",
    "\n",
    "# Shuffle the combined dataset\n",
    "new_df = new_df.orderBy(rand())\n",
    "\n",
    "# Cache the new dataset for better performance\n",
    "new_df.cache()\n",
    "\n",
    "# Show the schema of the new dataset\n",
    "new_df.printSchema()\n",
    "\n",
    "# Show the first few rows of the new dataset\n",
    "new_df.show(5)"
   ]
  },
  {
   "cell_type": "code",
   "execution_count": 33,
   "id": "360de2a9-ab3f-449a-9c50-25abfa9f1f7b",
   "metadata": {
    "scrolled": true
   },
   "outputs": [
    {
     "name": "stderr",
     "output_type": "stream",
     "text": [
      "[Stage 39:======================================================> (50 + 1) / 51]\r"
     ]
    },
    {
     "name": "stdout",
     "output_type": "stream",
     "text": [
      "+------+--------------------+-------------+--------+------------+--------+--------+--------------------+-------------+------------+------------+---------------+---------------+---------------+---------------+----------------+---------------+---------------+---------------+----------------+---------------+-----------+-----------+-------------+------------+------------+------------+-----------+------------+-----------+-----------+-----------+-----------+------------+-----------+-----------+-----------+-------------+-------------+-------------+-------------+--------------+--------------+----------+----------+-----------+-----------+------------+-----------+-----------+------------+------------+------------+------------+------------+------------+--------------+------------+-------------+------------+----------------+----------------+--------------+--------------+----------------+--------------+--------------+----------------+----------------+----------------+----------------+----------------+-----------------+-----------------+-----------------+----------------+-----------+----------+----------+----------+---------+--------+--------+--------+-----+\n",
      "|   _c0|             Flow ID|       Src IP|Src Port|      Dst IP|Dst Port|Protocol|           Timestamp|Flow Duration|Tot Fwd Pkts|Tot Bwd Pkts|TotLen Fwd Pkts|TotLen Bwd Pkts|Fwd Pkt Len Max|Fwd Pkt Len Min|Fwd Pkt Len Mean|Fwd Pkt Len Std|Bwd Pkt Len Max|Bwd Pkt Len Min|Bwd Pkt Len Mean|Bwd Pkt Len Std|Flow Byts/s|Flow Pkts/s|Flow IAT Mean|Flow IAT Std|Flow IAT Max|Flow IAT Min|Fwd IAT Tot|Fwd IAT Mean|Fwd IAT Std|Fwd IAT Max|Fwd IAT Min|Bwd IAT Tot|Bwd IAT Mean|Bwd IAT Std|Bwd IAT Max|Bwd IAT Min|Fwd PSH Flags|Bwd PSH Flags|Fwd URG Flags|Bwd URG Flags|Fwd Header Len|Bwd Header Len|Fwd Pkts/s|Bwd Pkts/s|Pkt Len Min|Pkt Len Max|Pkt Len Mean|Pkt Len Std|Pkt Len Var|FIN Flag Cnt|SYN Flag Cnt|RST Flag Cnt|PSH Flag Cnt|ACK Flag Cnt|URG Flag Cnt|CWE Flag Count|ECE Flag Cnt|Down/Up Ratio|Pkt Size Avg|Fwd Seg Size Avg|Bwd Seg Size Avg|Fwd Byts/b Avg|Fwd Pkts/b Avg|Fwd Blk Rate Avg|Bwd Byts/b Avg|Bwd Pkts/b Avg|Bwd Blk Rate Avg|Subflow Fwd Pkts|Subflow Fwd Byts|Subflow Bwd Pkts|Subflow Bwd Byts|Init Fwd Win Byts|Init Bwd Win Byts|Fwd Act Data Pkts|Fwd Seg Size Min|Active Mean|Active Std|Active Max|Active Min|Idle Mean|Idle Std|Idle Max|Idle Min|Label|\n",
      "+------+--------------------+-------------+--------+------------+--------+--------+--------------------+-------------+------------+------------+---------------+---------------+---------------+---------------+----------------+---------------+---------------+---------------+----------------+---------------+-----------+-----------+-------------+------------+------------+------------+-----------+------------+-----------+-----------+-----------+-----------+------------+-----------+-----------+-----------+-------------+-------------+-------------+-------------+--------------+--------------+----------+----------+-----------+-----------+------------+-----------+-----------+------------+------------+------------+------------+------------+------------+--------------+------------+-------------+------------+----------------+----------------+--------------+--------------+----------------+--------------+--------------+----------------+----------------+----------------+----------------+----------------+-----------------+-----------------+-----------------+----------------+-----------+----------+----------+----------+---------+--------+--------+--------+-----+\n",
      "|149343|172.31.69.28-18.2...|18.218.55.126|   61901|172.31.69.28|      80|       6|21/02/2018 11:44:...|         9779|           1|           1|            0.0|            0.0|            0.0|            0.0|             0.0|            0.0|            0.0|            0.0|             0.0|            0.0|        0.0|  204.51988|       9779.0|         0.0|      9779.0|      9779.0|        0.0|         0.0|        0.0|        0.0|        0.0|        0.0|         0.0|        0.0|        0.0|        0.0|            0|            0|            0|            0|            20|            20| 102.25994| 102.25994|        0.0|        0.0|         0.0|        0.0|        0.0|           0|           0|           0|           0|           1|           0|             0|           0|          1.0|         0.0|             0.0|             0.0|             0|             0|               0|             0|             0|               0|               1|               0|               1|               0|               -1|            32738|                0|               0|        0.0|       0.0|       0.0|       0.0|      0.0|     0.0|     0.0|     0.0| ddos|\n",
      "|149344|172.31.69.28-18.2...| 18.216.24.42|   59636|172.31.69.28|      80|       6|21/02/2018 11:44:...|         6294|           2|           5|          311.0|          935.0|          311.0|            0.0|           155.5|       219.9102|          935.0|            0.0|           187.0|       418.1447|  197966.31|  1112.1703|       1049.0|    2222.405|      5574.0|         4.0|     5574.0|      5574.0|        0.0|     5574.0|     5574.0|     6294.0|      1573.5|  2912.6953|     5937.0|        4.0|            0|            0|            0|            0|            40|           124| 317.76294| 794.40735|        0.0|      935.0|      155.75|   333.1412|  110983.07|           0|           1|           0|           0|           0|           0|             1|           1|          2.0|       178.0|           155.5|           187.0|             0|             0|               0|             0|             0|               0|               2|             311|               5|             935|               -1|              219|                1|               0|        0.0|       0.0|       0.0|       0.0|      0.0|     0.0|     0.0|     0.0| ddos|\n",
      "|149345|172.31.69.28-18.2...| 18.216.24.42|   59637|172.31.69.28|      80|       6|21/02/2018 11:44:...|         4020|           2|           5|          311.0|          935.0|          311.0|            0.0|           155.5|       219.9102|          935.0|            0.0|           187.0|       418.1447|  309950.25|  1741.2936|        670.0|   1195.8291|      3067.0|         5.0|     3067.0|      3067.0|        0.0|     3067.0|     3067.0|     4020.0|      1005.0|  1651.3645|     3454.0|        6.0|            0|            0|            0|            0|            40|           124| 497.51245| 1243.7811|        0.0|      935.0|      155.75|   333.1412|  110983.07|           0|           1|           0|           0|           0|           0|             1|           1|          2.0|       178.0|           155.5|           187.0|             0|             0|               0|             0|             0|               0|               2|             311|               5|             935|               -1|              219|                1|               0|        0.0|       0.0|       0.0|       0.0|      0.0|     0.0|     0.0|     0.0| ddos|\n",
      "|149346|172.31.69.28-18.2...| 18.216.24.42|   59635|172.31.69.28|      80|       6|21/02/2018 11:44:...|         9173|           2|           5|          311.0|          935.0|          311.0|            0.0|           155.5|       219.9102|          935.0|            0.0|           187.0|       418.1447|  135833.42|  763.10913|    1528.8334|   3230.7002|      8097.0|         3.0|     8097.0|      8097.0|        0.0|     8097.0|     8097.0|     9173.0|     2293.25|  4083.9158|     8397.0|        6.0|            0|            0|            0|            0|            40|           124| 218.03117| 545.07794|        0.0|      935.0|      155.75|   333.1412|  110983.07|           0|           1|           0|           0|           0|           0|             1|           1|          2.0|       178.0|           155.5|           187.0|             0|             0|               0|             0|             0|               0|               2|             311|               5|             935|               -1|              219|                1|               0|        0.0|       0.0|       0.0|       0.0|      0.0|     0.0|     0.0|     0.0| ddos|\n",
      "|149347|172.31.69.28-18.2...|18.218.55.126|   61905|172.31.69.28|      80|       6|21/02/2018 11:44:...|        14491|           1|           1|            0.0|            0.0|            0.0|            0.0|             0.0|            0.0|            0.0|            0.0|             0.0|            0.0|        0.0|   138.0167|      14491.0|         0.0|     14491.0|     14491.0|        0.0|         0.0|        0.0|        0.0|        0.0|        0.0|         0.0|        0.0|        0.0|        0.0|            0|            0|            0|            0|            20|            20|  69.00835|  69.00835|        0.0|        0.0|         0.0|        0.0|        0.0|           0|           0|           0|           0|           1|           0|             0|           0|          1.0|         0.0|             0.0|             0.0|             0|             0|               0|             0|             0|               0|               1|               0|               1|               0|               -1|            32738|                0|               0|        0.0|       0.0|       0.0|       0.0|      0.0|     0.0|     0.0|     0.0| ddos|\n",
      "+------+--------------------+-------------+--------+------------+--------+--------+--------------------+-------------+------------+------------+---------------+---------------+---------------+---------------+----------------+---------------+---------------+---------------+----------------+---------------+-----------+-----------+-------------+------------+------------+------------+-----------+------------+-----------+-----------+-----------+-----------+------------+-----------+-----------+-----------+-------------+-------------+-------------+-------------+--------------+--------------+----------+----------+-----------+-----------+------------+-----------+-----------+------------+------------+------------+------------+------------+------------+--------------+------------+-------------+------------+----------------+----------------+--------------+--------------+----------------+--------------+--------------+----------------+----------------+----------------+----------------+----------------+-----------------+-----------------+-----------------+----------------+-----------+----------+----------+----------+---------+--------+--------+--------+-----+\n",
      "only showing top 5 rows\n",
      "\n"
     ]
    },
    {
     "name": "stderr",
     "output_type": "stream",
     "text": [
      "                                                                                \r"
     ]
    }
   ],
   "source": [
    "ddos_data.show(5)"
   ]
  },
  {
   "cell_type": "code",
   "execution_count": 40,
   "id": "707ad8fe-2cc8-476b-b4ac-ab4666ef4881",
   "metadata": {
    "scrolled": true
   },
   "outputs": [
    {
     "name": "stderr",
     "output_type": "stream",
     "text": [
      "[Stage 66:======================================================> (50 + 1) / 51]\r"
     ]
    },
    {
     "name": "stdout",
     "output_type": "stream",
     "text": [
      "+-------+--------------------+-------------+--------+-------------+--------+--------+--------------------+-------------+------------+------------+---------------+---------------+---------------+---------------+----------------+---------------+---------------+---------------+----------------+---------------+-----------+-----------+-------------+------------+------------+------------+------------+------------+-----------+-----------+-----------+------------+------------+-----------+-----------+-----------+-------------+-------------+-------------+-------------+--------------+--------------+----------+----------+-----------+-----------+------------+-----------+-----------+------------+------------+------------+------------+------------+------------+--------------+------------+-------------+------------+----------------+----------------+--------------+--------------+----------------+--------------+--------------+----------------+----------------+----------------+----------------+----------------+-----------------+-----------------+-----------------+----------------+-----------+----------+----------+----------+-----------+---------+-----------+-----------+------+\n",
      "|    _c0|             Flow ID|       Src IP|Src Port|       Dst IP|Dst Port|Protocol|           Timestamp|Flow Duration|Tot Fwd Pkts|Tot Bwd Pkts|TotLen Fwd Pkts|TotLen Bwd Pkts|Fwd Pkt Len Max|Fwd Pkt Len Min|Fwd Pkt Len Mean|Fwd Pkt Len Std|Bwd Pkt Len Max|Bwd Pkt Len Min|Bwd Pkt Len Mean|Bwd Pkt Len Std|Flow Byts/s|Flow Pkts/s|Flow IAT Mean|Flow IAT Std|Flow IAT Max|Flow IAT Min| Fwd IAT Tot|Fwd IAT Mean|Fwd IAT Std|Fwd IAT Max|Fwd IAT Min| Bwd IAT Tot|Bwd IAT Mean|Bwd IAT Std|Bwd IAT Max|Bwd IAT Min|Fwd PSH Flags|Bwd PSH Flags|Fwd URG Flags|Bwd URG Flags|Fwd Header Len|Bwd Header Len|Fwd Pkts/s|Bwd Pkts/s|Pkt Len Min|Pkt Len Max|Pkt Len Mean|Pkt Len Std|Pkt Len Var|FIN Flag Cnt|SYN Flag Cnt|RST Flag Cnt|PSH Flag Cnt|ACK Flag Cnt|URG Flag Cnt|CWE Flag Count|ECE Flag Cnt|Down/Up Ratio|Pkt Size Avg|Fwd Seg Size Avg|Bwd Seg Size Avg|Fwd Byts/b Avg|Fwd Pkts/b Avg|Fwd Blk Rate Avg|Bwd Byts/b Avg|Bwd Pkts/b Avg|Bwd Blk Rate Avg|Subflow Fwd Pkts|Subflow Fwd Byts|Subflow Bwd Pkts|Subflow Bwd Byts|Init Fwd Win Byts|Init Bwd Win Byts|Fwd Act Data Pkts|Fwd Seg Size Min|Active Mean|Active Std|Active Max|Active Min|  Idle Mean| Idle Std|   Idle Max|   Idle Min| Label|\n",
      "+-------+--------------------+-------------+--------+-------------+--------+--------+--------------------+-------------+------------+------------+---------------+---------------+---------------+---------------+----------------+---------------+---------------+---------------+----------------+---------------+-----------+-----------+-------------+------------+------------+------------+------------+------------+-----------+-----------+-----------+------------+------------+-----------+-----------+-----------+-------------+-------------+-------------+-------------+--------------+--------------+----------+----------+-----------+-----------+------------+-----------+-----------+------------+------------+------------+------------+------------+------------+--------------+------------+-------------+------------+----------------+----------------+--------------+--------------+----------------+--------------+--------------+----------------+----------------+----------------+----------------+----------------+-----------------+-----------------+-----------------+----------------+-----------+----------+----------+----------+-----------+---------+-----------+-----------+------+\n",
      "|1445871|172.31.0.2-172.31...| 172.31.66.76|   55330|   172.31.0.2|      53|      17| 20/02/2018 10:36:27|        22123|           2|           2|           72.0|          194.0|           36.0|           36.0|            36.0|            0.0|           97.0|           97.0|            97.0|            0.0|  12023.686|  180.80731|    7374.3335|   11315.938|     20432.0|       429.0|     21694.0|     21694.0|        0.0|    21694.0|    21694.0|     20861.0|     20861.0|        0.0|    20861.0|    20861.0|            0|            0|            0|            0|            16|            16| 90.403656| 90.403656|       36.0|       97.0|        60.4|  33.411076|     1116.3|           0|           0|           0|           0|           0|           0|             0|           0|          1.0|        75.5|            36.0|            97.0|             0|             0|               0|             0|             0|               0|               2|              72|               2|             194|               -1|               -1|                1|               8|        0.0|       0.0|       0.0|       0.0|        0.0|      0.0|        0.0|        0.0|Benign|\n",
      "| 283411|172.217.9.228-192...|192.168.10.15|   53799|172.217.9.228|     443|       6|04/07/2017 12:15:...|      3095495|           4|           2|           77.0|           92.0|           46.0|            0.0|           19.25|      23.056091|           46.0|           46.0|            46.0|            0.0|   54.59547|  1.9383006|     619099.0|   1322575.2|   2984691.0|         3.0|   3001930.0|   1000643.3|  1718257.2|  2984691.0|        3.0|     37178.0|     37178.0|        0.0|    37178.0|    37178.0|            0|            1|            0|            0|            80|            40| 1.2922004| 0.6461002|        0.0|       46.0|   30.714285|  21.684975|   470.2381|           0|           0|           0|           1|           1|           0|             0|           0|          0.0|   35.833332|           19.25|            46.0|             0|             0|               0|             0|             0|               0|               4|              77|               2|              92|               -1|              360|                2|               0|        0.0|       0.0|       0.0|       0.0|        0.0|      0.0|        0.0|        0.0|Benign|\n",
      "|6626404|129.158.72.21-172...|129.158.72.21|   56889|172.31.66.121|    3389|       6| 20/02/2018 08:55:58|      1127340|           8|           7|         1052.0|         1429.0|          581.0|            0.0|           131.5|       196.3721|         1149.0|            0.0|       204.14285|      420.49908|  2200.7559|  13.305657|     80524.29|   255987.19|    968741.0|         3.0|   1127340.0|   161048.58|   381944.9|  1026973.0|        3.0|   1114653.0|    185775.5|   384101.9|   968741.0|    13853.0|            0|            0|            0|            0|           172|           152| 7.0963507| 6.2093067|        0.0|     1149.0|    155.0625|    302.897|   91746.59|           0|           0|           1|           1|           0|           0|             0|           1|          0.0|       165.4|           131.5|       204.14285|             0|             0|               0|             0|             0|               0|               8|            1052|               7|            1429|             8192|            62948|                5|              20|        0.0|       0.0|       0.0|       0.0|        0.0|      0.0|        0.0|        0.0|Benign|\n",
      "|6314547|172.31.65.117-23....|172.31.65.117|   51263| 23.218.55.94|     443|       6| 20/02/2018 11:53:46|    105120546|          16|          24|         1789.0|         3492.0|          270.0|            0.0|        111.8125|      116.18676|         1053.0|            0.0|           145.5|      235.55577|  50.237564| 0.38051552|    2695398.5|   5764629.0| 1.4914967E7|         1.0|1.05120544E8|   7008036.5|  7603898.5|1.4914967E7|   126951.0|1.05099616E8|   4569548.5|  6974719.5|1.4936234E7|        1.0|            1|            0|            0|            0|           320|           480|0.15220621|0.22830932|        0.0|     1053.0|   134.09756|  193.43085|  37415.492|           0|           1|           0|           0|           1|           0|             0|           0|          1.0|      137.45|        111.8125|           145.5|             0|             0|               0|             0|             0|               0|              16|            1789|              24|            3492|              254|             2105|                7|              20|  137708.72| 11188.587|  158091.0|  126951.0|1.4861276E7|31810.084|1.4914967E7|1.4824695E7|Benign|\n",
      "|7887478|172.31.67.95-94.2...|94.25.169.113|   35818| 172.31.67.95|     445|       6| 20/02/2018 10:06:32|      1088596|           6|           6|          389.0|          209.0|          103.0|            0.0|       64.833336|       50.53085|          131.0|            0.0|       34.833332|      50.838634|   549.3314|  11.023374|     98963.27|   155094.19|    495922.0|         3.0|   1088531.0|    217706.2|  178285.36|   496014.0|        3.0|   1088550.0|    217710.0|   166943.8|   495963.0|    43404.0|            0|            0|            0|            0|           132|           144|  5.511687|  5.511687|        0.0|      131.0|        46.0|   50.56514|  2556.8333|           0|           0|           0|           1|           0|           0|             0|           0|          1.0|   49.833332|       64.833336|       34.833332|             0|             0|               0|             0|             0|               0|               6|             389|               6|             209|             8192|                0|                4|              20|        0.0|       0.0|       0.0|       0.0|        0.0|      0.0|        0.0|        0.0|Benign|\n",
      "+-------+--------------------+-------------+--------+-------------+--------+--------+--------------------+-------------+------------+------------+---------------+---------------+---------------+---------------+----------------+---------------+---------------+---------------+----------------+---------------+-----------+-----------+-------------+------------+------------+------------+------------+------------+-----------+-----------+-----------+------------+------------+-----------+-----------+-----------+-------------+-------------+-------------+-------------+--------------+--------------+----------+----------+-----------+-----------+------------+-----------+-----------+------------+------------+------------+------------+------------+------------+--------------+------------+-------------+------------+----------------+----------------+--------------+--------------+----------------+--------------+--------------+----------------+----------------+----------------+----------------+----------------+-----------------+-----------------+-----------------+----------------+-----------+----------+----------+----------+-----------+---------+-----------+-----------+------+\n",
      "only showing top 5 rows\n",
      "\n"
     ]
    },
    {
     "name": "stderr",
     "output_type": "stream",
     "text": [
      "                                                                                \r"
     ]
    }
   ],
   "source": [
    "benign_data.show(5)\n"
   ]
  },
  {
   "cell_type": "code",
   "execution_count": 22,
   "id": "effc452a-277b-4d56-b857-fed49cb8d828",
   "metadata": {},
   "outputs": [
    {
     "name": "stderr",
     "output_type": "stream",
     "text": [
      "                                                                                \r"
     ]
    },
    {
     "data": {
      "text/plain": [
       "100000"
      ]
     },
     "execution_count": 22,
     "metadata": {},
     "output_type": "execute_result"
    }
   ],
   "source": [
    "ddos_data.count()"
   ]
  },
  {
   "cell_type": "code",
   "execution_count": 23,
   "id": "6410218e-e0d6-40e0-8bb6-c6da973f9d91",
   "metadata": {
    "scrolled": true
   },
   "outputs": [
    {
     "data": {
      "text/plain": [
       "['_c0',\n",
       " 'Flow ID',\n",
       " 'Src IP',\n",
       " 'Src Port',\n",
       " 'Dst IP',\n",
       " 'Dst Port',\n",
       " 'Protocol',\n",
       " 'Timestamp',\n",
       " 'Flow Duration',\n",
       " 'Tot Fwd Pkts',\n",
       " 'Tot Bwd Pkts',\n",
       " 'TotLen Fwd Pkts',\n",
       " 'TotLen Bwd Pkts',\n",
       " 'Fwd Pkt Len Max',\n",
       " 'Fwd Pkt Len Min',\n",
       " 'Fwd Pkt Len Mean',\n",
       " 'Fwd Pkt Len Std',\n",
       " 'Bwd Pkt Len Max',\n",
       " 'Bwd Pkt Len Min',\n",
       " 'Bwd Pkt Len Mean',\n",
       " 'Bwd Pkt Len Std',\n",
       " 'Flow Byts/s',\n",
       " 'Flow Pkts/s',\n",
       " 'Flow IAT Mean',\n",
       " 'Flow IAT Std',\n",
       " 'Flow IAT Max',\n",
       " 'Flow IAT Min',\n",
       " 'Fwd IAT Tot',\n",
       " 'Fwd IAT Mean',\n",
       " 'Fwd IAT Std',\n",
       " 'Fwd IAT Max',\n",
       " 'Fwd IAT Min',\n",
       " 'Bwd IAT Tot',\n",
       " 'Bwd IAT Mean',\n",
       " 'Bwd IAT Std',\n",
       " 'Bwd IAT Max',\n",
       " 'Bwd IAT Min',\n",
       " 'Fwd PSH Flags',\n",
       " 'Bwd PSH Flags',\n",
       " 'Fwd URG Flags',\n",
       " 'Bwd URG Flags',\n",
       " 'Fwd Header Len',\n",
       " 'Bwd Header Len',\n",
       " 'Fwd Pkts/s',\n",
       " 'Bwd Pkts/s',\n",
       " 'Pkt Len Min',\n",
       " 'Pkt Len Max',\n",
       " 'Pkt Len Mean',\n",
       " 'Pkt Len Std',\n",
       " 'Pkt Len Var',\n",
       " 'FIN Flag Cnt',\n",
       " 'SYN Flag Cnt',\n",
       " 'RST Flag Cnt',\n",
       " 'PSH Flag Cnt',\n",
       " 'ACK Flag Cnt',\n",
       " 'URG Flag Cnt',\n",
       " 'CWE Flag Count',\n",
       " 'ECE Flag Cnt',\n",
       " 'Down/Up Ratio',\n",
       " 'Pkt Size Avg',\n",
       " 'Fwd Seg Size Avg',\n",
       " 'Bwd Seg Size Avg',\n",
       " 'Fwd Byts/b Avg',\n",
       " 'Fwd Pkts/b Avg',\n",
       " 'Fwd Blk Rate Avg',\n",
       " 'Bwd Byts/b Avg',\n",
       " 'Bwd Pkts/b Avg',\n",
       " 'Bwd Blk Rate Avg',\n",
       " 'Subflow Fwd Pkts',\n",
       " 'Subflow Fwd Byts',\n",
       " 'Subflow Bwd Pkts',\n",
       " 'Subflow Bwd Byts',\n",
       " 'Init Fwd Win Byts',\n",
       " 'Init Bwd Win Byts',\n",
       " 'Fwd Act Data Pkts',\n",
       " 'Fwd Seg Size Min',\n",
       " 'Active Mean',\n",
       " 'Active Std',\n",
       " 'Active Max',\n",
       " 'Active Min',\n",
       " 'Idle Mean',\n",
       " 'Idle Std',\n",
       " 'Idle Max',\n",
       " 'Idle Min',\n",
       " 'Label']"
      ]
     },
     "execution_count": 23,
     "metadata": {},
     "output_type": "execute_result"
    }
   ],
   "source": [
    "ddos_data.columns"
   ]
  },
  {
   "cell_type": "code",
   "execution_count": 24,
   "id": "6b8a542d-8547-49c6-bfca-2ac3e50fe64e",
   "metadata": {},
   "outputs": [
    {
     "name": "stderr",
     "output_type": "stream",
     "text": [
      "                                                                                \r"
     ]
    },
    {
     "data": {
      "text/plain": [
       "200000"
      ]
     },
     "execution_count": 24,
     "metadata": {},
     "output_type": "execute_result"
    }
   ],
   "source": [
    "new_df.count()"
   ]
  },
  {
   "cell_type": "code",
   "execution_count": 25,
   "id": "f5e51148-ee3e-4530-94ea-246101e1a958",
   "metadata": {
    "scrolled": true
   },
   "outputs": [
    {
     "data": {
      "text/plain": [
       "[Row(_c0=523035, Flow ID='172.31.69.28-18.218.11.51-80-55137-6', Src IP='18.218.11.51', Src Port=55137, Dst IP='172.31.69.28', Dst Port=80, Protocol=6, Timestamp='21/02/2018 11:56:08 PM', Flow Duration=2446, Tot Fwd Pkts=1, Tot Bwd Pkts=1, TotLen Fwd Pkts=0.0, TotLen Bwd Pkts=0.0, Fwd Pkt Len Max=0.0, Fwd Pkt Len Min=0.0, Fwd Pkt Len Mean=0.0, Fwd Pkt Len Std=0.0, Bwd Pkt Len Max=0.0, Bwd Pkt Len Min=0.0, Bwd Pkt Len Mean=0.0, Bwd Pkt Len Std=0.0, Flow Byts/s=0.0, Flow Pkts/s=817.6614990234375, Flow IAT Mean=2446.0, Flow IAT Std=0.0, Flow IAT Max=2446.0, Flow IAT Min=2446.0, Fwd IAT Tot=0.0, Fwd IAT Mean=0.0, Fwd IAT Std=0.0, Fwd IAT Max=0.0, Fwd IAT Min=0.0, Bwd IAT Tot=0.0, Bwd IAT Mean=0.0, Bwd IAT Std=0.0, Bwd IAT Max=0.0, Bwd IAT Min=0.0, Fwd PSH Flags=0, Bwd PSH Flags=0, Fwd URG Flags=0, Bwd URG Flags=0, Fwd Header Len=20, Bwd Header Len=20, Fwd Pkts/s=408.83074951171875, Bwd Pkts/s=408.83074951171875, Pkt Len Min=0.0, Pkt Len Max=0.0, Pkt Len Mean=0.0, Pkt Len Std=0.0, Pkt Len Var=0.0, FIN Flag Cnt=0, SYN Flag Cnt=0, RST Flag Cnt=0, PSH Flag Cnt=0, ACK Flag Cnt=1, URG Flag Cnt=0, CWE Flag Count=0, ECE Flag Cnt=0, Down/Up Ratio=1.0, Pkt Size Avg=0.0, Fwd Seg Size Avg=0.0, Bwd Seg Size Avg=0.0, Fwd Byts/b Avg=0, Fwd Pkts/b Avg=0, Fwd Blk Rate Avg=0, Bwd Byts/b Avg=0, Bwd Pkts/b Avg=0, Bwd Blk Rate Avg=0, Subflow Fwd Pkts=1, Subflow Fwd Byts=0, Subflow Bwd Pkts=1, Subflow Bwd Byts=0, Init Fwd Win Byts=-1, Init Bwd Win Byts=32738, Fwd Act Data Pkts=0, Fwd Seg Size Min=0, Active Mean=0.0, Active Std=0.0, Active Max=0.0, Active Min=0.0, Idle Mean=0.0, Idle Std=0.0, Idle Max=0.0, Idle Min=0.0, Label='ddos')]"
      ]
     },
     "execution_count": 25,
     "metadata": {},
     "output_type": "execute_result"
    }
   ],
   "source": [
    "new_df.head(1)"
   ]
  },
  {
   "cell_type": "markdown",
   "id": "59ed4d90-e60e-40cd-8ffe-1e018c1aefb0",
   "metadata": {},
   "source": [
    "### write the new df into HDFS as csv"
   ]
  },
  {
   "cell_type": "code",
   "execution_count": 26,
   "id": "9269b77e-b5db-40a8-ad33-81a20b9cda2d",
   "metadata": {
    "scrolled": true
   },
   "outputs": [
    {
     "name": "stderr",
     "output_type": "stream",
     "text": [
      "                                                                                \r"
     ]
    }
   ],
   "source": [
    "# write the sorted DataFrame back to HDFS\n",
    "new_df.write.format(\"csv\").mode(\"overwrite\").option(\"header\", \"true\").save(\"hdfs://172.31.8.146:9000/bal_min_200000.csv\")"
   ]
  },
  {
   "cell_type": "code",
   "execution_count": null,
   "id": "8b5632fc-dcad-47c2-8d2a-f1d9b8b8b66a",
   "metadata": {},
   "outputs": [],
   "source": []
  },
  {
   "cell_type": "code",
   "execution_count": null,
   "id": "05600edb-aae5-4d3e-bf57-47ce0ba61d8a",
   "metadata": {},
   "outputs": [],
   "source": []
  },
  {
   "cell_type": "code",
   "execution_count": null,
   "id": "f46126bf-9690-4187-9cb2-4da952c8bde2",
   "metadata": {},
   "outputs": [],
   "source": []
  },
  {
   "cell_type": "code",
   "execution_count": null,
   "id": "be3e6adc-efa5-4ff0-af51-28e6b1d5aba2",
   "metadata": {},
   "outputs": [],
   "source": []
  },
  {
   "cell_type": "code",
   "execution_count": null,
   "id": "72b95481-000e-4e18-aaaa-39f408f61c66",
   "metadata": {},
   "outputs": [],
   "source": []
  },
  {
   "cell_type": "markdown",
   "id": "60e6e7e0-d718-4006-8680-59d6cb2c08f3",
   "metadata": {},
   "source": [
    "## Load data from generated small-scale balanced dataset "
   ]
  },
  {
   "cell_type": "code",
   "execution_count": 12,
   "id": "c243aafc-522b-4023-8020-835c2f19b4e3",
   "metadata": {},
   "outputs": [],
   "source": [
    "df = spark.read.csv(\"hdfs://172.31.8.146:9000/bal_min_200000.csv\", schema=schema, header=True)\n",
    "# df = spark.read.csv(\"hdfs://172.31.8.146:9000/200000_rows_processed.csv\", schema=schema, header=True)\n"
   ]
  },
  {
   "cell_type": "code",
   "execution_count": 9,
   "id": "db149762-d4ae-4641-8ca0-7b2ea6118f9f",
   "metadata": {
    "scrolled": true
   },
   "outputs": [
    {
     "name": "stdout",
     "output_type": "stream",
     "text": [
      "24/04/24 04:09:15 WARN package: Truncated the string representation of a plan since it was too large. This behavior can be adjusted by setting 'spark.sql.debug.maxToStringFields'.\n"
     ]
    },
    {
     "name": "stderr",
     "output_type": "stream",
     "text": [
      "                                                                                \r"
     ]
    },
    {
     "data": {
      "text/plain": [
       "[Row(_c0=482347, Flow ID='172.31.69.28-18.219.32.43-80-53929-6', Src IP='18.219.32.43', Src Port=53929, Dst IP='172.31.69.28', Dst Port=80, Protocol=6, Timestamp='21/02/2018 11:54:26 PM', Flow Duration=1432, Tot Fwd Pkts=1, Tot Bwd Pkts=1, TotLen Fwd Pkts=0.0, TotLen Bwd Pkts=0.0, Fwd Pkt Len Max=0.0, Fwd Pkt Len Min=0.0, Fwd Pkt Len Mean=0.0, Fwd Pkt Len Std=0.0, Bwd Pkt Len Max=0.0, Bwd Pkt Len Min=0.0, Bwd Pkt Len Mean=0.0, Bwd Pkt Len Std=0.0, Flow Byts/s=0.0, Flow Pkts/s=1396.6480712890625, Flow IAT Mean=1432.0, Flow IAT Std=0.0, Flow IAT Max=1432.0, Flow IAT Min=1432.0, Fwd IAT Tot=0.0, Fwd IAT Mean=0.0, Fwd IAT Std=0.0, Fwd IAT Max=0.0, Fwd IAT Min=0.0, Bwd IAT Tot=0.0, Bwd IAT Mean=0.0, Bwd IAT Std=0.0, Bwd IAT Max=0.0, Bwd IAT Min=0.0, Fwd PSH Flags=0, Bwd PSH Flags=0, Fwd URG Flags=0, Bwd URG Flags=0, Fwd Header Len=20, Bwd Header Len=20, Fwd Pkts/s=698.3240356445312, Bwd Pkts/s=698.3240356445312, Pkt Len Min=0.0, Pkt Len Max=0.0, Pkt Len Mean=0.0, Pkt Len Std=0.0, Pkt Len Var=0.0, FIN Flag Cnt=0, SYN Flag Cnt=0, RST Flag Cnt=0, PSH Flag Cnt=0, ACK Flag Cnt=1, URG Flag Cnt=0, CWE Flag Count=0, ECE Flag Cnt=0, Down/Up Ratio=1.0, Pkt Size Avg=0.0, Fwd Seg Size Avg=0.0, Bwd Seg Size Avg=0.0, Fwd Byts/b Avg=0, Fwd Pkts/b Avg=0, Fwd Blk Rate Avg=0, Bwd Byts/b Avg=0, Bwd Pkts/b Avg=0, Bwd Blk Rate Avg=0, Subflow Fwd Pkts=1, Subflow Fwd Byts=0, Subflow Bwd Pkts=1, Subflow Bwd Byts=0, Init Fwd Win Byts=-1, Init Bwd Win Byts=32738, Fwd Act Data Pkts=0, Fwd Seg Size Min=0, Active Mean=0.0, Active Std=0.0, Active Max=0.0, Active Min=0.0, Idle Mean=0.0, Idle Std=0.0, Idle Max=0.0, Idle Min=0.0, Label='ddos'),\n",
       " Row(_c0=758054, Flow ID='172.31.64.65-1.52.121.206-445-45134-6', Src IP='172.31.64.65', Src Port=445, Dst IP='1.52.121.206', Dst Port=45134, Protocol=6, Timestamp='20/02/2018 09:27:58', Flow Duration=174, Tot Fwd Pkts=2, Tot Bwd Pkts=0, TotLen Fwd Pkts=0.0, TotLen Bwd Pkts=0.0, Fwd Pkt Len Max=0.0, Fwd Pkt Len Min=0.0, Fwd Pkt Len Mean=0.0, Fwd Pkt Len Std=0.0, Bwd Pkt Len Max=0.0, Bwd Pkt Len Min=0.0, Bwd Pkt Len Mean=0.0, Bwd Pkt Len Std=0.0, Flow Byts/s=0.0, Flow Pkts/s=11494.2529296875, Flow IAT Mean=174.0, Flow IAT Std=0.0, Flow IAT Max=174.0, Flow IAT Min=174.0, Fwd IAT Tot=174.0, Fwd IAT Mean=174.0, Fwd IAT Std=0.0, Fwd IAT Max=174.0, Fwd IAT Min=174.0, Bwd IAT Tot=0.0, Bwd IAT Mean=0.0, Bwd IAT Std=0.0, Bwd IAT Max=0.0, Bwd IAT Min=0.0, Fwd PSH Flags=0, Bwd PSH Flags=0, Fwd URG Flags=0, Bwd URG Flags=0, Fwd Header Len=40, Bwd Header Len=0, Fwd Pkts/s=11494.2529296875, Bwd Pkts/s=0.0, Pkt Len Min=0.0, Pkt Len Max=0.0, Pkt Len Mean=0.0, Pkt Len Std=0.0, Pkt Len Var=0.0, FIN Flag Cnt=0, SYN Flag Cnt=0, RST Flag Cnt=0, PSH Flag Cnt=0, ACK Flag Cnt=1, URG Flag Cnt=0, CWE Flag Count=0, ECE Flag Cnt=0, Down/Up Ratio=0.0, Pkt Size Avg=0.0, Fwd Seg Size Avg=0.0, Bwd Seg Size Avg=0.0, Fwd Byts/b Avg=0, Fwd Pkts/b Avg=0, Fwd Blk Rate Avg=0, Bwd Byts/b Avg=0, Bwd Pkts/b Avg=0, Bwd Blk Rate Avg=0, Subflow Fwd Pkts=2, Subflow Fwd Byts=0, Subflow Bwd Pkts=0, Subflow Bwd Byts=0, Init Fwd Win Byts=258, Init Bwd Win Byts=-1, Fwd Act Data Pkts=0, Fwd Seg Size Min=20, Active Mean=0.0, Active Std=0.0, Active Max=0.0, Active Min=0.0, Idle Mean=0.0, Idle Std=0.0, Idle Max=0.0, Idle Min=0.0, Label='Benign'),\n",
       " Row(_c0=3878562, Flow ID='172.31.66.53-23.219.88.24-54650-80-6', Src IP='172.31.66.53', Src Port=54650, Dst IP='23.219.88.24', Dst Port=80, Protocol=6, Timestamp='20/02/2018 03:10:30', Flow Duration=5065678, Tot Fwd Pkts=3, Tot Bwd Pkts=1, TotLen Fwd Pkts=0.0, TotLen Bwd Pkts=0.0, Fwd Pkt Len Max=0.0, Fwd Pkt Len Min=0.0, Fwd Pkt Len Mean=0.0, Fwd Pkt Len Std=0.0, Bwd Pkt Len Max=0.0, Bwd Pkt Len Min=0.0, Bwd Pkt Len Mean=0.0, Bwd Pkt Len Std=0.0, Flow Byts/s=0.0, Flow Pkts/s=0.7896277904510498, Flow IAT Mean=1688559.375, Flow IAT Std=2896753.25, Flow IAT Max=5033390.0, Flow IAT Min=19.0, Fwd IAT Tot=5065678.0, Fwd IAT Mean=2532839.0, Fwd IAT Std=3536313.25, Fwd IAT Max=5033390.0, Fwd IAT Min=32288.0, Bwd IAT Tot=0.0, Bwd IAT Mean=0.0, Bwd IAT Std=0.0, Bwd IAT Max=0.0, Bwd IAT Min=0.0, Fwd PSH Flags=0, Bwd PSH Flags=0, Fwd URG Flags=0, Bwd URG Flags=0, Fwd Header Len=72, Bwd Header Len=32, Fwd Pkts/s=0.5922208428382874, Bwd Pkts/s=0.19740694761276245, Pkt Len Min=0.0, Pkt Len Max=0.0, Pkt Len Mean=0.0, Pkt Len Std=0.0, Pkt Len Var=0.0, FIN Flag Cnt=0, SYN Flag Cnt=0, RST Flag Cnt=1, PSH Flag Cnt=1, ACK Flag Cnt=0, URG Flag Cnt=0, CWE Flag Count=0, ECE Flag Cnt=1, Down/Up Ratio=0.0, Pkt Size Avg=0.0, Fwd Seg Size Avg=0.0, Bwd Seg Size Avg=0.0, Fwd Byts/b Avg=0, Fwd Pkts/b Avg=0, Fwd Blk Rate Avg=0, Bwd Byts/b Avg=0, Bwd Pkts/b Avg=0, Bwd Blk Rate Avg=0, Subflow Fwd Pkts=3, Subflow Fwd Byts=0, Subflow Bwd Pkts=1, Subflow Bwd Byts=0, Init Fwd Win Byts=8192, Init Bwd Win Byts=29200, Fwd Act Data Pkts=0, Fwd Seg Size Min=20, Active Mean=0.0, Active Std=0.0, Active Max=0.0, Active Min=0.0, Idle Mean=0.0, Idle Std=0.0, Idle Max=0.0, Idle Min=0.0, Label='Benign'),\n",
       " Row(_c0=438002, Flow ID='172.31.69.28-18.219.5.43-80-49629-6', Src IP='18.219.5.43', Src Port=49629, Dst IP='172.31.69.28', Dst Port=80, Protocol=6, Timestamp='21/02/2018 11:52:35 PM', Flow Duration=5858, Tot Fwd Pkts=1, Tot Bwd Pkts=1, TotLen Fwd Pkts=0.0, TotLen Bwd Pkts=0.0, Fwd Pkt Len Max=0.0, Fwd Pkt Len Min=0.0, Fwd Pkt Len Mean=0.0, Fwd Pkt Len Std=0.0, Bwd Pkt Len Max=0.0, Bwd Pkt Len Min=0.0, Bwd Pkt Len Mean=0.0, Bwd Pkt Len Std=0.0, Flow Byts/s=0.0, Flow Pkts/s=341.4134521484375, Flow IAT Mean=5858.0, Flow IAT Std=0.0, Flow IAT Max=5858.0, Flow IAT Min=5858.0, Fwd IAT Tot=0.0, Fwd IAT Mean=0.0, Fwd IAT Std=0.0, Fwd IAT Max=0.0, Fwd IAT Min=0.0, Bwd IAT Tot=0.0, Bwd IAT Mean=0.0, Bwd IAT Std=0.0, Bwd IAT Max=0.0, Bwd IAT Min=0.0, Fwd PSH Flags=0, Bwd PSH Flags=0, Fwd URG Flags=0, Bwd URG Flags=0, Fwd Header Len=20, Bwd Header Len=20, Fwd Pkts/s=170.70672607421875, Bwd Pkts/s=170.70672607421875, Pkt Len Min=0.0, Pkt Len Max=0.0, Pkt Len Mean=0.0, Pkt Len Std=0.0, Pkt Len Var=0.0, FIN Flag Cnt=0, SYN Flag Cnt=0, RST Flag Cnt=0, PSH Flag Cnt=0, ACK Flag Cnt=1, URG Flag Cnt=0, CWE Flag Count=0, ECE Flag Cnt=0, Down/Up Ratio=1.0, Pkt Size Avg=0.0, Fwd Seg Size Avg=0.0, Bwd Seg Size Avg=0.0, Fwd Byts/b Avg=0, Fwd Pkts/b Avg=0, Fwd Blk Rate Avg=0, Bwd Byts/b Avg=0, Bwd Pkts/b Avg=0, Bwd Blk Rate Avg=0, Subflow Fwd Pkts=1, Subflow Fwd Byts=0, Subflow Bwd Pkts=1, Subflow Bwd Byts=0, Init Fwd Win Byts=-1, Init Bwd Win Byts=32738, Fwd Act Data Pkts=0, Fwd Seg Size Min=0, Active Mean=0.0, Active Std=0.0, Active Max=0.0, Active Min=0.0, Idle Mean=0.0, Idle Std=0.0, Idle Max=0.0, Idle Min=0.0, Label='ddos'),\n",
       " Row(_c0=454165, Flow ID='172.31.69.28-18.219.5.43-80-51252-6', Src IP='18.219.5.43', Src Port=51252, Dst IP='172.31.69.28', Dst Port=80, Protocol=6, Timestamp='21/02/2018 11:53:15 PM', Flow Duration=5254, Tot Fwd Pkts=1, Tot Bwd Pkts=1, TotLen Fwd Pkts=0.0, TotLen Bwd Pkts=0.0, Fwd Pkt Len Max=0.0, Fwd Pkt Len Min=0.0, Fwd Pkt Len Mean=0.0, Fwd Pkt Len Std=0.0, Bwd Pkt Len Max=0.0, Bwd Pkt Len Min=0.0, Bwd Pkt Len Mean=0.0, Bwd Pkt Len Std=0.0, Flow Byts/s=0.0, Flow Pkts/s=380.662353515625, Flow IAT Mean=5254.0, Flow IAT Std=0.0, Flow IAT Max=5254.0, Flow IAT Min=5254.0, Fwd IAT Tot=0.0, Fwd IAT Mean=0.0, Fwd IAT Std=0.0, Fwd IAT Max=0.0, Fwd IAT Min=0.0, Bwd IAT Tot=0.0, Bwd IAT Mean=0.0, Bwd IAT Std=0.0, Bwd IAT Max=0.0, Bwd IAT Min=0.0, Fwd PSH Flags=0, Bwd PSH Flags=0, Fwd URG Flags=0, Bwd URG Flags=0, Fwd Header Len=20, Bwd Header Len=20, Fwd Pkts/s=190.3311767578125, Bwd Pkts/s=190.3311767578125, Pkt Len Min=0.0, Pkt Len Max=0.0, Pkt Len Mean=0.0, Pkt Len Std=0.0, Pkt Len Var=0.0, FIN Flag Cnt=0, SYN Flag Cnt=0, RST Flag Cnt=0, PSH Flag Cnt=0, ACK Flag Cnt=1, URG Flag Cnt=0, CWE Flag Count=0, ECE Flag Cnt=0, Down/Up Ratio=1.0, Pkt Size Avg=0.0, Fwd Seg Size Avg=0.0, Bwd Seg Size Avg=0.0, Fwd Byts/b Avg=0, Fwd Pkts/b Avg=0, Fwd Blk Rate Avg=0, Bwd Byts/b Avg=0, Bwd Pkts/b Avg=0, Bwd Blk Rate Avg=0, Subflow Fwd Pkts=1, Subflow Fwd Byts=0, Subflow Bwd Pkts=1, Subflow Bwd Byts=0, Init Fwd Win Byts=-1, Init Bwd Win Byts=32738, Fwd Act Data Pkts=0, Fwd Seg Size Min=0, Active Mean=0.0, Active Std=0.0, Active Max=0.0, Active Min=0.0, Idle Mean=0.0, Idle Std=0.0, Idle Max=0.0, Idle Min=0.0, Label='ddos'),\n",
       " Row(_c0=486159, Flow ID='172.31.69.28-18.216.200.189-80-51461-6', Src IP='18.216.200.189', Src Port=51461, Dst IP='172.31.69.28', Dst Port=80, Protocol=6, Timestamp='21/02/2018 11:54:35 PM', Flow Duration=5158, Tot Fwd Pkts=1, Tot Bwd Pkts=1, TotLen Fwd Pkts=0.0, TotLen Bwd Pkts=0.0, Fwd Pkt Len Max=0.0, Fwd Pkt Len Min=0.0, Fwd Pkt Len Mean=0.0, Fwd Pkt Len Std=0.0, Bwd Pkt Len Max=0.0, Bwd Pkt Len Min=0.0, Bwd Pkt Len Mean=0.0, Bwd Pkt Len Std=0.0, Flow Byts/s=0.0, Flow Pkts/s=387.7471923828125, Flow IAT Mean=5158.0, Flow IAT Std=0.0, Flow IAT Max=5158.0, Flow IAT Min=5158.0, Fwd IAT Tot=0.0, Fwd IAT Mean=0.0, Fwd IAT Std=0.0, Fwd IAT Max=0.0, Fwd IAT Min=0.0, Bwd IAT Tot=0.0, Bwd IAT Mean=0.0, Bwd IAT Std=0.0, Bwd IAT Max=0.0, Bwd IAT Min=0.0, Fwd PSH Flags=0, Bwd PSH Flags=0, Fwd URG Flags=0, Bwd URG Flags=0, Fwd Header Len=20, Bwd Header Len=20, Fwd Pkts/s=193.87359619140625, Bwd Pkts/s=193.87359619140625, Pkt Len Min=0.0, Pkt Len Max=0.0, Pkt Len Mean=0.0, Pkt Len Std=0.0, Pkt Len Var=0.0, FIN Flag Cnt=0, SYN Flag Cnt=0, RST Flag Cnt=0, PSH Flag Cnt=0, ACK Flag Cnt=1, URG Flag Cnt=0, CWE Flag Count=0, ECE Flag Cnt=0, Down/Up Ratio=1.0, Pkt Size Avg=0.0, Fwd Seg Size Avg=0.0, Bwd Seg Size Avg=0.0, Fwd Byts/b Avg=0, Fwd Pkts/b Avg=0, Fwd Blk Rate Avg=0, Bwd Byts/b Avg=0, Bwd Pkts/b Avg=0, Bwd Blk Rate Avg=0, Subflow Fwd Pkts=1, Subflow Fwd Byts=0, Subflow Bwd Pkts=1, Subflow Bwd Byts=0, Init Fwd Win Byts=-1, Init Bwd Win Byts=32738, Fwd Act Data Pkts=0, Fwd Seg Size Min=0, Active Mean=0.0, Active Std=0.0, Active Max=0.0, Active Min=0.0, Idle Mean=0.0, Idle Std=0.0, Idle Max=0.0, Idle Min=0.0, Label='ddos'),\n",
       " Row(_c0=2103065, Flow ID='172.31.64.124-23.52.91.27-53503-80-6', Src IP='172.31.64.124', Src Port=53503, Dst IP='23.52.91.27', Dst Port=80, Protocol=6, Timestamp='20/02/2018 03:41:52', Flow Duration=119, Tot Fwd Pkts=2, Tot Bwd Pkts=0, TotLen Fwd Pkts=0.0, TotLen Bwd Pkts=0.0, Fwd Pkt Len Max=0.0, Fwd Pkt Len Min=0.0, Fwd Pkt Len Mean=0.0, Fwd Pkt Len Std=0.0, Bwd Pkt Len Max=0.0, Bwd Pkt Len Min=0.0, Bwd Pkt Len Mean=0.0, Bwd Pkt Len Std=0.0, Flow Byts/s=0.0, Flow Pkts/s=16806.72265625, Flow IAT Mean=119.0, Flow IAT Std=0.0, Flow IAT Max=119.0, Flow IAT Min=119.0, Fwd IAT Tot=119.0, Fwd IAT Mean=119.0, Fwd IAT Std=0.0, Fwd IAT Max=119.0, Fwd IAT Min=119.0, Bwd IAT Tot=0.0, Bwd IAT Mean=0.0, Bwd IAT Std=0.0, Bwd IAT Max=0.0, Bwd IAT Min=0.0, Fwd PSH Flags=0, Bwd PSH Flags=0, Fwd URG Flags=0, Bwd URG Flags=0, Fwd Header Len=40, Bwd Header Len=0, Fwd Pkts/s=16806.72265625, Bwd Pkts/s=0.0, Pkt Len Min=0.0, Pkt Len Max=0.0, Pkt Len Mean=0.0, Pkt Len Std=0.0, Pkt Len Var=0.0, FIN Flag Cnt=0, SYN Flag Cnt=0, RST Flag Cnt=0, PSH Flag Cnt=0, ACK Flag Cnt=1, URG Flag Cnt=0, CWE Flag Count=0, ECE Flag Cnt=0, Down/Up Ratio=0.0, Pkt Size Avg=0.0, Fwd Seg Size Avg=0.0, Bwd Seg Size Avg=0.0, Fwd Byts/b Avg=0, Fwd Pkts/b Avg=0, Fwd Blk Rate Avg=0, Bwd Byts/b Avg=0, Bwd Pkts/b Avg=0, Bwd Blk Rate Avg=0, Subflow Fwd Pkts=2, Subflow Fwd Byts=0, Subflow Bwd Pkts=0, Subflow Bwd Byts=0, Init Fwd Win Byts=256, Init Bwd Win Byts=-1, Fwd Act Data Pkts=0, Fwd Seg Size Min=20, Active Mean=0.0, Active Std=0.0, Active Max=0.0, Active Min=0.0, Idle Mean=0.0, Idle Std=0.0, Idle Max=0.0, Idle Min=0.0, Label='Benign'),\n",
       " Row(_c0=1923381, Flow ID='172.31.64.103-209.85.202.95-49804-443-6', Src IP='172.31.64.103', Src Port=49804, Dst IP='209.85.202.95', Dst Port=443, Protocol=6, Timestamp='20/02/2018 08:56:20', Flow Duration=69380578, Tot Fwd Pkts=16, Tot Bwd Pkts=18, TotLen Fwd Pkts=1206.0, TotLen Bwd Pkts=10699.0, Fwd Pkt Len Max=602.0, Fwd Pkt Len Min=0.0, Fwd Pkt Len Mean=75.375, Fwd Pkt Len Std=154.6548309326172, Bwd Pkt Len Max=1430.0, Bwd Pkt Len Min=0.0, Bwd Pkt Len Mean=594.388916015625, Bwd Pkt Len Std=650.7434692382812, Flow Byts/s=171.58981323242188, Flow Pkts/s=0.49005067348480225, Flow IAT Mean=2102441.75, Flow IAT Std=10307829.0, Flow IAT Max=58747796.0, Flow IAT Min=7.0, Fwd IAT Tot=69380576.0, Fwd IAT Mean=4625372.0, Fwd IAT Std=15214910.0, Fwd IAT Max=58883088.0, Fwd IAT Min=27.0, Bwd IAT Tot=59503380.0, Bwd IAT Mean=3500199.0, Bwd IAT Std=14261763.0, Bwd IAT Max=58843120.0, Bwd IAT Min=23.0, Fwd PSH Flags=0, Bwd PSH Flags=0, Fwd URG Flags=0, Bwd URG Flags=0, Fwd Header Len=332, Bwd Header Len=372, Fwd Pkts/s=0.23061208426952362, Bwd Pkts/s=0.2594386041164398, Pkt Len Min=0.0, Pkt Len Max=1430.0, Pkt Len Mean=340.1428527832031, Pkt Len Std=541.2018432617188, Pkt Len Var=292899.40625, FIN Flag Cnt=0, SYN Flag Cnt=0, RST Flag Cnt=1, PSH Flag Cnt=1, ACK Flag Cnt=0, URG Flag Cnt=0, CWE Flag Count=0, ECE Flag Cnt=1, Down/Up Ratio=1.0, Pkt Size Avg=350.1470642089844, Fwd Seg Size Avg=75.375, Bwd Seg Size Avg=594.388916015625, Fwd Byts/b Avg=0, Fwd Pkts/b Avg=0, Fwd Blk Rate Avg=0, Bwd Byts/b Avg=0, Bwd Pkts/b Avg=0, Bwd Blk Rate Avg=0, Subflow Fwd Pkts=16, Subflow Fwd Byts=1206, Subflow Bwd Pkts=18, Subflow Bwd Byts=10699, Init Fwd Win Byts=8192, Init Bwd Win Byts=181, Fwd Act Data Pkts=7, Fwd Seg Size Min=20, Active Mean=455810.5, Active Std=423945.15625, Active Max=755585.0, Active Min=156036.0, Idle Mean=34234480.0, Idle Std=34667068.0, Idle Max=58747796.0, Idle Min=9721161.0, Label='Benign'),\n",
       " Row(_c0=7122541, Flow ID='169.254.169.254-172.31.67.97-80-52578-6', Src IP='172.31.67.97', Src Port=52578, Dst IP='169.254.169.254', Dst Port=80, Protocol=6, Timestamp='20/02/2018 03:18:28', Flow Duration=93, Tot Fwd Pkts=2, Tot Bwd Pkts=0, TotLen Fwd Pkts=0.0, TotLen Bwd Pkts=0.0, Fwd Pkt Len Max=0.0, Fwd Pkt Len Min=0.0, Fwd Pkt Len Mean=0.0, Fwd Pkt Len Std=0.0, Bwd Pkt Len Max=0.0, Bwd Pkt Len Min=0.0, Bwd Pkt Len Mean=0.0, Bwd Pkt Len Std=0.0, Flow Byts/s=0.0, Flow Pkts/s=21505.376953125, Flow IAT Mean=93.0, Flow IAT Std=0.0, Flow IAT Max=93.0, Flow IAT Min=93.0, Fwd IAT Tot=93.0, Fwd IAT Mean=93.0, Fwd IAT Std=0.0, Fwd IAT Max=93.0, Fwd IAT Min=93.0, Bwd IAT Tot=0.0, Bwd IAT Mean=0.0, Bwd IAT Std=0.0, Bwd IAT Max=0.0, Bwd IAT Min=0.0, Fwd PSH Flags=0, Bwd PSH Flags=0, Fwd URG Flags=0, Bwd URG Flags=0, Fwd Header Len=40, Bwd Header Len=0, Fwd Pkts/s=21505.376953125, Bwd Pkts/s=0.0, Pkt Len Min=0.0, Pkt Len Max=0.0, Pkt Len Mean=0.0, Pkt Len Std=0.0, Pkt Len Var=0.0, FIN Flag Cnt=0, SYN Flag Cnt=0, RST Flag Cnt=0, PSH Flag Cnt=0, ACK Flag Cnt=1, URG Flag Cnt=0, CWE Flag Count=0, ECE Flag Cnt=0, Down/Up Ratio=0.0, Pkt Size Avg=0.0, Fwd Seg Size Avg=0.0, Bwd Seg Size Avg=0.0, Fwd Byts/b Avg=0, Fwd Pkts/b Avg=0, Fwd Blk Rate Avg=0, Bwd Byts/b Avg=0, Bwd Pkts/b Avg=0, Bwd Blk Rate Avg=0, Subflow Fwd Pkts=2, Subflow Fwd Byts=0, Subflow Bwd Pkts=0, Subflow Bwd Byts=0, Init Fwd Win Byts=279, Init Bwd Win Byts=-1, Fwd Act Data Pkts=0, Fwd Seg Size Min=20, Active Mean=0.0, Active Std=0.0, Active Max=0.0, Active Min=0.0, Idle Mean=0.0, Idle Std=0.0, Idle Max=0.0, Idle Min=0.0, Label='Benign'),\n",
       " Row(_c0=2525649, Flow ID='172.31.64.79-13.89.184.238-49692-443-6', Src IP='172.31.64.79', Src Port=49692, Dst IP='13.89.184.238', Dst Port=443, Protocol=6, Timestamp='20/02/2018 09:54:26', Flow Duration=60091285, Tot Fwd Pkts=4, Tot Bwd Pkts=2, TotLen Fwd Pkts=146.0, TotLen Bwd Pkts=250.0, Fwd Pkt Len Max=73.0, Fwd Pkt Len Min=0.0, Fwd Pkt Len Mean=36.5, Fwd Pkt Len Std=42.146568298339844, Bwd Pkt Len Max=125.0, Bwd Pkt Len Min=125.0, Bwd Pkt Len Mean=125.0, Bwd Pkt Len Std=0.0, Flow Byts/s=6.5899739265441895, Flow Pkts/s=0.09984809160232544, Flow IAT Mean=12018257.0, Flow IAT Std=26786618.0, Flow IAT Max=59935616.0, Flow IAT Min=32278.0, Fwd IAT Tot=60091284.0, Fwd IAT Mean=20030428.0, Fwd IAT Std=34558908.0, Fwd IAT Max=59935616.0, Fwd IAT Min=77821.0, Bwd IAT Tot=60013364.0, Bwd IAT Mean=60013364.0, Bwd IAT Std=0.0, Bwd IAT Max=60013364.0, Bwd IAT Min=60013364.0, Fwd PSH Flags=1, Bwd PSH Flags=0, Fwd URG Flags=0, Bwd URG Flags=0, Fwd Header Len=80, Bwd Header Len=40, Fwd Pkts/s=0.06656539440155029, Bwd Pkts/s=0.033282697200775146, Pkt Len Min=0.0, Pkt Len Max=125.0, Pkt Len Mean=67.0, Pkt Len Std=51.3387451171875, Pkt Len Var=2635.666748046875, FIN Flag Cnt=0, SYN Flag Cnt=1, RST Flag Cnt=0, PSH Flag Cnt=0, ACK Flag Cnt=1, URG Flag Cnt=0, CWE Flag Count=0, ECE Flag Cnt=0, Down/Up Ratio=0.0, Pkt Size Avg=78.16666412353516, Fwd Seg Size Avg=36.5, Bwd Seg Size Avg=125.0, Fwd Byts/b Avg=0, Fwd Pkts/b Avg=0, Fwd Blk Rate Avg=0, Bwd Byts/b Avg=0, Bwd Pkts/b Avg=0, Bwd Blk Rate Avg=0, Subflow Fwd Pkts=4, Subflow Fwd Byts=146, Subflow Bwd Pkts=2, Subflow Bwd Byts=250, Init Fwd Win Byts=258, Init Bwd Win Byts=7391, Fwd Act Data Pkts=1, Fwd Seg Size Min=20, Active Mean=77821.0, Active Std=0.0, Active Max=77821.0, Active Min=77821.0, Idle Mean=59935616.0, Idle Std=0.0, Idle Max=59935616.0, Idle Min=59935616.0, Label='Benign')]"
      ]
     },
     "execution_count": 9,
     "metadata": {},
     "output_type": "execute_result"
    }
   ],
   "source": [
    "df.head(10)"
   ]
  },
  {
   "cell_type": "code",
   "execution_count": 29,
   "id": "575a3450-dd7c-440a-86f9-86598c949444",
   "metadata": {
    "scrolled": true
   },
   "outputs": [
    {
     "data": {
      "text/plain": [
       "DataFrame[_c0: int, Flow ID: string, Src IP: string, Src Port: int, Dst IP: string, Dst Port: int, Protocol: int, Timestamp: string, Flow Duration: int, Tot Fwd Pkts: int, Tot Bwd Pkts: int, TotLen Fwd Pkts: float, TotLen Bwd Pkts: float, Fwd Pkt Len Max: float, Fwd Pkt Len Min: float, Fwd Pkt Len Mean: float, Fwd Pkt Len Std: float, Bwd Pkt Len Max: float, Bwd Pkt Len Min: float, Bwd Pkt Len Mean: float, Bwd Pkt Len Std: float, Flow Byts/s: float, Flow Pkts/s: float, Flow IAT Mean: float, Flow IAT Std: float, Flow IAT Max: float, Flow IAT Min: float, Fwd IAT Tot: float, Fwd IAT Mean: float, Fwd IAT Std: float, Fwd IAT Max: float, Fwd IAT Min: float, Bwd IAT Tot: float, Bwd IAT Mean: float, Bwd IAT Std: float, Bwd IAT Max: float, Bwd IAT Min: float, Fwd PSH Flags: int, Bwd PSH Flags: int, Fwd URG Flags: int, Bwd URG Flags: int, Fwd Header Len: int, Bwd Header Len: int, Fwd Pkts/s: float, Bwd Pkts/s: float, Pkt Len Min: float, Pkt Len Max: float, Pkt Len Mean: float, Pkt Len Std: float, Pkt Len Var: float, FIN Flag Cnt: int, SYN Flag Cnt: int, RST Flag Cnt: int, PSH Flag Cnt: int, ACK Flag Cnt: int, URG Flag Cnt: int, CWE Flag Count: int, ECE Flag Cnt: int, Down/Up Ratio: float, Pkt Size Avg: float, Fwd Seg Size Avg: float, Bwd Seg Size Avg: float, Fwd Byts/b Avg: int, Fwd Pkts/b Avg: int, Fwd Blk Rate Avg: int, Bwd Byts/b Avg: int, Bwd Pkts/b Avg: int, Bwd Blk Rate Avg: int, Subflow Fwd Pkts: int, Subflow Fwd Byts: int, Subflow Bwd Pkts: int, Subflow Bwd Byts: int, Init Fwd Win Byts: int, Init Bwd Win Byts: int, Fwd Act Data Pkts: int, Fwd Seg Size Min: int, Active Mean: float, Active Std: float, Active Max: float, Active Min: float, Idle Mean: float, Idle Std: float, Idle Max: float, Idle Min: float, Label: string]"
      ]
     },
     "execution_count": 29,
     "metadata": {},
     "output_type": "execute_result"
    }
   ],
   "source": [
    "df"
   ]
  },
  {
   "cell_type": "code",
   "execution_count": 30,
   "id": "7d991a74-89f3-4702-b160-f3364faba03f",
   "metadata": {},
   "outputs": [
    {
     "data": {
      "text/plain": [
       "16"
      ]
     },
     "execution_count": 30,
     "metadata": {},
     "output_type": "execute_result"
    }
   ],
   "source": [
    "df.rdd.getNumPartitions()"
   ]
  },
  {
   "cell_type": "code",
   "execution_count": 33,
   "id": "31d0dfd6-694a-4259-8336-cd7a46352739",
   "metadata": {
    "scrolled": true
   },
   "outputs": [
    {
     "name": "stderr",
     "output_type": "stream",
     "text": [
      "/home/ubuntu/.local/lib/python3.10/site-packages/pandas/core/nanops.py:1016: RuntimeWarning: invalid value encountered in subtract\n",
      "  sqr = _ensure_numeric((avg - values) ** 2)\n",
      "/home/ubuntu/.local/lib/python3.10/site-packages/pandas/core/nanops.py:1016: RuntimeWarning: invalid value encountered in subtract\n",
      "  sqr = _ensure_numeric((avg - values) ** 2)\n"
     ]
    },
    {
     "data": {
      "text/html": [
       "<div>\n",
       "<style scoped>\n",
       "    .dataframe tbody tr th:only-of-type {\n",
       "        vertical-align: middle;\n",
       "    }\n",
       "\n",
       "    .dataframe tbody tr th {\n",
       "        vertical-align: top;\n",
       "    }\n",
       "\n",
       "    .dataframe thead th {\n",
       "        text-align: right;\n",
       "    }\n",
       "</style>\n",
       "<table border=\"1\" class=\"dataframe\">\n",
       "  <thead>\n",
       "    <tr style=\"text-align: right;\">\n",
       "      <th></th>\n",
       "      <th>_c0</th>\n",
       "      <th>Flow ID</th>\n",
       "      <th>Src IP</th>\n",
       "      <th>Src Port</th>\n",
       "      <th>Dst IP</th>\n",
       "      <th>Dst Port</th>\n",
       "      <th>Protocol</th>\n",
       "      <th>Timestamp</th>\n",
       "      <th>Flow Duration</th>\n",
       "      <th>Tot Fwd Pkts</th>\n",
       "      <th>...</th>\n",
       "      <th>Fwd Seg Size Min</th>\n",
       "      <th>Active Mean</th>\n",
       "      <th>Active Std</th>\n",
       "      <th>Active Max</th>\n",
       "      <th>Active Min</th>\n",
       "      <th>Idle Mean</th>\n",
       "      <th>Idle Std</th>\n",
       "      <th>Idle Max</th>\n",
       "      <th>Idle Min</th>\n",
       "      <th>Label</th>\n",
       "    </tr>\n",
       "  </thead>\n",
       "  <tbody>\n",
       "    <tr>\n",
       "      <th>count</th>\n",
       "      <td>2.000000e+05</td>\n",
       "      <td>200000</td>\n",
       "      <td>200000</td>\n",
       "      <td>200000.000000</td>\n",
       "      <td>200000</td>\n",
       "      <td>200000.000000</td>\n",
       "      <td>200000.000000</td>\n",
       "      <td>200000</td>\n",
       "      <td>2.000000e+05</td>\n",
       "      <td>200000.000000</td>\n",
       "      <td>...</td>\n",
       "      <td>200000.000000</td>\n",
       "      <td>2.000000e+05</td>\n",
       "      <td>2.000000e+05</td>\n",
       "      <td>2.000000e+05</td>\n",
       "      <td>2.000000e+05</td>\n",
       "      <td>2.000000e+05</td>\n",
       "      <td>2.000000e+05</td>\n",
       "      <td>200000.0</td>\n",
       "      <td>2.000000e+05</td>\n",
       "      <td>200000</td>\n",
       "    </tr>\n",
       "    <tr>\n",
       "      <th>unique</th>\n",
       "      <td>NaN</td>\n",
       "      <td>143732</td>\n",
       "      <td>6897</td>\n",
       "      <td>NaN</td>\n",
       "      <td>6719</td>\n",
       "      <td>NaN</td>\n",
       "      <td>NaN</td>\n",
       "      <td>47207</td>\n",
       "      <td>NaN</td>\n",
       "      <td>NaN</td>\n",
       "      <td>...</td>\n",
       "      <td>NaN</td>\n",
       "      <td>NaN</td>\n",
       "      <td>NaN</td>\n",
       "      <td>NaN</td>\n",
       "      <td>NaN</td>\n",
       "      <td>NaN</td>\n",
       "      <td>NaN</td>\n",
       "      <td>NaN</td>\n",
       "      <td>NaN</td>\n",
       "      <td>2</td>\n",
       "    </tr>\n",
       "    <tr>\n",
       "      <th>top</th>\n",
       "      <td>NaN</td>\n",
       "      <td>8.0.6.4-8.6.0.1-0-0-0</td>\n",
       "      <td>18.219.211.138</td>\n",
       "      <td>NaN</td>\n",
       "      <td>172.31.69.25</td>\n",
       "      <td>NaN</td>\n",
       "      <td>NaN</td>\n",
       "      <td>15/02/2018 07:23:24 PM</td>\n",
       "      <td>NaN</td>\n",
       "      <td>NaN</td>\n",
       "      <td>...</td>\n",
       "      <td>NaN</td>\n",
       "      <td>NaN</td>\n",
       "      <td>NaN</td>\n",
       "      <td>NaN</td>\n",
       "      <td>NaN</td>\n",
       "      <td>NaN</td>\n",
       "      <td>NaN</td>\n",
       "      <td>NaN</td>\n",
       "      <td>NaN</td>\n",
       "      <td>Benign</td>\n",
       "    </tr>\n",
       "    <tr>\n",
       "      <th>freq</th>\n",
       "      <td>NaN</td>\n",
       "      <td>1184</td>\n",
       "      <td>41508</td>\n",
       "      <td>NaN</td>\n",
       "      <td>46453</td>\n",
       "      <td>NaN</td>\n",
       "      <td>NaN</td>\n",
       "      <td>702</td>\n",
       "      <td>NaN</td>\n",
       "      <td>NaN</td>\n",
       "      <td>...</td>\n",
       "      <td>NaN</td>\n",
       "      <td>NaN</td>\n",
       "      <td>NaN</td>\n",
       "      <td>NaN</td>\n",
       "      <td>NaN</td>\n",
       "      <td>NaN</td>\n",
       "      <td>NaN</td>\n",
       "      <td>NaN</td>\n",
       "      <td>NaN</td>\n",
       "      <td>100000</td>\n",
       "    </tr>\n",
       "    <tr>\n",
       "      <th>mean</th>\n",
       "      <td>2.018325e+06</td>\n",
       "      <td>NaN</td>\n",
       "      <td>NaN</td>\n",
       "      <td>38895.557505</td>\n",
       "      <td>NaN</td>\n",
       "      <td>4104.665510</td>\n",
       "      <td>7.845405</td>\n",
       "      <td>NaN</td>\n",
       "      <td>1.562071e+07</td>\n",
       "      <td>6.231220</td>\n",
       "      <td>...</td>\n",
       "      <td>7.314740</td>\n",
       "      <td>3.611136e+05</td>\n",
       "      <td>1.384509e+05</td>\n",
       "      <td>5.093794e+05</td>\n",
       "      <td>2.696038e+05</td>\n",
       "      <td>7.096402e+06</td>\n",
       "      <td>4.588544e+05</td>\n",
       "      <td>7584873.0</td>\n",
       "      <td>6.696202e+06</td>\n",
       "      <td>NaN</td>\n",
       "    </tr>\n",
       "    <tr>\n",
       "      <th>std</th>\n",
       "      <td>2.524434e+06</td>\n",
       "      <td>NaN</td>\n",
       "      <td>NaN</td>\n",
       "      <td>21892.694395</td>\n",
       "      <td>NaN</td>\n",
       "      <td>13406.135476</td>\n",
       "      <td>4.220248</td>\n",
       "      <td>NaN</td>\n",
       "      <td>3.102578e+07</td>\n",
       "      <td>107.781834</td>\n",
       "      <td>...</td>\n",
       "      <td>8.937562</td>\n",
       "      <td>2.686428e+06</td>\n",
       "      <td>1.514203e+06</td>\n",
       "      <td>3.480489e+06</td>\n",
       "      <td>2.330964e+06</td>\n",
       "      <td>1.854298e+07</td>\n",
       "      <td>2.484858e+06</td>\n",
       "      <td>19101088.0</td>\n",
       "      <td>1.838179e+07</td>\n",
       "      <td>NaN</td>\n",
       "    </tr>\n",
       "    <tr>\n",
       "      <th>min</th>\n",
       "      <td>0.000000e+00</td>\n",
       "      <td>NaN</td>\n",
       "      <td>NaN</td>\n",
       "      <td>0.000000</td>\n",
       "      <td>NaN</td>\n",
       "      <td>0.000000</td>\n",
       "      <td>0.000000</td>\n",
       "      <td>NaN</td>\n",
       "      <td>0.000000e+00</td>\n",
       "      <td>0.000000</td>\n",
       "      <td>...</td>\n",
       "      <td>0.000000</td>\n",
       "      <td>0.000000e+00</td>\n",
       "      <td>0.000000e+00</td>\n",
       "      <td>0.000000e+00</td>\n",
       "      <td>0.000000e+00</td>\n",
       "      <td>0.000000e+00</td>\n",
       "      <td>0.000000e+00</td>\n",
       "      <td>0.0</td>\n",
       "      <td>0.000000e+00</td>\n",
       "      <td>NaN</td>\n",
       "    </tr>\n",
       "    <tr>\n",
       "      <th>25%</th>\n",
       "      <td>4.252175e+04</td>\n",
       "      <td>NaN</td>\n",
       "      <td>NaN</td>\n",
       "      <td>21518.000000</td>\n",
       "      <td>NaN</td>\n",
       "      <td>80.000000</td>\n",
       "      <td>6.000000</td>\n",
       "      <td>NaN</td>\n",
       "      <td>8.350000e+02</td>\n",
       "      <td>1.000000</td>\n",
       "      <td>...</td>\n",
       "      <td>0.000000</td>\n",
       "      <td>0.000000e+00</td>\n",
       "      <td>0.000000e+00</td>\n",
       "      <td>0.000000e+00</td>\n",
       "      <td>0.000000e+00</td>\n",
       "      <td>0.000000e+00</td>\n",
       "      <td>0.000000e+00</td>\n",
       "      <td>0.0</td>\n",
       "      <td>0.000000e+00</td>\n",
       "      <td>NaN</td>\n",
       "    </tr>\n",
       "    <tr>\n",
       "      <th>50%</th>\n",
       "      <td>2.702705e+05</td>\n",
       "      <td>NaN</td>\n",
       "      <td>NaN</td>\n",
       "      <td>49934.500000</td>\n",
       "      <td>NaN</td>\n",
       "      <td>80.000000</td>\n",
       "      <td>6.000000</td>\n",
       "      <td>NaN</td>\n",
       "      <td>1.425109e+06</td>\n",
       "      <td>2.000000</td>\n",
       "      <td>...</td>\n",
       "      <td>0.000000</td>\n",
       "      <td>0.000000e+00</td>\n",
       "      <td>0.000000e+00</td>\n",
       "      <td>0.000000e+00</td>\n",
       "      <td>0.000000e+00</td>\n",
       "      <td>0.000000e+00</td>\n",
       "      <td>0.000000e+00</td>\n",
       "      <td>0.0</td>\n",
       "      <td>0.000000e+00</td>\n",
       "      <td>NaN</td>\n",
       "    </tr>\n",
       "    <tr>\n",
       "      <th>75%</th>\n",
       "      <td>3.960890e+06</td>\n",
       "      <td>NaN</td>\n",
       "      <td>NaN</td>\n",
       "      <td>54699.000000</td>\n",
       "      <td>NaN</td>\n",
       "      <td>443.000000</td>\n",
       "      <td>6.000000</td>\n",
       "      <td>NaN</td>\n",
       "      <td>1.143454e+07</td>\n",
       "      <td>4.000000</td>\n",
       "      <td>...</td>\n",
       "      <td>20.000000</td>\n",
       "      <td>0.000000e+00</td>\n",
       "      <td>0.000000e+00</td>\n",
       "      <td>0.000000e+00</td>\n",
       "      <td>0.000000e+00</td>\n",
       "      <td>6.708267e+06</td>\n",
       "      <td>0.000000e+00</td>\n",
       "      <td>6710647.0</td>\n",
       "      <td>6.321159e+06</td>\n",
       "      <td>NaN</td>\n",
       "    </tr>\n",
       "    <tr>\n",
       "      <th>max</th>\n",
       "      <td>7.902454e+06</td>\n",
       "      <td>NaN</td>\n",
       "      <td>NaN</td>\n",
       "      <td>65535.000000</td>\n",
       "      <td>NaN</td>\n",
       "      <td>65524.000000</td>\n",
       "      <td>17.000000</td>\n",
       "      <td>NaN</td>\n",
       "      <td>1.199999e+08</td>\n",
       "      <td>15015.000000</td>\n",
       "      <td>...</td>\n",
       "      <td>44.000000</td>\n",
       "      <td>1.058695e+08</td>\n",
       "      <td>6.590676e+07</td>\n",
       "      <td>1.058695e+08</td>\n",
       "      <td>1.058695e+08</td>\n",
       "      <td>1.199338e+08</td>\n",
       "      <td>6.468932e+07</td>\n",
       "      <td>119933832.0</td>\n",
       "      <td>1.199338e+08</td>\n",
       "      <td>NaN</td>\n",
       "    </tr>\n",
       "  </tbody>\n",
       "</table>\n",
       "<p>11 rows × 85 columns</p>\n",
       "</div>"
      ],
      "text/plain": [
       "                 _c0                Flow ID          Src IP       Src Port  \\\n",
       "count   2.000000e+05                 200000          200000  200000.000000   \n",
       "unique           NaN                 143732            6897            NaN   \n",
       "top              NaN  8.0.6.4-8.6.0.1-0-0-0  18.219.211.138            NaN   \n",
       "freq             NaN                   1184           41508            NaN   \n",
       "mean    2.018325e+06                    NaN             NaN   38895.557505   \n",
       "std     2.524434e+06                    NaN             NaN   21892.694395   \n",
       "min     0.000000e+00                    NaN             NaN       0.000000   \n",
       "25%     4.252175e+04                    NaN             NaN   21518.000000   \n",
       "50%     2.702705e+05                    NaN             NaN   49934.500000   \n",
       "75%     3.960890e+06                    NaN             NaN   54699.000000   \n",
       "max     7.902454e+06                    NaN             NaN   65535.000000   \n",
       "\n",
       "              Dst IP       Dst Port       Protocol               Timestamp  \\\n",
       "count         200000  200000.000000  200000.000000                  200000   \n",
       "unique          6719            NaN            NaN                   47207   \n",
       "top     172.31.69.25            NaN            NaN  15/02/2018 07:23:24 PM   \n",
       "freq           46453            NaN            NaN                     702   \n",
       "mean             NaN    4104.665510       7.845405                     NaN   \n",
       "std              NaN   13406.135476       4.220248                     NaN   \n",
       "min              NaN       0.000000       0.000000                     NaN   \n",
       "25%              NaN      80.000000       6.000000                     NaN   \n",
       "50%              NaN      80.000000       6.000000                     NaN   \n",
       "75%              NaN     443.000000       6.000000                     NaN   \n",
       "max              NaN   65524.000000      17.000000                     NaN   \n",
       "\n",
       "        Flow Duration   Tot Fwd Pkts  ...  Fwd Seg Size Min   Active Mean  \\\n",
       "count    2.000000e+05  200000.000000  ...     200000.000000  2.000000e+05   \n",
       "unique            NaN            NaN  ...               NaN           NaN   \n",
       "top               NaN            NaN  ...               NaN           NaN   \n",
       "freq              NaN            NaN  ...               NaN           NaN   \n",
       "mean     1.562071e+07       6.231220  ...          7.314740  3.611136e+05   \n",
       "std      3.102578e+07     107.781834  ...          8.937562  2.686428e+06   \n",
       "min      0.000000e+00       0.000000  ...          0.000000  0.000000e+00   \n",
       "25%      8.350000e+02       1.000000  ...          0.000000  0.000000e+00   \n",
       "50%      1.425109e+06       2.000000  ...          0.000000  0.000000e+00   \n",
       "75%      1.143454e+07       4.000000  ...         20.000000  0.000000e+00   \n",
       "max      1.199999e+08   15015.000000  ...         44.000000  1.058695e+08   \n",
       "\n",
       "          Active Std    Active Max    Active Min     Idle Mean      Idle Std  \\\n",
       "count   2.000000e+05  2.000000e+05  2.000000e+05  2.000000e+05  2.000000e+05   \n",
       "unique           NaN           NaN           NaN           NaN           NaN   \n",
       "top              NaN           NaN           NaN           NaN           NaN   \n",
       "freq             NaN           NaN           NaN           NaN           NaN   \n",
       "mean    1.384509e+05  5.093794e+05  2.696038e+05  7.096402e+06  4.588544e+05   \n",
       "std     1.514203e+06  3.480489e+06  2.330964e+06  1.854298e+07  2.484858e+06   \n",
       "min     0.000000e+00  0.000000e+00  0.000000e+00  0.000000e+00  0.000000e+00   \n",
       "25%     0.000000e+00  0.000000e+00  0.000000e+00  0.000000e+00  0.000000e+00   \n",
       "50%     0.000000e+00  0.000000e+00  0.000000e+00  0.000000e+00  0.000000e+00   \n",
       "75%     0.000000e+00  0.000000e+00  0.000000e+00  6.708267e+06  0.000000e+00   \n",
       "max     6.590676e+07  1.058695e+08  1.058695e+08  1.199338e+08  6.468932e+07   \n",
       "\n",
       "           Idle Max      Idle Min   Label  \n",
       "count      200000.0  2.000000e+05  200000  \n",
       "unique          NaN           NaN       2  \n",
       "top             NaN           NaN  Benign  \n",
       "freq            NaN           NaN  100000  \n",
       "mean      7584873.0  6.696202e+06     NaN  \n",
       "std      19101088.0  1.838179e+07     NaN  \n",
       "min             0.0  0.000000e+00     NaN  \n",
       "25%             0.0  0.000000e+00     NaN  \n",
       "50%             0.0  0.000000e+00     NaN  \n",
       "75%       6710647.0  6.321159e+06     NaN  \n",
       "max     119933832.0  1.199338e+08     NaN  \n",
       "\n",
       "[11 rows x 85 columns]"
      ]
     },
     "execution_count": 33,
     "metadata": {},
     "output_type": "execute_result"
    }
   ],
   "source": [
    "df.toPandas().describe(include='all')"
   ]
  },
  {
   "cell_type": "code",
   "execution_count": 31,
   "id": "13ab4730-6e6f-4f57-b1ea-763828b79815",
   "metadata": {},
   "outputs": [
    {
     "name": "stdout",
     "output_type": "stream",
     "text": [
      "++\n",
      "||\n",
      "++\n",
      "||\n",
      "++\n",
      "\n"
     ]
    }
   ],
   "source": [
    "# Check for null values in each column\n",
    "null_counts = df.select([col(c).isNull().alias(c) for c in df.columns]) \\\n",
    "                .groupBy() \\\n",
    "                .sum()\n",
    "\n",
    "# Print the number of null values in each column\n",
    "null_counts.show()"
   ]
  },
  {
   "cell_type": "code",
   "execution_count": null,
   "id": "23b44db1-0e52-4ef5-8089-c6d2eea66137",
   "metadata": {},
   "outputs": [],
   "source": []
  },
  {
   "cell_type": "code",
   "execution_count": 32,
   "id": "b2dee4a5-1580-4802-aaa7-d37f8e6d5f34",
   "metadata": {},
   "outputs": [
    {
     "data": {
      "text/plain": [
       "200000"
      ]
     },
     "execution_count": 32,
     "metadata": {},
     "output_type": "execute_result"
    }
   ],
   "source": [
    "df.count()"
   ]
  },
  {
   "cell_type": "code",
   "execution_count": 33,
   "id": "65225006-4e0d-426e-8309-75718c4c2d1b",
   "metadata": {},
   "outputs": [
    {
     "data": {
      "text/plain": [
       "['_c0',\n",
       " 'Flow ID',\n",
       " 'Src IP',\n",
       " 'Src Port',\n",
       " 'Dst IP',\n",
       " 'Dst Port',\n",
       " 'Protocol',\n",
       " 'Timestamp',\n",
       " 'Flow Duration',\n",
       " 'Tot Fwd Pkts',\n",
       " 'Tot Bwd Pkts',\n",
       " 'TotLen Fwd Pkts',\n",
       " 'TotLen Bwd Pkts',\n",
       " 'Fwd Pkt Len Max',\n",
       " 'Fwd Pkt Len Min',\n",
       " 'Fwd Pkt Len Mean',\n",
       " 'Fwd Pkt Len Std',\n",
       " 'Bwd Pkt Len Max',\n",
       " 'Bwd Pkt Len Min',\n",
       " 'Bwd Pkt Len Mean',\n",
       " 'Bwd Pkt Len Std',\n",
       " 'Flow Byts/s',\n",
       " 'Flow Pkts/s',\n",
       " 'Flow IAT Mean',\n",
       " 'Flow IAT Std',\n",
       " 'Flow IAT Max',\n",
       " 'Flow IAT Min',\n",
       " 'Fwd IAT Tot',\n",
       " 'Fwd IAT Mean',\n",
       " 'Fwd IAT Std',\n",
       " 'Fwd IAT Max',\n",
       " 'Fwd IAT Min',\n",
       " 'Bwd IAT Tot',\n",
       " 'Bwd IAT Mean',\n",
       " 'Bwd IAT Std',\n",
       " 'Bwd IAT Max',\n",
       " 'Bwd IAT Min',\n",
       " 'Fwd PSH Flags',\n",
       " 'Bwd PSH Flags',\n",
       " 'Fwd URG Flags',\n",
       " 'Bwd URG Flags',\n",
       " 'Fwd Header Len',\n",
       " 'Bwd Header Len',\n",
       " 'Fwd Pkts/s',\n",
       " 'Bwd Pkts/s',\n",
       " 'Pkt Len Min',\n",
       " 'Pkt Len Max',\n",
       " 'Pkt Len Mean',\n",
       " 'Pkt Len Std',\n",
       " 'Pkt Len Var',\n",
       " 'FIN Flag Cnt',\n",
       " 'SYN Flag Cnt',\n",
       " 'RST Flag Cnt',\n",
       " 'PSH Flag Cnt',\n",
       " 'ACK Flag Cnt',\n",
       " 'URG Flag Cnt',\n",
       " 'CWE Flag Count',\n",
       " 'ECE Flag Cnt',\n",
       " 'Down/Up Ratio',\n",
       " 'Pkt Size Avg',\n",
       " 'Fwd Seg Size Avg',\n",
       " 'Bwd Seg Size Avg',\n",
       " 'Fwd Byts/b Avg',\n",
       " 'Fwd Pkts/b Avg',\n",
       " 'Fwd Blk Rate Avg',\n",
       " 'Bwd Byts/b Avg',\n",
       " 'Bwd Pkts/b Avg',\n",
       " 'Bwd Blk Rate Avg',\n",
       " 'Subflow Fwd Pkts',\n",
       " 'Subflow Fwd Byts',\n",
       " 'Subflow Bwd Pkts',\n",
       " 'Subflow Bwd Byts',\n",
       " 'Init Fwd Win Byts',\n",
       " 'Init Bwd Win Byts',\n",
       " 'Fwd Act Data Pkts',\n",
       " 'Fwd Seg Size Min',\n",
       " 'Active Mean',\n",
       " 'Active Std',\n",
       " 'Active Max',\n",
       " 'Active Min',\n",
       " 'Idle Mean',\n",
       " 'Idle Std',\n",
       " 'Idle Max',\n",
       " 'Idle Min',\n",
       " 'Label']"
      ]
     },
     "execution_count": 33,
     "metadata": {},
     "output_type": "execute_result"
    }
   ],
   "source": [
    "df.columns"
   ]
  },
  {
   "cell_type": "code",
   "execution_count": null,
   "id": "c3b4a906-6cea-443e-afeb-2a073f2ed1cd",
   "metadata": {},
   "outputs": [],
   "source": []
  },
  {
   "cell_type": "code",
   "execution_count": null,
   "id": "1a14dee3-f56b-4420-bc42-715b8291cc58",
   "metadata": {},
   "outputs": [],
   "source": []
  },
  {
   "cell_type": "code",
   "execution_count": null,
   "id": "776d5960-4977-4ceb-a719-d4b3ce4362e4",
   "metadata": {},
   "outputs": [],
   "source": []
  },
  {
   "cell_type": "markdown",
   "id": "34d90447-076a-49f0-9b66-f14882b8201d",
   "metadata": {},
   "source": [
    "## Data Proprocessing"
   ]
  },
  {
   "cell_type": "markdown",
   "id": "9dc44543-02fb-43a3-bab0-56e0e42caa51",
   "metadata": {},
   "source": [
    "#### Dropping columns that have just one value"
   ]
  },
  {
   "cell_type": "code",
   "execution_count": 13,
   "id": "7c3e2ba0-98e7-42af-b01a-ea7736c88e91",
   "metadata": {},
   "outputs": [],
   "source": [
    "agv_cols_to_drop = ['Fwd Byts/b Avg', 'Fwd Pkts/b Avg', 'Fwd Blk Rate Avg', 'Bwd Byts/b Avg', 'Bwd Pkts/b Avg', 'Bwd Blk Rate Avg']"
   ]
  },
  {
   "cell_type": "code",
   "execution_count": null,
   "id": "06c597ce-0d88-44cf-98a2-d59b92efdae0",
   "metadata": {},
   "outputs": [],
   "source": []
  },
  {
   "cell_type": "markdown",
   "id": "b07e1d51-b1d3-4800-8b6b-f21626edcc45",
   "metadata": {},
   "source": [
    "#### Drop categorical columns that have one category predominance"
   ]
  },
  {
   "cell_type": "code",
   "execution_count": 12,
   "id": "9ec3b773-f606-43ab-8edb-610d3324c74e",
   "metadata": {
    "scrolled": true
   },
   "outputs": [],
   "source": [
    "# skewed_cols = []\n",
    "# for col_name, data_type in df.dtypes:\n",
    "#     if data_type == \"string\":\n",
    "#         skewed_value = df.groupBy(col_name).count().orderBy(col(\"count\").desc()).first()\n",
    "#         if skewed_value[\"count\"] / df.count() >= 0.95:\n",
    "#             skewed_cols.append(col_name)\n",
    "            \n",
    "# skewed_cols   "
   ]
  },
  {
   "cell_type": "markdown",
   "id": "97cfb921-03c2-4ca2-adc6-c25221f2e71b",
   "metadata": {},
   "source": [
    "att2"
   ]
  },
  {
   "cell_type": "code",
   "execution_count": 14,
   "id": "65876d7e-e447-4a9a-b821-d6c60649b7af",
   "metadata": {},
   "outputs": [
    {
     "name": "stderr",
     "output_type": "stream",
     "text": [
      "                                                                                \r"
     ]
    }
   ],
   "source": [
    "# Define a function to build row information\n",
    "def row_builder(col_name):\n",
    "    unique_values = df.select(col_name).distinct().count()\n",
    "    most_frequent_value = df.groupBy(col_name).count().orderBy(col(\"count\").desc()).first()[col_name]\n",
    "    frequency = df.groupBy(col_name).count().orderBy(col(\"count\").desc()).first()[\"count\"] / df.count()\n",
    "    return {\"col\": col_name, \"unique_values\": unique_values, \"most_frequent_value\": most_frequent_value, \"frequency\": frequency}\n",
    "\n",
    "# Collect information for each categorical column\n",
    "frequency = [row_builder(col) for col in df.columns if df.select(col).distinct().count() == 1]\n",
    "\n",
    "# Convert to DataFrame\n",
    "skewed = spark.createDataFrame(frequency)\n",
    "\n",
    "# Filter columns where the frequency is >= 0.95\n",
    "colsToDrop = skewed.filter(skewed[\"frequency\"] >= 0.95).select(\"col\").rdd.flatMap(lambda x: x).collect()"
   ]
  },
  {
   "cell_type": "code",
   "execution_count": 15,
   "id": "da8bcf6d-0219-4d19-bd87-43a367bd5e2c",
   "metadata": {},
   "outputs": [
    {
     "data": {
      "text/plain": [
       "['Fwd URG Flags',\n",
       " 'Bwd URG Flags',\n",
       " 'Fwd Byts/b Avg',\n",
       " 'Fwd Pkts/b Avg',\n",
       " 'Fwd Blk Rate Avg',\n",
       " 'Bwd Byts/b Avg',\n",
       " 'Bwd Pkts/b Avg',\n",
       " 'Bwd Blk Rate Avg']"
      ]
     },
     "execution_count": 15,
     "metadata": {},
     "output_type": "execute_result"
    }
   ],
   "source": [
    "skewed_cols = colsToDrop\n",
    "skewed_cols"
   ]
  },
  {
   "cell_type": "code",
   "execution_count": null,
   "id": "5b1e4921-022d-403f-9160-5d11a4bdd1ab",
   "metadata": {},
   "outputs": [],
   "source": []
  },
  {
   "cell_type": "code",
   "execution_count": null,
   "id": "f201ad14-904c-4945-86d0-b74a4fd669a4",
   "metadata": {},
   "outputs": [],
   "source": []
  },
  {
   "cell_type": "markdown",
   "id": "642850c5-9f46-40f0-acf3-007ad4068119",
   "metadata": {},
   "source": [
    "#### Handling faulty data."
   ]
  },
  {
   "cell_type": "code",
   "execution_count": 16,
   "id": "6483798e-9a16-4359-9b04-a8978bfd3d82",
   "metadata": {},
   "outputs": [],
   "source": [
    "df = df.withColumn(\"Flow Byts/s\", when(col(\"Flow Byts/s\") == float(\"inf\"), None).otherwise(col(\"Flow Byts/s\")))\n",
    "df = df.withColumn(\"Flow Pkts/s\", when(col(\"Flow Pkts/s\") == float(\"inf\"), None).otherwise(col(\"Flow Pkts/s\")))\n"
   ]
  },
  {
   "cell_type": "code",
   "execution_count": null,
   "id": "6e22a2d7-60c9-405b-a578-2d5bb5e7f8eb",
   "metadata": {},
   "outputs": [],
   "source": []
  },
  {
   "cell_type": "code",
   "execution_count": null,
   "id": "2bb2c890-a8cb-41c3-937d-fda4a7c704a2",
   "metadata": {},
   "outputs": [],
   "source": []
  },
  {
   "cell_type": "markdown",
   "id": "71dacf23-0552-4da6-86dc-3ce21eee5e36",
   "metadata": {},
   "source": [
    "#### Drop columns where missing values are more than 50% Drop rows where a column missing values are no more than 5%"
   ]
  },
  {
   "cell_type": "code",
   "execution_count": 17,
   "id": "87f927d2-12e6-4f49-9d8b-b790e7a382fa",
   "metadata": {
    "scrolled": true
   },
   "outputs": [
    {
     "data": {
      "text/plain": [
       "[]"
      ]
     },
     "execution_count": 17,
     "metadata": {},
     "output_type": "execute_result"
    }
   ],
   "source": [
    "missing_cols = []\n",
    "for col_name in df.columns:\n",
    "    missing_percentage = df.where(col(col_name).isNull()).count() / df.count() * 100\n",
    "    if missing_percentage >= 50:\n",
    "        missing_cols.append(col_name)\n",
    "        \n",
    "missing_cols"
   ]
  },
  {
   "cell_type": "markdown",
   "id": "5081d719-749e-47d8-a596-12b0aa5b8334",
   "metadata": {},
   "source": [
    "att2"
   ]
  },
  {
   "cell_type": "code",
   "execution_count": 18,
   "id": "03697b93-1ac8-4a6f-9c14-64ddd7007155",
   "metadata": {},
   "outputs": [],
   "source": [
    "from pyspark.sql import functions as F\n",
    "# Calculate the percentage of missing values for each column\n",
    "missing_percentages = df.agg(*[\n",
    "    (F.count(F.when(F.col(c).isNull(), c)) / F.count(\"*\")).alias(c + \"_missing_percentage\") \n",
    "    for c in df.columns\n",
    "])\n",
    "\n",
    "# Select columns where missing percentage is more than 50%\n",
    "missing_cols = [\n",
    "    c for c in df.columns if missing_percentages.select(c + \"_missing_percentage\").first()[0] > 0.5\n",
    "]"
   ]
  },
  {
   "cell_type": "code",
   "execution_count": 19,
   "id": "1aa670e9-5f80-4089-a1df-d971f454ec51",
   "metadata": {},
   "outputs": [
    {
     "data": {
      "text/plain": [
       "[]"
      ]
     },
     "execution_count": 19,
     "metadata": {},
     "output_type": "execute_result"
    }
   ],
   "source": [
    "missing_cols"
   ]
  },
  {
   "cell_type": "code",
   "execution_count": null,
   "id": "d04b5dd4-a9c4-4c17-afaf-108c4ab4477e",
   "metadata": {},
   "outputs": [],
   "source": []
  },
  {
   "cell_type": "code",
   "execution_count": null,
   "id": "0681f581-a82a-464d-a99d-97aa3d176cad",
   "metadata": {},
   "outputs": [],
   "source": []
  },
  {
   "cell_type": "code",
   "execution_count": 20,
   "id": "ce39a156-e93e-4e1e-a92d-77fe450ae170",
   "metadata": {},
   "outputs": [
    {
     "data": {
      "text/plain": [
       "['Flow Byts/s', 'Flow Pkts/s']"
      ]
     },
     "execution_count": 20,
     "metadata": {},
     "output_type": "execute_result"
    }
   ],
   "source": [
    "dropna_cols = []\n",
    "for col_name in df.columns:\n",
    "    missing_percentage = df.where(col(col_name).isNull()).count() / df.count() * 100\n",
    "    if 0 < missing_percentage <= 5:\n",
    "        dropna_cols.append(col_name)\n",
    "\n",
    "dropna_cols"
   ]
  },
  {
   "cell_type": "code",
   "execution_count": null,
   "id": "60463301-529a-4999-8447-da4adaed1255",
   "metadata": {},
   "outputs": [],
   "source": []
  },
  {
   "cell_type": "markdown",
   "id": "2835a907-3d38-4186-9f59-ab257890b71b",
   "metadata": {},
   "source": [
    "remove categorical features with more than 32 values (required by random forest)"
   ]
  },
  {
   "cell_type": "code",
   "execution_count": 21,
   "id": "88d4b329-860c-4565-8ad3-427ac48ab87e",
   "metadata": {},
   "outputs": [
    {
     "data": {
      "text/plain": [
       "['Flow ID', 'Src IP', 'Dst IP', 'Timestamp']"
      ]
     },
     "execution_count": 21,
     "metadata": {},
     "output_type": "execute_result"
    }
   ],
   "source": [
    "categorical_cols = [col_name for col_name, dtype in df.dtypes if dtype == 'string']\n",
    "\n",
    "cate_cols_too_many_vals = []\n",
    "for col_name in categorical_cols:\n",
    "    distinct_values_count = df.select(col_name).distinct().count()\n",
    "    if distinct_values_count > 32:\n",
    "        cate_cols_too_many_vals.append(col_name)\n",
    "\n",
    "cate_cols_too_many_vals"
   ]
  },
  {
   "cell_type": "code",
   "execution_count": null,
   "id": "93a74e53-0bf8-42d6-848e-6ec9abe6085f",
   "metadata": {},
   "outputs": [],
   "source": []
  },
  {
   "cell_type": "markdown",
   "id": "f9a1e8af-ed78-42de-839c-65c02973da32",
   "metadata": {},
   "source": [
    "#### Perform actual drop"
   ]
  },
  {
   "cell_type": "code",
   "execution_count": 22,
   "id": "54cdb47b-34c9-41da-ab32-a53edfaba1a8",
   "metadata": {},
   "outputs": [],
   "source": [
    "df = df.drop(*agv_cols_to_drop)\n",
    "df = df.drop(*skewed_cols)\n",
    "df = df.drop(*missing_cols)\n",
    "# df = df.drop(*cate_cols_too_many_vals)\n",
    "df = df.na.drop(subset=dropna_cols)"
   ]
  },
  {
   "cell_type": "code",
   "execution_count": null,
   "id": "919200a2-8c23-4ca2-86da-7a6d0e1cf6ac",
   "metadata": {},
   "outputs": [],
   "source": []
  },
  {
   "cell_type": "markdown",
   "id": "664f39a8-78bb-4272-b97c-97b209c4e259",
   "metadata": {},
   "source": [
    "#### Drop rows with invalid values"
   ]
  },
  {
   "cell_type": "code",
   "execution_count": 23,
   "id": "53ba6be8-43dc-4741-942a-fb8e070a8ee6",
   "metadata": {},
   "outputs": [],
   "source": [
    "neg_val_cols = ['Flow Pkts/s', 'Flow IAT Mean', 'Flow IAT Max', 'Flow IAT Min', 'Bwd IAT Tot', 'Bwd IAT Mean', 'Bwd IAT Max', 'Bwd IAT Min']\n",
    "# Filter out rows with negative values in specified columns\n",
    "for col_name in neg_val_cols:\n",
    "    df = df.filter(col(col_name) >= 0)"
   ]
  },
  {
   "cell_type": "code",
   "execution_count": null,
   "id": "6f72183d-1163-4df0-8ef2-7827f01d45ae",
   "metadata": {},
   "outputs": [],
   "source": []
  },
  {
   "cell_type": "code",
   "execution_count": null,
   "id": "d7e2e56c-10ce-4e72-a3eb-6598e8e18619",
   "metadata": {},
   "outputs": [],
   "source": []
  },
  {
   "cell_type": "markdown",
   "id": "63eaf58f-e199-44c0-9c45-46dbc429a9db",
   "metadata": {},
   "source": [
    "#### check the cleaned df"
   ]
  },
  {
   "cell_type": "code",
   "execution_count": 46,
   "id": "7286bc60-574f-41a8-8f98-926ae41d6875",
   "metadata": {},
   "outputs": [
    {
     "name": "stderr",
     "output_type": "stream",
     "text": [
      "                                                                                \r"
     ]
    },
    {
     "data": {
      "text/html": [
       "<div>\n",
       "<style scoped>\n",
       "    .dataframe tbody tr th:only-of-type {\n",
       "        vertical-align: middle;\n",
       "    }\n",
       "\n",
       "    .dataframe tbody tr th {\n",
       "        vertical-align: top;\n",
       "    }\n",
       "\n",
       "    .dataframe thead th {\n",
       "        text-align: right;\n",
       "    }\n",
       "</style>\n",
       "<table border=\"1\" class=\"dataframe\">\n",
       "  <thead>\n",
       "    <tr style=\"text-align: right;\">\n",
       "      <th></th>\n",
       "      <th>_c0</th>\n",
       "      <th>Flow ID</th>\n",
       "      <th>Src IP</th>\n",
       "      <th>Src Port</th>\n",
       "      <th>Dst IP</th>\n",
       "      <th>Dst Port</th>\n",
       "      <th>Protocol</th>\n",
       "      <th>Timestamp</th>\n",
       "      <th>Flow Duration</th>\n",
       "      <th>Tot Fwd Pkts</th>\n",
       "      <th>...</th>\n",
       "      <th>Fwd Seg Size Min</th>\n",
       "      <th>Active Mean</th>\n",
       "      <th>Active Std</th>\n",
       "      <th>Active Max</th>\n",
       "      <th>Active Min</th>\n",
       "      <th>Idle Mean</th>\n",
       "      <th>Idle Std</th>\n",
       "      <th>Idle Max</th>\n",
       "      <th>Idle Min</th>\n",
       "      <th>Label</th>\n",
       "    </tr>\n",
       "  </thead>\n",
       "  <tbody>\n",
       "    <tr>\n",
       "      <th>count</th>\n",
       "      <td>1.992460e+05</td>\n",
       "      <td>199246</td>\n",
       "      <td>199246</td>\n",
       "      <td>199246.000000</td>\n",
       "      <td>199246</td>\n",
       "      <td>199246.000000</td>\n",
       "      <td>199246.000000</td>\n",
       "      <td>199246</td>\n",
       "      <td>1.992460e+05</td>\n",
       "      <td>199246.000000</td>\n",
       "      <td>...</td>\n",
       "      <td>199246.000000</td>\n",
       "      <td>1.992460e+05</td>\n",
       "      <td>1.992460e+05</td>\n",
       "      <td>1.992460e+05</td>\n",
       "      <td>1.992460e+05</td>\n",
       "      <td>199246.0</td>\n",
       "      <td>1.992460e+05</td>\n",
       "      <td>1.992460e+05</td>\n",
       "      <td>1.992460e+05</td>\n",
       "      <td>199246</td>\n",
       "    </tr>\n",
       "    <tr>\n",
       "      <th>unique</th>\n",
       "      <td>NaN</td>\n",
       "      <td>196651</td>\n",
       "      <td>6870</td>\n",
       "      <td>NaN</td>\n",
       "      <td>6803</td>\n",
       "      <td>NaN</td>\n",
       "      <td>NaN</td>\n",
       "      <td>35191</td>\n",
       "      <td>NaN</td>\n",
       "      <td>NaN</td>\n",
       "      <td>...</td>\n",
       "      <td>NaN</td>\n",
       "      <td>NaN</td>\n",
       "      <td>NaN</td>\n",
       "      <td>NaN</td>\n",
       "      <td>NaN</td>\n",
       "      <td>NaN</td>\n",
       "      <td>NaN</td>\n",
       "      <td>NaN</td>\n",
       "      <td>NaN</td>\n",
       "      <td>2</td>\n",
       "    </tr>\n",
       "    <tr>\n",
       "      <th>top</th>\n",
       "      <td>NaN</td>\n",
       "      <td>8.0.6.4-8.6.0.1-0-0-0</td>\n",
       "      <td>18.218.115.60</td>\n",
       "      <td>NaN</td>\n",
       "      <td>172.31.69.28</td>\n",
       "      <td>NaN</td>\n",
       "      <td>NaN</td>\n",
       "      <td>21/02/2018 11:53:27 PM</td>\n",
       "      <td>NaN</td>\n",
       "      <td>NaN</td>\n",
       "      <td>...</td>\n",
       "      <td>NaN</td>\n",
       "      <td>NaN</td>\n",
       "      <td>NaN</td>\n",
       "      <td>NaN</td>\n",
       "      <td>NaN</td>\n",
       "      <td>NaN</td>\n",
       "      <td>NaN</td>\n",
       "      <td>NaN</td>\n",
       "      <td>NaN</td>\n",
       "      <td>ddos</td>\n",
       "    </tr>\n",
       "    <tr>\n",
       "      <th>freq</th>\n",
       "      <td>NaN</td>\n",
       "      <td>1234</td>\n",
       "      <td>10009</td>\n",
       "      <td>NaN</td>\n",
       "      <td>100076</td>\n",
       "      <td>NaN</td>\n",
       "      <td>NaN</td>\n",
       "      <td>403</td>\n",
       "      <td>NaN</td>\n",
       "      <td>NaN</td>\n",
       "      <td>...</td>\n",
       "      <td>NaN</td>\n",
       "      <td>NaN</td>\n",
       "      <td>NaN</td>\n",
       "      <td>NaN</td>\n",
       "      <td>NaN</td>\n",
       "      <td>NaN</td>\n",
       "      <td>NaN</td>\n",
       "      <td>NaN</td>\n",
       "      <td>NaN</td>\n",
       "      <td>100000</td>\n",
       "    </tr>\n",
       "    <tr>\n",
       "      <th>mean</th>\n",
       "      <td>2.208204e+06</td>\n",
       "      <td>NaN</td>\n",
       "      <td>NaN</td>\n",
       "      <td>49841.266705</td>\n",
       "      <td>NaN</td>\n",
       "      <td>3871.088619</td>\n",
       "      <td>7.856163</td>\n",
       "      <td>NaN</td>\n",
       "      <td>6.751596e+06</td>\n",
       "      <td>3.491920</td>\n",
       "      <td>...</td>\n",
       "      <td>7.255935</td>\n",
       "      <td>1.377885e+05</td>\n",
       "      <td>7.161829e+04</td>\n",
       "      <td>2.079300e+05</td>\n",
       "      <td>8.949103e+04</td>\n",
       "      <td>2343666.0</td>\n",
       "      <td>9.973966e+04</td>\n",
       "      <td>2.424399e+06</td>\n",
       "      <td>2.252225e+06</td>\n",
       "      <td>NaN</td>\n",
       "    </tr>\n",
       "    <tr>\n",
       "      <th>std</th>\n",
       "      <td>2.361575e+06</td>\n",
       "      <td>NaN</td>\n",
       "      <td>NaN</td>\n",
       "      <td>16431.050907</td>\n",
       "      <td>NaN</td>\n",
       "      <td>13018.581948</td>\n",
       "      <td>4.233458</td>\n",
       "      <td>NaN</td>\n",
       "      <td>2.439371e+07</td>\n",
       "      <td>42.336539</td>\n",
       "      <td>...</td>\n",
       "      <td>8.914476</td>\n",
       "      <td>2.362125e+06</td>\n",
       "      <td>1.439702e+06</td>\n",
       "      <td>3.142712e+06</td>\n",
       "      <td>1.983892e+06</td>\n",
       "      <td>10952542.0</td>\n",
       "      <td>1.379211e+06</td>\n",
       "      <td>1.120101e+07</td>\n",
       "      <td>1.081093e+07</td>\n",
       "      <td>NaN</td>\n",
       "    </tr>\n",
       "    <tr>\n",
       "      <th>min</th>\n",
       "      <td>1.100000e+01</td>\n",
       "      <td>NaN</td>\n",
       "      <td>NaN</td>\n",
       "      <td>0.000000</td>\n",
       "      <td>NaN</td>\n",
       "      <td>0.000000</td>\n",
       "      <td>0.000000</td>\n",
       "      <td>NaN</td>\n",
       "      <td>1.000000e+00</td>\n",
       "      <td>0.000000</td>\n",
       "      <td>...</td>\n",
       "      <td>0.000000</td>\n",
       "      <td>0.000000e+00</td>\n",
       "      <td>0.000000e+00</td>\n",
       "      <td>0.000000e+00</td>\n",
       "      <td>0.000000e+00</td>\n",
       "      <td>0.0</td>\n",
       "      <td>0.000000e+00</td>\n",
       "      <td>0.000000e+00</td>\n",
       "      <td>0.000000e+00</td>\n",
       "      <td>NaN</td>\n",
       "    </tr>\n",
       "    <tr>\n",
       "      <th>25%</th>\n",
       "      <td>4.812112e+05</td>\n",
       "      <td>NaN</td>\n",
       "      <td>NaN</td>\n",
       "      <td>50624.000000</td>\n",
       "      <td>NaN</td>\n",
       "      <td>80.000000</td>\n",
       "      <td>6.000000</td>\n",
       "      <td>NaN</td>\n",
       "      <td>1.225000e+03</td>\n",
       "      <td>1.000000</td>\n",
       "      <td>...</td>\n",
       "      <td>0.000000</td>\n",
       "      <td>0.000000e+00</td>\n",
       "      <td>0.000000e+00</td>\n",
       "      <td>0.000000e+00</td>\n",
       "      <td>0.000000e+00</td>\n",
       "      <td>0.0</td>\n",
       "      <td>0.000000e+00</td>\n",
       "      <td>0.000000e+00</td>\n",
       "      <td>0.000000e+00</td>\n",
       "      <td>NaN</td>\n",
       "    </tr>\n",
       "    <tr>\n",
       "      <th>50%</th>\n",
       "      <td>5.304445e+05</td>\n",
       "      <td>NaN</td>\n",
       "      <td>NaN</td>\n",
       "      <td>53401.000000</td>\n",
       "      <td>NaN</td>\n",
       "      <td>80.000000</td>\n",
       "      <td>6.000000</td>\n",
       "      <td>NaN</td>\n",
       "      <td>4.231000e+03</td>\n",
       "      <td>1.000000</td>\n",
       "      <td>...</td>\n",
       "      <td>0.000000</td>\n",
       "      <td>0.000000e+00</td>\n",
       "      <td>0.000000e+00</td>\n",
       "      <td>0.000000e+00</td>\n",
       "      <td>0.000000e+00</td>\n",
       "      <td>0.0</td>\n",
       "      <td>0.000000e+00</td>\n",
       "      <td>0.000000e+00</td>\n",
       "      <td>0.000000e+00</td>\n",
       "      <td>NaN</td>\n",
       "    </tr>\n",
       "    <tr>\n",
       "      <th>75%</th>\n",
       "      <td>3.919867e+06</td>\n",
       "      <td>NaN</td>\n",
       "      <td>NaN</td>\n",
       "      <td>57345.000000</td>\n",
       "      <td>NaN</td>\n",
       "      <td>443.000000</td>\n",
       "      <td>6.000000</td>\n",
       "      <td>NaN</td>\n",
       "      <td>2.942050e+04</td>\n",
       "      <td>2.000000</td>\n",
       "      <td>...</td>\n",
       "      <td>20.000000</td>\n",
       "      <td>0.000000e+00</td>\n",
       "      <td>0.000000e+00</td>\n",
       "      <td>0.000000e+00</td>\n",
       "      <td>0.000000e+00</td>\n",
       "      <td>0.0</td>\n",
       "      <td>0.000000e+00</td>\n",
       "      <td>0.000000e+00</td>\n",
       "      <td>0.000000e+00</td>\n",
       "      <td>NaN</td>\n",
       "    </tr>\n",
       "    <tr>\n",
       "      <th>max</th>\n",
       "      <td>7.902428e+06</td>\n",
       "      <td>NaN</td>\n",
       "      <td>NaN</td>\n",
       "      <td>65534.000000</td>\n",
       "      <td>NaN</td>\n",
       "      <td>65534.000000</td>\n",
       "      <td>17.000000</td>\n",
       "      <td>NaN</td>\n",
       "      <td>1.199998e+08</td>\n",
       "      <td>10786.000000</td>\n",
       "      <td>...</td>\n",
       "      <td>44.000000</td>\n",
       "      <td>1.059147e+08</td>\n",
       "      <td>5.533398e+07</td>\n",
       "      <td>1.059147e+08</td>\n",
       "      <td>1.059147e+08</td>\n",
       "      <td>119933912.0</td>\n",
       "      <td>6.416210e+07</td>\n",
       "      <td>1.199339e+08</td>\n",
       "      <td>1.199339e+08</td>\n",
       "      <td>NaN</td>\n",
       "    </tr>\n",
       "  </tbody>\n",
       "</table>\n",
       "<p>11 rows × 77 columns</p>\n",
       "</div>"
      ],
      "text/plain": [
       "                 _c0                Flow ID         Src IP       Src Port  \\\n",
       "count   1.992460e+05                 199246         199246  199246.000000   \n",
       "unique           NaN                 196651           6870            NaN   \n",
       "top              NaN  8.0.6.4-8.6.0.1-0-0-0  18.218.115.60            NaN   \n",
       "freq             NaN                   1234          10009            NaN   \n",
       "mean    2.208204e+06                    NaN            NaN   49841.266705   \n",
       "std     2.361575e+06                    NaN            NaN   16431.050907   \n",
       "min     1.100000e+01                    NaN            NaN       0.000000   \n",
       "25%     4.812112e+05                    NaN            NaN   50624.000000   \n",
       "50%     5.304445e+05                    NaN            NaN   53401.000000   \n",
       "75%     3.919867e+06                    NaN            NaN   57345.000000   \n",
       "max     7.902428e+06                    NaN            NaN   65534.000000   \n",
       "\n",
       "              Dst IP       Dst Port       Protocol               Timestamp  \\\n",
       "count         199246  199246.000000  199246.000000                  199246   \n",
       "unique          6803            NaN            NaN                   35191   \n",
       "top     172.31.69.28            NaN            NaN  21/02/2018 11:53:27 PM   \n",
       "freq          100076            NaN            NaN                     403   \n",
       "mean             NaN    3871.088619       7.856163                     NaN   \n",
       "std              NaN   13018.581948       4.233458                     NaN   \n",
       "min              NaN       0.000000       0.000000                     NaN   \n",
       "25%              NaN      80.000000       6.000000                     NaN   \n",
       "50%              NaN      80.000000       6.000000                     NaN   \n",
       "75%              NaN     443.000000       6.000000                     NaN   \n",
       "max              NaN   65534.000000      17.000000                     NaN   \n",
       "\n",
       "        Flow Duration   Tot Fwd Pkts  ...  Fwd Seg Size Min   Active Mean  \\\n",
       "count    1.992460e+05  199246.000000  ...     199246.000000  1.992460e+05   \n",
       "unique            NaN            NaN  ...               NaN           NaN   \n",
       "top               NaN            NaN  ...               NaN           NaN   \n",
       "freq              NaN            NaN  ...               NaN           NaN   \n",
       "mean     6.751596e+06       3.491920  ...          7.255935  1.377885e+05   \n",
       "std      2.439371e+07      42.336539  ...          8.914476  2.362125e+06   \n",
       "min      1.000000e+00       0.000000  ...          0.000000  0.000000e+00   \n",
       "25%      1.225000e+03       1.000000  ...          0.000000  0.000000e+00   \n",
       "50%      4.231000e+03       1.000000  ...          0.000000  0.000000e+00   \n",
       "75%      2.942050e+04       2.000000  ...         20.000000  0.000000e+00   \n",
       "max      1.199998e+08   10786.000000  ...         44.000000  1.059147e+08   \n",
       "\n",
       "          Active Std    Active Max    Active Min    Idle Mean      Idle Std  \\\n",
       "count   1.992460e+05  1.992460e+05  1.992460e+05     199246.0  1.992460e+05   \n",
       "unique           NaN           NaN           NaN          NaN           NaN   \n",
       "top              NaN           NaN           NaN          NaN           NaN   \n",
       "freq             NaN           NaN           NaN          NaN           NaN   \n",
       "mean    7.161829e+04  2.079300e+05  8.949103e+04    2343666.0  9.973966e+04   \n",
       "std     1.439702e+06  3.142712e+06  1.983892e+06   10952542.0  1.379211e+06   \n",
       "min     0.000000e+00  0.000000e+00  0.000000e+00          0.0  0.000000e+00   \n",
       "25%     0.000000e+00  0.000000e+00  0.000000e+00          0.0  0.000000e+00   \n",
       "50%     0.000000e+00  0.000000e+00  0.000000e+00          0.0  0.000000e+00   \n",
       "75%     0.000000e+00  0.000000e+00  0.000000e+00          0.0  0.000000e+00   \n",
       "max     5.533398e+07  1.059147e+08  1.059147e+08  119933912.0  6.416210e+07   \n",
       "\n",
       "            Idle Max      Idle Min   Label  \n",
       "count   1.992460e+05  1.992460e+05  199246  \n",
       "unique           NaN           NaN       2  \n",
       "top              NaN           NaN    ddos  \n",
       "freq             NaN           NaN  100000  \n",
       "mean    2.424399e+06  2.252225e+06     NaN  \n",
       "std     1.120101e+07  1.081093e+07     NaN  \n",
       "min     0.000000e+00  0.000000e+00     NaN  \n",
       "25%     0.000000e+00  0.000000e+00     NaN  \n",
       "50%     0.000000e+00  0.000000e+00     NaN  \n",
       "75%     0.000000e+00  0.000000e+00     NaN  \n",
       "max     1.199339e+08  1.199339e+08     NaN  \n",
       "\n",
       "[11 rows x 77 columns]"
      ]
     },
     "execution_count": 46,
     "metadata": {},
     "output_type": "execute_result"
    }
   ],
   "source": [
    "df.toPandas().describe(include='all')"
   ]
  },
  {
   "cell_type": "code",
   "execution_count": 47,
   "id": "70b9ddfc-0d9f-456d-9b1a-12478f1fd5ef",
   "metadata": {
    "scrolled": true
   },
   "outputs": [
    {
     "data": {
      "text/plain": [
       "['_c0',\n",
       " 'Flow ID',\n",
       " 'Src IP',\n",
       " 'Src Port',\n",
       " 'Dst IP',\n",
       " 'Dst Port',\n",
       " 'Protocol',\n",
       " 'Timestamp',\n",
       " 'Flow Duration',\n",
       " 'Tot Fwd Pkts',\n",
       " 'Tot Bwd Pkts',\n",
       " 'TotLen Fwd Pkts',\n",
       " 'TotLen Bwd Pkts',\n",
       " 'Fwd Pkt Len Max',\n",
       " 'Fwd Pkt Len Min',\n",
       " 'Fwd Pkt Len Mean',\n",
       " 'Fwd Pkt Len Std',\n",
       " 'Bwd Pkt Len Max',\n",
       " 'Bwd Pkt Len Min',\n",
       " 'Bwd Pkt Len Mean',\n",
       " 'Bwd Pkt Len Std',\n",
       " 'Flow Byts/s',\n",
       " 'Flow Pkts/s',\n",
       " 'Flow IAT Mean',\n",
       " 'Flow IAT Std',\n",
       " 'Flow IAT Max',\n",
       " 'Flow IAT Min',\n",
       " 'Fwd IAT Tot',\n",
       " 'Fwd IAT Mean',\n",
       " 'Fwd IAT Std',\n",
       " 'Fwd IAT Max',\n",
       " 'Fwd IAT Min',\n",
       " 'Bwd IAT Tot',\n",
       " 'Bwd IAT Mean',\n",
       " 'Bwd IAT Std',\n",
       " 'Bwd IAT Max',\n",
       " 'Bwd IAT Min',\n",
       " 'Fwd PSH Flags',\n",
       " 'Bwd PSH Flags',\n",
       " 'Fwd Header Len',\n",
       " 'Bwd Header Len',\n",
       " 'Fwd Pkts/s',\n",
       " 'Bwd Pkts/s',\n",
       " 'Pkt Len Min',\n",
       " 'Pkt Len Max',\n",
       " 'Pkt Len Mean',\n",
       " 'Pkt Len Std',\n",
       " 'Pkt Len Var',\n",
       " 'FIN Flag Cnt',\n",
       " 'SYN Flag Cnt',\n",
       " 'RST Flag Cnt',\n",
       " 'PSH Flag Cnt',\n",
       " 'ACK Flag Cnt',\n",
       " 'URG Flag Cnt',\n",
       " 'CWE Flag Count',\n",
       " 'ECE Flag Cnt',\n",
       " 'Down/Up Ratio',\n",
       " 'Pkt Size Avg',\n",
       " 'Fwd Seg Size Avg',\n",
       " 'Bwd Seg Size Avg',\n",
       " 'Subflow Fwd Pkts',\n",
       " 'Subflow Fwd Byts',\n",
       " 'Subflow Bwd Pkts',\n",
       " 'Subflow Bwd Byts',\n",
       " 'Init Fwd Win Byts',\n",
       " 'Init Bwd Win Byts',\n",
       " 'Fwd Act Data Pkts',\n",
       " 'Fwd Seg Size Min',\n",
       " 'Active Mean',\n",
       " 'Active Std',\n",
       " 'Active Max',\n",
       " 'Active Min',\n",
       " 'Idle Mean',\n",
       " 'Idle Std',\n",
       " 'Idle Max',\n",
       " 'Idle Min',\n",
       " 'Label']"
      ]
     },
     "execution_count": 47,
     "metadata": {},
     "output_type": "execute_result"
    }
   ],
   "source": [
    "df.columns"
   ]
  },
  {
   "cell_type": "code",
   "execution_count": 23,
   "id": "8912af24-5de0-44ac-9d44-11abf03b6b9a",
   "metadata": {},
   "outputs": [
    {
     "data": {
      "text/plain": [
       "77"
      ]
     },
     "execution_count": 23,
     "metadata": {},
     "output_type": "execute_result"
    }
   ],
   "source": [
    "len(df.columns)"
   ]
  },
  {
   "cell_type": "code",
   "execution_count": 24,
   "id": "8c43cd11-90c9-4ad1-90e9-fd47d0853742",
   "metadata": {},
   "outputs": [
    {
     "name": "stderr",
     "output_type": "stream",
     "text": [
      "                                                                                \r"
     ]
    },
    {
     "data": {
      "text/plain": [
       "199246"
      ]
     },
     "execution_count": 24,
     "metadata": {},
     "output_type": "execute_result"
    }
   ],
   "source": [
    "df.count()"
   ]
  },
  {
   "cell_type": "markdown",
   "id": "85f606fe-3d0c-4ad9-9b68-02399146c8e4",
   "metadata": {},
   "source": [
    "drop other features we do not need"
   ]
  },
  {
   "cell_type": "code",
   "execution_count": 24,
   "id": "e923cf93-cb03-485a-96a8-fd1822822d8d",
   "metadata": {},
   "outputs": [
    {
     "name": "stdout",
     "output_type": "stream",
     "text": [
      "root\n",
      " |-- _c0: integer (nullable = true)\n",
      " |-- Flow ID: string (nullable = true)\n",
      " |-- Src IP: string (nullable = true)\n",
      " |-- Src Port: integer (nullable = true)\n",
      " |-- Dst IP: string (nullable = true)\n",
      " |-- Dst Port: integer (nullable = true)\n",
      " |-- Protocol: integer (nullable = true)\n",
      " |-- Timestamp: string (nullable = true)\n",
      " |-- Flow Duration: integer (nullable = true)\n",
      " |-- Tot Fwd Pkts: integer (nullable = true)\n",
      " |-- Tot Bwd Pkts: integer (nullable = true)\n",
      " |-- TotLen Fwd Pkts: float (nullable = true)\n",
      " |-- TotLen Bwd Pkts: float (nullable = true)\n",
      " |-- Fwd Pkt Len Max: float (nullable = true)\n",
      " |-- Fwd Pkt Len Min: float (nullable = true)\n",
      " |-- Fwd Pkt Len Mean: float (nullable = true)\n",
      " |-- Fwd Pkt Len Std: float (nullable = true)\n",
      " |-- Bwd Pkt Len Max: float (nullable = true)\n",
      " |-- Bwd Pkt Len Min: float (nullable = true)\n",
      " |-- Bwd Pkt Len Mean: float (nullable = true)\n",
      " |-- Bwd Pkt Len Std: float (nullable = true)\n",
      " |-- Flow Byts/s: float (nullable = true)\n",
      " |-- Flow Pkts/s: float (nullable = true)\n",
      " |-- Flow IAT Mean: float (nullable = true)\n",
      " |-- Flow IAT Std: float (nullable = true)\n",
      " |-- Flow IAT Max: float (nullable = true)\n",
      " |-- Flow IAT Min: float (nullable = true)\n",
      " |-- Fwd IAT Tot: float (nullable = true)\n",
      " |-- Fwd IAT Mean: float (nullable = true)\n",
      " |-- Fwd IAT Std: float (nullable = true)\n",
      " |-- Fwd IAT Max: float (nullable = true)\n",
      " |-- Fwd IAT Min: float (nullable = true)\n",
      " |-- Bwd IAT Tot: float (nullable = true)\n",
      " |-- Bwd IAT Mean: float (nullable = true)\n",
      " |-- Bwd IAT Std: float (nullable = true)\n",
      " |-- Bwd IAT Max: float (nullable = true)\n",
      " |-- Bwd IAT Min: float (nullable = true)\n",
      " |-- Fwd Header Len: integer (nullable = true)\n",
      " |-- Bwd Header Len: integer (nullable = true)\n",
      " |-- Fwd Pkts/s: float (nullable = true)\n",
      " |-- Bwd Pkts/s: float (nullable = true)\n",
      " |-- Pkt Len Min: float (nullable = true)\n",
      " |-- Pkt Len Max: float (nullable = true)\n",
      " |-- Pkt Len Mean: float (nullable = true)\n",
      " |-- Pkt Len Std: float (nullable = true)\n",
      " |-- Pkt Len Var: float (nullable = true)\n",
      " |-- SYN Flag Cnt: integer (nullable = true)\n",
      " |-- RST Flag Cnt: integer (nullable = true)\n",
      " |-- PSH Flag Cnt: integer (nullable = true)\n",
      " |-- ACK Flag Cnt: integer (nullable = true)\n",
      " |-- CWE Flag Count: integer (nullable = true)\n",
      " |-- ECE Flag Cnt: integer (nullable = true)\n",
      " |-- Down/Up Ratio: float (nullable = true)\n",
      " |-- Pkt Size Avg: float (nullable = true)\n",
      " |-- Fwd Seg Size Avg: float (nullable = true)\n",
      " |-- Bwd Seg Size Avg: float (nullable = true)\n",
      " |-- Subflow Fwd Pkts: integer (nullable = true)\n",
      " |-- Subflow Fwd Byts: integer (nullable = true)\n",
      " |-- Subflow Bwd Pkts: integer (nullable = true)\n",
      " |-- Subflow Bwd Byts: integer (nullable = true)\n",
      " |-- Init Fwd Win Byts: integer (nullable = true)\n",
      " |-- Init Bwd Win Byts: integer (nullable = true)\n",
      " |-- Fwd Act Data Pkts: integer (nullable = true)\n",
      " |-- Fwd Seg Size Min: integer (nullable = true)\n",
      " |-- Active Mean: float (nullable = true)\n",
      " |-- Active Std: float (nullable = true)\n",
      " |-- Active Max: float (nullable = true)\n",
      " |-- Active Min: float (nullable = true)\n",
      " |-- Idle Mean: float (nullable = true)\n",
      " |-- Idle Std: float (nullable = true)\n",
      " |-- Idle Max: float (nullable = true)\n",
      " |-- Idle Min: float (nullable = true)\n",
      " |-- Label: string (nullable = true)\n",
      "\n"
     ]
    }
   ],
   "source": [
    "# Drop the specified columns\n",
    "to_drop = ['Bwd Blk Rate Avg', 'Bwd Byts/b Avg', 'Bwd PSH Flags',\n",
    "       'Bwd Pkts/b Avg', 'Bwd URG Flags', 'FIN Flag Cnt',\n",
    "       'Fwd Blk Rate Avg', 'Fwd Byts/b Avg', 'Fwd PSH Flags',\n",
    "       'Fwd Pkts/b Avg', 'Fwd URG Flags', 'URG Flag Cnt']\n",
    "df = df.drop(*to_drop)\n",
    "\n",
    "# Show the updated DataFrame schema\n",
    "df.printSchema()"
   ]
  },
  {
   "cell_type": "code",
   "execution_count": null,
   "id": "6b09838b-3228-476a-9d4b-8aaaab4f095d",
   "metadata": {},
   "outputs": [],
   "source": []
  },
  {
   "cell_type": "markdown",
   "id": "e2408772-f285-4d74-abc3-795d475ec5e9",
   "metadata": {},
   "source": [
    "Back the cleaned df here"
   ]
  },
  {
   "cell_type": "code",
   "execution_count": 26,
   "id": "97616890-e112-431b-9be9-186ff7268ff1",
   "metadata": {},
   "outputs": [],
   "source": [
    "# backup the cleaned df here before moving on !!!!\n",
    "df_backup = df"
   ]
  },
  {
   "cell_type": "code",
   "execution_count": null,
   "id": "0a4d4ae6-3fd0-458f-b2c8-41e391335934",
   "metadata": {},
   "outputs": [],
   "source": []
  },
  {
   "cell_type": "markdown",
   "id": "bf45d65f-266c-46aa-a16b-b0dbe99cdf90",
   "metadata": {},
   "source": [
    "## vitialize the data distribution"
   ]
  },
  {
   "cell_type": "code",
   "execution_count": 6,
   "id": "3a0fca24-c6fa-49ed-8b94-b13a6587f18f",
   "metadata": {},
   "outputs": [],
   "source": [
    "import seaborn as sns\n",
    "import matplotlib.pyplot as plt"
   ]
  },
  {
   "cell_type": "code",
   "execution_count": 53,
   "id": "087ef032-4140-47e3-ab1d-42c4f4ae79f4",
   "metadata": {},
   "outputs": [
    {
     "name": "stderr",
     "output_type": "stream",
     "text": [
      "/tmp/ipykernel_2822/3506622681.py:6: FutureWarning:                             \n",
      "\n",
      "Passing `palette` without assigning `hue` is deprecated and will be removed in v0.14.0. Assign the `x` variable to `hue` and set `legend=False` for the same effect.\n",
      "\n",
      "  ax = sns.barplot(x=label_count.index, y=label_count.values, palette=['blue', 'green'])\n"
     ]
    },
    {
     "data": {
      "text/plain": [
       "Text(0.5, 1.0, 'Target Variable')"
      ]
     },
     "execution_count": 53,
     "metadata": {},
     "output_type": "execute_result"
    },
    {
     "data": {
      "image/png": "[encoded data removed]",
      "text/plain": [
       "<Figure size 640x480 with 2 Axes>"
      ]
     },
     "metadata": {},
     "output_type": "display_data"
    }
   ],
   "source": [
    "# First, convert the Spark DataFrame to a pandas DataFrame for visualization\n",
    "pandas_df = df.toPandas()\n",
    "\n",
    "# Plotting the target variable\n",
    "label_count = pandas_df['Label'].value_counts(normalize=True) * 100\n",
    "ax = sns.barplot(x=label_count.index, y=label_count.values, palette=['blue', 'green'])\n",
    "ax1 = ax.twinx()\n",
    "ax.set_ylabel('Frequency [%]')\n",
    "ax1.set_ylabel(\"Count (in thousands)\")\n",
    "ax1.set_ylim(0, len(pandas_df) / 1000)\n",
    "ax.set_ylim(0, 100)\n",
    "plt.title('Target Variable')\n",
    "\n",
    "# Show the plot"
   ]
  },
  {
   "cell_type": "markdown",
   "id": "474ca140-e1de-422f-9971-088acbea44de",
   "metadata": {},
   "source": [
    "The dataset is almost balanced and contains the ratio of ddos sample over non-ddos samples is about 1:1"
   ]
  },
  {
   "cell_type": "code",
   "execution_count": 54,
   "id": "366b0164-9089-4cd1-831d-746223e10020",
   "metadata": {},
   "outputs": [
    {
     "name": "stderr",
     "output_type": "stream",
     "text": [
      "                                                                                \r"
     ]
    },
    {
     "data": {
      "text/plain": [
       "<Axes: xlabel='Protocol_Label', ylabel='Count'>"
      ]
     },
     "execution_count": 54,
     "metadata": {},
     "output_type": "execute_result"
    },
    {
     "data": {
      "image/png": "[encoded data removed]",
      "text/plain": [
       "<Figure size 640x480 with 1 Axes>"
      ]
     },
     "metadata": {},
     "output_type": "display_data"
    }
   ],
   "source": [
    "from pyspark.sql import functions as F\n",
    "import seaborn as sns\n",
    "\n",
    "# Crosstabulation using Spark\n",
    "crosstab_df = df.crosstab('Protocol', 'Label')\n",
    "\n",
    "# Convert Spark DataFrame to Pandas DataFrame for visualization\n",
    "pandas_df = crosstab_df.toPandas()\n",
    "\n",
    "# Reshape the data to plot\n",
    "pandas_df = pandas_df.melt(id_vars=['Protocol_Label'], var_name='Label', value_name='Count')\n",
    "\n",
    "# Plotting the data\n",
    "sns.barplot(x='Protocol_Label', y='Count', hue='Label', data=pandas_df)"
   ]
  },
  {
   "cell_type": "markdown",
   "id": "1a132fab-e606-4698-a627-48a27cfbcfb9",
   "metadata": {},
   "source": [
    "protocal 6 and 17 are TCP and UDP respectively\n",
    "\n",
    "we can see that the ddos sample in this dataset are all in protocal 6, which is TCP. So, the feature 'protocal' can be essential for detection"
   ]
  },
  {
   "cell_type": "code",
   "execution_count": null,
   "id": "f1a0fb0f-b0cc-42bb-83ac-f3ac3541a0b9",
   "metadata": {},
   "outputs": [],
   "source": []
  },
  {
   "cell_type": "code",
   "execution_count": null,
   "id": "6e0a4d97-d755-4180-a747-bc9cdcf7fad4",
   "metadata": {},
   "outputs": [],
   "source": []
  },
  {
   "cell_type": "code",
   "execution_count": null,
   "id": "e62798b0-d21b-4580-a850-6439068ab33b",
   "metadata": {},
   "outputs": [],
   "source": []
  },
  {
   "cell_type": "markdown",
   "id": "ae096240-fd84-4c40-9638-05152e7fc689",
   "metadata": {},
   "source": [
    "# Feature Engineering using Correlation values\n",
    "examine the correlation values between each feature and the target variable (label) and select features with high absolute correlation values."
   ]
  },
  {
   "cell_type": "code",
   "execution_count": 27,
   "id": "452248d9-033a-4650-ba35-f5beb3189f60",
   "metadata": {},
   "outputs": [],
   "source": [
    "from pyspark.ml.feature import ChiSqSelector\n",
    "from pyspark.ml.stat import Correlation\n",
    "from pyspark.sql import SparkSession\n",
    "from pyspark.ml import Pipeline\n",
    "from pyspark.ml.feature import VectorAssembler, StringIndexer, StandardScaler, PCA\n",
    "from pyspark.ml.classification import RandomForestClassifier\n",
    "from pyspark.ml.evaluation import BinaryClassificationEvaluator\n",
    "from pyspark.ml.tuning import CrossValidator, ParamGridBuilder\n",
    "import matplotlib.pyplot as plt"
   ]
  },
  {
   "cell_type": "code",
   "execution_count": 28,
   "id": "a628bee3-e017-47bd-8ebb-fb11f67a3806",
   "metadata": {},
   "outputs": [],
   "source": [
    "# df = spark.read.csv(\"hdfs://172.31.8.146:9000/bal_min_200000.csv\", schema=schema, header=True)\n",
    "df = df_backup"
   ]
  },
  {
   "cell_type": "code",
   "execution_count": 29,
   "id": "dc41eac6-42eb-4e85-9637-68f86c9590e6",
   "metadata": {},
   "outputs": [],
   "source": [
    "df = df.withColumn(\"Label\", when(df[\"Label\"] == \"ddos\", 1).otherwise(0))"
   ]
  },
  {
   "cell_type": "code",
   "execution_count": 30,
   "id": "9436563f-461f-4b1e-8c4e-c0299d34d994",
   "metadata": {},
   "outputs": [],
   "source": [
    "# feature_cols = df.columns[:-1]  # Exclude the label column\n",
    "feature_cols = [col for col in df.columns if col not in [\"Flow ID\", \"Src IP\", \"Dst IP\", \"Timestamp\", \"Label\"]]"
   ]
  },
  {
   "cell_type": "code",
   "execution_count": 31,
   "id": "461f7a8c-b560-46d8-921a-17d0ad562278",
   "metadata": {},
   "outputs": [],
   "source": [
    "# Assemble features into a vector\n",
    "assembler = VectorAssembler(inputCols=feature_cols, outputCol=\"features\")\n",
    "df = assembler.transform(df)"
   ]
  },
  {
   "cell_type": "code",
   "execution_count": 32,
   "id": "ea5d335a-890e-4579-ac33-8bad4a23b263",
   "metadata": {},
   "outputs": [
    {
     "name": "stderr",
     "output_type": "stream",
     "text": [
      "                                                                                \r"
     ]
    }
   ],
   "source": [
    "# Scale the features\n",
    "scaler = StandardScaler(inputCol=\"features\", outputCol=\"scaledFeatures\")\n",
    "df = scaler.fit(df).transform(df)"
   ]
  },
  {
   "cell_type": "code",
   "execution_count": 33,
   "id": "0727ae29-1996-4c51-9b57-189e3a0ba660",
   "metadata": {},
   "outputs": [
    {
     "name": "stderr",
     "output_type": "stream",
     "text": [
      "                                                                                \r"
     ]
    }
   ],
   "source": [
    "# Calculate the correlation matrix\n",
    "correlation_matrix = Correlation.corr(df, \"scaledFeatures\").head()\n",
    "correlation_array = correlation_matrix[0].toArray()"
   ]
  },
  {
   "cell_type": "code",
   "execution_count": 34,
   "id": "e52212b6-0034-4152-b73c-cc7d3a10d553",
   "metadata": {},
   "outputs": [],
   "source": [
    "# Convert the correlation matrix to a DataFrame\n",
    "corr_df = spark.createDataFrame(correlation_array.tolist(), feature_cols)"
   ]
  },
  {
   "cell_type": "code",
   "execution_count": null,
   "id": "89b14ae3-c58a-41e4-95e2-00a8c6304a47",
   "metadata": {},
   "outputs": [],
   "source": []
  },
  {
   "cell_type": "code",
   "execution_count": null,
   "id": "83fd1e25-a7f2-4b76-8a97-dc29e3ecdb6a",
   "metadata": {},
   "outputs": [],
   "source": []
  },
  {
   "cell_type": "code",
   "execution_count": 35,
   "id": "5abad08b-12da-4156-b898-f460b6c78c14",
   "metadata": {},
   "outputs": [
    {
     "name": "stdout",
     "output_type": "stream",
     "text": [
      "Selected Features: ['Src Port', 'Dst Port', 'Protocol', 'Flow Duration', 'TotLen Fwd Pkts', 'Fwd Pkt Len Max', 'Fwd Pkt Len Min', 'Fwd Pkt Len Std', 'Bwd Pkt Len Max', 'Bwd Pkt Len Min', 'Bwd Pkt Len Mean', 'Bwd Pkt Len Std', 'Flow IAT Mean', 'Flow IAT Std', 'Flow IAT Max', 'Flow IAT Min', 'Fwd IAT Tot', 'Fwd IAT Mean', 'Fwd IAT Std', 'Fwd IAT Max', 'Fwd IAT Min', 'Bwd IAT Tot', 'Bwd IAT Std', 'Bwd IAT Max', 'Pkt Len Min', 'Pkt Len Max', 'Pkt Len Mean', 'Pkt Len Std', 'Pkt Len Var', 'RST Flag Cnt', 'ECE Flag Cnt', 'Down/Up Ratio', 'Bwd Seg Size Avg', 'Subflow Fwd Byts', 'Init Fwd Win Byts', 'Fwd Act Data Pkts', 'Idle Mean', 'Idle Max', 'Idle Min']\n"
     ]
    }
   ],
   "source": [
    "# Define the threshold for selecting features based on correlation\n",
    "threshold_l = 0.1\n",
    "threshold_r = 0.35\n",
    "\n",
    "# Filter features based on correlation with the target variable (label)\n",
    "selected_features = []\n",
    "for feature in feature_cols:\n",
    "    correlation_value = corr_df.select(feature).collect()[0][0]\n",
    "    if abs(correlation_value) >= threshold_l and abs(correlation_value) <= threshold_r:\n",
    "        selected_features.append(feature)\n",
    "\n",
    "print(\"Selected Features:\", selected_features)"
   ]
  },
  {
   "cell_type": "code",
   "execution_count": 36,
   "id": "929f2d8b-1f51-4645-809c-b0d4b31e0833",
   "metadata": {},
   "outputs": [
    {
     "data": {
      "text/plain": [
       "['Dst Port',\n",
       " 'Protocol',\n",
       " 'Flow Duration',\n",
       " 'TotLen Fwd Pkts',\n",
       " 'Fwd Pkt Len Max',\n",
       " 'Fwd Pkt Len Min',\n",
       " 'Fwd Pkt Len Std',\n",
       " 'Bwd Pkt Len Max',\n",
       " 'Bwd Pkt Len Min',\n",
       " 'Bwd Pkt Len Mean',\n",
       " 'Bwd Pkt Len Std',\n",
       " 'Flow IAT Mean',\n",
       " 'Flow IAT Std',\n",
       " 'Flow IAT Max',\n",
       " 'Flow IAT Min',\n",
       " 'Fwd IAT Tot',\n",
       " 'Fwd IAT Mean',\n",
       " 'Fwd IAT Std',\n",
       " 'Fwd IAT Max',\n",
       " 'Fwd IAT Min',\n",
       " 'Bwd IAT Tot',\n",
       " 'Bwd IAT Std',\n",
       " 'Bwd IAT Max',\n",
       " 'Pkt Len Min',\n",
       " 'Pkt Len Max',\n",
       " 'Pkt Len Mean',\n",
       " 'Pkt Len Std',\n",
       " 'Pkt Len Var',\n",
       " 'RST Flag Cnt',\n",
       " 'ECE Flag Cnt',\n",
       " 'Down/Up Ratio',\n",
       " 'Bwd Seg Size Avg',\n",
       " 'Subflow Fwd Byts',\n",
       " 'Init Fwd Win Byts',\n",
       " 'Fwd Act Data Pkts',\n",
       " 'Idle Mean',\n",
       " 'Idle Max',\n",
       " 'Idle Min']"
      ]
     },
     "execution_count": 36,
     "metadata": {},
     "output_type": "execute_result"
    }
   ],
   "source": [
    "# drop the id column\n",
    "selected_features = selected_features[1:]\n",
    "selected_features"
   ]
  },
  {
   "cell_type": "code",
   "execution_count": 39,
   "id": "1505e711-f8a1-457d-b54d-25b2d53ece42",
   "metadata": {},
   "outputs": [
    {
     "data": {
      "text/plain": [
       "38"
      ]
     },
     "execution_count": 39,
     "metadata": {},
     "output_type": "execute_result"
    }
   ],
   "source": [
    "len(selected_features)"
   ]
  },
  {
   "cell_type": "code",
   "execution_count": 37,
   "id": "6be327e2-0cd1-4883-9391-e39d67baf5d0",
   "metadata": {},
   "outputs": [
    {
     "name": "stdout",
     "output_type": "stream",
     "text": [
      "Correlation of _c0 with Label: 1.0\n",
      "Correlation of Src Port with Label: -0.2529874539862367\n",
      "Correlation of Dst Port with Label: 0.2084628555358061\n",
      "Correlation of Protocol with Label: 0.2709118267498474\n",
      "Correlation of Flow Duration with Label: 0.21203340885039776\n",
      "Correlation of Tot Fwd Pkts with Label: 0.0447760643979279\n",
      "Correlation of Tot Bwd Pkts with Label: 0.019028339671772605\n",
      "Correlation of TotLen Fwd Pkts with Label: 0.16623940648336222\n",
      "Correlation of TotLen Bwd Pkts with Label: 0.011159725138251737\n",
      "Correlation of Fwd Pkt Len Max with Label: 0.32680057197866025\n",
      "Correlation of Fwd Pkt Len Min with Label: 0.2430294769832471\n",
      "Correlation of Fwd Pkt Len Mean with Label: 0.39843847822895956\n",
      "Correlation of Fwd Pkt Len Std with Label: 0.3096165461608137\n",
      "Correlation of Bwd Pkt Len Max with Label: 0.33278635287489955\n",
      "Correlation of Bwd Pkt Len Min with Label: 0.2837786371712582\n",
      "Correlation of Bwd Pkt Len Mean with Label: 0.30785687505504383\n",
      "Correlation of Bwd Pkt Len Std with Label: 0.29993528076620735\n",
      "Correlation of Flow Byts/s with Label: 0.018955958694245312\n",
      "Correlation of Flow Pkts/s with Label: 0.0636499004106256\n",
      "Correlation of Flow IAT Mean with Label: 0.18676771441521287\n",
      "Correlation of Flow IAT Std with Label: 0.1262645911777479\n",
      "Correlation of Flow IAT Max with Label: 0.2188890243628984\n",
      "Correlation of Flow IAT Min with Label: 0.16898211933849477\n",
      "Correlation of Fwd IAT Tot with Label: 0.21157303697998012\n",
      "Correlation of Fwd IAT Mean with Label: 0.2010415410947829\n",
      "Correlation of Fwd IAT Std with Label: 0.1352021073644489\n",
      "Correlation of Fwd IAT Max with Label: 0.22180236930431535\n",
      "Correlation of Fwd IAT Min with Label: 0.17086784395039933\n",
      "Correlation of Bwd IAT Tot with Label: 0.14795140319394726\n",
      "Correlation of Bwd IAT Mean with Label: 0.09012973018265721\n",
      "Correlation of Bwd IAT Std with Label: 0.11416252556973282\n",
      "Correlation of Bwd IAT Max with Label: 0.13103377903030777\n",
      "Correlation of Bwd IAT Min with Label: 0.04033714557191826\n",
      "Correlation of Fwd Header Len with Label: 0.03350286575238328\n",
      "Correlation of Bwd Header Len with Label: 0.019588456418987026\n",
      "Correlation of Fwd Pkts/s with Label: 0.06670371504204677\n",
      "Correlation of Bwd Pkts/s with Label: -0.00031097716088532344\n",
      "Correlation of Pkt Len Min with Label: 0.25776443879919975\n",
      "Correlation of Pkt Len Max with Label: 0.3334007307075813\n",
      "Correlation of Pkt Len Mean with Label: 0.3280907108966218\n",
      "Correlation of Pkt Len Std with Label: 0.32492515456713505\n",
      "Correlation of Pkt Len Var with Label: 0.18961503797974338\n",
      "Correlation of SYN Flag Cnt with Label: 0.06602561766596618\n",
      "Correlation of RST Flag Cnt with Label: 0.3090623821633778\n",
      "Correlation of PSH Flag Cnt with Label: 0.42170685452253026\n",
      "Correlation of ACK Flag Cnt with Label: -0.5669029739022424\n",
      "Correlation of CWE Flag Count with Label: -0.017762797973632196\n",
      "Correlation of ECE Flag Cnt with Label: 0.3097645197842036\n",
      "Correlation of Down/Up Ratio with Label: -0.212792508815647\n",
      "Correlation of Pkt Size Avg with Label: 0.35807484876328144\n",
      "Correlation of Fwd Seg Size Avg with Label: 0.39843847822895956\n",
      "Correlation of Bwd Seg Size Avg with Label: 0.30785687505504383\n",
      "Correlation of Subflow Fwd Pkts with Label: 0.0447760643979279\n",
      "Correlation of Subflow Fwd Byts with Label: 0.16623940648336222\n",
      "Correlation of Subflow Bwd Pkts with Label: 0.019028339671772605\n",
      "Correlation of Subflow Bwd Byts with Label: 0.011159725138251737\n",
      "Correlation of Init Fwd Win Byts with Label: 0.32926187580025884\n",
      "Correlation of Init Bwd Win Byts with Label: -0.36983855689071865\n",
      "Correlation of Fwd Act Data Pkts with Label: 0.23099121008119383\n",
      "Correlation of Fwd Seg Size Min with Label: 0.7060542295147465\n",
      "Correlation of Active Mean with Label: 0.05037944719216389\n",
      "Correlation of Active Std with Label: 0.04043925843501552\n",
      "Correlation of Active Max with Label: 0.0545950641087678\n",
      "Correlation of Active Min with Label: 0.03987881329710745\n",
      "Correlation of Idle Mean with Label: 0.19796298623228797\n",
      "Correlation of Idle Std with Label: 0.047907899438149076\n",
      "Correlation of Idle Max with Label: 0.1983524023662667\n",
      "Correlation of Idle Min with Label: 0.19508914609113995\n"
     ]
    }
   ],
   "source": [
    "# Extract correlation values for each feature with the target variable (label)\n",
    "correlation_with_label = {}\n",
    "for feature in feature_cols:\n",
    "    correlation_value = corr_df.select(feature).collect()[0][0]\n",
    "    correlation_with_label[feature] = correlation_value\n",
    "\n",
    "# Print correlation values\n",
    "for feature, correlation_value in correlation_with_label.items():\n",
    "    print(f\"Correlation of {feature} with Label: {correlation_value}\")"
   ]
  },
  {
   "cell_type": "code",
   "execution_count": 38,
   "id": "72f5110f-b96f-4fb7-8783-095f84111d42",
   "metadata": {},
   "outputs": [
    {
     "data": {
      "image/png": "[encoded data removed]",
      "text/plain": [
       "<Figure size 2500x600 with 1 Axes>"
      ]
     },
     "metadata": {},
     "output_type": "display_data"
    }
   ],
   "source": [
    "# Plot correlation values\n",
    "plt.figure(figsize=(25, 6))\n",
    "plt.bar(correlation_with_label.keys(), correlation_with_label.values(), color='blue')\n",
    "plt.xlabel('Features')\n",
    "plt.ylabel('Correlation with Label')\n",
    "plt.title('Correlation of Features with Label')\n",
    "plt.xticks(rotation=55)\n",
    "plt.show()"
   ]
  },
  {
   "cell_type": "code",
   "execution_count": null,
   "id": "5419cfa5-a991-4664-9c3d-b714b078f2b7",
   "metadata": {},
   "outputs": [],
   "source": []
  },
  {
   "cell_type": "code",
   "execution_count": null,
   "id": "b8c047f9-301d-4aff-95b9-f1799714a516",
   "metadata": {},
   "outputs": [],
   "source": []
  },
  {
   "cell_type": "code",
   "execution_count": null,
   "id": "2d994148-ad9f-403b-8a3e-69b25c974b90",
   "metadata": {},
   "outputs": [],
   "source": []
  },
  {
   "cell_type": "code",
   "execution_count": null,
   "id": "450589f9-8a09-4044-8ea0-3e7bf8bc47f1",
   "metadata": {},
   "outputs": [],
   "source": []
  },
  {
   "cell_type": "code",
   "execution_count": null,
   "id": "aefda915-ecb9-44fb-8c10-0a7a1de30f02",
   "metadata": {},
   "outputs": [],
   "source": []
  },
  {
   "cell_type": "code",
   "execution_count": null,
   "id": "9bc89784-a2d8-43b2-b93c-6d66b23a0842",
   "metadata": {},
   "outputs": [],
   "source": []
  },
  {
   "cell_type": "code",
   "execution_count": 58,
   "id": "3493b681-98a6-43a0-8467-5792568082a2",
   "metadata": {},
   "outputs": [],
   "source": []
  },
  {
   "cell_type": "markdown",
   "id": "46e383f9-4dd8-461e-a093-6f9676f487b9",
   "metadata": {},
   "source": [
    "## DDoS detection using random forest"
   ]
  },
  {
   "cell_type": "code",
   "execution_count": 16,
   "id": "6129e159-a7de-407e-9118-580d877330eb",
   "metadata": {},
   "outputs": [],
   "source": [
    "from pyspark.sql import SparkSession\n",
    "from pyspark.ml import Pipeline\n",
    "from pyspark.ml.feature import VectorAssembler, StringIndexer, StandardScaler, PCA\n",
    "from pyspark.ml.classification import RandomForestClassifier\n",
    "from pyspark.ml.evaluation import BinaryClassificationEvaluator\n",
    "from pyspark.ml.tuning import CrossValidator, ParamGridBuilder\n",
    "import matplotlib.pyplot as plt"
   ]
  },
  {
   "cell_type": "code",
   "execution_count": 52,
   "id": "6d4f3ded-11b9-4aa4-b304-b4e63a38dedb",
   "metadata": {},
   "outputs": [],
   "source": [
    "df = df_backup"
   ]
  },
  {
   "cell_type": "code",
   "execution_count": 228,
   "id": "96b93dd4-6a65-4476-9dc0-3c496578c4e2",
   "metadata": {},
   "outputs": [],
   "source": [
    "# Map \"ddos\" to 1 and \"Benign\" to 0 in the label column\n",
    "# This is required by the random forest in PySpark\n",
    "df = df.withColumn(\"Label\", when(col(\"Label\") == \"ddos\", 1).otherwise(0))"
   ]
  },
  {
   "cell_type": "code",
   "execution_count": 229,
   "id": "f7af54d9-7475-4428-8efb-3c291fbaa697",
   "metadata": {},
   "outputs": [],
   "source": [
    "(trainingData, testData) = df.randomSplit([0.7, 0.3])"
   ]
  },
  {
   "cell_type": "code",
   "execution_count": 62,
   "id": "16801a86-35f3-4ad1-9538-30852111ea1d",
   "metadata": {},
   "outputs": [
    {
     "name": "stderr",
     "output_type": "stream",
     "text": [
      "                                                                                \r"
     ]
    },
    {
     "data": {
      "text/html": [
       "<div>\n",
       "<style scoped>\n",
       "    .dataframe tbody tr th:only-of-type {\n",
       "        vertical-align: middle;\n",
       "    }\n",
       "\n",
       "    .dataframe tbody tr th {\n",
       "        vertical-align: top;\n",
       "    }\n",
       "\n",
       "    .dataframe thead th {\n",
       "        text-align: right;\n",
       "    }\n",
       "</style>\n",
       "<table border=\"1\" class=\"dataframe\">\n",
       "  <thead>\n",
       "    <tr style=\"text-align: right;\">\n",
       "      <th></th>\n",
       "      <th>_c0</th>\n",
       "      <th>Src Port</th>\n",
       "      <th>Dst Port</th>\n",
       "      <th>Protocol</th>\n",
       "      <th>Flow Duration</th>\n",
       "      <th>Tot Fwd Pkts</th>\n",
       "      <th>Tot Bwd Pkts</th>\n",
       "      <th>TotLen Fwd Pkts</th>\n",
       "      <th>TotLen Bwd Pkts</th>\n",
       "      <th>Fwd Pkt Len Max</th>\n",
       "      <th>...</th>\n",
       "      <th>Fwd Seg Size Min</th>\n",
       "      <th>Active Mean</th>\n",
       "      <th>Active Std</th>\n",
       "      <th>Active Max</th>\n",
       "      <th>Active Min</th>\n",
       "      <th>Idle Mean</th>\n",
       "      <th>Idle Std</th>\n",
       "      <th>Idle Max</th>\n",
       "      <th>Idle Min</th>\n",
       "      <th>Label</th>\n",
       "    </tr>\n",
       "  </thead>\n",
       "  <tbody>\n",
       "    <tr>\n",
       "      <th>count</th>\n",
       "      <td>5.999300e+04</td>\n",
       "      <td>59993.000000</td>\n",
       "      <td>59993.000000</td>\n",
       "      <td>59993.000000</td>\n",
       "      <td>5.999300e+04</td>\n",
       "      <td>59993.000000</td>\n",
       "      <td>59993.000000</td>\n",
       "      <td>59993.000000</td>\n",
       "      <td>5.999300e+04</td>\n",
       "      <td>59993.000000</td>\n",
       "      <td>...</td>\n",
       "      <td>59993.000000</td>\n",
       "      <td>5.999300e+04</td>\n",
       "      <td>5.999300e+04</td>\n",
       "      <td>5.999300e+04</td>\n",
       "      <td>5.999300e+04</td>\n",
       "      <td>59993.0</td>\n",
       "      <td>5.999300e+04</td>\n",
       "      <td>59993.0</td>\n",
       "      <td>5.999300e+04</td>\n",
       "      <td>59993.000000</td>\n",
       "    </tr>\n",
       "    <tr>\n",
       "      <th>mean</th>\n",
       "      <td>2.209301e+06</td>\n",
       "      <td>49884.972997</td>\n",
       "      <td>3831.557198</td>\n",
       "      <td>7.839865</td>\n",
       "      <td>6.795272e+06</td>\n",
       "      <td>3.635007</td>\n",
       "      <td>4.089227</td>\n",
       "      <td>192.666992</td>\n",
       "      <td>2.714669e+03</td>\n",
       "      <td>92.775925</td>\n",
       "      <td>...</td>\n",
       "      <td>7.247312</td>\n",
       "      <td>1.433035e+05</td>\n",
       "      <td>6.995245e+04</td>\n",
       "      <td>2.116396e+05</td>\n",
       "      <td>9.599049e+04</td>\n",
       "      <td>2379992.0</td>\n",
       "      <td>9.424021e+04</td>\n",
       "      <td>2456473.0</td>\n",
       "      <td>2.293010e+06</td>\n",
       "      <td>0.502259</td>\n",
       "    </tr>\n",
       "    <tr>\n",
       "      <th>std</th>\n",
       "      <td>2.364950e+06</td>\n",
       "      <td>16337.761781</td>\n",
       "      <td>12959.388424</td>\n",
       "      <td>4.226739</td>\n",
       "      <td>2.444092e+07</td>\n",
       "      <td>51.872248</td>\n",
       "      <td>110.041848</td>\n",
       "      <td>810.512268</td>\n",
       "      <td>1.587419e+05</td>\n",
       "      <td>222.003296</td>\n",
       "      <td>...</td>\n",
       "      <td>8.913846</td>\n",
       "      <td>2.435227e+06</td>\n",
       "      <td>1.426363e+06</td>\n",
       "      <td>3.182056e+06</td>\n",
       "      <td>2.078318e+06</td>\n",
       "      <td>11044816.0</td>\n",
       "      <td>1.320865e+06</td>\n",
       "      <td>11273272.0</td>\n",
       "      <td>1.091365e+07</td>\n",
       "      <td>0.499999</td>\n",
       "    </tr>\n",
       "    <tr>\n",
       "      <th>min</th>\n",
       "      <td>2.300000e+02</td>\n",
       "      <td>0.000000</td>\n",
       "      <td>0.000000</td>\n",
       "      <td>0.000000</td>\n",
       "      <td>1.000000e+00</td>\n",
       "      <td>0.000000</td>\n",
       "      <td>0.000000</td>\n",
       "      <td>0.000000</td>\n",
       "      <td>0.000000e+00</td>\n",
       "      <td>0.000000</td>\n",
       "      <td>...</td>\n",
       "      <td>0.000000</td>\n",
       "      <td>0.000000e+00</td>\n",
       "      <td>0.000000e+00</td>\n",
       "      <td>0.000000e+00</td>\n",
       "      <td>0.000000e+00</td>\n",
       "      <td>0.0</td>\n",
       "      <td>0.000000e+00</td>\n",
       "      <td>0.0</td>\n",
       "      <td>0.000000e+00</td>\n",
       "      <td>0.000000</td>\n",
       "    </tr>\n",
       "    <tr>\n",
       "      <th>25%</th>\n",
       "      <td>4.811340e+05</td>\n",
       "      <td>50613.000000</td>\n",
       "      <td>80.000000</td>\n",
       "      <td>6.000000</td>\n",
       "      <td>1.259000e+03</td>\n",
       "      <td>1.000000</td>\n",
       "      <td>1.000000</td>\n",
       "      <td>0.000000</td>\n",
       "      <td>0.000000e+00</td>\n",
       "      <td>0.000000</td>\n",
       "      <td>...</td>\n",
       "      <td>0.000000</td>\n",
       "      <td>0.000000e+00</td>\n",
       "      <td>0.000000e+00</td>\n",
       "      <td>0.000000e+00</td>\n",
       "      <td>0.000000e+00</td>\n",
       "      <td>0.0</td>\n",
       "      <td>0.000000e+00</td>\n",
       "      <td>0.0</td>\n",
       "      <td>0.000000e+00</td>\n",
       "      <td>0.000000</td>\n",
       "    </tr>\n",
       "    <tr>\n",
       "      <th>50%</th>\n",
       "      <td>5.300720e+05</td>\n",
       "      <td>53386.000000</td>\n",
       "      <td>80.000000</td>\n",
       "      <td>6.000000</td>\n",
       "      <td>4.282000e+03</td>\n",
       "      <td>1.000000</td>\n",
       "      <td>1.000000</td>\n",
       "      <td>0.000000</td>\n",
       "      <td>0.000000e+00</td>\n",
       "      <td>0.000000</td>\n",
       "      <td>...</td>\n",
       "      <td>0.000000</td>\n",
       "      <td>0.000000e+00</td>\n",
       "      <td>0.000000e+00</td>\n",
       "      <td>0.000000e+00</td>\n",
       "      <td>0.000000e+00</td>\n",
       "      <td>0.0</td>\n",
       "      <td>0.000000e+00</td>\n",
       "      <td>0.0</td>\n",
       "      <td>0.000000e+00</td>\n",
       "      <td>1.000000</td>\n",
       "    </tr>\n",
       "    <tr>\n",
       "      <th>75%</th>\n",
       "      <td>3.931148e+06</td>\n",
       "      <td>57316.000000</td>\n",
       "      <td>443.000000</td>\n",
       "      <td>6.000000</td>\n",
       "      <td>3.054500e+04</td>\n",
       "      <td>2.000000</td>\n",
       "      <td>1.000000</td>\n",
       "      <td>46.000000</td>\n",
       "      <td>1.180000e+02</td>\n",
       "      <td>42.000000</td>\n",
       "      <td>...</td>\n",
       "      <td>20.000000</td>\n",
       "      <td>0.000000e+00</td>\n",
       "      <td>0.000000e+00</td>\n",
       "      <td>0.000000e+00</td>\n",
       "      <td>0.000000e+00</td>\n",
       "      <td>0.0</td>\n",
       "      <td>0.000000e+00</td>\n",
       "      <td>0.0</td>\n",
       "      <td>0.000000e+00</td>\n",
       "      <td>1.000000</td>\n",
       "    </tr>\n",
       "    <tr>\n",
       "      <th>max</th>\n",
       "      <td>7.902082e+06</td>\n",
       "      <td>65534.000000</td>\n",
       "      <td>65524.000000</td>\n",
       "      <td>17.000000</td>\n",
       "      <td>1.199998e+08</td>\n",
       "      <td>10105.000000</td>\n",
       "      <td>20861.000000</td>\n",
       "      <td>73848.000000</td>\n",
       "      <td>3.036578e+07</td>\n",
       "      <td>8460.000000</td>\n",
       "      <td>...</td>\n",
       "      <td>44.000000</td>\n",
       "      <td>1.057303e+08</td>\n",
       "      <td>5.370796e+07</td>\n",
       "      <td>1.057303e+08</td>\n",
       "      <td>1.057303e+08</td>\n",
       "      <td>119793752.0</td>\n",
       "      <td>6.416210e+07</td>\n",
       "      <td>119793752.0</td>\n",
       "      <td>1.197938e+08</td>\n",
       "      <td>1.000000</td>\n",
       "    </tr>\n",
       "  </tbody>\n",
       "</table>\n",
       "<p>8 rows × 69 columns</p>\n",
       "</div>"
      ],
      "text/plain": [
       "                _c0      Src Port      Dst Port      Protocol  Flow Duration  \\\n",
       "count  5.999300e+04  59993.000000  59993.000000  59993.000000   5.999300e+04   \n",
       "mean   2.209301e+06  49884.972997   3831.557198      7.839865   6.795272e+06   \n",
       "std    2.364950e+06  16337.761781  12959.388424      4.226739   2.444092e+07   \n",
       "min    2.300000e+02      0.000000      0.000000      0.000000   1.000000e+00   \n",
       "25%    4.811340e+05  50613.000000     80.000000      6.000000   1.259000e+03   \n",
       "50%    5.300720e+05  53386.000000     80.000000      6.000000   4.282000e+03   \n",
       "75%    3.931148e+06  57316.000000    443.000000      6.000000   3.054500e+04   \n",
       "max    7.902082e+06  65534.000000  65524.000000     17.000000   1.199998e+08   \n",
       "\n",
       "       Tot Fwd Pkts  Tot Bwd Pkts  TotLen Fwd Pkts  TotLen Bwd Pkts  \\\n",
       "count  59993.000000  59993.000000     59993.000000     5.999300e+04   \n",
       "mean       3.635007      4.089227       192.666992     2.714669e+03   \n",
       "std       51.872248    110.041848       810.512268     1.587419e+05   \n",
       "min        0.000000      0.000000         0.000000     0.000000e+00   \n",
       "25%        1.000000      1.000000         0.000000     0.000000e+00   \n",
       "50%        1.000000      1.000000         0.000000     0.000000e+00   \n",
       "75%        2.000000      1.000000        46.000000     1.180000e+02   \n",
       "max    10105.000000  20861.000000     73848.000000     3.036578e+07   \n",
       "\n",
       "       Fwd Pkt Len Max  ...  Fwd Seg Size Min   Active Mean    Active Std  \\\n",
       "count     59993.000000  ...      59993.000000  5.999300e+04  5.999300e+04   \n",
       "mean         92.775925  ...          7.247312  1.433035e+05  6.995245e+04   \n",
       "std         222.003296  ...          8.913846  2.435227e+06  1.426363e+06   \n",
       "min           0.000000  ...          0.000000  0.000000e+00  0.000000e+00   \n",
       "25%           0.000000  ...          0.000000  0.000000e+00  0.000000e+00   \n",
       "50%           0.000000  ...          0.000000  0.000000e+00  0.000000e+00   \n",
       "75%          42.000000  ...         20.000000  0.000000e+00  0.000000e+00   \n",
       "max        8460.000000  ...         44.000000  1.057303e+08  5.370796e+07   \n",
       "\n",
       "         Active Max    Active Min    Idle Mean      Idle Std     Idle Max  \\\n",
       "count  5.999300e+04  5.999300e+04      59993.0  5.999300e+04      59993.0   \n",
       "mean   2.116396e+05  9.599049e+04    2379992.0  9.424021e+04    2456473.0   \n",
       "std    3.182056e+06  2.078318e+06   11044816.0  1.320865e+06   11273272.0   \n",
       "min    0.000000e+00  0.000000e+00          0.0  0.000000e+00          0.0   \n",
       "25%    0.000000e+00  0.000000e+00          0.0  0.000000e+00          0.0   \n",
       "50%    0.000000e+00  0.000000e+00          0.0  0.000000e+00          0.0   \n",
       "75%    0.000000e+00  0.000000e+00          0.0  0.000000e+00          0.0   \n",
       "max    1.057303e+08  1.057303e+08  119793752.0  6.416210e+07  119793752.0   \n",
       "\n",
       "           Idle Min         Label  \n",
       "count  5.999300e+04  59993.000000  \n",
       "mean   2.293010e+06      0.502259  \n",
       "std    1.091365e+07      0.499999  \n",
       "min    0.000000e+00      0.000000  \n",
       "25%    0.000000e+00      0.000000  \n",
       "50%    0.000000e+00      1.000000  \n",
       "75%    0.000000e+00      1.000000  \n",
       "max    1.197938e+08      1.000000  \n",
       "\n",
       "[8 rows x 69 columns]"
      ]
     },
     "execution_count": 62,
     "metadata": {},
     "output_type": "execute_result"
    }
   ],
   "source": [
    "testData.toPandas().describe()"
   ]
  },
  {
   "cell_type": "code",
   "execution_count": 63,
   "id": "500f71a8-7acd-45b9-9c41-2f89d097b488",
   "metadata": {},
   "outputs": [
    {
     "name": "stderr",
     "output_type": "stream",
     "text": [
      "                                                                                \r"
     ]
    },
    {
     "data": {
      "text/html": [
       "<div>\n",
       "<style scoped>\n",
       "    .dataframe tbody tr th:only-of-type {\n",
       "        vertical-align: middle;\n",
       "    }\n",
       "\n",
       "    .dataframe tbody tr th {\n",
       "        vertical-align: top;\n",
       "    }\n",
       "\n",
       "    .dataframe thead th {\n",
       "        text-align: right;\n",
       "    }\n",
       "</style>\n",
       "<table border=\"1\" class=\"dataframe\">\n",
       "  <thead>\n",
       "    <tr style=\"text-align: right;\">\n",
       "      <th></th>\n",
       "      <th>_c0</th>\n",
       "      <th>Src Port</th>\n",
       "      <th>Dst Port</th>\n",
       "      <th>Protocol</th>\n",
       "      <th>Flow Duration</th>\n",
       "      <th>Tot Fwd Pkts</th>\n",
       "      <th>Tot Bwd Pkts</th>\n",
       "      <th>TotLen Fwd Pkts</th>\n",
       "      <th>TotLen Bwd Pkts</th>\n",
       "      <th>Fwd Pkt Len Max</th>\n",
       "      <th>...</th>\n",
       "      <th>Fwd Seg Size Min</th>\n",
       "      <th>Active Mean</th>\n",
       "      <th>Active Std</th>\n",
       "      <th>Active Max</th>\n",
       "      <th>Active Min</th>\n",
       "      <th>Idle Mean</th>\n",
       "      <th>Idle Std</th>\n",
       "      <th>Idle Max</th>\n",
       "      <th>Idle Min</th>\n",
       "      <th>Label</th>\n",
       "    </tr>\n",
       "  </thead>\n",
       "  <tbody>\n",
       "    <tr>\n",
       "      <th>count</th>\n",
       "      <td>1.392530e+05</td>\n",
       "      <td>139253.000000</td>\n",
       "      <td>139253.000000</td>\n",
       "      <td>139253.000000</td>\n",
       "      <td>1.392530e+05</td>\n",
       "      <td>139253.000000</td>\n",
       "      <td>139253.000000</td>\n",
       "      <td>139253.000000</td>\n",
       "      <td>1.392530e+05</td>\n",
       "      <td>139253.000000</td>\n",
       "      <td>...</td>\n",
       "      <td>139253.000000</td>\n",
       "      <td>1.392530e+05</td>\n",
       "      <td>1.392530e+05</td>\n",
       "      <td>1.392530e+05</td>\n",
       "      <td>1.392530e+05</td>\n",
       "      <td>139253.0</td>\n",
       "      <td>1.392530e+05</td>\n",
       "      <td>1.392530e+05</td>\n",
       "      <td>139253.0</td>\n",
       "      <td>139253.000000</td>\n",
       "    </tr>\n",
       "    <tr>\n",
       "      <th>mean</th>\n",
       "      <td>2.207732e+06</td>\n",
       "      <td>49822.437154</td>\n",
       "      <td>3888.119552</td>\n",
       "      <td>7.863184</td>\n",
       "      <td>6.732780e+06</td>\n",
       "      <td>3.430274</td>\n",
       "      <td>4.068099</td>\n",
       "      <td>191.649094</td>\n",
       "      <td>2.692497e+03</td>\n",
       "      <td>91.009521</td>\n",
       "      <td>...</td>\n",
       "      <td>7.259650</td>\n",
       "      <td>1.354125e+05</td>\n",
       "      <td>7.233598e+04</td>\n",
       "      <td>2.063319e+05</td>\n",
       "      <td>8.669095e+04</td>\n",
       "      <td>2328016.0</td>\n",
       "      <td>1.021090e+05</td>\n",
       "      <td>2.410580e+06</td>\n",
       "      <td>2234653.0</td>\n",
       "      <td>0.501734</td>\n",
       "    </tr>\n",
       "    <tr>\n",
       "      <th>std</th>\n",
       "      <td>2.360128e+06</td>\n",
       "      <td>16471.101622</td>\n",
       "      <td>13044.010407</td>\n",
       "      <td>4.236346</td>\n",
       "      <td>2.437341e+07</td>\n",
       "      <td>37.488134</td>\n",
       "      <td>114.602400</td>\n",
       "      <td>862.830566</td>\n",
       "      <td>1.660964e+05</td>\n",
       "      <td>217.384415</td>\n",
       "      <td>...</td>\n",
       "      <td>8.914777</td>\n",
       "      <td>2.329929e+06</td>\n",
       "      <td>1.445415e+06</td>\n",
       "      <td>3.125619e+06</td>\n",
       "      <td>1.941798e+06</td>\n",
       "      <td>10912551.0</td>\n",
       "      <td>1.403598e+06</td>\n",
       "      <td>1.116975e+07</td>\n",
       "      <td>10766366.0</td>\n",
       "      <td>0.499999</td>\n",
       "    </tr>\n",
       "    <tr>\n",
       "      <th>min</th>\n",
       "      <td>1.100000e+01</td>\n",
       "      <td>0.000000</td>\n",
       "      <td>0.000000</td>\n",
       "      <td>0.000000</td>\n",
       "      <td>1.000000e+00</td>\n",
       "      <td>0.000000</td>\n",
       "      <td>0.000000</td>\n",
       "      <td>0.000000</td>\n",
       "      <td>0.000000e+00</td>\n",
       "      <td>0.000000</td>\n",
       "      <td>...</td>\n",
       "      <td>0.000000</td>\n",
       "      <td>0.000000e+00</td>\n",
       "      <td>0.000000e+00</td>\n",
       "      <td>0.000000e+00</td>\n",
       "      <td>0.000000e+00</td>\n",
       "      <td>0.0</td>\n",
       "      <td>0.000000e+00</td>\n",
       "      <td>0.000000e+00</td>\n",
       "      <td>0.0</td>\n",
       "      <td>0.000000</td>\n",
       "    </tr>\n",
       "    <tr>\n",
       "      <th>25%</th>\n",
       "      <td>4.812560e+05</td>\n",
       "      <td>50630.000000</td>\n",
       "      <td>80.000000</td>\n",
       "      <td>6.000000</td>\n",
       "      <td>1.212000e+03</td>\n",
       "      <td>1.000000</td>\n",
       "      <td>1.000000</td>\n",
       "      <td>0.000000</td>\n",
       "      <td>0.000000e+00</td>\n",
       "      <td>0.000000</td>\n",
       "      <td>...</td>\n",
       "      <td>0.000000</td>\n",
       "      <td>0.000000e+00</td>\n",
       "      <td>0.000000e+00</td>\n",
       "      <td>0.000000e+00</td>\n",
       "      <td>0.000000e+00</td>\n",
       "      <td>0.0</td>\n",
       "      <td>0.000000e+00</td>\n",
       "      <td>0.000000e+00</td>\n",
       "      <td>0.0</td>\n",
       "      <td>0.000000</td>\n",
       "    </tr>\n",
       "    <tr>\n",
       "      <th>50%</th>\n",
       "      <td>5.305930e+05</td>\n",
       "      <td>53407.000000</td>\n",
       "      <td>80.000000</td>\n",
       "      <td>6.000000</td>\n",
       "      <td>4.207000e+03</td>\n",
       "      <td>1.000000</td>\n",
       "      <td>1.000000</td>\n",
       "      <td>0.000000</td>\n",
       "      <td>0.000000e+00</td>\n",
       "      <td>0.000000</td>\n",
       "      <td>...</td>\n",
       "      <td>0.000000</td>\n",
       "      <td>0.000000e+00</td>\n",
       "      <td>0.000000e+00</td>\n",
       "      <td>0.000000e+00</td>\n",
       "      <td>0.000000e+00</td>\n",
       "      <td>0.0</td>\n",
       "      <td>0.000000e+00</td>\n",
       "      <td>0.000000e+00</td>\n",
       "      <td>0.0</td>\n",
       "      <td>1.000000</td>\n",
       "    </tr>\n",
       "    <tr>\n",
       "      <th>75%</th>\n",
       "      <td>3.912459e+06</td>\n",
       "      <td>57357.000000</td>\n",
       "      <td>443.000000</td>\n",
       "      <td>6.000000</td>\n",
       "      <td>2.898600e+04</td>\n",
       "      <td>2.000000</td>\n",
       "      <td>1.000000</td>\n",
       "      <td>45.000000</td>\n",
       "      <td>1.130000e+02</td>\n",
       "      <td>42.000000</td>\n",
       "      <td>...</td>\n",
       "      <td>20.000000</td>\n",
       "      <td>0.000000e+00</td>\n",
       "      <td>0.000000e+00</td>\n",
       "      <td>0.000000e+00</td>\n",
       "      <td>0.000000e+00</td>\n",
       "      <td>0.0</td>\n",
       "      <td>0.000000e+00</td>\n",
       "      <td>0.000000e+00</td>\n",
       "      <td>0.0</td>\n",
       "      <td>1.000000</td>\n",
       "    </tr>\n",
       "    <tr>\n",
       "      <th>max</th>\n",
       "      <td>7.902428e+06</td>\n",
       "      <td>65534.000000</td>\n",
       "      <td>65534.000000</td>\n",
       "      <td>17.000000</td>\n",
       "      <td>1.199996e+08</td>\n",
       "      <td>10786.000000</td>\n",
       "      <td>21330.000000</td>\n",
       "      <td>114248.000000</td>\n",
       "      <td>3.112600e+07</td>\n",
       "      <td>6342.000000</td>\n",
       "      <td>...</td>\n",
       "      <td>44.000000</td>\n",
       "      <td>1.059147e+08</td>\n",
       "      <td>5.533398e+07</td>\n",
       "      <td>1.059147e+08</td>\n",
       "      <td>1.059147e+08</td>\n",
       "      <td>119933912.0</td>\n",
       "      <td>6.201602e+07</td>\n",
       "      <td>1.199339e+08</td>\n",
       "      <td>119933912.0</td>\n",
       "      <td>1.000000</td>\n",
       "    </tr>\n",
       "  </tbody>\n",
       "</table>\n",
       "<p>8 rows × 69 columns</p>\n",
       "</div>"
      ],
      "text/plain": [
       "                _c0       Src Port       Dst Port       Protocol  \\\n",
       "count  1.392530e+05  139253.000000  139253.000000  139253.000000   \n",
       "mean   2.207732e+06   49822.437154    3888.119552       7.863184   \n",
       "std    2.360128e+06   16471.101622   13044.010407       4.236346   \n",
       "min    1.100000e+01       0.000000       0.000000       0.000000   \n",
       "25%    4.812560e+05   50630.000000      80.000000       6.000000   \n",
       "50%    5.305930e+05   53407.000000      80.000000       6.000000   \n",
       "75%    3.912459e+06   57357.000000     443.000000       6.000000   \n",
       "max    7.902428e+06   65534.000000   65534.000000      17.000000   \n",
       "\n",
       "       Flow Duration   Tot Fwd Pkts   Tot Bwd Pkts  TotLen Fwd Pkts  \\\n",
       "count   1.392530e+05  139253.000000  139253.000000    139253.000000   \n",
       "mean    6.732780e+06       3.430274       4.068099       191.649094   \n",
       "std     2.437341e+07      37.488134     114.602400       862.830566   \n",
       "min     1.000000e+00       0.000000       0.000000         0.000000   \n",
       "25%     1.212000e+03       1.000000       1.000000         0.000000   \n",
       "50%     4.207000e+03       1.000000       1.000000         0.000000   \n",
       "75%     2.898600e+04       2.000000       1.000000        45.000000   \n",
       "max     1.199996e+08   10786.000000   21330.000000    114248.000000   \n",
       "\n",
       "       TotLen Bwd Pkts  Fwd Pkt Len Max  ...  Fwd Seg Size Min   Active Mean  \\\n",
       "count     1.392530e+05    139253.000000  ...     139253.000000  1.392530e+05   \n",
       "mean      2.692497e+03        91.009521  ...          7.259650  1.354125e+05   \n",
       "std       1.660964e+05       217.384415  ...          8.914777  2.329929e+06   \n",
       "min       0.000000e+00         0.000000  ...          0.000000  0.000000e+00   \n",
       "25%       0.000000e+00         0.000000  ...          0.000000  0.000000e+00   \n",
       "50%       0.000000e+00         0.000000  ...          0.000000  0.000000e+00   \n",
       "75%       1.130000e+02        42.000000  ...         20.000000  0.000000e+00   \n",
       "max       3.112600e+07      6342.000000  ...         44.000000  1.059147e+08   \n",
       "\n",
       "         Active Std    Active Max    Active Min    Idle Mean      Idle Std  \\\n",
       "count  1.392530e+05  1.392530e+05  1.392530e+05     139253.0  1.392530e+05   \n",
       "mean   7.233598e+04  2.063319e+05  8.669095e+04    2328016.0  1.021090e+05   \n",
       "std    1.445415e+06  3.125619e+06  1.941798e+06   10912551.0  1.403598e+06   \n",
       "min    0.000000e+00  0.000000e+00  0.000000e+00          0.0  0.000000e+00   \n",
       "25%    0.000000e+00  0.000000e+00  0.000000e+00          0.0  0.000000e+00   \n",
       "50%    0.000000e+00  0.000000e+00  0.000000e+00          0.0  0.000000e+00   \n",
       "75%    0.000000e+00  0.000000e+00  0.000000e+00          0.0  0.000000e+00   \n",
       "max    5.533398e+07  1.059147e+08  1.059147e+08  119933912.0  6.201602e+07   \n",
       "\n",
       "           Idle Max     Idle Min          Label  \n",
       "count  1.392530e+05     139253.0  139253.000000  \n",
       "mean   2.410580e+06    2234653.0       0.501734  \n",
       "std    1.116975e+07   10766366.0       0.499999  \n",
       "min    0.000000e+00          0.0       0.000000  \n",
       "25%    0.000000e+00          0.0       0.000000  \n",
       "50%    0.000000e+00          0.0       1.000000  \n",
       "75%    0.000000e+00          0.0       1.000000  \n",
       "max    1.199339e+08  119933912.0       1.000000  \n",
       "\n",
       "[8 rows x 69 columns]"
      ]
     },
     "execution_count": 63,
     "metadata": {},
     "output_type": "execute_result"
    }
   ],
   "source": [
    "trainingData.toPandas().describe()"
   ]
  },
  {
   "cell_type": "code",
   "execution_count": 64,
   "id": "7de4f527-7183-4185-942f-5d20da5e7d89",
   "metadata": {},
   "outputs": [
    {
     "name": "stderr",
     "output_type": "stream",
     "text": [
      "                                                                                \r"
     ]
    },
    {
     "data": {
      "text/html": [
       "<div>\n",
       "<style scoped>\n",
       "    .dataframe tbody tr th:only-of-type {\n",
       "        vertical-align: middle;\n",
       "    }\n",
       "\n",
       "    .dataframe tbody tr th {\n",
       "        vertical-align: top;\n",
       "    }\n",
       "\n",
       "    .dataframe thead th {\n",
       "        text-align: right;\n",
       "    }\n",
       "</style>\n",
       "<table border=\"1\" class=\"dataframe\">\n",
       "  <thead>\n",
       "    <tr style=\"text-align: right;\">\n",
       "      <th></th>\n",
       "      <th>_c0</th>\n",
       "      <th>Flow ID</th>\n",
       "      <th>Src IP</th>\n",
       "      <th>Src Port</th>\n",
       "      <th>Dst IP</th>\n",
       "      <th>Dst Port</th>\n",
       "      <th>Protocol</th>\n",
       "      <th>Timestamp</th>\n",
       "      <th>Flow Duration</th>\n",
       "      <th>Tot Fwd Pkts</th>\n",
       "      <th>...</th>\n",
       "      <th>Fwd Seg Size Min</th>\n",
       "      <th>Active Mean</th>\n",
       "      <th>Active Std</th>\n",
       "      <th>Active Max</th>\n",
       "      <th>Active Min</th>\n",
       "      <th>Idle Mean</th>\n",
       "      <th>Idle Std</th>\n",
       "      <th>Idle Max</th>\n",
       "      <th>Idle Min</th>\n",
       "      <th>Label</th>\n",
       "    </tr>\n",
       "  </thead>\n",
       "  <tbody>\n",
       "    <tr>\n",
       "      <th>0</th>\n",
       "      <td>5985</td>\n",
       "      <td>192.168.10.5-23.208.99.33-49290-443-6</td>\n",
       "      <td>192.168.10.5</td>\n",
       "      <td>49290</td>\n",
       "      <td>23.208.99.33</td>\n",
       "      <td>443</td>\n",
       "      <td>6</td>\n",
       "      <td>03/07/2017 05:48:46 PM</td>\n",
       "      <td>38256708</td>\n",
       "      <td>1</td>\n",
       "      <td>...</td>\n",
       "      <td>0</td>\n",
       "      <td>0.0</td>\n",
       "      <td>0.0</td>\n",
       "      <td>0.0</td>\n",
       "      <td>0.0</td>\n",
       "      <td>0.0</td>\n",
       "      <td>0.0</td>\n",
       "      <td>0.0</td>\n",
       "      <td>0.0</td>\n",
       "      <td>0</td>\n",
       "    </tr>\n",
       "    <tr>\n",
       "      <th>1</th>\n",
       "      <td>8413</td>\n",
       "      <td>192.168.10.3-192.168.10.14-53-61922-17</td>\n",
       "      <td>192.168.10.14</td>\n",
       "      <td>61922</td>\n",
       "      <td>192.168.10.3</td>\n",
       "      <td>53</td>\n",
       "      <td>17</td>\n",
       "      <td>03/07/2017 05:51:18 PM</td>\n",
       "      <td>193</td>\n",
       "      <td>1</td>\n",
       "      <td>...</td>\n",
       "      <td>0</td>\n",
       "      <td>0.0</td>\n",
       "      <td>0.0</td>\n",
       "      <td>0.0</td>\n",
       "      <td>0.0</td>\n",
       "      <td>0.0</td>\n",
       "      <td>0.0</td>\n",
       "      <td>0.0</td>\n",
       "      <td>0.0</td>\n",
       "      <td>0</td>\n",
       "    </tr>\n",
       "    <tr>\n",
       "      <th>2</th>\n",
       "      <td>16028</td>\n",
       "      <td>192.168.10.25-52.84.145.208-49423-443-6</td>\n",
       "      <td>192.168.10.25</td>\n",
       "      <td>49423</td>\n",
       "      <td>52.84.145.208</td>\n",
       "      <td>443</td>\n",
       "      <td>6</td>\n",
       "      <td>03/07/2017 06:03:05 PM</td>\n",
       "      <td>108000</td>\n",
       "      <td>17</td>\n",
       "      <td>...</td>\n",
       "      <td>0</td>\n",
       "      <td>0.0</td>\n",
       "      <td>0.0</td>\n",
       "      <td>0.0</td>\n",
       "      <td>0.0</td>\n",
       "      <td>0.0</td>\n",
       "      <td>0.0</td>\n",
       "      <td>0.0</td>\n",
       "      <td>0.0</td>\n",
       "      <td>0</td>\n",
       "    </tr>\n",
       "    <tr>\n",
       "      <th>3</th>\n",
       "      <td>17322</td>\n",
       "      <td>192.168.10.19-69.165.222.176-123-123-17</td>\n",
       "      <td>192.168.10.19</td>\n",
       "      <td>123</td>\n",
       "      <td>69.165.222.176</td>\n",
       "      <td>123</td>\n",
       "      <td>17</td>\n",
       "      <td>03/07/2017 06:02:47 PM</td>\n",
       "      <td>66026605</td>\n",
       "      <td>1</td>\n",
       "      <td>...</td>\n",
       "      <td>0</td>\n",
       "      <td>27253.0</td>\n",
       "      <td>0.0</td>\n",
       "      <td>27253.0</td>\n",
       "      <td>27253.0</td>\n",
       "      <td>65972724.0</td>\n",
       "      <td>0.0</td>\n",
       "      <td>65972724.0</td>\n",
       "      <td>65972724.0</td>\n",
       "      <td>0</td>\n",
       "    </tr>\n",
       "    <tr>\n",
       "      <th>4</th>\n",
       "      <td>23114</td>\n",
       "      <td>173.194.175.156-192.168.10.15-443-49795-6</td>\n",
       "      <td>173.194.175.156</td>\n",
       "      <td>443</td>\n",
       "      <td>192.168.10.15</td>\n",
       "      <td>49795</td>\n",
       "      <td>6</td>\n",
       "      <td>03/07/2017 06:14:19 PM</td>\n",
       "      <td>3</td>\n",
       "      <td>1</td>\n",
       "      <td>...</td>\n",
       "      <td>0</td>\n",
       "      <td>0.0</td>\n",
       "      <td>0.0</td>\n",
       "      <td>0.0</td>\n",
       "      <td>0.0</td>\n",
       "      <td>0.0</td>\n",
       "      <td>0.0</td>\n",
       "      <td>0.0</td>\n",
       "      <td>0.0</td>\n",
       "      <td>0</td>\n",
       "    </tr>\n",
       "  </tbody>\n",
       "</table>\n",
       "<p>5 rows × 73 columns</p>\n",
       "</div>"
      ],
      "text/plain": [
       "     _c0                                    Flow ID           Src IP  \\\n",
       "0   5985      192.168.10.5-23.208.99.33-49290-443-6     192.168.10.5   \n",
       "1   8413     192.168.10.3-192.168.10.14-53-61922-17    192.168.10.14   \n",
       "2  16028    192.168.10.25-52.84.145.208-49423-443-6    192.168.10.25   \n",
       "3  17322    192.168.10.19-69.165.222.176-123-123-17    192.168.10.19   \n",
       "4  23114  173.194.175.156-192.168.10.15-443-49795-6  173.194.175.156   \n",
       "\n",
       "   Src Port          Dst IP  Dst Port  Protocol               Timestamp  \\\n",
       "0     49290    23.208.99.33       443         6  03/07/2017 05:48:46 PM   \n",
       "1     61922    192.168.10.3        53        17  03/07/2017 05:51:18 PM   \n",
       "2     49423   52.84.145.208       443         6  03/07/2017 06:03:05 PM   \n",
       "3       123  69.165.222.176       123        17  03/07/2017 06:02:47 PM   \n",
       "4       443   192.168.10.15     49795         6  03/07/2017 06:14:19 PM   \n",
       "\n",
       "   Flow Duration  Tot Fwd Pkts  ...  Fwd Seg Size Min  Active Mean  \\\n",
       "0       38256708             1  ...                 0          0.0   \n",
       "1            193             1  ...                 0          0.0   \n",
       "2         108000            17  ...                 0          0.0   \n",
       "3       66026605             1  ...                 0      27253.0   \n",
       "4              3             1  ...                 0          0.0   \n",
       "\n",
       "   Active Std  Active Max  Active Min   Idle Mean  Idle Std    Idle Max  \\\n",
       "0         0.0         0.0         0.0         0.0       0.0         0.0   \n",
       "1         0.0         0.0         0.0         0.0       0.0         0.0   \n",
       "2         0.0         0.0         0.0         0.0       0.0         0.0   \n",
       "3         0.0     27253.0     27253.0  65972724.0       0.0  65972724.0   \n",
       "4         0.0         0.0         0.0         0.0       0.0         0.0   \n",
       "\n",
       "     Idle Min  Label  \n",
       "0         0.0      0  \n",
       "1         0.0      0  \n",
       "2         0.0      0  \n",
       "3  65972724.0      0  \n",
       "4         0.0      0  \n",
       "\n",
       "[5 rows x 73 columns]"
      ]
     },
     "execution_count": 64,
     "metadata": {},
     "output_type": "execute_result"
    }
   ],
   "source": [
    "testData.toPandas().head()"
   ]
  },
  {
   "cell_type": "code",
   "execution_count": 65,
   "id": "406ea6ff-c1cd-4384-93b5-b77075b30289",
   "metadata": {},
   "outputs": [
    {
     "name": "stderr",
     "output_type": "stream",
     "text": [
      "                                                                                \r"
     ]
    },
    {
     "data": {
      "text/html": [
       "<div>\n",
       "<style scoped>\n",
       "    .dataframe tbody tr th:only-of-type {\n",
       "        vertical-align: middle;\n",
       "    }\n",
       "\n",
       "    .dataframe tbody tr th {\n",
       "        vertical-align: top;\n",
       "    }\n",
       "\n",
       "    .dataframe thead th {\n",
       "        text-align: right;\n",
       "    }\n",
       "</style>\n",
       "<table border=\"1\" class=\"dataframe\">\n",
       "  <thead>\n",
       "    <tr style=\"text-align: right;\">\n",
       "      <th></th>\n",
       "      <th>_c0</th>\n",
       "      <th>Flow ID</th>\n",
       "      <th>Src IP</th>\n",
       "      <th>Src Port</th>\n",
       "      <th>Dst IP</th>\n",
       "      <th>Dst Port</th>\n",
       "      <th>Protocol</th>\n",
       "      <th>Timestamp</th>\n",
       "      <th>Flow Duration</th>\n",
       "      <th>Tot Fwd Pkts</th>\n",
       "      <th>...</th>\n",
       "      <th>Fwd Seg Size Min</th>\n",
       "      <th>Active Mean</th>\n",
       "      <th>Active Std</th>\n",
       "      <th>Active Max</th>\n",
       "      <th>Active Min</th>\n",
       "      <th>Idle Mean</th>\n",
       "      <th>Idle Std</th>\n",
       "      <th>Idle Max</th>\n",
       "      <th>Idle Min</th>\n",
       "      <th>Label</th>\n",
       "    </tr>\n",
       "  </thead>\n",
       "  <tbody>\n",
       "    <tr>\n",
       "      <th>0</th>\n",
       "      <td>370</td>\n",
       "      <td>192.168.10.9-104.88.29.71-1077-443-6</td>\n",
       "      <td>192.168.10.9</td>\n",
       "      <td>1077</td>\n",
       "      <td>104.88.29.71</td>\n",
       "      <td>443</td>\n",
       "      <td>6</td>\n",
       "      <td>03/07/2017 05:32:02 PM</td>\n",
       "      <td>109701817</td>\n",
       "      <td>12</td>\n",
       "      <td>...</td>\n",
       "      <td>0</td>\n",
       "      <td>2115613.0</td>\n",
       "      <td>0.0</td>\n",
       "      <td>2115613.0</td>\n",
       "      <td>2115613.0</td>\n",
       "      <td>5472924.0</td>\n",
       "      <td>0.0</td>\n",
       "      <td>5472924.0</td>\n",
       "      <td>5472924.0</td>\n",
       "      <td>0</td>\n",
       "    </tr>\n",
       "    <tr>\n",
       "      <th>1</th>\n",
       "      <td>906</td>\n",
       "      <td>192.168.10.14-34.205.22.5-49664-443-6</td>\n",
       "      <td>192.168.10.14</td>\n",
       "      <td>49664</td>\n",
       "      <td>34.205.22.5</td>\n",
       "      <td>443</td>\n",
       "      <td>6</td>\n",
       "      <td>03/07/2017 05:36:40 PM</td>\n",
       "      <td>5560238</td>\n",
       "      <td>7</td>\n",
       "      <td>...</td>\n",
       "      <td>0</td>\n",
       "      <td>279458.0</td>\n",
       "      <td>0.0</td>\n",
       "      <td>279458.0</td>\n",
       "      <td>279458.0</td>\n",
       "      <td>5280777.0</td>\n",
       "      <td>0.0</td>\n",
       "      <td>5280777.0</td>\n",
       "      <td>5280777.0</td>\n",
       "      <td>0</td>\n",
       "    </tr>\n",
       "    <tr>\n",
       "      <th>2</th>\n",
       "      <td>934</td>\n",
       "      <td>162.208.22.39-192.168.10.14-443-49748-6</td>\n",
       "      <td>192.168.10.14</td>\n",
       "      <td>49748</td>\n",
       "      <td>162.208.22.39</td>\n",
       "      <td>443</td>\n",
       "      <td>6</td>\n",
       "      <td>03/07/2017 05:36:48 PM</td>\n",
       "      <td>114</td>\n",
       "      <td>1</td>\n",
       "      <td>...</td>\n",
       "      <td>0</td>\n",
       "      <td>0.0</td>\n",
       "      <td>0.0</td>\n",
       "      <td>0.0</td>\n",
       "      <td>0.0</td>\n",
       "      <td>0.0</td>\n",
       "      <td>0.0</td>\n",
       "      <td>0.0</td>\n",
       "      <td>0.0</td>\n",
       "      <td>0</td>\n",
       "    </tr>\n",
       "    <tr>\n",
       "      <th>3</th>\n",
       "      <td>3541</td>\n",
       "      <td>192.168.10.14-23.50.75.27-50128-80-6</td>\n",
       "      <td>192.168.10.14</td>\n",
       "      <td>50128</td>\n",
       "      <td>23.50.75.27</td>\n",
       "      <td>80</td>\n",
       "      <td>6</td>\n",
       "      <td>03/07/2017 05:45:20 PM</td>\n",
       "      <td>5366214</td>\n",
       "      <td>2</td>\n",
       "      <td>...</td>\n",
       "      <td>0</td>\n",
       "      <td>0.0</td>\n",
       "      <td>0.0</td>\n",
       "      <td>0.0</td>\n",
       "      <td>0.0</td>\n",
       "      <td>0.0</td>\n",
       "      <td>0.0</td>\n",
       "      <td>0.0</td>\n",
       "      <td>0.0</td>\n",
       "      <td>0</td>\n",
       "    </tr>\n",
       "    <tr>\n",
       "      <th>4</th>\n",
       "      <td>4174</td>\n",
       "      <td>192.168.10.16-72.167.239.239-42746-80-6</td>\n",
       "      <td>192.168.10.16</td>\n",
       "      <td>42746</td>\n",
       "      <td>72.167.239.239</td>\n",
       "      <td>80</td>\n",
       "      <td>6</td>\n",
       "      <td>03/07/2017 05:46:10 PM</td>\n",
       "      <td>91307</td>\n",
       "      <td>1</td>\n",
       "      <td>...</td>\n",
       "      <td>0</td>\n",
       "      <td>0.0</td>\n",
       "      <td>0.0</td>\n",
       "      <td>0.0</td>\n",
       "      <td>0.0</td>\n",
       "      <td>0.0</td>\n",
       "      <td>0.0</td>\n",
       "      <td>0.0</td>\n",
       "      <td>0.0</td>\n",
       "      <td>0</td>\n",
       "    </tr>\n",
       "  </tbody>\n",
       "</table>\n",
       "<p>5 rows × 73 columns</p>\n",
       "</div>"
      ],
      "text/plain": [
       "    _c0                                  Flow ID         Src IP  Src Port  \\\n",
       "0   370     192.168.10.9-104.88.29.71-1077-443-6   192.168.10.9      1077   \n",
       "1   906    192.168.10.14-34.205.22.5-49664-443-6  192.168.10.14     49664   \n",
       "2   934  162.208.22.39-192.168.10.14-443-49748-6  192.168.10.14     49748   \n",
       "3  3541     192.168.10.14-23.50.75.27-50128-80-6  192.168.10.14     50128   \n",
       "4  4174  192.168.10.16-72.167.239.239-42746-80-6  192.168.10.16     42746   \n",
       "\n",
       "           Dst IP  Dst Port  Protocol               Timestamp  Flow Duration  \\\n",
       "0    104.88.29.71       443         6  03/07/2017 05:32:02 PM      109701817   \n",
       "1     34.205.22.5       443         6  03/07/2017 05:36:40 PM        5560238   \n",
       "2   162.208.22.39       443         6  03/07/2017 05:36:48 PM            114   \n",
       "3     23.50.75.27        80         6  03/07/2017 05:45:20 PM        5366214   \n",
       "4  72.167.239.239        80         6  03/07/2017 05:46:10 PM          91307   \n",
       "\n",
       "   Tot Fwd Pkts  ...  Fwd Seg Size Min  Active Mean  Active Std  Active Max  \\\n",
       "0            12  ...                 0    2115613.0         0.0   2115613.0   \n",
       "1             7  ...                 0     279458.0         0.0    279458.0   \n",
       "2             1  ...                 0          0.0         0.0         0.0   \n",
       "3             2  ...                 0          0.0         0.0         0.0   \n",
       "4             1  ...                 0          0.0         0.0         0.0   \n",
       "\n",
       "   Active Min  Idle Mean  Idle Std   Idle Max   Idle Min  Label  \n",
       "0   2115613.0  5472924.0       0.0  5472924.0  5472924.0      0  \n",
       "1    279458.0  5280777.0       0.0  5280777.0  5280777.0      0  \n",
       "2         0.0        0.0       0.0        0.0        0.0      0  \n",
       "3         0.0        0.0       0.0        0.0        0.0      0  \n",
       "4         0.0        0.0       0.0        0.0        0.0      0  \n",
       "\n",
       "[5 rows x 73 columns]"
      ]
     },
     "execution_count": 65,
     "metadata": {},
     "output_type": "execute_result"
    }
   ],
   "source": [
    "trainingData.toPandas().head()"
   ]
  },
  {
   "cell_type": "code",
   "execution_count": 66,
   "id": "f696bf9a-f4a7-4a4c-a016-98c2de83862e",
   "metadata": {},
   "outputs": [
    {
     "name": "stderr",
     "output_type": "stream",
     "text": [
      "                                                                                \r"
     ]
    },
    {
     "data": {
      "text/html": [
       "<div>\n",
       "<style scoped>\n",
       "    .dataframe tbody tr th:only-of-type {\n",
       "        vertical-align: middle;\n",
       "    }\n",
       "\n",
       "    .dataframe tbody tr th {\n",
       "        vertical-align: top;\n",
       "    }\n",
       "\n",
       "    .dataframe thead th {\n",
       "        text-align: right;\n",
       "    }\n",
       "</style>\n",
       "<table border=\"1\" class=\"dataframe\">\n",
       "  <thead>\n",
       "    <tr style=\"text-align: right;\">\n",
       "      <th></th>\n",
       "      <th>_c0</th>\n",
       "      <th>Flow ID</th>\n",
       "      <th>Src IP</th>\n",
       "      <th>Src Port</th>\n",
       "      <th>Dst IP</th>\n",
       "      <th>Dst Port</th>\n",
       "      <th>Protocol</th>\n",
       "      <th>Timestamp</th>\n",
       "      <th>Flow Duration</th>\n",
       "      <th>Tot Fwd Pkts</th>\n",
       "      <th>...</th>\n",
       "      <th>Fwd Seg Size Min</th>\n",
       "      <th>Active Mean</th>\n",
       "      <th>Active Std</th>\n",
       "      <th>Active Max</th>\n",
       "      <th>Active Min</th>\n",
       "      <th>Idle Mean</th>\n",
       "      <th>Idle Std</th>\n",
       "      <th>Idle Max</th>\n",
       "      <th>Idle Min</th>\n",
       "      <th>Label</th>\n",
       "    </tr>\n",
       "  </thead>\n",
       "  <tbody>\n",
       "    <tr>\n",
       "      <th>139248</th>\n",
       "      <td>7880494</td>\n",
       "      <td>172.31.67.93-200.57.131.236-3389-63148-6</td>\n",
       "      <td>200.57.131.236</td>\n",
       "      <td>63148</td>\n",
       "      <td>172.31.67.93</td>\n",
       "      <td>3389</td>\n",
       "      <td>6</td>\n",
       "      <td>20/02/2018 12:05:19</td>\n",
       "      <td>2755287</td>\n",
       "      <td>9</td>\n",
       "      <td>...</td>\n",
       "      <td>20</td>\n",
       "      <td>0.0</td>\n",
       "      <td>0.0</td>\n",
       "      <td>0.0</td>\n",
       "      <td>0.0</td>\n",
       "      <td>0.0</td>\n",
       "      <td>0.0</td>\n",
       "      <td>0.0</td>\n",
       "      <td>0.0</td>\n",
       "      <td>0</td>\n",
       "    </tr>\n",
       "    <tr>\n",
       "      <th>139249</th>\n",
       "      <td>7885684</td>\n",
       "      <td>172.31.67.95-66.212.179.70-3389-50497-6</td>\n",
       "      <td>66.212.179.70</td>\n",
       "      <td>50497</td>\n",
       "      <td>172.31.67.95</td>\n",
       "      <td>3389</td>\n",
       "      <td>6</td>\n",
       "      <td>20/02/2018 04:08:02</td>\n",
       "      <td>3963842</td>\n",
       "      <td>11</td>\n",
       "      <td>...</td>\n",
       "      <td>20</td>\n",
       "      <td>0.0</td>\n",
       "      <td>0.0</td>\n",
       "      <td>0.0</td>\n",
       "      <td>0.0</td>\n",
       "      <td>0.0</td>\n",
       "      <td>0.0</td>\n",
       "      <td>0.0</td>\n",
       "      <td>0.0</td>\n",
       "      <td>0</td>\n",
       "    </tr>\n",
       "    <tr>\n",
       "      <th>139250</th>\n",
       "      <td>7886428</td>\n",
       "      <td>172.31.67.95-211.170.54.2-3389-53584-6</td>\n",
       "      <td>211.170.54.2</td>\n",
       "      <td>53584</td>\n",
       "      <td>172.31.67.95</td>\n",
       "      <td>3389</td>\n",
       "      <td>6</td>\n",
       "      <td>20/02/2018 11:23:31</td>\n",
       "      <td>2208490</td>\n",
       "      <td>8</td>\n",
       "      <td>...</td>\n",
       "      <td>20</td>\n",
       "      <td>0.0</td>\n",
       "      <td>0.0</td>\n",
       "      <td>0.0</td>\n",
       "      <td>0.0</td>\n",
       "      <td>0.0</td>\n",
       "      <td>0.0</td>\n",
       "      <td>0.0</td>\n",
       "      <td>0.0</td>\n",
       "      <td>0</td>\n",
       "    </tr>\n",
       "    <tr>\n",
       "      <th>139251</th>\n",
       "      <td>7895527</td>\n",
       "      <td>172.31.69.15-202.21.112.4-445-1321-6</td>\n",
       "      <td>202.21.112.4</td>\n",
       "      <td>1321</td>\n",
       "      <td>172.31.69.15</td>\n",
       "      <td>445</td>\n",
       "      <td>6</td>\n",
       "      <td>20/02/2018 12:11:36</td>\n",
       "      <td>1451226</td>\n",
       "      <td>3</td>\n",
       "      <td>...</td>\n",
       "      <td>28</td>\n",
       "      <td>0.0</td>\n",
       "      <td>0.0</td>\n",
       "      <td>0.0</td>\n",
       "      <td>0.0</td>\n",
       "      <td>0.0</td>\n",
       "      <td>0.0</td>\n",
       "      <td>0.0</td>\n",
       "      <td>0.0</td>\n",
       "      <td>0</td>\n",
       "    </tr>\n",
       "    <tr>\n",
       "      <th>139252</th>\n",
       "      <td>7897801</td>\n",
       "      <td>172.31.69.21-181.214.87.12-20207-51313-6</td>\n",
       "      <td>181.214.87.12</td>\n",
       "      <td>51313</td>\n",
       "      <td>172.31.69.21</td>\n",
       "      <td>20207</td>\n",
       "      <td>6</td>\n",
       "      <td>20/02/2018 10:58:07</td>\n",
       "      <td>146870</td>\n",
       "      <td>2</td>\n",
       "      <td>...</td>\n",
       "      <td>20</td>\n",
       "      <td>0.0</td>\n",
       "      <td>0.0</td>\n",
       "      <td>0.0</td>\n",
       "      <td>0.0</td>\n",
       "      <td>0.0</td>\n",
       "      <td>0.0</td>\n",
       "      <td>0.0</td>\n",
       "      <td>0.0</td>\n",
       "      <td>0</td>\n",
       "    </tr>\n",
       "  </tbody>\n",
       "</table>\n",
       "<p>5 rows × 73 columns</p>\n",
       "</div>"
      ],
      "text/plain": [
       "            _c0                                   Flow ID          Src IP  \\\n",
       "139248  7880494  172.31.67.93-200.57.131.236-3389-63148-6  200.57.131.236   \n",
       "139249  7885684   172.31.67.95-66.212.179.70-3389-50497-6   66.212.179.70   \n",
       "139250  7886428    172.31.67.95-211.170.54.2-3389-53584-6    211.170.54.2   \n",
       "139251  7895527      172.31.69.15-202.21.112.4-445-1321-6    202.21.112.4   \n",
       "139252  7897801  172.31.69.21-181.214.87.12-20207-51313-6   181.214.87.12   \n",
       "\n",
       "        Src Port        Dst IP  Dst Port  Protocol            Timestamp  \\\n",
       "139248     63148  172.31.67.93      3389         6  20/02/2018 12:05:19   \n",
       "139249     50497  172.31.67.95      3389         6  20/02/2018 04:08:02   \n",
       "139250     53584  172.31.67.95      3389         6  20/02/2018 11:23:31   \n",
       "139251      1321  172.31.69.15       445         6  20/02/2018 12:11:36   \n",
       "139252     51313  172.31.69.21     20207         6  20/02/2018 10:58:07   \n",
       "\n",
       "        Flow Duration  Tot Fwd Pkts  ...  Fwd Seg Size Min  Active Mean  \\\n",
       "139248        2755287             9  ...                20          0.0   \n",
       "139249        3963842            11  ...                20          0.0   \n",
       "139250        2208490             8  ...                20          0.0   \n",
       "139251        1451226             3  ...                28          0.0   \n",
       "139252         146870             2  ...                20          0.0   \n",
       "\n",
       "        Active Std  Active Max  Active Min  Idle Mean  Idle Std  Idle Max  \\\n",
       "139248         0.0         0.0         0.0        0.0       0.0       0.0   \n",
       "139249         0.0         0.0         0.0        0.0       0.0       0.0   \n",
       "139250         0.0         0.0         0.0        0.0       0.0       0.0   \n",
       "139251         0.0         0.0         0.0        0.0       0.0       0.0   \n",
       "139252         0.0         0.0         0.0        0.0       0.0       0.0   \n",
       "\n",
       "        Idle Min  Label  \n",
       "139248       0.0      0  \n",
       "139249       0.0      0  \n",
       "139250       0.0      0  \n",
       "139251       0.0      0  \n",
       "139252       0.0      0  \n",
       "\n",
       "[5 rows x 73 columns]"
      ]
     },
     "execution_count": 66,
     "metadata": {},
     "output_type": "execute_result"
    }
   ],
   "source": [
    "trainingData.toPandas().tail()"
   ]
  },
  {
   "cell_type": "code",
   "execution_count": 67,
   "id": "6bdcb5ff-d2e6-4925-8a56-42b547c35dc5",
   "metadata": {},
   "outputs": [
    {
     "name": "stderr",
     "output_type": "stream",
     "text": [
      "                                                                                \r"
     ]
    },
    {
     "data": {
      "text/html": [
       "<div>\n",
       "<style scoped>\n",
       "    .dataframe tbody tr th:only-of-type {\n",
       "        vertical-align: middle;\n",
       "    }\n",
       "\n",
       "    .dataframe tbody tr th {\n",
       "        vertical-align: top;\n",
       "    }\n",
       "\n",
       "    .dataframe thead th {\n",
       "        text-align: right;\n",
       "    }\n",
       "</style>\n",
       "<table border=\"1\" class=\"dataframe\">\n",
       "  <thead>\n",
       "    <tr style=\"text-align: right;\">\n",
       "      <th></th>\n",
       "      <th>_c0</th>\n",
       "      <th>Flow ID</th>\n",
       "      <th>Src IP</th>\n",
       "      <th>Src Port</th>\n",
       "      <th>Dst IP</th>\n",
       "      <th>Dst Port</th>\n",
       "      <th>Protocol</th>\n",
       "      <th>Timestamp</th>\n",
       "      <th>Flow Duration</th>\n",
       "      <th>Tot Fwd Pkts</th>\n",
       "      <th>...</th>\n",
       "      <th>Fwd Seg Size Min</th>\n",
       "      <th>Active Mean</th>\n",
       "      <th>Active Std</th>\n",
       "      <th>Active Max</th>\n",
       "      <th>Active Min</th>\n",
       "      <th>Idle Mean</th>\n",
       "      <th>Idle Std</th>\n",
       "      <th>Idle Max</th>\n",
       "      <th>Idle Min</th>\n",
       "      <th>Label</th>\n",
       "    </tr>\n",
       "  </thead>\n",
       "  <tbody>\n",
       "    <tr>\n",
       "      <th>59988</th>\n",
       "      <td>7765586</td>\n",
       "      <td>172.31.67.34-211.170.54.2-3389-57777-6</td>\n",
       "      <td>211.170.54.2</td>\n",
       "      <td>57777</td>\n",
       "      <td>172.31.67.34</td>\n",
       "      <td>3389</td>\n",
       "      <td>6</td>\n",
       "      <td>20/02/2018 12:23:23</td>\n",
       "      <td>2330131</td>\n",
       "      <td>8</td>\n",
       "      <td>...</td>\n",
       "      <td>20</td>\n",
       "      <td>0.0</td>\n",
       "      <td>0.0</td>\n",
       "      <td>0.0</td>\n",
       "      <td>0.0</td>\n",
       "      <td>0.0</td>\n",
       "      <td>0.0</td>\n",
       "      <td>0.0</td>\n",
       "      <td>0.0</td>\n",
       "      <td>0</td>\n",
       "    </tr>\n",
       "    <tr>\n",
       "      <th>59989</th>\n",
       "      <td>7766327</td>\n",
       "      <td>160.202.159.194-172.31.67.34-59256-3389-6</td>\n",
       "      <td>160.202.159.194</td>\n",
       "      <td>59256</td>\n",
       "      <td>172.31.67.34</td>\n",
       "      <td>3389</td>\n",
       "      <td>6</td>\n",
       "      <td>20/02/2018 12:29:20</td>\n",
       "      <td>2362391</td>\n",
       "      <td>9</td>\n",
       "      <td>...</td>\n",
       "      <td>20</td>\n",
       "      <td>0.0</td>\n",
       "      <td>0.0</td>\n",
       "      <td>0.0</td>\n",
       "      <td>0.0</td>\n",
       "      <td>0.0</td>\n",
       "      <td>0.0</td>\n",
       "      <td>0.0</td>\n",
       "      <td>0.0</td>\n",
       "      <td>0</td>\n",
       "    </tr>\n",
       "    <tr>\n",
       "      <th>59990</th>\n",
       "      <td>7773076</td>\n",
       "      <td>172.31.0.2-172.31.67.40-53-64884-17</td>\n",
       "      <td>172.31.67.40</td>\n",
       "      <td>64884</td>\n",
       "      <td>172.31.0.2</td>\n",
       "      <td>53</td>\n",
       "      <td>17</td>\n",
       "      <td>20/02/2018 02:41:18</td>\n",
       "      <td>27455</td>\n",
       "      <td>1</td>\n",
       "      <td>...</td>\n",
       "      <td>8</td>\n",
       "      <td>0.0</td>\n",
       "      <td>0.0</td>\n",
       "      <td>0.0</td>\n",
       "      <td>0.0</td>\n",
       "      <td>0.0</td>\n",
       "      <td>0.0</td>\n",
       "      <td>0.0</td>\n",
       "      <td>0.0</td>\n",
       "      <td>0</td>\n",
       "    </tr>\n",
       "    <tr>\n",
       "      <th>59991</th>\n",
       "      <td>7865113</td>\n",
       "      <td>172.31.67.89-5.39.216.195-3389-39341-6</td>\n",
       "      <td>172.31.67.89</td>\n",
       "      <td>3389</td>\n",
       "      <td>5.39.216.195</td>\n",
       "      <td>39341</td>\n",
       "      <td>6</td>\n",
       "      <td>20/02/2018 03:04:49</td>\n",
       "      <td>88454992</td>\n",
       "      <td>2</td>\n",
       "      <td>...</td>\n",
       "      <td>20</td>\n",
       "      <td>0.0</td>\n",
       "      <td>0.0</td>\n",
       "      <td>0.0</td>\n",
       "      <td>0.0</td>\n",
       "      <td>88454992.0</td>\n",
       "      <td>0.0</td>\n",
       "      <td>88454992.0</td>\n",
       "      <td>88454992.0</td>\n",
       "      <td>0</td>\n",
       "    </tr>\n",
       "    <tr>\n",
       "      <th>59992</th>\n",
       "      <td>7898621</td>\n",
       "      <td>172.31.69.22-221.194.47.243-22-57812-6</td>\n",
       "      <td>221.194.47.243</td>\n",
       "      <td>57812</td>\n",
       "      <td>172.31.69.22</td>\n",
       "      <td>22</td>\n",
       "      <td>6</td>\n",
       "      <td>20/02/2018 04:49:41</td>\n",
       "      <td>3170537</td>\n",
       "      <td>10</td>\n",
       "      <td>...</td>\n",
       "      <td>32</td>\n",
       "      <td>0.0</td>\n",
       "      <td>0.0</td>\n",
       "      <td>0.0</td>\n",
       "      <td>0.0</td>\n",
       "      <td>0.0</td>\n",
       "      <td>0.0</td>\n",
       "      <td>0.0</td>\n",
       "      <td>0.0</td>\n",
       "      <td>0</td>\n",
       "    </tr>\n",
       "  </tbody>\n",
       "</table>\n",
       "<p>5 rows × 73 columns</p>\n",
       "</div>"
      ],
      "text/plain": [
       "           _c0                                    Flow ID           Src IP  \\\n",
       "59988  7765586     172.31.67.34-211.170.54.2-3389-57777-6     211.170.54.2   \n",
       "59989  7766327  160.202.159.194-172.31.67.34-59256-3389-6  160.202.159.194   \n",
       "59990  7773076        172.31.0.2-172.31.67.40-53-64884-17     172.31.67.40   \n",
       "59991  7865113     172.31.67.89-5.39.216.195-3389-39341-6     172.31.67.89   \n",
       "59992  7898621     172.31.69.22-221.194.47.243-22-57812-6   221.194.47.243   \n",
       "\n",
       "       Src Port        Dst IP  Dst Port  Protocol            Timestamp  \\\n",
       "59988     57777  172.31.67.34      3389         6  20/02/2018 12:23:23   \n",
       "59989     59256  172.31.67.34      3389         6  20/02/2018 12:29:20   \n",
       "59990     64884    172.31.0.2        53        17  20/02/2018 02:41:18   \n",
       "59991      3389  5.39.216.195     39341         6  20/02/2018 03:04:49   \n",
       "59992     57812  172.31.69.22        22         6  20/02/2018 04:49:41   \n",
       "\n",
       "       Flow Duration  Tot Fwd Pkts  ...  Fwd Seg Size Min  Active Mean  \\\n",
       "59988        2330131             8  ...                20          0.0   \n",
       "59989        2362391             9  ...                20          0.0   \n",
       "59990          27455             1  ...                 8          0.0   \n",
       "59991       88454992             2  ...                20          0.0   \n",
       "59992        3170537            10  ...                32          0.0   \n",
       "\n",
       "       Active Std  Active Max  Active Min   Idle Mean  Idle Std    Idle Max  \\\n",
       "59988         0.0         0.0         0.0         0.0       0.0         0.0   \n",
       "59989         0.0         0.0         0.0         0.0       0.0         0.0   \n",
       "59990         0.0         0.0         0.0         0.0       0.0         0.0   \n",
       "59991         0.0         0.0         0.0  88454992.0       0.0  88454992.0   \n",
       "59992         0.0         0.0         0.0         0.0       0.0         0.0   \n",
       "\n",
       "         Idle Min  Label  \n",
       "59988         0.0      0  \n",
       "59989         0.0      0  \n",
       "59990         0.0      0  \n",
       "59991  88454992.0      0  \n",
       "59992         0.0      0  \n",
       "\n",
       "[5 rows x 73 columns]"
      ]
     },
     "execution_count": 67,
     "metadata": {},
     "output_type": "execute_result"
    }
   ],
   "source": [
    "testData.toPandas().tail()"
   ]
  },
  {
   "cell_type": "code",
   "execution_count": null,
   "id": "6d5d99e3-e1e5-4d86-b48e-c942f90958ca",
   "metadata": {},
   "outputs": [],
   "source": []
  },
  {
   "cell_type": "code",
   "execution_count": 230,
   "id": "a4c62763-daa5-42a7-a28a-1c3b578bb0ac",
   "metadata": {},
   "outputs": [],
   "source": [
    "# do not use some features for training\n",
    "# selected_cols = [col for col in df.columns if col not in [\"Flow ID\", \"Src IP\", \"Dst IP\", \"Timestamp\", \"Label\"]]\n",
    "# selected_cols = [col for col in df.columns if col in [\"Flow Pkts/s\", \"Bwd Pkts/s\",\n",
    "#                                                      'Tot Fwd Pkts',\n",
    "#                                                      'Tot Bwd Pkts']\n",
    "selected_cols = [col for col in df.columns if col in selected_features]\n",
    "\n",
    "# Select features\n",
    "assembler = VectorAssembler(inputCols=selected_cols, outputCol=\"features\")"
   ]
  },
  {
   "cell_type": "code",
   "execution_count": null,
   "id": "c64c4054-cbed-4809-beec-ab03faa6b35a",
   "metadata": {},
   "outputs": [],
   "source": []
  },
  {
   "cell_type": "code",
   "execution_count": null,
   "id": "c2af9be3-f22c-4882-adfb-9d7befabd6f9",
   "metadata": {},
   "outputs": [],
   "source": []
  },
  {
   "cell_type": "code",
   "execution_count": 231,
   "id": "5bf0fac5-acdf-40dc-98df-3f7638d0c73a",
   "metadata": {},
   "outputs": [
    {
     "name": "stderr",
     "output_type": "stream",
     "text": [
      "                                                                                \r"
     ]
    },
    {
     "name": "stdout",
     "output_type": "stream",
     "text": [
      "CPU times: user 40.1 ms, sys: 370 µs, total: 40.5 ms\n",
      "Wall time: 6.64 s\n"
     ]
    }
   ],
   "source": [
    "%%time\n",
    "\n",
    "rf = RandomForestClassifier(labelCol=\"Label\", featuresCol=\"features\", numTrees=10)\n",
    "pipeline = Pipeline(stages=[assembler, rf])\n",
    "\n",
    "model = pipeline.fit(trainingData)"
   ]
  },
  {
   "cell_type": "code",
   "execution_count": 232,
   "id": "805725e8-870b-4cf3-b83e-9e4424bd6fa7",
   "metadata": {},
   "outputs": [
    {
     "name": "stdout",
     "output_type": "stream",
     "text": [
      "CPU times: user 16.3 ms, sys: 238 µs, total: 16.6 ms\n",
      "Wall time: 287 ms\n"
     ]
    }
   ],
   "source": [
    "%%time\n",
    "predictions = model.transform(testData)"
   ]
  },
  {
   "cell_type": "code",
   "execution_count": 236,
   "id": "424eb653-11f6-47af-9c14-e3a918186e17",
   "metadata": {},
   "outputs": [
    {
     "name": "stderr",
     "output_type": "stream",
     "text": [
      "                                                                                \r"
     ]
    },
    {
     "data": {
      "text/html": [
       "<div>\n",
       "<style scoped>\n",
       "    .dataframe tbody tr th:only-of-type {\n",
       "        vertical-align: middle;\n",
       "    }\n",
       "\n",
       "    .dataframe tbody tr th {\n",
       "        vertical-align: top;\n",
       "    }\n",
       "\n",
       "    .dataframe thead th {\n",
       "        text-align: right;\n",
       "    }\n",
       "</style>\n",
       "<table border=\"1\" class=\"dataframe\">\n",
       "  <thead>\n",
       "    <tr style=\"text-align: right;\">\n",
       "      <th></th>\n",
       "      <th>_c0</th>\n",
       "      <th>Flow ID</th>\n",
       "      <th>Src IP</th>\n",
       "      <th>Src Port</th>\n",
       "      <th>Dst IP</th>\n",
       "      <th>Dst Port</th>\n",
       "      <th>Protocol</th>\n",
       "      <th>Timestamp</th>\n",
       "      <th>Flow Duration</th>\n",
       "      <th>Tot Fwd Pkts</th>\n",
       "      <th>...</th>\n",
       "      <th>Active Min</th>\n",
       "      <th>Idle Mean</th>\n",
       "      <th>Idle Std</th>\n",
       "      <th>Idle Max</th>\n",
       "      <th>Idle Min</th>\n",
       "      <th>Label</th>\n",
       "      <th>features</th>\n",
       "      <th>rawPrediction</th>\n",
       "      <th>probability</th>\n",
       "      <th>prediction</th>\n",
       "    </tr>\n",
       "  </thead>\n",
       "  <tbody>\n",
       "    <tr>\n",
       "      <th>0</th>\n",
       "      <td>16028</td>\n",
       "      <td>192.168.10.25-52.84.145.208-49423-443-6</td>\n",
       "      <td>192.168.10.25</td>\n",
       "      <td>49423</td>\n",
       "      <td>52.84.145.208</td>\n",
       "      <td>443</td>\n",
       "      <td>6</td>\n",
       "      <td>03/07/2017 06:03:05 PM</td>\n",
       "      <td>108000</td>\n",
       "      <td>17</td>\n",
       "      <td>...</td>\n",
       "      <td>0.0</td>\n",
       "      <td>0.0</td>\n",
       "      <td>0.000000e+00</td>\n",
       "      <td>0.0</td>\n",
       "      <td>0.0</td>\n",
       "      <td>0</td>\n",
       "      <td>[49.05882263183594, 0.0, 0.0, 662.444458007812...</td>\n",
       "      <td>[9.967954290573122, 0.03204570942687831]</td>\n",
       "      <td>[0.9967954290573122, 0.003204570942687831]</td>\n",
       "      <td>0.0</td>\n",
       "    </tr>\n",
       "    <tr>\n",
       "      <th>1</th>\n",
       "      <td>22827</td>\n",
       "      <td>192.168.10.1-192.168.10.3-53-62485-17</td>\n",
       "      <td>192.168.10.3</td>\n",
       "      <td>62485</td>\n",
       "      <td>192.168.10.1</td>\n",
       "      <td>53</td>\n",
       "      <td>17</td>\n",
       "      <td>03/07/2017 05:59:23 PM</td>\n",
       "      <td>509</td>\n",
       "      <td>0</td>\n",
       "      <td>...</td>\n",
       "      <td>0.0</td>\n",
       "      <td>0.0</td>\n",
       "      <td>0.000000e+00</td>\n",
       "      <td>0.0</td>\n",
       "      <td>0.0</td>\n",
       "      <td>0</td>\n",
       "      <td>(0.0, 0.0, 0.0, 105.5, 0.0, -1.0, 0.0)</td>\n",
       "      <td>[9.996271205808076, 0.0037287941919244023]</td>\n",
       "      <td>[0.9996271205808075, 0.00037287941919244015]</td>\n",
       "      <td>0.0</td>\n",
       "    </tr>\n",
       "    <tr>\n",
       "      <th>2</th>\n",
       "      <td>23107</td>\n",
       "      <td>172.217.11.6-192.168.10.51-443-49010-6</td>\n",
       "      <td>192.168.10.51</td>\n",
       "      <td>49010</td>\n",
       "      <td>172.217.11.6</td>\n",
       "      <td>443</td>\n",
       "      <td>6</td>\n",
       "      <td>03/07/2017 06:12:22 PM</td>\n",
       "      <td>116439613</td>\n",
       "      <td>63</td>\n",
       "      <td>...</td>\n",
       "      <td>36648.0</td>\n",
       "      <td>9607746.0</td>\n",
       "      <td>1.379302e+06</td>\n",
       "      <td>10011266.0</td>\n",
       "      <td>5228123.0</td>\n",
       "      <td>0</td>\n",
       "      <td>[32.19047546386719, 0.0, 0.0, 763.740478515625...</td>\n",
       "      <td>[9.967954290573122, 0.03204570942687831]</td>\n",
       "      <td>[0.9967954290573122, 0.003204570942687831]</td>\n",
       "      <td>0.0</td>\n",
       "    </tr>\n",
       "    <tr>\n",
       "      <th>3</th>\n",
       "      <td>30014</td>\n",
       "      <td>184.31.6.135-192.168.10.9-443-63616-6</td>\n",
       "      <td>192.168.10.9</td>\n",
       "      <td>63616</td>\n",
       "      <td>184.31.6.135</td>\n",
       "      <td>443</td>\n",
       "      <td>6</td>\n",
       "      <td>03/07/2017 06:18:31 PM</td>\n",
       "      <td>117069975</td>\n",
       "      <td>23</td>\n",
       "      <td>...</td>\n",
       "      <td>28486.0</td>\n",
       "      <td>9983783.0</td>\n",
       "      <td>8.618276e+04</td>\n",
       "      <td>10086934.0</td>\n",
       "      <td>9736499.0</td>\n",
       "      <td>0</td>\n",
       "      <td>[106.73912811279297, 0.0, 0.0, 106.06666564941...</td>\n",
       "      <td>[9.967954290573122, 0.03204570942687831]</td>\n",
       "      <td>[0.9967954290573122, 0.003204570942687831]</td>\n",
       "      <td>0.0</td>\n",
       "    </tr>\n",
       "    <tr>\n",
       "      <th>4</th>\n",
       "      <td>38315</td>\n",
       "      <td>192.168.10.5-74.217.250.92-52386-443-6</td>\n",
       "      <td>192.168.10.5</td>\n",
       "      <td>52386</td>\n",
       "      <td>74.217.250.92</td>\n",
       "      <td>443</td>\n",
       "      <td>6</td>\n",
       "      <td>03/07/2017 06:29:34 PM</td>\n",
       "      <td>7785642</td>\n",
       "      <td>1</td>\n",
       "      <td>...</td>\n",
       "      <td>0.0</td>\n",
       "      <td>0.0</td>\n",
       "      <td>0.000000e+00</td>\n",
       "      <td>0.0</td>\n",
       "      <td>0.0</td>\n",
       "      <td>0</td>\n",
       "      <td>(0.0, 0.0, 1.0, 0.0, 0.0, 255.0, 0.0)</td>\n",
       "      <td>[8.049898259709716, 1.9501017402902852]</td>\n",
       "      <td>[0.8049898259709716, 0.1950101740290285]</td>\n",
       "      <td>0.0</td>\n",
       "    </tr>\n",
       "  </tbody>\n",
       "</table>\n",
       "<p>5 rows × 77 columns</p>\n",
       "</div>"
      ],
      "text/plain": [
       "     _c0                                  Flow ID         Src IP  Src Port  \\\n",
       "0  16028  192.168.10.25-52.84.145.208-49423-443-6  192.168.10.25     49423   \n",
       "1  22827    192.168.10.1-192.168.10.3-53-62485-17   192.168.10.3     62485   \n",
       "2  23107   172.217.11.6-192.168.10.51-443-49010-6  192.168.10.51     49010   \n",
       "3  30014    184.31.6.135-192.168.10.9-443-63616-6   192.168.10.9     63616   \n",
       "4  38315   192.168.10.5-74.217.250.92-52386-443-6   192.168.10.5     52386   \n",
       "\n",
       "          Dst IP  Dst Port  Protocol               Timestamp  Flow Duration  \\\n",
       "0  52.84.145.208       443         6  03/07/2017 06:03:05 PM         108000   \n",
       "1   192.168.10.1        53        17  03/07/2017 05:59:23 PM            509   \n",
       "2   172.217.11.6       443         6  03/07/2017 06:12:22 PM      116439613   \n",
       "3   184.31.6.135       443         6  03/07/2017 06:18:31 PM      117069975   \n",
       "4  74.217.250.92       443         6  03/07/2017 06:29:34 PM        7785642   \n",
       "\n",
       "   Tot Fwd Pkts  ...  Active Min  Idle Mean      Idle Std    Idle Max  \\\n",
       "0            17  ...         0.0        0.0  0.000000e+00         0.0   \n",
       "1             0  ...         0.0        0.0  0.000000e+00         0.0   \n",
       "2            63  ...     36648.0  9607746.0  1.379302e+06  10011266.0   \n",
       "3            23  ...     28486.0  9983783.0  8.618276e+04  10086934.0   \n",
       "4             1  ...         0.0        0.0  0.000000e+00         0.0   \n",
       "\n",
       "    Idle Min  Label                                           features  \\\n",
       "0        0.0      0  [49.05882263183594, 0.0, 0.0, 662.444458007812...   \n",
       "1        0.0      0             (0.0, 0.0, 0.0, 105.5, 0.0, -1.0, 0.0)   \n",
       "2  5228123.0      0  [32.19047546386719, 0.0, 0.0, 763.740478515625...   \n",
       "3  9736499.0      0  [106.73912811279297, 0.0, 0.0, 106.06666564941...   \n",
       "4        0.0      0              (0.0, 0.0, 1.0, 0.0, 0.0, 255.0, 0.0)   \n",
       "\n",
       "                                rawPrediction  \\\n",
       "0    [9.967954290573122, 0.03204570942687831]   \n",
       "1  [9.996271205808076, 0.0037287941919244023]   \n",
       "2    [9.967954290573122, 0.03204570942687831]   \n",
       "3    [9.967954290573122, 0.03204570942687831]   \n",
       "4     [8.049898259709716, 1.9501017402902852]   \n",
       "\n",
       "                                    probability  prediction  \n",
       "0    [0.9967954290573122, 0.003204570942687831]         0.0  \n",
       "1  [0.9996271205808075, 0.00037287941919244015]         0.0  \n",
       "2    [0.9967954290573122, 0.003204570942687831]         0.0  \n",
       "3    [0.9967954290573122, 0.003204570942687831]         0.0  \n",
       "4      [0.8049898259709716, 0.1950101740290285]         0.0  \n",
       "\n",
       "[5 rows x 77 columns]"
      ]
     },
     "execution_count": 236,
     "metadata": {},
     "output_type": "execute_result"
    }
   ],
   "source": [
    "predictions.toPandas().head()"
   ]
  },
  {
   "cell_type": "code",
   "execution_count": null,
   "id": "fda44133-9fed-41d2-8d92-923cab9d9511",
   "metadata": {},
   "outputs": [],
   "source": []
  },
  {
   "cell_type": "code",
   "execution_count": 241,
   "id": "954dd45a-0e9f-4d2f-9406-ef1307281616",
   "metadata": {},
   "outputs": [
    {
     "name": "stderr",
     "output_type": "stream",
     "text": [
      "                                                                                \r"
     ]
    },
    {
     "name": "stdout",
     "output_type": "stream",
     "text": [
      "ROC = 0.999958\n",
      "CPU times: user 1.44 ms, sys: 7.3 ms, total: 8.74 ms\n",
      "Wall time: 1.6 s\n"
     ]
    }
   ],
   "source": [
    "%%time\n",
    "evaluator = BinaryClassificationEvaluator(labelCol=\"Label\", rawPredictionCol=\"rawPrediction\")\n",
    "roc = evaluator.evaluate(predictions)\n",
    "print(\"ROC = %g\" % (roc))"
   ]
  },
  {
   "cell_type": "code",
   "execution_count": 242,
   "id": "5d26798a-272f-4063-ad8e-0f91d499325a",
   "metadata": {},
   "outputs": [
    {
     "name": "stderr",
     "output_type": "stream",
     "text": [
      "[Stage 7497:===========================================>          (13 + 3) / 16]\r"
     ]
    },
    {
     "name": "stdout",
     "output_type": "stream",
     "text": [
      "Accuracy:  0.9992990186260765\n",
      "Precision:  0.9986598767086572\n",
      "Recall:  0.9999329084199933\n",
      "F1 Score:  0.9992990205404744\n",
      "ROC:  0.9999575022775948\n"
     ]
    },
    {
     "name": "stderr",
     "output_type": "stream",
     "text": [
      "                                                                                \r"
     ]
    }
   ],
   "source": [
    "# more evaluations\n",
    "from pyspark.ml.evaluation import MulticlassClassificationEvaluator\n",
    "\n",
    "# Define a multiclass classification evaluator\n",
    "multiclass_evaluator = MulticlassClassificationEvaluator(labelCol=\"Label\", predictionCol=\"prediction\")\n",
    "\n",
    "# Calculate accuracy\n",
    "accuracy = multiclass_evaluator.evaluate(predictions, {multiclass_evaluator.metricName: \"accuracy\"})\n",
    "\n",
    "# Calculate precision\n",
    "precision = multiclass_evaluator.evaluate(predictions, {multiclass_evaluator.metricName: \"precisionByLabel\"})\n",
    "\n",
    "# Calculate recall\n",
    "recall = multiclass_evaluator.evaluate(predictions, {multiclass_evaluator.metricName: \"recallByLabel\"})\n",
    "\n",
    "# Calculate F1 score\n",
    "f1_score = multiclass_evaluator.evaluate(predictions, {multiclass_evaluator.metricName: \"f1\"})\n",
    "\n",
    "# Print the evaluation metrics\n",
    "print(\"Accuracy: \", accuracy)\n",
    "print(\"Precision: \", precision)\n",
    "print(\"Recall: \", recall)\n",
    "print(\"F1 Score: \", f1_score)\n",
    "print(\"ROC: \", roc)"
   ]
  },
  {
   "cell_type": "code",
   "execution_count": null,
   "id": "176ad10b-81c8-4ad1-9e08-512208138230",
   "metadata": {},
   "outputs": [],
   "source": []
  },
  {
   "cell_type": "code",
   "execution_count": null,
   "id": "c9351e79-1600-4c14-b48b-0d23046e20a6",
   "metadata": {},
   "outputs": [],
   "source": []
  },
  {
   "cell_type": "code",
   "execution_count": null,
   "id": "20764eb1-663e-49e9-9486-71f1461041e8",
   "metadata": {},
   "outputs": [],
   "source": []
  },
  {
   "cell_type": "code",
   "execution_count": null,
   "id": "710fb74a-a882-4ba8-a0d1-541bc83f2c78",
   "metadata": {},
   "outputs": [],
   "source": []
  },
  {
   "cell_type": "code",
   "execution_count": null,
   "id": "759900af-c7de-4bc8-bf70-379f725a94d1",
   "metadata": {},
   "outputs": [],
   "source": []
  },
  {
   "cell_type": "code",
   "execution_count": null,
   "id": "492adee6-6c4a-4897-bb27-37392d84cb1c",
   "metadata": {},
   "outputs": [],
   "source": []
  },
  {
   "cell_type": "code",
   "execution_count": null,
   "id": "e283deb2-53ce-4d85-9ca7-989481bef4cd",
   "metadata": {},
   "outputs": [],
   "source": []
  },
  {
   "cell_type": "markdown",
   "id": "62bd73bb-a3ff-499a-86d3-825d1c256813",
   "metadata": {},
   "source": [
    "Vitialize to compare the training time on single-node machine and 2-node spark cluster"
   ]
  },
  {
   "cell_type": "code",
   "execution_count": 35,
   "id": "adbe73fd-e85f-4fb5-bbb8-d00c1609fa9a",
   "metadata": {},
   "outputs": [
    {
     "data": {
      "image/png": "[encoded data removed]",
      "text/plain": [
       "<Figure size 800x200 with 1 Axes>"
      ]
     },
     "metadata": {},
     "output_type": "display_data"
    }
   ],
   "source": [
    "# Data\n",
    "models = ['Single-node machine', '2-node Spark Cluster']\n",
    "training_times = [52.7, 31.6]  # Replace with your actual training times in seconds\n",
    "\n",
    "# Plot\n",
    "plt.figure(figsize=(8, 2))\n",
    "bars = plt.barh(models, training_times, color=['orange', 'green'])\n",
    "\n",
    "# Add value on top of each bar\n",
    "for bar in bars:\n",
    "    plt.text(bar.get_width() - 5, bar.get_y() + bar.get_height()/2, f'{bar.get_width()}s', va='center')\n",
    "\n",
    "plt.xlabel('Training Time (seconds)')\n",
    "plt.ylabel('Model')\n",
    "plt.title('Training Time Comparison')\n",
    "plt.grid(axis='x')\n",
    "plt.show()"
   ]
  },
  {
   "cell_type": "code",
   "execution_count": 235,
   "id": "07195c69-ebb7-4674-a94f-b4ded29e4945",
   "metadata": {},
   "outputs": [
    {
     "data": {
      "image/png": "[encoded data removed]",
      "text/plain": [
       "<Figure size 800x200 with 1 Axes>"
      ]
     },
     "metadata": {},
     "output_type": "display_data"
    }
   ],
   "source": [
    "# Data\n",
    "models = ['Single-node machine', '2-node Spark Cluster', '8-node Spark Cluster']\n",
    "training_times = [52.7, 31.6, 6.64]  # Replace with your actual training times in seconds\n",
    "\n",
    "# Plot\n",
    "plt.figure(figsize=(8, 2))\n",
    "bars = plt.barh(models, training_times, color=['orange', 'green', 'blue'])\n",
    "\n",
    "# Add value on top of each bar\n",
    "for bar in bars:\n",
    "    plt.text(bar.get_width() - 5, bar.get_y() + bar.get_height()/2, f'{bar.get_width()}s', va='center')\n",
    "\n",
    "plt.xlabel('Training Time (seconds)')\n",
    "plt.ylabel('Model')\n",
    "plt.title('Training Time Comparison')\n",
    "plt.grid(axis='x')\n",
    "plt.show()"
   ]
  },
  {
   "cell_type": "code",
   "execution_count": null,
   "id": "37d1beac-0f00-4728-8b11-729528d1e218",
   "metadata": {},
   "outputs": [],
   "source": []
  },
  {
   "cell_type": "code",
   "execution_count": null,
   "id": "0cd7d6d3-b7e0-4140-a6cf-771d2d5ce9ef",
   "metadata": {},
   "outputs": [],
   "source": []
  },
  {
   "cell_type": "code",
   "execution_count": null,
   "id": "03c2a742-a6f5-4a85-a7fc-4edb44f119d8",
   "metadata": {},
   "outputs": [],
   "source": []
  },
  {
   "cell_type": "code",
   "execution_count": null,
   "id": "bc0c34af-5e4e-4c28-814d-075e8e9b5363",
   "metadata": {},
   "outputs": [],
   "source": []
  },
  {
   "cell_type": "markdown",
   "id": "8cdd5adf-18f2-4046-83a2-6653fcc5c0a4",
   "metadata": {},
   "source": [
    "## Withou pipeline"
   ]
  },
  {
   "cell_type": "code",
   "execution_count": 27,
   "id": "7203ad5a-4d6d-41eb-a8fb-9701ff824d64",
   "metadata": {},
   "outputs": [],
   "source": [
    "# Map \"ddos\" to 1 and \"Benign\" to 0 in the label column\n",
    "df = df.withColumn(\"Label\", when(col(\"Label\") == \"ddos\", 1).otherwise(0))"
   ]
  },
  {
   "cell_type": "code",
   "execution_count": 28,
   "id": "f725c0d1-9486-4686-ae2b-5d1989109002",
   "metadata": {},
   "outputs": [],
   "source": [
    "# Split the data into training and test sets\n",
    "(trainingData, testData) = df.randomSplit([0.7, 0.3])"
   ]
  },
  {
   "cell_type": "code",
   "execution_count": 45,
   "id": "61196458-63cc-4352-b5f6-9ca97e6c024e",
   "metadata": {},
   "outputs": [],
   "source": [
    "# Select features\n",
    "# selected_cols = [col for col in df.columns if col not in [\"Flow ID\", \"Src IP\", \"Dst IP\", \"Timestamp\", \"Label\"]]\n",
    "# selected_cols = [col for col in df.columns if col in [\"Flow Pkts/s\"]]\n",
    "assembler = VectorAssembler(inputCols=selected_cols, outputCol=\"features\")"
   ]
  },
  {
   "cell_type": "code",
   "execution_count": null,
   "id": "e1235119-e802-482a-9629-499eb0f9f350",
   "metadata": {},
   "outputs": [],
   "source": []
  },
  {
   "cell_type": "code",
   "execution_count": 46,
   "id": "c4de3440-3e5b-434f-be9e-b758d6c044a5",
   "metadata": {},
   "outputs": [
    {
     "data": {
      "text/plain": [
       "['_c0',\n",
       " 'Src Port',\n",
       " 'Dst Port',\n",
       " 'Protocol',\n",
       " 'Flow Duration',\n",
       " 'Tot Fwd Pkts',\n",
       " 'Tot Bwd Pkts',\n",
       " 'TotLen Fwd Pkts',\n",
       " 'TotLen Bwd Pkts',\n",
       " 'Fwd Pkt Len Max',\n",
       " 'Fwd Pkt Len Min',\n",
       " 'Fwd Pkt Len Mean',\n",
       " 'Fwd Pkt Len Std',\n",
       " 'Bwd Pkt Len Max',\n",
       " 'Bwd Pkt Len Min',\n",
       " 'Bwd Pkt Len Mean',\n",
       " 'Bwd Pkt Len Std',\n",
       " 'Flow Byts/s',\n",
       " 'Flow Pkts/s',\n",
       " 'Flow IAT Mean',\n",
       " 'Flow IAT Std',\n",
       " 'Flow IAT Max',\n",
       " 'Flow IAT Min',\n",
       " 'Fwd IAT Tot',\n",
       " 'Fwd IAT Mean',\n",
       " 'Fwd IAT Std',\n",
       " 'Fwd IAT Max',\n",
       " 'Fwd IAT Min',\n",
       " 'Bwd IAT Tot',\n",
       " 'Bwd IAT Mean',\n",
       " 'Bwd IAT Std',\n",
       " 'Bwd IAT Max',\n",
       " 'Bwd IAT Min',\n",
       " 'Fwd Header Len',\n",
       " 'Bwd Header Len',\n",
       " 'Fwd Pkts/s',\n",
       " 'Bwd Pkts/s',\n",
       " 'Pkt Len Min',\n",
       " 'Pkt Len Max',\n",
       " 'Pkt Len Mean',\n",
       " 'Pkt Len Std',\n",
       " 'Pkt Len Var',\n",
       " 'SYN Flag Cnt',\n",
       " 'RST Flag Cnt',\n",
       " 'PSH Flag Cnt',\n",
       " 'ACK Flag Cnt',\n",
       " 'CWE Flag Count',\n",
       " 'ECE Flag Cnt',\n",
       " 'Down/Up Ratio',\n",
       " 'Pkt Size Avg',\n",
       " 'Fwd Seg Size Avg',\n",
       " 'Bwd Seg Size Avg',\n",
       " 'Subflow Fwd Pkts',\n",
       " 'Subflow Fwd Byts',\n",
       " 'Subflow Bwd Pkts',\n",
       " 'Subflow Bwd Byts',\n",
       " 'Init Fwd Win Byts',\n",
       " 'Init Bwd Win Byts',\n",
       " 'Fwd Act Data Pkts',\n",
       " 'Fwd Seg Size Min',\n",
       " 'Active Mean',\n",
       " 'Active Std',\n",
       " 'Active Max',\n",
       " 'Active Min',\n",
       " 'Idle Mean',\n",
       " 'Idle Std',\n",
       " 'Idle Max',\n",
       " 'Idle Min']"
      ]
     },
     "execution_count": 46,
     "metadata": {},
     "output_type": "execute_result"
    }
   ],
   "source": [
    "selected_cols"
   ]
  },
  {
   "cell_type": "code",
   "execution_count": null,
   "id": "7a5d4e14-2496-4954-83df-5eedb1fe6c13",
   "metadata": {},
   "outputs": [],
   "source": []
  },
  {
   "cell_type": "code",
   "execution_count": null,
   "id": "091f862d-baf2-4df3-81fa-310060b9d806",
   "metadata": {},
   "outputs": [],
   "source": []
  },
  {
   "cell_type": "code",
   "execution_count": 39,
   "id": "9e1195d5-6f7f-4173-bde7-23f117f978c3",
   "metadata": {},
   "outputs": [],
   "source": [
    "# Transform the training data\n",
    "trainingData_transformed = assembler.transform(trainingData)"
   ]
  },
  {
   "cell_type": "code",
   "execution_count": 40,
   "id": "0bff6675-69bf-42fd-85d7-c5b686045bac",
   "metadata": {},
   "outputs": [],
   "source": [
    "# Define Random Forest classifier\n",
    "rf = RandomForestClassifier(labelCol=\"Label\", featuresCol=\"features\", numTrees=10)"
   ]
  },
  {
   "cell_type": "code",
   "execution_count": 41,
   "id": "476174ad-4fd7-42b8-919e-a88073c600de",
   "metadata": {},
   "outputs": [
    {
     "name": "stderr",
     "output_type": "stream",
     "text": [
      "                                                                                \r"
     ]
    }
   ],
   "source": [
    "# Fit the model\n",
    "model = rf.fit(trainingData_transformed)"
   ]
  },
  {
   "cell_type": "code",
   "execution_count": 42,
   "id": "1b52a023-62ec-4680-b185-000b52a665db",
   "metadata": {},
   "outputs": [],
   "source": [
    "# Transform the test data\n",
    "testData_transformed = assembler.transform(testData)"
   ]
  },
  {
   "cell_type": "code",
   "execution_count": 43,
   "id": "041a5f31-e87a-4833-ac10-8d257a8805b3",
   "metadata": {},
   "outputs": [],
   "source": [
    "# Make predictions\n",
    "predictions = model.transform(testData_transformed)"
   ]
  },
  {
   "cell_type": "code",
   "execution_count": 44,
   "id": "0eefca85-a575-458d-a6a8-13227897f441",
   "metadata": {},
   "outputs": [
    {
     "name": "stderr",
     "output_type": "stream",
     "text": [
      "[Stage 1982:================>                                     (5 + 11) / 16]\r"
     ]
    },
    {
     "name": "stdout",
     "output_type": "stream",
     "text": [
      "Test Accuracy = 0.872858\n"
     ]
    },
    {
     "name": "stderr",
     "output_type": "stream",
     "text": [
      "                                                                                \r"
     ]
    }
   ],
   "source": [
    "# Evaluate model performance\n",
    "evaluator = BinaryClassificationEvaluator(labelCol=\"Label\", rawPredictionCol=\"rawPrediction\")\n",
    "accuracy = evaluator.evaluate(predictions)\n",
    "print(\"Test Accuracy = %g\" % (accuracy))"
   ]
  },
  {
   "cell_type": "code",
   "execution_count": null,
   "id": "06dfa42f-0a7a-4c72-9ef6-c5457e769705",
   "metadata": {},
   "outputs": [],
   "source": []
  },
  {
   "cell_type": "code",
   "execution_count": null,
   "id": "6d315756-7280-4608-8106-358e01430e47",
   "metadata": {},
   "outputs": [],
   "source": []
  },
  {
   "cell_type": "code",
   "execution_count": null,
   "id": "af25c79c-b9cd-463f-bd0f-562e5f87c7ae",
   "metadata": {},
   "outputs": [],
   "source": []
  },
  {
   "cell_type": "markdown",
   "id": "72d71844-7b5a-436a-82d4-41b6e7808dfd",
   "metadata": {},
   "source": [
    "# New version for solving potential overfitting"
   ]
  },
  {
   "cell_type": "code",
   "execution_count": 44,
   "id": "b328b01c-cf49-40a3-91c3-7797343da92c",
   "metadata": {},
   "outputs": [],
   "source": [
    "df = df_backup"
   ]
  },
  {
   "cell_type": "code",
   "execution_count": 54,
   "id": "9349a590-c346-494b-bfcc-307099d3c4b4",
   "metadata": {},
   "outputs": [],
   "source": [
    "# Map \"ddos\" to 1 and \"Benign\" to 0 in the label column\n",
    "# This is required by the random forest in PySpark\n",
    "df = df.withColumn(\"Label\", when(col(\"Label\") == \"ddos\", 1).otherwise(0))"
   ]
  },
  {
   "cell_type": "code",
   "execution_count": 55,
   "id": "3dea303c-e22d-4377-ac92-1e3acbd81be3",
   "metadata": {},
   "outputs": [],
   "source": [
    "selected_cols = [col for col in df.columns if col in selected_features]\n",
    "\n",
    "# Select features\n",
    "assembler = VectorAssembler(inputCols=selected_cols, outputCol=\"features\")"
   ]
  },
  {
   "cell_type": "markdown",
   "id": "1536de46-b69a-4b41-b05e-aaa217501de7",
   "metadata": {},
   "source": [
    "### Perform data preprocessing using scaler\n",
    "Feature scaling (also known as data normalization or standardization) is a preprocessing step that transforms the features (columns) of a dataset to have similar scales or ranges.\n",
    "\n",
    "The purpose of feature scaling here is to ensure that all features contribute equally to our model training process, preventing features with larger scales from dominating those with smaller scales. It also helps the algorithms converge faster and may improve the performance of certain machine learning algorithms, particularly those that rely on distance metrics or gradient descent optimization."
   ]
  },
  {
   "cell_type": "code",
   "execution_count": 56,
   "id": "6dc8c485-fad4-4109-a8e9-28994bad5115",
   "metadata": {},
   "outputs": [],
   "source": [
    "scaler = StandardScaler(inputCol=\"features\", outputCol=\"scaledFeatures\")"
   ]
  },
  {
   "cell_type": "code",
   "execution_count": null,
   "id": "f5f31b1c-7a72-45de-b33f-b00d0d4ca79c",
   "metadata": {},
   "outputs": [],
   "source": []
  },
  {
   "cell_type": "markdown",
   "id": "16550644-3659-405d-af9f-62b55bda38d2",
   "metadata": {},
   "source": [
    "### Use PCA for feature selection to reduce the number of features"
   ]
  },
  {
   "cell_type": "code",
   "execution_count": 57,
   "id": "f14b07a8-e3b2-4b4d-8155-cc3eb21c59a0",
   "metadata": {},
   "outputs": [],
   "source": [
    "# reduce to 3 principal components\n",
    "pca = PCA(k=3, inputCol=\"scaledFeatures\", outputCol=\"pcaFeatures\")"
   ]
  },
  {
   "cell_type": "code",
   "execution_count": null,
   "id": "bd32a0fc-3294-4f32-8cf1-9cdda0058c97",
   "metadata": {},
   "outputs": [],
   "source": []
  },
  {
   "cell_type": "code",
   "execution_count": null,
   "id": "8216b8ee-f25e-4e5f-a864-2c0472076088",
   "metadata": {},
   "outputs": [],
   "source": []
  },
  {
   "cell_type": "markdown",
   "id": "461ea686-d5a5-4246-b82e-f71bcfa1117f",
   "metadata": {},
   "source": [
    "### Define a new Random Forest model"
   ]
  },
  {
   "cell_type": "code",
   "execution_count": 58,
   "id": "4ad9396c-c370-402d-8e92-4f7cb9c30819",
   "metadata": {},
   "outputs": [],
   "source": [
    "rf = RandomForestClassifier(labelCol=\"Label\", featuresCol=\"pcaFeatures\")\n",
    "pipeline = Pipeline(stages=[assembler, scaler, pca, rf])"
   ]
  },
  {
   "cell_type": "code",
   "execution_count": null,
   "id": "5cc8d60d-4610-494a-9482-c05571ccef74",
   "metadata": {},
   "outputs": [],
   "source": []
  },
  {
   "cell_type": "markdown",
   "id": "8587aa5a-9255-4f68-93e7-7040d5e8a898",
   "metadata": {},
   "source": [
    "### Add the process of hyperparameter tunning\n",
    "This usually works together with the k-fold cross validation"
   ]
  },
  {
   "cell_type": "code",
   "execution_count": 59,
   "id": "c3b4414e-cd61-44ba-aa5c-091338b585e5",
   "metadata": {},
   "outputs": [],
   "source": [
    "# Define hyperparameter grid for tuning\n",
    "paramGrid = ParamGridBuilder() \\\n",
    "    .addGrid(rf.numTrees, [10, 50, 100]) \\\n",
    "    .addGrid(rf.maxDepth, [5, 10, 15]) \\\n",
    "    .build()"
   ]
  },
  {
   "cell_type": "code",
   "execution_count": null,
   "id": "eb08396e-a91a-437b-8803-fceecfcfd0ac",
   "metadata": {},
   "outputs": [],
   "source": []
  },
  {
   "cell_type": "markdown",
   "id": "078cba8d-4747-41d4-983c-ebf6909002ad",
   "metadata": {},
   "source": [
    "### Try k-fold cross validation (10-fold)"
   ]
  },
  {
   "cell_type": "code",
   "execution_count": 60,
   "id": "fd3482d6-b580-4d47-9b72-470731db2c1e",
   "metadata": {},
   "outputs": [],
   "source": [
    "# use ROC index for evaluation\n",
    "evaluator = BinaryClassificationEvaluator(labelCol=\"Label\", metricName=\"areaUnderROC\")\n",
    "# 10-fold cross-validation\n",
    "crossval = CrossValidator(estimator=pipeline,\n",
    "                          estimatorParamMaps=paramGrid,\n",
    "                          evaluator=evaluator,\n",
    "                          numFolds=10)  "
   ]
  },
  {
   "cell_type": "code",
   "execution_count": 61,
   "id": "7c78564d-2946-438a-867b-2bbe4f708461",
   "metadata": {
    "scrolled": true
   },
   "outputs": [
    {
     "name": "stderr",
     "output_type": "stream",
     "text": [
      "                                                                                \r"
     ]
    },
    {
     "name": "stdout",
     "output_type": "stream",
     "text": [
      "CPU times: user 7.31 s, sys: 1.95 s, total: 9.25 s\n",
      "Wall time: 9min 31s\n"
     ]
    }
   ],
   "source": [
    "%%time\n",
    "cvModel = crossval.fit(df)"
   ]
  },
  {
   "cell_type": "code",
   "execution_count": 63,
   "id": "5c94e911-3947-47df-8812-40d2f2372935",
   "metadata": {},
   "outputs": [
    {
     "name": "stderr",
     "output_type": "stream",
     "text": [
      "                                                                                \r"
     ]
    }
   ],
   "source": [
    "# store the trained model\n",
    "model_path = \"models/trained_on_bal_200000\"\n",
    "cvModel.save(model_path)"
   ]
  },
  {
   "cell_type": "code",
   "execution_count": 62,
   "id": "8cc4d4c8-6baa-4578-aa7d-dbab7c68ca44",
   "metadata": {},
   "outputs": [
    {
     "name": "stdout",
     "output_type": "stream",
     "text": [
      "CPU times: user 9.87 ms, sys: 3.43 ms, total: 13.3 ms\n",
      "Wall time: 84 ms\n"
     ]
    }
   ],
   "source": [
    "%%time\n",
    "# Make predictions\n",
    "predictions = cvModel.transform(df)"
   ]
  },
  {
   "cell_type": "code",
   "execution_count": 74,
   "id": "03752520-7179-4515-913d-469b843bbe69",
   "metadata": {},
   "outputs": [
    {
     "name": "stderr",
     "output_type": "stream",
     "text": [
      "                                                                                \r"
     ]
    },
    {
     "data": {
      "text/plain": [
       "0.9999935525865022"
      ]
     },
     "execution_count": 74,
     "metadata": {},
     "output_type": "execute_result"
    }
   ],
   "source": [
    "# Evaluate model performance\n",
    "roc = evaluator.evaluate(predictions)\n",
    "roc"
   ]
  },
  {
   "cell_type": "code",
   "execution_count": 75,
   "id": "783b506f-5a34-47fc-b301-edfbc1f21985",
   "metadata": {},
   "outputs": [
    {
     "name": "stderr",
     "output_type": "stream",
     "text": [
      "[Stage 14556:==============================================>      (14 + 2) / 16]\r"
     ]
    },
    {
     "name": "stdout",
     "output_type": "stream",
     "text": [
      "Accuracy:  0.9994278429679894\n",
      "Precision:  0.9988626985245275\n",
      "Recall:  0.9999899240271648\n",
      "F1 Score:  0.9994278440043086\n",
      "ROC:  0.9999935525865022\n"
     ]
    },
    {
     "name": "stderr",
     "output_type": "stream",
     "text": [
      "                                                                                \r"
     ]
    }
   ],
   "source": [
    "# more evaluations\n",
    "\n",
    "from pyspark.ml.evaluation import MulticlassClassificationEvaluator\n",
    "\n",
    "# Define a multiclass classification evaluator\n",
    "multiclass_evaluator = MulticlassClassificationEvaluator(labelCol=\"Label\", predictionCol=\"prediction\")\n",
    "\n",
    "# Calculate accuracy\n",
    "accuracy = multiclass_evaluator.evaluate(predictions, {multiclass_evaluator.metricName: \"accuracy\"})\n",
    "\n",
    "# Calculate precision\n",
    "precision = multiclass_evaluator.evaluate(predictions, {multiclass_evaluator.metricName: \"precisionByLabel\"})\n",
    "\n",
    "# Calculate recall\n",
    "recall = multiclass_evaluator.evaluate(predictions, {multiclass_evaluator.metricName: \"recallByLabel\"})\n",
    "\n",
    "# Calculate F1 score\n",
    "f1_score = multiclass_evaluator.evaluate(predictions, {multiclass_evaluator.metricName: \"f1\"})\n",
    "\n",
    "# Print the evaluation metrics\n",
    "print(\"Accuracy: \", accuracy)\n",
    "print(\"Precision: \", precision)\n",
    "print(\"Recall: \", recall)\n",
    "print(\"F1 Score: \", f1_score)\n",
    "print(\"ROC: \", roc)"
   ]
  },
  {
   "cell_type": "code",
   "execution_count": 76,
   "id": "b78d7e1a-9dbc-4b44-a4f6-53069d838dba",
   "metadata": {},
   "outputs": [],
   "source": [
    "# get the hyperparameter combination of the best model\n",
    "best_model = cvModel.bestModel"
   ]
  },
  {
   "cell_type": "code",
   "execution_count": 77,
   "id": "fef0a97e-4159-43e6-8287-ec28c45e593d",
   "metadata": {},
   "outputs": [
    {
     "name": "stdout",
     "output_type": "stream",
     "text": [
      "Best Num Trees: 100\n",
      "Best Max Depth: 10\n"
     ]
    }
   ],
   "source": [
    "# Extract the parameter values from the best model\n",
    "best_num_trees = best_model.stages[-1].getNumTrees\n",
    "best_max_depth = best_model.stages[-1].getOrDefault('maxDepth')\n",
    "\n",
    "# Print the best hyperparameter combination\n",
    "print(\"Best Num Trees:\", best_num_trees)\n",
    "print(\"Best Max Depth:\", best_max_depth)"
   ]
  },
  {
   "cell_type": "code",
   "execution_count": null,
   "id": "3dd5ffbf-245a-44d0-b1a0-f0c3ac9ef4db",
   "metadata": {},
   "outputs": [],
   "source": []
  },
  {
   "cell_type": "code",
   "execution_count": null,
   "id": "3d9f2ffe-3876-498b-b449-16bd32032c4c",
   "metadata": {},
   "outputs": [],
   "source": []
  },
  {
   "cell_type": "code",
   "execution_count": null,
   "id": "86b8de5f-719f-41e2-8399-b0f1386ec816",
   "metadata": {},
   "outputs": [],
   "source": []
  },
  {
   "cell_type": "code",
   "execution_count": null,
   "id": "00730328-586c-4f41-8e89-b1827edb438d",
   "metadata": {},
   "outputs": [],
   "source": []
  },
  {
   "cell_type": "code",
   "execution_count": null,
   "id": "fbe14646-dae6-4edd-b2f9-3b4f2eece3a8",
   "metadata": {},
   "outputs": [],
   "source": []
  },
  {
   "cell_type": "code",
   "execution_count": 1,
   "id": "7c31e4f0-aefa-4266-a862-20b690647572",
   "metadata": {},
   "outputs": [],
   "source": [
    "# Define the evaluation metrics and their values\n",
    "# metrics = ['Accuracy', 'Precision', 'Recall', 'F1 Score', 'ROC']\n",
    "# values = [accuracy, precision, recall, f1_score, roc]\n",
    "\n",
    "# # Plot the evaluation metrics\n",
    "# plt.figure(figsize=(10, 6))\n",
    "# plt.bar(metrics, values, color='blue')\n",
    "# plt.xlabel('Evaluation Metric')\n",
    "# plt.ylabel('Value')\n",
    "# plt.title('Model Evaluation Metrics')\n",
    "# plt.ylim(0, 1)  # Set y-axis limit from 0 to 1\n",
    "# plt.show()"
   ]
  },
  {
   "cell_type": "markdown",
   "id": "93bf8d39-78b3-4de7-b239-4b510e722c04",
   "metadata": {},
   "source": [
    "Vitualize to compare the training time with different cluster structure"
   ]
  },
  {
   "cell_type": "code",
   "execution_count": 225,
   "id": "9776c4cf-a6ad-4b8b-9c35-29d8578fc913",
   "metadata": {},
   "outputs": [
    {
     "data": {
      "image/png": "[encoded data removed]",
      "text/plain": [
       "<Figure size 800x200 with 1 Axes>"
      ]
     },
     "metadata": {},
     "output_type": "display_data"
    }
   ],
   "source": [
    "# Data\n",
    "models = ['2-node Spark Cluster', '8-node Spark Cluster']\n",
    "training_times = [3308, 536]  # Replace with your actual training times in seconds\n",
    "\n",
    "# Plot\n",
    "plt.figure(figsize=(8, 2))\n",
    "bars = plt.barh(models, training_times, color=['orange', 'green'])\n",
    "\n",
    "# Add value on top of each bar\n",
    "for bar in bars:\n",
    "    plt.text(bar.get_width() - 5, bar.get_y() + bar.get_height()/2, f'{bar.get_width()}s', va='center')\n",
    "\n",
    "plt.xlabel('Training Time (seconds)')\n",
    "plt.ylabel('Model')\n",
    "plt.title('Training Time Comparison')\n",
    "plt.grid(axis='x')\n",
    "plt.show()"
   ]
  },
  {
   "cell_type": "code",
   "execution_count": null,
   "id": "ae7e9b56-5d5f-4cd3-912b-c90be64d8a37",
   "metadata": {},
   "outputs": [],
   "source": []
  },
  {
   "cell_type": "code",
   "execution_count": null,
   "id": "27c8fccd-a432-4f0d-95af-fa0cbbb20969",
   "metadata": {},
   "outputs": [],
   "source": []
  },
  {
   "cell_type": "code",
   "execution_count": null,
   "id": "57d40950-2a77-47e8-ac5a-bc596c4b48ad",
   "metadata": {},
   "outputs": [],
   "source": []
  },
  {
   "cell_type": "markdown",
   "id": "212d24d0-a941-4280-8c28-58eb9fc4adc5",
   "metadata": {},
   "source": [
    "## Cross-Validation upon Train-test split"
   ]
  },
  {
   "cell_type": "code",
   "execution_count": 11,
   "id": "63a55f4e-4714-4504-ae6d-6a59fbafde51",
   "metadata": {},
   "outputs": [],
   "source": [
    "# for test\n",
    "selected_features = ['Fwd Pkt Len Mean',\n",
    "                     'PSH Flag Cnt',\n",
    "                     'ACK Flag Cnt',\n",
    "                     'Pkt Size Avg',\n",
    "                     'Fwd Seg Size Avg',\n",
    "                     'Init Bwd Win Byts',\n",
    "                     'Fwd Seg Size Min']"
   ]
  },
  {
   "cell_type": "code",
   "execution_count": 28,
   "id": "d675651a-558d-4939-bd3d-21f187725359",
   "metadata": {},
   "outputs": [],
   "source": [
    "df = df_backup"
   ]
  },
  {
   "cell_type": "code",
   "execution_count": 13,
   "id": "4f568f64-ce42-4655-b166-f4113521e173",
   "metadata": {},
   "outputs": [],
   "source": [
    "# Map \"ddos\" to 1 and \"Benign\" to 0 in the label column\n",
    "# This is required by the random forest in PySpark\n",
    "df = df.withColumn(\"Label\", when(col(\"Label\") == \"ddos\", 1).otherwise(0))"
   ]
  },
  {
   "cell_type": "code",
   "execution_count": 14,
   "id": "7a17272a-4bcc-4c29-b8f0-ee03dc3feddf",
   "metadata": {},
   "outputs": [],
   "source": [
    "selected_cols = [col for col in df.columns if col in selected_features]\n",
    "\n",
    "# Select features\n",
    "assembler = VectorAssembler(inputCols=selected_cols, outputCol=\"features\")"
   ]
  },
  {
   "cell_type": "code",
   "execution_count": 15,
   "id": "88dac417-dce2-48e5-829c-83e058698bd3",
   "metadata": {},
   "outputs": [],
   "source": [
    "scaler = StandardScaler(inputCol=\"features\", outputCol=\"scaledFeatures\")"
   ]
  },
  {
   "cell_type": "code",
   "execution_count": 16,
   "id": "bd2e1d81-6828-4c4e-929b-06829dd436cf",
   "metadata": {},
   "outputs": [],
   "source": [
    "# reduce to 3 principal components\n",
    "pca = PCA(k=3, inputCol=\"scaledFeatures\", outputCol=\"pcaFeatures\")"
   ]
  },
  {
   "cell_type": "code",
   "execution_count": 17,
   "id": "2c9fccd4-0bef-447d-9271-ca932aff8850",
   "metadata": {},
   "outputs": [],
   "source": [
    "rf = RandomForestClassifier(labelCol=\"Label\", featuresCol=\"pcaFeatures\")\n",
    "pipeline = Pipeline(stages=[assembler, scaler, pca, rf])"
   ]
  },
  {
   "cell_type": "code",
   "execution_count": 18,
   "id": "1cc131de-f440-4f17-9e77-bbe653668280",
   "metadata": {},
   "outputs": [],
   "source": [
    "# Define hyperparameter grid for tuning\n",
    "paramGrid = ParamGridBuilder() \\\n",
    "    .addGrid(rf.numTrees, [10, 50, 100]) \\\n",
    "    .addGrid(rf.maxDepth, [5, 10, 15]) \\\n",
    "    .build()"
   ]
  },
  {
   "cell_type": "code",
   "execution_count": 19,
   "id": "18723ab3-5204-4c23-9b1c-256b7c74b5a3",
   "metadata": {},
   "outputs": [],
   "source": [
    "# use ROC index for evaluation\n",
    "evaluator = BinaryClassificationEvaluator(labelCol=\"Label\", metricName=\"areaUnderROC\")\n",
    "# 10-fold cross-validation\n",
    "crossval = CrossValidator(estimator=pipeline,\n",
    "                          estimatorParamMaps=paramGrid,\n",
    "                          evaluator=evaluator,\n",
    "                          numFolds=10)  "
   ]
  },
  {
   "cell_type": "code",
   "execution_count": 22,
   "id": "55e48cf8-101b-46ec-84c6-8f309ea6ecf1",
   "metadata": {},
   "outputs": [
    {
     "name": "stderr",
     "output_type": "stream",
     "text": [
      "                                                                                \r"
     ]
    },
    {
     "name": "stdout",
     "output_type": "stream",
     "text": [
      "1\n",
      "0\n"
     ]
    }
   ],
   "source": [
    "# check distinct label values\n",
    "distinct_labels = df.select(\"Label\").distinct().collect()\n",
    "# Print the distinct values\n",
    "for row in distinct_labels:\n",
    "    print(row[\"Label\"])"
   ]
  },
  {
   "cell_type": "code",
   "execution_count": 23,
   "id": "f917acad-4ea5-4227-a995-7f3359e109c9",
   "metadata": {},
   "outputs": [],
   "source": [
    "(trainingData, testData) = df.randomSplit([0.7, 0.3])"
   ]
  },
  {
   "cell_type": "code",
   "execution_count": null,
   "id": "5a80db45-460b-4dcf-8984-1514f97944d9",
   "metadata": {},
   "outputs": [],
   "source": []
  },
  {
   "cell_type": "code",
   "execution_count": 24,
   "id": "62645946-7e31-41dd-aee2-53ae838bda75",
   "metadata": {},
   "outputs": [
    {
     "name": "stdout",
     "output_type": "stream",
     "text": [
      "24/04/25 23:52:32 WARN package: Truncated the string representation of a plan since it was too large. This behavior can be adjusted by setting 'spark.sql.debug.maxToStringFields'.\n"
     ]
    },
    {
     "name": "stderr",
     "output_type": "stream",
     "text": [
      "                                                                                \r"
     ]
    },
    {
     "name": "stdout",
     "output_type": "stream",
     "text": [
      "24/04/25 23:52:51 WARN LAPACK: Failed to load implementation from: com.github.fommil.netlib.NativeSystemLAPACK\n",
      "24/04/25 23:52:51 WARN LAPACK: Failed to load implementation from: com.github.fommil.netlib.NativeRefLAPACK\n"
     ]
    },
    {
     "name": "stderr",
     "output_type": "stream",
     "text": [
      "                                                                                \r"
     ]
    },
    {
     "name": "stdout",
     "output_type": "stream",
     "text": [
      "CPU times: user 8.17 s, sys: 1.92 s, total: 10.1 s\n",
      "Wall time: 9min 45s\n"
     ]
    }
   ],
   "source": [
    "%%time\n",
    "cvModel = crossval.fit(trainingData)"
   ]
  },
  {
   "cell_type": "code",
   "execution_count": 25,
   "id": "83d0f1da-fd18-43c5-a319-cd5611089fb8",
   "metadata": {},
   "outputs": [
    {
     "name": "stdout",
     "output_type": "stream",
     "text": [
      "CPU times: user 8.81 ms, sys: 7.39 ms, total: 16.2 ms\n",
      "Wall time: 240 ms\n"
     ]
    }
   ],
   "source": [
    "%%time\n",
    "# Make predictions\n",
    "predictions = cvModel.transform(testData)"
   ]
  },
  {
   "cell_type": "code",
   "execution_count": 26,
   "id": "5ea66861-63c8-4cdc-82da-d9231b9345f4",
   "metadata": {},
   "outputs": [
    {
     "name": "stderr",
     "output_type": "stream",
     "text": [
      "                                                                                \r"
     ]
    },
    {
     "data": {
      "text/plain": [
       "0.9999816235741953"
      ]
     },
     "execution_count": 26,
     "metadata": {},
     "output_type": "execute_result"
    }
   ],
   "source": [
    "# Evaluate model performance\n",
    "roc = evaluator.evaluate(predictions)\n",
    "roc"
   ]
  },
  {
   "cell_type": "code",
   "execution_count": 27,
   "id": "2c7fd6af-bdd5-4bfa-8c21-026997cf1b45",
   "metadata": {},
   "outputs": [
    {
     "name": "stderr",
     "output_type": "stream",
     "text": [
      "[Stage 4117:===========================================>          (13 + 3) / 16]\r"
     ]
    },
    {
     "name": "stdout",
     "output_type": "stream",
     "text": [
      "Accuracy:  0.9993834771886559\n",
      "Precision:  0.9988012387199894\n",
      "Recall:  0.9999666622216296\n",
      "F1 Score:  0.9993834771107706\n",
      "ROC:  0.9999816235741953\n"
     ]
    },
    {
     "name": "stderr",
     "output_type": "stream",
     "text": [
      "                                                                                \r"
     ]
    }
   ],
   "source": [
    "# more evaluations\n",
    "\n",
    "from pyspark.ml.evaluation import MulticlassClassificationEvaluator\n",
    "\n",
    "# Define a multiclass classification evaluator\n",
    "multiclass_evaluator = MulticlassClassificationEvaluator(labelCol=\"Label\", predictionCol=\"prediction\")\n",
    "\n",
    "# Calculate accuracy\n",
    "accuracy = multiclass_evaluator.evaluate(predictions, {multiclass_evaluator.metricName: \"accuracy\"})\n",
    "\n",
    "# Calculate precision\n",
    "precision = multiclass_evaluator.evaluate(predictions, {multiclass_evaluator.metricName: \"precisionByLabel\"})\n",
    "\n",
    "# Calculate recall\n",
    "recall = multiclass_evaluator.evaluate(predictions, {multiclass_evaluator.metricName: \"recallByLabel\"})\n",
    "\n",
    "# Calculate F1 score\n",
    "f1_score = multiclass_evaluator.evaluate(predictions, {multiclass_evaluator.metricName: \"f1\"})\n",
    "\n",
    "# Print the evaluation metrics\n",
    "print(\"Accuracy: \", accuracy)\n",
    "print(\"Precision: \", precision)\n",
    "print(\"Recall: \", recall)\n",
    "print(\"F1 Score: \", f1_score)\n",
    "print(\"ROC: \", roc)"
   ]
  },
  {
   "cell_type": "code",
   "execution_count": 34,
   "id": "ee7bacbb-a07a-42a9-8321-6d0ed83bf6dc",
   "metadata": {},
   "outputs": [
    {
     "name": "stdout",
     "output_type": "stream",
     "text": [
      "Best Num Trees: 100\n",
      "Best Max Depth: 10\n"
     ]
    }
   ],
   "source": [
    "# get the hyperparameter combination of the best model\n",
    "best_model = cvModel.bestModel\n",
    "# Extract the parameter values from the best model\n",
    "best_num_trees = best_model.stages[-1].getNumTrees\n",
    "best_max_depth = best_model.stages[-1].getOrDefault('maxDepth')\n",
    "\n",
    "# Print the best hyperparameter combination\n",
    "print(\"Best Num Trees:\", best_num_trees)\n",
    "print(\"Best Max Depth:\", best_max_depth)"
   ]
  },
  {
   "cell_type": "code",
   "execution_count": null,
   "id": "5844fe51-d397-4789-9f07-7095370035a4",
   "metadata": {},
   "outputs": [],
   "source": []
  },
  {
   "cell_type": "code",
   "execution_count": null,
   "id": "d3463905-a680-4aec-af50-aa6c6cd91639",
   "metadata": {},
   "outputs": [],
   "source": []
  },
  {
   "cell_type": "markdown",
   "id": "60762e83-5a22-4e77-958a-05eb28a0d0ac",
   "metadata": {},
   "source": [
    "## RF on 022118 imbalanced dataset"
   ]
  },
  {
   "cell_type": "code",
   "execution_count": 79,
   "id": "43d3d396-c098-433f-9c51-076c7f9d8d45",
   "metadata": {},
   "outputs": [
    {
     "name": "stderr",
     "output_type": "stream",
     "text": [
      "                                                                                \r"
     ]
    }
   ],
   "source": [
    "df = (spark.read\n",
    "         .format(\"csv\")\n",
    "         .option(\"inferSchema\", True)\n",
    "         .option(\"header\", True)\n",
    "         .load(\"hdfs://172.31.8.146:9000/02-21-2018.csv\"))"
   ]
  },
  {
   "cell_type": "code",
   "execution_count": 80,
   "id": "5e5815b2-feb2-455f-8f3b-0978960619ba",
   "metadata": {},
   "outputs": [],
   "source": [
    "from pyspark.sql.functions import col, when\n",
    "#drop unused columns, drop Nan values, convert string labels to integer\n",
    "df = df.drop('Timestamp')\n",
    "df = df.na.drop()\n",
    "df = df.withColumn(\"Label\", when(col(\"Label\") == \"Benign\", 1).otherwise(0))"
   ]
  },
  {
   "cell_type": "code",
   "execution_count": 81,
   "id": "e6116651-e7f9-4e6c-b0de-27169f7fea1c",
   "metadata": {},
   "outputs": [],
   "source": [
    "#separate features and label columns\n",
    "features = df.columns[:-1]\n",
    "label = df.columns[-1]"
   ]
  },
  {
   "cell_type": "code",
   "execution_count": 82,
   "id": "fb603d3e-b9e6-45b3-987f-8d0cd0644cb2",
   "metadata": {},
   "outputs": [],
   "source": [
    "pca_50 = PCA(k=30, inputCol=\"features\", outputCol=\"pca50Features\")  # Reduce to 50 principal components"
   ]
  },
  {
   "cell_type": "code",
   "execution_count": 83,
   "id": "4a1fda08-4542-482e-9e45-7bc90fc8ca64",
   "metadata": {},
   "outputs": [
    {
     "name": "stderr",
     "output_type": "stream",
     "text": [
      "                                                                                \r"
     ]
    }
   ],
   "source": [
    "# Assemble the features into a single vector (necessary for Spark MLlib models)\n",
    "assembler = VectorAssembler(inputCols=features, outputCol=\"features\")\n",
    "data = assembler.transform(df)\n",
    "\n",
    "model = pca_50.fit(data)\n",
    "data = model.transform(data)\n",
    "\n",
    "# Select the features vector and the label column\n",
    "data = data.select(\"pca50Features\", label)\n",
    "# Split the data into training and test sets\n",
    "trainData, testData = data.randomSplit([0.7, 0.3])"
   ]
  },
  {
   "cell_type": "code",
   "execution_count": 84,
   "id": "86a9f506-4cce-43de-8ae2-92fcd71b3eaf",
   "metadata": {},
   "outputs": [],
   "source": [
    "# Create the Random Forest classifier\n",
    "rf = RandomForestClassifier(featuresCol=\"pca50Features\", labelCol=label,\n",
    "                             numTrees=100, maxDepth=5, minInstancesPerNode=10,\n",
    "                             subsamplingRate=0.8, featureSubsetStrategy=\"sqrt\")"
   ]
  },
  {
   "cell_type": "code",
   "execution_count": 85,
   "id": "29f00ea8-357f-4546-a703-0c644a416051",
   "metadata": {},
   "outputs": [
    {
     "name": "stderr",
     "output_type": "stream",
     "text": [
      "                                                                                \r"
     ]
    },
    {
     "name": "stdout",
     "output_type": "stream",
     "text": [
      "CPU times: user 61.4 ms, sys: 11.6 ms, total: 73 ms\n",
      "Wall time: 32.1 s\n"
     ]
    }
   ],
   "source": [
    "%%time\n",
    "# Fit the model to the training data\n",
    "rf_model = rf.fit(trainData)"
   ]
  },
  {
   "cell_type": "code",
   "execution_count": 86,
   "id": "22943bbe-d710-41f8-b39c-a2ca8759a969",
   "metadata": {},
   "outputs": [],
   "source": [
    "# Make predictions on the test data\n",
    "predictions = rf_model.transform(testData)"
   ]
  },
  {
   "cell_type": "code",
   "execution_count": 87,
   "id": "fb530fa5-deaf-4704-a88b-8b40585da485",
   "metadata": {},
   "outputs": [
    {
     "name": "stderr",
     "output_type": "stream",
     "text": [
      "[Stage 156:==================================>                    (10 + 6) / 16]\r"
     ]
    },
    {
     "name": "stdout",
     "output_type": "stream",
     "text": [
      "Accuracy: 0.999999997245115\n",
      "Precision: 0.9999419395106468\n",
      "Recall: 0.9999903227835545\n"
     ]
    },
    {
     "name": "stderr",
     "output_type": "stream",
     "text": [
      "                                                                                \r"
     ]
    }
   ],
   "source": [
    "from pyspark.ml.evaluation import MulticlassClassificationEvaluator\n",
    "# Evaluate the model\n",
    "evaluator = BinaryClassificationEvaluator(labelCol=\"Label\")\n",
    "accuracy = evaluator.evaluate(predictions)\n",
    "\n",
    "precision_evaluator = MulticlassClassificationEvaluator(\n",
    "    labelCol=\"Label\",\n",
    "    predictionCol=\"prediction\",\n",
    "    metricName=\"precisionByLabel\")\n",
    "\n",
    "# You can specify the label here if you have multiple classes and you are interested in one specific class\n",
    "precision = precision_evaluator.evaluate(predictions)\n",
    "\n",
    "# Evaluator for recall\n",
    "recall_evaluator = MulticlassClassificationEvaluator(\n",
    "    labelCol=\"Label\",\n",
    "    predictionCol=\"prediction\",\n",
    "    metricName=\"recallByLabel\")\n",
    "\n",
    "# As with precision, specify the label for recall calculation if needed\n",
    "recall = recall_evaluator.evaluate(predictions)\n",
    "\n",
    "print(f\"Accuracy: {accuracy}\")\n",
    "print(f\"Precision: {precision}\")\n",
    "print(f\"Recall: {recall}\")\n"
   ]
  },
  {
   "cell_type": "code",
   "execution_count": null,
   "id": "7a109ca5-4306-44f5-b6d4-3e97cb55f7ca",
   "metadata": {},
   "outputs": [],
   "source": []
  },
  {
   "cell_type": "markdown",
   "id": "1ff6029f-d8a6-4a2f-a8fb-0b38d08d6707",
   "metadata": {},
   "source": [
    "# Learning Curve - training ratio\n",
    "Comparing the model performance with different values of **training ratio** on the training and validation set"
   ]
  },
  {
   "cell_type": "code",
   "execution_count": 19,
   "id": "b5e42d58-b0e8-45ec-bbc8-97d8c143f78a",
   "metadata": {},
   "outputs": [
    {
     "name": "stderr",
     "output_type": "stream",
     "text": [
      "                                                                                \r"
     ]
    }
   ],
   "source": [
    "df = (spark.read\n",
    "         .format(\"csv\")\n",
    "         .option(\"inferSchema\", True)\n",
    "         .option(\"header\", True)\n",
    "         .load(\"hdfs://172.31.8.146:9000/02-21-2018.csv\"))"
   ]
  },
  {
   "cell_type": "code",
   "execution_count": 20,
   "id": "a1402f0d-b661-4305-8280-c83aa76401b4",
   "metadata": {},
   "outputs": [],
   "source": [
    "from pyspark.sql.functions import col, when\n",
    "#drop unused columns, drop Nan values, convert string labels to integer\n",
    "df = df.drop('Timestamp')\n",
    "df = df.na.drop()\n",
    "df = df.withColumn(\"Label\", when(col(\"Label\") == \"Benign\", 1).otherwise(0))"
   ]
  },
  {
   "cell_type": "code",
   "execution_count": 21,
   "id": "0924d182-112c-4d18-9981-a4e90c0fb54c",
   "metadata": {},
   "outputs": [],
   "source": [
    "#separate features and label columns\n",
    "features = df.columns[:-1]\n",
    "label = df.columns[-1]"
   ]
  },
  {
   "cell_type": "code",
   "execution_count": 22,
   "id": "0a2fca02-4c5f-4e4d-9dc7-8657e1acfa54",
   "metadata": {},
   "outputs": [],
   "source": [
    "pca_50 = PCA(k=10, inputCol=\"features\", outputCol=\"pca50Features\")  # Reduce to 10 principal components"
   ]
  },
  {
   "cell_type": "code",
   "execution_count": 23,
   "id": "d1538f13-336a-4bf6-8fa0-7ace0fcdd4af",
   "metadata": {},
   "outputs": [
    {
     "name": "stderr",
     "output_type": "stream",
     "text": [
      "                                                                                \r"
     ]
    }
   ],
   "source": [
    "# Assemble the features into a single vector (necessary for Spark MLlib models)\n",
    "assembler = VectorAssembler(inputCols=features, outputCol=\"features\")\n",
    "data = assembler.transform(df)\n",
    "\n",
    "model = pca_50.fit(data)\n",
    "data = model.transform(data)\n",
    "\n",
    "# Select the features vector and the label column\n",
    "data = data.select(\"pca50Features\", label)"
   ]
  },
  {
   "cell_type": "code",
   "execution_count": 24,
   "id": "f9e6dc3e-c117-496e-97e0-19adab75e0e3",
   "metadata": {},
   "outputs": [
    {
     "name": "stderr",
     "output_type": "stream",
     "text": [
      "                                                                                \r"
     ]
    },
    {
     "data": {
      "image/png": "[encoded data removed]",
      "text/plain": [
       "<Figure size 640x480 with 1 Axes>"
      ]
     },
     "metadata": {},
     "output_type": "display_data"
    }
   ],
   "source": [
    "import numpy as np\n",
    "import matplotlib.pyplot as plt\n",
    "\n",
    "# Define a range of training dataset sizes\n",
    "train_sizes = np.linspace(0.1, 1.0, 10)\n",
    "\n",
    "# Initialize lists to store training and validation performance\n",
    "train_scores = []\n",
    "val_scores = []\n",
    "\n",
    "# Loop over different training dataset sizes\n",
    "for size in train_sizes:\n",
    "    # Split the data into training and validation sets\n",
    "    trainData, valData = data.randomSplit([size, 1.0 - size], seed=42)\n",
    "    \n",
    "    # Create and train the RandomForestClassifier\n",
    "    rf = RandomForestClassifier(featuresCol=\"pca50Features\", labelCol=label)\n",
    "    model = rf.fit(trainData)\n",
    "    \n",
    "    # Make predictions on the training and validation data\n",
    "    train_preds = model.transform(trainData)\n",
    "    val_preds = model.transform(valData)\n",
    "    \n",
    "    # Evaluate the model's performance on training and validation data\n",
    "    evaluator = BinaryClassificationEvaluator(labelCol=label)\n",
    "    train_score = evaluator.evaluate(train_preds)\n",
    "    val_score = evaluator.evaluate(val_preds)\n",
    "    \n",
    "    # Append scores to lists\n",
    "    train_scores.append(train_score)\n",
    "    val_scores.append(val_score)\n",
    "\n",
    "# Plot learning curves\n",
    "plt.plot(train_sizes, train_scores, label='Training Score')\n",
    "plt.plot(train_sizes, val_scores, label='Validation Score')\n",
    "plt.xlabel('Training Set Size')\n",
    "plt.ylabel('Area Under ROC')\n",
    "plt.title('Learning Curves')\n",
    "plt.legend()\n",
    "plt.show()"
   ]
  },
  {
   "cell_type": "code",
   "execution_count": null,
   "id": "2d2947b4-4ca1-4997-aa76-9cef740aeb86",
   "metadata": {},
   "outputs": [],
   "source": []
  },
  {
   "cell_type": "code",
   "execution_count": 9,
   "id": "a640b6fc-0fc4-413f-a798-393f3e1a33c5",
   "metadata": {},
   "outputs": [],
   "source": [
    "selected_features = [\n",
    "     'Dst Port',\n",
    "     'Protocol',\n",
    "     'Flow Duration',\n",
    "     'TotLen Fwd Pkts',\n",
    "     'Fwd Pkt Len Max',\n",
    "     'Fwd Pkt Len Min',\n",
    "     'Fwd Pkt Len Std',\n",
    "     'Bwd Pkt Len Max',\n",
    "     'Bwd Pkt Len Min',\n",
    "     'Bwd Pkt Len Mean',\n",
    "     'Bwd Pkt Len Std',\n",
    "     'Flow IAT Mean',\n",
    "     'Flow IAT Std',\n",
    "     'Flow IAT Max',\n",
    "     'Flow IAT Min',\n",
    "     'Fwd IAT Tot',\n",
    "     'Fwd IAT Mean',\n",
    "     'Fwd IAT Std',\n",
    "     'Fwd IAT Max',\n",
    "     'Fwd IAT Min',\n",
    "     'Bwd IAT Tot',\n",
    "     'Bwd IAT Std',\n",
    "     'Bwd IAT Max',\n",
    "     'Pkt Len Min',\n",
    "     'Pkt Len Max',\n",
    "     'Pkt Len Mean',\n",
    "     'Pkt Len Std',\n",
    "     'Pkt Len Var',\n",
    "     'RST Flag Cnt',\n",
    "     'ECE Flag Cnt',\n",
    "     'Down/Up Ratio',\n",
    "     'Bwd Seg Size Avg',\n",
    "     'Subflow Fwd Byts',\n",
    "     'Init Fwd Win Byts',\n",
    "     'Fwd Act Data Pkts',\n",
    "     'Idle Mean',\n",
    "     'Idle Max',\n",
    "     'Idle Min'\n",
    "]"
   ]
  },
  {
   "cell_type": "markdown",
   "id": "412e9ce9-a2b2-4bae-a65b-6f914fe68afb",
   "metadata": {},
   "source": [
    "# Learning Curve - numTrees\n",
    "Comparing the model performance with different values of **numTrees** on the training and validation set"
   ]
  },
  {
   "cell_type": "code",
   "execution_count": 18,
   "id": "6c99f25c-4821-4a13-b29a-0c5d08584b28",
   "metadata": {},
   "outputs": [],
   "source": [
    "df = spark.read.csv(\"hdfs://172.31.8.146:9000/bal_min_200000.csv\", schema=schema, header=True)"
   ]
  },
  {
   "cell_type": "code",
   "execution_count": 19,
   "id": "85093eca-e429-4a3a-ad57-fb80e78b7f91",
   "metadata": {},
   "outputs": [],
   "source": [
    "df = df.withColumn(\"Label\", when(df[\"Label\"] == \"ddos\", 1).otherwise(0))"
   ]
  },
  {
   "cell_type": "code",
   "execution_count": 20,
   "id": "af2b4b8e-d91e-4f7a-a012-b26725bdb3f0",
   "metadata": {},
   "outputs": [],
   "source": [
    "selected_cols = [col for col in df.columns if col in selected_features]\n",
    "# Select features\n",
    "assembler = VectorAssembler(inputCols=selected_cols, outputCol=\"features\")"
   ]
  },
  {
   "cell_type": "code",
   "execution_count": 21,
   "id": "0649f73b-c386-4f61-9aeb-cf2070f54a9d",
   "metadata": {},
   "outputs": [],
   "source": [
    "scaler = StandardScaler(inputCol=\"features\", outputCol=\"scaledFeatures\")"
   ]
  },
  {
   "cell_type": "code",
   "execution_count": 22,
   "id": "59bf96b2-2b1f-4673-801f-9b071d77590c",
   "metadata": {},
   "outputs": [],
   "source": [
    "pca = PCA(k=10, inputCol=\"scaledFeatures\", outputCol=\"pcaFeatures\")"
   ]
  },
  {
   "cell_type": "code",
   "execution_count": 31,
   "id": "62bc5ef6-d90a-4903-83aa-05edd980d71c",
   "metadata": {},
   "outputs": [
    {
     "name": "stderr",
     "output_type": "stream",
     "text": [
      "                                                                                \r"
     ]
    },
    {
     "name": "stdout",
     "output_type": "stream",
     "text": [
      "====================================\n",
      "epoch of numTree=10 finished\n"
     ]
    },
    {
     "name": "stderr",
     "output_type": "stream",
     "text": [
      "                                                                                \r"
     ]
    },
    {
     "name": "stdout",
     "output_type": "stream",
     "text": [
      "====================================\n",
      "epoch of numTree=30 finished\n"
     ]
    },
    {
     "name": "stderr",
     "output_type": "stream",
     "text": [
      "                                                                                \r"
     ]
    },
    {
     "name": "stdout",
     "output_type": "stream",
     "text": [
      "====================================\n",
      "epoch of numTree=50 finished\n"
     ]
    },
    {
     "name": "stderr",
     "output_type": "stream",
     "text": [
      "                                                                                \r"
     ]
    },
    {
     "name": "stdout",
     "output_type": "stream",
     "text": [
      "====================================\n",
      "epoch of numTree=70 finished\n"
     ]
    },
    {
     "name": "stderr",
     "output_type": "stream",
     "text": [
      "                                                                                \r"
     ]
    },
    {
     "name": "stdout",
     "output_type": "stream",
     "text": [
      "====================================\n",
      "epoch of numTree=100 finished\n"
     ]
    },
    {
     "name": "stderr",
     "output_type": "stream",
     "text": [
      "                                                                                \r"
     ]
    },
    {
     "name": "stdout",
     "output_type": "stream",
     "text": [
      "====================================\n",
      "epoch of numTree=150 finished\n"
     ]
    },
    {
     "name": "stderr",
     "output_type": "stream",
     "text": [
      "                                                                                \r"
     ]
    },
    {
     "name": "stdout",
     "output_type": "stream",
     "text": [
      "====================================\n",
      "epoch of numTree=200 finished\n"
     ]
    },
    {
     "name": "stderr",
     "output_type": "stream",
     "text": [
      "                                                                                \r"
     ]
    },
    {
     "name": "stdout",
     "output_type": "stream",
     "text": [
      "====================================\n",
      "epoch of numTree=250 finished\n"
     ]
    },
    {
     "data": {
      "image/png": "[encoded data removed]",
      "text/plain": [
       "<Figure size 640x480 with 1 Axes>"
      ]
     },
     "metadata": {},
     "output_type": "display_data"
    }
   ],
   "source": [
    "# Initialize lists to store training and validation performance\n",
    "train_scores = []\n",
    "val_scores = []\n",
    "\n",
    "numTree_vals = [10, 30, 50, 70, 100, 150, 200, 250]\n",
    "\n",
    "# Loop over different training dataset sizes\n",
    "for numTree in numTree_vals:\n",
    "    \n",
    "    # Split the data into training and validation sets\n",
    "    train_data, test_data = df.randomSplit([0.7, 0.3], seed=42)\n",
    "\n",
    "    # create the RF model and the pipeline with this numTree value\n",
    "    rf = RandomForestClassifier(labelCol=\"Label\", featuresCol=\"pcaFeatures\", numTrees=numTree)\n",
    "    pipeline = Pipeline(stages=[assembler, scaler, pca, rf])\n",
    "\n",
    "    # Fit the pipeline to training set\n",
    "    model = pipeline.fit(train_data)\n",
    "\n",
    "    \n",
    "    # Make predictions on the training and validation data\n",
    "    train_preds = model.transform(train_data)\n",
    "    val_preds = model.transform(test_data)\n",
    "    \n",
    "    # Evaluate the model's performance on training and validation data\n",
    "    evaluator = BinaryClassificationEvaluator(labelCol='Label')\n",
    "    train_score = evaluator.evaluate(train_preds)\n",
    "    val_score = evaluator.evaluate(val_preds)\n",
    "    \n",
    "    # Append scores to lists\n",
    "    train_scores.append(train_score)\n",
    "    val_scores.append(val_score)\n",
    "\n",
    "    print(\"====================================\")\n",
    "    print(\"epoch of numTree={} finished\".format(numTree))\n",
    "\n",
    "# Plot learning curves\n",
    "plt.plot(numTree_vals, train_scores, label='Training Score')\n",
    "plt.plot(numTree_vals, val_scores, label='Validation Score')\n",
    "plt.xlabel('numTree')\n",
    "plt.ylabel('Area Under ROC')\n",
    "plt.title('Learning Curves')\n",
    "plt.legend()\n",
    "plt.show()"
   ]
  },
  {
   "cell_type": "code",
   "execution_count": 24,
   "id": "12e4ed56-c842-40b0-a84c-c0160812d934",
   "metadata": {},
   "outputs": [],
   "source": [
    "# # Define hyperparameter grid for tuning\n",
    "# paramGrid = ParamGridBuilder() \\\n",
    "#     .addGrid(rf.numTrees, [10, 50, 100]) \\\n",
    "#     .addGrid(rf.maxDepth, [5, 10, 15]) \\\n",
    "#     .build()"
   ]
  },
  {
   "cell_type": "code",
   "execution_count": null,
   "id": "845fe6c6-ed2c-4078-9fec-de56af1f765f",
   "metadata": {},
   "outputs": [],
   "source": []
  },
  {
   "cell_type": "code",
   "execution_count": null,
   "id": "30a4f943-3e2b-4def-aafb-8e29803c0289",
   "metadata": {},
   "outputs": [],
   "source": []
  },
  {
   "cell_type": "markdown",
   "id": "efb67a49-4070-43e6-b970-2672c66832ce",
   "metadata": {},
   "source": [
    "# Learning Curve - maxDepth\n",
    "Comparing the model performance with different values of **maxDepth** on the training and validation set"
   ]
  },
  {
   "cell_type": "code",
   "execution_count": 32,
   "id": "1bc36610-9834-4cde-a09f-25117454e2cb",
   "metadata": {},
   "outputs": [],
   "source": [
    "df = spark.read.csv(\"hdfs://172.31.8.146:9000/bal_min_200000.csv\", schema=schema, header=True)"
   ]
  },
  {
   "cell_type": "code",
   "execution_count": 33,
   "id": "48f692bb-770c-4982-8926-bddeca657121",
   "metadata": {},
   "outputs": [],
   "source": [
    "df = df.withColumn(\"Label\", when(df[\"Label\"] == \"ddos\", 1).otherwise(0))"
   ]
  },
  {
   "cell_type": "code",
   "execution_count": 34,
   "id": "6e849b48-0c8b-4382-808a-2f7256ab89e4",
   "metadata": {},
   "outputs": [],
   "source": [
    "selected_cols = [col for col in df.columns if col in selected_features]\n",
    "# Select features\n",
    "assembler = VectorAssembler(inputCols=selected_cols, outputCol=\"features\")"
   ]
  },
  {
   "cell_type": "code",
   "execution_count": 35,
   "id": "3ae7d5be-faed-4fa6-889c-c98173b8c507",
   "metadata": {},
   "outputs": [],
   "source": [
    "scaler = StandardScaler(inputCol=\"features\", outputCol=\"scaledFeatures\")"
   ]
  },
  {
   "cell_type": "code",
   "execution_count": 36,
   "id": "fa1ff2e1-f972-413a-ad79-26f3d24b7799",
   "metadata": {},
   "outputs": [],
   "source": [
    "pca = PCA(k=10, inputCol=\"scaledFeatures\", outputCol=\"pcaFeatures\")"
   ]
  },
  {
   "cell_type": "code",
   "execution_count": 37,
   "id": "51b99784-afbb-43c5-8d64-2c84590572e2",
   "metadata": {},
   "outputs": [
    {
     "name": "stderr",
     "output_type": "stream",
     "text": [
      "                                                                                \r"
     ]
    },
    {
     "name": "stdout",
     "output_type": "stream",
     "text": [
      "====================================\n",
      "epoch of numTree=250 finished\n"
     ]
    },
    {
     "name": "stderr",
     "output_type": "stream",
     "text": [
      "                                                                                \r"
     ]
    },
    {
     "name": "stdout",
     "output_type": "stream",
     "text": [
      "====================================\n",
      "epoch of numTree=250 finished\n"
     ]
    },
    {
     "name": "stderr",
     "output_type": "stream",
     "text": [
      "                                                                                \r"
     ]
    },
    {
     "name": "stdout",
     "output_type": "stream",
     "text": [
      "====================================\n",
      "epoch of numTree=250 finished\n"
     ]
    },
    {
     "name": "stderr",
     "output_type": "stream",
     "text": [
      "                                                                                \r"
     ]
    },
    {
     "name": "stdout",
     "output_type": "stream",
     "text": [
      "====================================\n",
      "epoch of numTree=250 finished\n"
     ]
    },
    {
     "name": "stderr",
     "output_type": "stream",
     "text": [
      "                                                                                \r"
     ]
    },
    {
     "name": "stdout",
     "output_type": "stream",
     "text": [
      "====================================\n",
      "epoch of numTree=250 finished\n"
     ]
    },
    {
     "name": "stderr",
     "output_type": "stream",
     "text": [
      "                                                                                \r"
     ]
    },
    {
     "name": "stdout",
     "output_type": "stream",
     "text": [
      "====================================\n",
      "epoch of numTree=250 finished\n"
     ]
    },
    {
     "name": "stderr",
     "output_type": "stream",
     "text": [
      "                                                                                \r"
     ]
    },
    {
     "name": "stdout",
     "output_type": "stream",
     "text": [
      "====================================\n",
      "epoch of numTree=250 finished\n"
     ]
    },
    {
     "data": {
      "image/png": "[encoded data removed]",
      "text/plain": [
       "<Figure size 640x480 with 1 Axes>"
      ]
     },
     "metadata": {},
     "output_type": "display_data"
    }
   ],
   "source": [
    "# Initialize lists to store training and validation performance\n",
    "train_scores = []\n",
    "val_scores = []\n",
    "\n",
    "maxDepth_vals = [2, 5, 10, 15, 20, 25, 30]\n",
    "\n",
    "# Loop over different maxDepth values\n",
    "for maxDepth in maxDepth_vals:\n",
    "    \n",
    "    # Split the data into training and validation sets\n",
    "    train_data, test_data = df.randomSplit([0.7, 0.3], seed=42)\n",
    "\n",
    "    # create the RF model and the pipeline with this numTree value\n",
    "    rf = RandomForestClassifier(labelCol=\"Label\", featuresCol=\"pcaFeatures\", maxDepth=maxDepth)\n",
    "    pipeline = Pipeline(stages=[assembler, scaler, pca, rf])\n",
    "\n",
    "    # Fit the pipeline to training set\n",
    "    model = pipeline.fit(train_data)\n",
    "    \n",
    "    # Make predictions on the training and validation data\n",
    "    train_preds = model.transform(train_data)\n",
    "    val_preds = model.transform(test_data)\n",
    "    \n",
    "    # Evaluate the model's performance on training and validation data\n",
    "    evaluator = BinaryClassificationEvaluator(labelCol='Label')\n",
    "    train_score = evaluator.evaluate(train_preds)\n",
    "    val_score = evaluator.evaluate(val_preds)\n",
    "    \n",
    "    # Append scores to lists\n",
    "    train_scores.append(train_score)\n",
    "    val_scores.append(val_score)\n",
    "\n",
    "    print(\"====================================\")\n",
    "    print(\"epoch of numTree={} finished\".format(numTree))\n",
    "\n",
    "# Plot learning curves\n",
    "plt.plot(maxDepth_vals, train_scores, label='Training Score')\n",
    "plt.plot(maxDepth_vals, val_scores, label='Validation Score')\n",
    "plt.xlabel('maxDepth')\n",
    "plt.ylabel('Area Under ROC')\n",
    "plt.title('Learning Curves')\n",
    "plt.legend()\n",
    "plt.show()"
   ]
  },
  {
   "cell_type": "code",
   "execution_count": 38,
   "id": "7cd85176-71ee-4759-b5cb-c24d7b4b48e0",
   "metadata": {},
   "outputs": [],
   "source": [
    "spark.stop()"
   ]
  },
  {
   "cell_type": "code",
   "execution_count": null,
   "id": "f61a40b6-6268-4e07-a0f4-52ec3b93bd6c",
   "metadata": {},
   "outputs": [],
   "source": []
  },
  {
   "cell_type": "code",
   "execution_count": null,
   "id": "7a7b72c9-05af-43e9-99f7-f9bf8842c578",
   "metadata": {},
   "outputs": [],
   "source": []
  },
  {
   "cell_type": "code",
   "execution_count": null,
   "id": "304888b8-e226-4639-8dd5-fc31c4feb222",
   "metadata": {},
   "outputs": [],
   "source": []
  },
  {
   "cell_type": "markdown",
   "id": "edf38459-4787-47b6-ba5a-3a8357450851",
   "metadata": {},
   "source": [
    "# RF on 200000 rows balanced dataset\n",
    "## with cross-validation on training set, and validation on testing set"
   ]
  },
  {
   "cell_type": "code",
   "execution_count": 37,
   "id": "8eec1792-fa89-43ae-8448-32f0c85f73a7",
   "metadata": {},
   "outputs": [],
   "source": [
    "df = spark.read.csv(\"hdfs://172.31.8.146:9000/bal_min_200000.csv\", schema=schema, header=True)"
   ]
  },
  {
   "cell_type": "code",
   "execution_count": 38,
   "id": "3633d4fc-5e00-4e17-b490-164412ac623c",
   "metadata": {},
   "outputs": [],
   "source": [
    "df = df.drop('Timestamp')\n",
    "df = df.drop('Flow ID')\n",
    "df = df.drop('Src IP')\n",
    "df = df.drop('Dst IP')\n",
    "df = df.drop('_c0')\n",
    "df = df.na.drop()"
   ]
  },
  {
   "cell_type": "code",
   "execution_count": 39,
   "id": "cbf0b972-67a1-4e7a-89ba-426afe795b8c",
   "metadata": {},
   "outputs": [],
   "source": [
    "# Map \"ddos\" to 1 and \"Benign\" to 0 in the label column\n",
    "# This is required by the random forest in PySpark\n",
    "df = df.withColumn(\"Label\", when(col(\"Label\") == \"ddos\", 1).otherwise(0))"
   ]
  },
  {
   "cell_type": "code",
   "execution_count": 40,
   "id": "959a321d-3c13-43bf-a77f-858da4b9efe5",
   "metadata": {},
   "outputs": [],
   "source": [
    "selected_features = [\n",
    "     'Dst Port',\n",
    "     'Protocol',\n",
    "     'Flow Duration',\n",
    "     'TotLen Fwd Pkts',\n",
    "     'Fwd Pkt Len Max',\n",
    "     'Fwd Pkt Len Min',\n",
    "     'Fwd Pkt Len Std',\n",
    "     'Bwd Pkt Len Max',\n",
    "     'Bwd Pkt Len Min',\n",
    "     'Bwd Pkt Len Mean',\n",
    "     'Bwd Pkt Len Std',\n",
    "     'Flow IAT Mean',\n",
    "     'Flow IAT Std',\n",
    "     'Flow IAT Max',\n",
    "     'Flow IAT Min',\n",
    "     'Fwd IAT Tot',\n",
    "     'Fwd IAT Mean',\n",
    "     'Fwd IAT Std',\n",
    "     'Fwd IAT Max',\n",
    "     'Fwd IAT Min',\n",
    "     'Bwd IAT Tot',\n",
    "     'Bwd IAT Std',\n",
    "     'Bwd IAT Max',\n",
    "     'Pkt Len Min',\n",
    "     'Pkt Len Max',\n",
    "     'Pkt Len Mean',\n",
    "     'Pkt Len Std',\n",
    "     'Pkt Len Var',\n",
    "     'RST Flag Cnt',\n",
    "     'ECE Flag Cnt',\n",
    "     'Down/Up Ratio',\n",
    "     'Bwd Seg Size Avg',\n",
    "     'Subflow Fwd Byts',\n",
    "     'Init Fwd Win Byts',\n",
    "     'Fwd Act Data Pkts',\n",
    "     'Idle Mean',\n",
    "     'Idle Max',\n",
    "     'Idle Min'\n",
    "]"
   ]
  },
  {
   "cell_type": "code",
   "execution_count": 41,
   "id": "cb369ba4-9096-4318-a214-870781899b7d",
   "metadata": {},
   "outputs": [],
   "source": [
    "selected_cols = [col for col in df.columns if col in selected_features]\n",
    "\n",
    "# Select features\n",
    "assembler = VectorAssembler(inputCols=selected_cols, outputCol=\"features\")"
   ]
  },
  {
   "cell_type": "markdown",
   "id": "83f02a1e-cd76-4118-b90c-97ab3fee2ea2",
   "metadata": {},
   "source": [
    "### Perform data preprocessing using scaler\n",
    "Feature scaling (also known as data normalization or standardization) is a preprocessing step that transforms the features (columns) of a dataset to have similar scales or ranges.\n",
    "\n",
    "The purpose of feature scaling here is to ensure that all features contribute equally to our model training process, preventing features with larger scales from dominating those with smaller scales. It also helps the algorithms converge faster and may improve the performance of certain machine learning algorithms, particularly those that rely on distance metrics or gradient descent optimization."
   ]
  },
  {
   "cell_type": "code",
   "execution_count": 42,
   "id": "0e87461e-fe6e-4fe4-846e-948b38e81c91",
   "metadata": {},
   "outputs": [],
   "source": [
    "scaler = StandardScaler(inputCol=\"features\", outputCol=\"scaledFeatures\")"
   ]
  },
  {
   "cell_type": "code",
   "execution_count": null,
   "id": "ccef7179-2909-4bc9-9f81-347d4ba58afe",
   "metadata": {},
   "outputs": [],
   "source": []
  },
  {
   "cell_type": "markdown",
   "id": "ac9b5617-ca6b-4db6-8c58-e2e7c1642143",
   "metadata": {},
   "source": [
    "### Use PCA for feature selection to reduce the number of features"
   ]
  },
  {
   "cell_type": "code",
   "execution_count": 43,
   "id": "0f708118-cdb8-4e81-9881-4ae84d5eb1dc",
   "metadata": {},
   "outputs": [],
   "source": [
    "# reduce to 30 principal components\n",
    "pca = PCA(k=1, inputCol=\"scaledFeatures\", outputCol=\"pcaFeatures\")"
   ]
  },
  {
   "cell_type": "code",
   "execution_count": null,
   "id": "50dbecc6-d52a-4dfc-9ba7-fb8a0fa17e26",
   "metadata": {},
   "outputs": [],
   "source": []
  },
  {
   "cell_type": "code",
   "execution_count": null,
   "id": "042c976b-4c9f-40f9-a907-d9ea4601bca1",
   "metadata": {},
   "outputs": [],
   "source": []
  },
  {
   "cell_type": "markdown",
   "id": "0a067a12-e99a-4ebd-a35f-f45767c6e52d",
   "metadata": {},
   "source": [
    "### Define a new Random Forest model"
   ]
  },
  {
   "cell_type": "code",
   "execution_count": 44,
   "id": "2fbbc694-a8fd-49d2-8d90-a68e3cf5c184",
   "metadata": {},
   "outputs": [],
   "source": [
    "rf = RandomForestClassifier(labelCol=\"Label\", featuresCol=\"pcaFeatures\")\n",
    "pipeline = Pipeline(stages=[assembler, scaler, pca, rf])"
   ]
  },
  {
   "cell_type": "code",
   "execution_count": null,
   "id": "06df7ede-1877-4752-b140-1c9c5fc4041d",
   "metadata": {},
   "outputs": [],
   "source": []
  },
  {
   "cell_type": "markdown",
   "id": "ce6a9746-6421-4419-8d9d-f2a817ace753",
   "metadata": {},
   "source": [
    "### Add the process of hyperparameter tunning\n",
    "This usually works together with the k-fold cross validation"
   ]
  },
  {
   "cell_type": "code",
   "execution_count": 45,
   "id": "e364f01c-a3dd-4c5a-9be9-54ed6497544c",
   "metadata": {},
   "outputs": [],
   "source": [
    "# Define hyperparameter grid for tuning\n",
    "paramGrid = ParamGridBuilder() \\\n",
    "    .addGrid(rf.numTrees, [10, 50, 100]) \\\n",
    "    .addGrid(rf.maxDepth, [5, 10, 15]) \\\n",
    "    .build()"
   ]
  },
  {
   "cell_type": "code",
   "execution_count": null,
   "id": "46e58cc4-13f4-4b87-89db-8b0f08fa41ee",
   "metadata": {},
   "outputs": [],
   "source": []
  },
  {
   "cell_type": "markdown",
   "id": "afff0138-3e7c-4adf-b5a4-bcb47aac97ca",
   "metadata": {},
   "source": [
    "### Try k-fold cross validation (10-fold)"
   ]
  },
  {
   "cell_type": "code",
   "execution_count": 46,
   "id": "1c98c272-0a68-4098-b7c4-00c59b0d33e6",
   "metadata": {},
   "outputs": [],
   "source": [
    "# use ROC index for evaluation\n",
    "evaluator = BinaryClassificationEvaluator(labelCol=\"Label\", metricName=\"areaUnderROC\")\n",
    "# 10-fold cross-validation\n",
    "crossval = CrossValidator(estimator=pipeline,\n",
    "                          estimatorParamMaps=paramGrid,\n",
    "                          evaluator=evaluator,\n",
    "                          numFolds=10)  "
   ]
  },
  {
   "cell_type": "code",
   "execution_count": null,
   "id": "7e88e5f7-ada6-46bc-a11d-f48e74f108dc",
   "metadata": {},
   "outputs": [],
   "source": []
  },
  {
   "cell_type": "markdown",
   "id": "c7a14ea8-e930-420e-90f7-997b99c735d7",
   "metadata": {},
   "source": [
    "### Split df into training and validation set"
   ]
  },
  {
   "cell_type": "code",
   "execution_count": 47,
   "id": "738d3a98-4a82-4b75-969d-608bd5e7d288",
   "metadata": {},
   "outputs": [],
   "source": [
    "# Split the data into training and test sets\n",
    "(df_train, df_test) = df.randomSplit([0.7, 0.3])"
   ]
  },
  {
   "cell_type": "code",
   "execution_count": null,
   "id": "d5e26f60-4e62-459b-9da1-ac60c3563c9d",
   "metadata": {},
   "outputs": [],
   "source": []
  },
  {
   "cell_type": "code",
   "execution_count": null,
   "id": "e392fe7f-c6b1-48bb-8863-3381eb41e5d3",
   "metadata": {},
   "outputs": [],
   "source": []
  },
  {
   "cell_type": "code",
   "execution_count": 48,
   "id": "3557a067-989c-43f4-acc9-e06fd9ba8e6e",
   "metadata": {
    "scrolled": true
   },
   "outputs": [
    {
     "name": "stderr",
     "output_type": "stream",
     "text": [
      "                                                                                \r"
     ]
    },
    {
     "name": "stdout",
     "output_type": "stream",
     "text": [
      "CPU times: user 8.33 s, sys: 2.14 s, total: 10.5 s\n",
      "Wall time: 9min 24s\n"
     ]
    }
   ],
   "source": [
    "%%time\n",
    "cvModel = crossval.fit(df_train)"
   ]
  },
  {
   "cell_type": "code",
   "execution_count": null,
   "id": "ecc33ecc-e61d-4130-aa5c-c794a5910c32",
   "metadata": {},
   "outputs": [],
   "source": []
  },
  {
   "cell_type": "code",
   "execution_count": 49,
   "id": "97801f90-2006-461b-b0c4-ff39011173bf",
   "metadata": {},
   "outputs": [
    {
     "name": "stdout",
     "output_type": "stream",
     "text": [
      "CPU times: user 14.7 ms, sys: 2.49 ms, total: 17.2 ms\n",
      "Wall time: 107 ms\n"
     ]
    }
   ],
   "source": [
    "%%time\n",
    "# Make predictions on training set\n",
    "predictions_train = cvModel.transform(df_train)"
   ]
  },
  {
   "cell_type": "code",
   "execution_count": 50,
   "id": "0ebb9db8-4e51-40cf-84e4-522537847d02",
   "metadata": {},
   "outputs": [
    {
     "name": "stdout",
     "output_type": "stream",
     "text": [
      "CPU times: user 8.23 ms, sys: 9.1 ms, total: 17.3 ms\n",
      "Wall time: 180 ms\n"
     ]
    }
   ],
   "source": [
    "%%time\n",
    "# Make predictions on validation set\n",
    "predictions_test = cvModel.transform(df_test)"
   ]
  },
  {
   "cell_type": "code",
   "execution_count": 51,
   "id": "bf71dcb5-27c5-45d6-b145-f2621d33861f",
   "metadata": {},
   "outputs": [
    {
     "name": "stderr",
     "output_type": "stream",
     "text": [
      "                                                                                \r"
     ]
    },
    {
     "data": {
      "text/plain": [
       "0.9839316971778981"
      ]
     },
     "execution_count": 51,
     "metadata": {},
     "output_type": "execute_result"
    }
   ],
   "source": [
    "# Evaluate the performance on the training set\n",
    "roc_train = evaluator.evaluate(predictions_train)\n",
    "roc_train"
   ]
  },
  {
   "cell_type": "code",
   "execution_count": 52,
   "id": "2232a336-0346-4a0a-8ee9-43e70728ed31",
   "metadata": {},
   "outputs": [
    {
     "name": "stderr",
     "output_type": "stream",
     "text": [
      "                                                                                \r"
     ]
    },
    {
     "data": {
      "text/plain": [
       "0.98442601230846"
      ]
     },
     "execution_count": 52,
     "metadata": {},
     "output_type": "execute_result"
    }
   ],
   "source": [
    "# Evaluate the performance on the validation set\n",
    "roc_test = evaluator.evaluate(predictions_test)\n",
    "roc_test"
   ]
  },
  {
   "cell_type": "code",
   "execution_count": null,
   "id": "1f4a599d-c4a8-4713-9ad1-db0664be80d8",
   "metadata": {},
   "outputs": [],
   "source": []
  },
  {
   "cell_type": "code",
   "execution_count": null,
   "id": "3ac3a6c6-4a58-4a13-b5c6-a050145f5c86",
   "metadata": {},
   "outputs": [],
   "source": []
  },
  {
   "cell_type": "code",
   "execution_count": 53,
   "id": "caf411d8-3ae8-42b8-b68d-475583956ab1",
   "metadata": {},
   "outputs": [
    {
     "name": "stderr",
     "output_type": "stream",
     "text": [
      "[Stage 8666:==============================>                        (9 + 7) / 16]\r"
     ]
    },
    {
     "name": "stdout",
     "output_type": "stream",
     "text": [
      "Accuracy:  0.983871236760904\n",
      "Precision:  0.9824561403508771\n",
      "Recall:  0.9852493561226879\n",
      "F1 Score:  0.9838712657465823\n",
      "ROC:  0.98442601230846\n"
     ]
    },
    {
     "name": "stderr",
     "output_type": "stream",
     "text": [
      "                                                                                \r"
     ]
    }
   ],
   "source": [
    "# more evaluations\n",
    "\n",
    "from pyspark.ml.evaluation import MulticlassClassificationEvaluator\n",
    "\n",
    "# Define a multiclass classification evaluator\n",
    "multiclass_evaluator = MulticlassClassificationEvaluator(labelCol=\"Label\", predictionCol=\"prediction\")\n",
    "\n",
    "# Calculate accuracy\n",
    "accuracy = multiclass_evaluator.evaluate(predictions_test, {multiclass_evaluator.metricName: \"accuracy\"})\n",
    "\n",
    "# Calculate precision\n",
    "precision = multiclass_evaluator.evaluate(predictions_test, {multiclass_evaluator.metricName: \"precisionByLabel\"})\n",
    "\n",
    "# Calculate recall\n",
    "recall = multiclass_evaluator.evaluate(predictions_test, {multiclass_evaluator.metricName: \"recallByLabel\"})\n",
    "\n",
    "# Calculate F1 score\n",
    "f1_score = multiclass_evaluator.evaluate(predictions_test, {multiclass_evaluator.metricName: \"f1\"})\n",
    "\n",
    "# Print the evaluation metrics\n",
    "print(\"Accuracy: \", accuracy)\n",
    "print(\"Precision: \", precision)\n",
    "print(\"Recall: \", recall)\n",
    "print(\"F1 Score: \", f1_score)\n",
    "print(\"ROC: \", roc_test)"
   ]
  },
  {
   "cell_type": "code",
   "execution_count": 54,
   "id": "39c6b018-e06d-401f-b9b2-708abc6fa279",
   "metadata": {},
   "outputs": [
    {
     "name": "stderr",
     "output_type": "stream",
     "text": [
      "[Stage 8674:===>                                                  (1 + 15) / 16]\r"
     ]
    },
    {
     "name": "stdout",
     "output_type": "stream",
     "text": [
      "Accuracy:  0.9833493344032557\n",
      "Precision:  0.9813765877102644\n",
      "Recall:  0.9853228400735294\n",
      "F1 Score:  0.9833493415828822\n",
      "ROC:  0.9839316971778981\n"
     ]
    },
    {
     "name": "stderr",
     "output_type": "stream",
     "text": [
      "                                                                                \r"
     ]
    }
   ],
   "source": [
    "# Calculate accuracy\n",
    "accuracy_train = multiclass_evaluator.evaluate(predictions_train, {multiclass_evaluator.metricName: \"accuracy\"})\n",
    "\n",
    "# Calculate precision\n",
    "precision_train = multiclass_evaluator.evaluate(predictions_train, {multiclass_evaluator.metricName: \"precisionByLabel\"})\n",
    "\n",
    "# Calculate recall\n",
    "recall_train = multiclass_evaluator.evaluate(predictions_train, {multiclass_evaluator.metricName: \"recallByLabel\"})\n",
    "\n",
    "# Calculate F1 score\n",
    "f1_score_train = multiclass_evaluator.evaluate(predictions_train, {multiclass_evaluator.metricName: \"f1\"})\n",
    "\n",
    "# Print the evaluation metrics\n",
    "print(\"Accuracy: \", accuracy_train)\n",
    "print(\"Precision: \", precision_train)\n",
    "print(\"Recall: \", recall_train)\n",
    "print(\"F1 Score: \", f1_score_train)\n",
    "print(\"ROC: \", roc_train)"
   ]
  },
  {
   "cell_type": "code",
   "execution_count": null,
   "id": "e086bd7b-1e1a-452c-a7c0-e7586df893b1",
   "metadata": {},
   "outputs": [],
   "source": []
  },
  {
   "cell_type": "code",
   "execution_count": null,
   "id": "a419dc14-ad27-417b-aa84-0acb8f78b474",
   "metadata": {},
   "outputs": [],
   "source": []
  },
  {
   "cell_type": "code",
   "execution_count": null,
   "id": "53f8ead7-68ee-4e52-825b-bd5626d8fad3",
   "metadata": {},
   "outputs": [],
   "source": []
  },
  {
   "cell_type": "code",
   "execution_count": 56,
   "id": "48f662d3-450b-4e6d-8bcc-2c22b94bfc4c",
   "metadata": {},
   "outputs": [],
   "source": [
    "spark.stop()"
   ]
  },
  {
   "cell_type": "code",
   "execution_count": null,
   "id": "e6c45858-a0ac-45e7-bfc5-fa0d7094f2d7",
   "metadata": {},
   "outputs": [],
   "source": []
  }
 ],
 "metadata": {
  "kernelspec": {
   "display_name": "Python 3 (ipykernel)",
   "language": "python",
   "name": "python3"
  },
  "language_info": {
   "codemirror_mode": {
    "name": "ipython",
    "version": 3
   },
   "file_extension": ".py",
   "mimetype": "text/x-python",
   "name": "python",
   "nbconvert_exporter": "python",
   "pygments_lexer": "ipython3",
   "version": "3.10.12"
  }
 },
 "nbformat": 4,
 "nbformat_minor": 5
}
