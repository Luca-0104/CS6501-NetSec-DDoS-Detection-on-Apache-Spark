{
 "cells": [
  {
   "cell_type": "code",
   "execution_count": 2,
   "metadata": {
    "colab": {},
    "colab_type": "code",
    "id": "1fJk7zmMjcFm"
   },
   "outputs": [],
   "source": [
    "import numpy as np\n",
    "import pandas as pd\n",
    "import matplotlib.pyplot as plt\n",
    "\n",
    "import seaborn as sns; sns.set()"
   ]
  },
  {
   "cell_type": "code",
   "execution_count": 3,
   "metadata": {
    "colab": {},
    "colab_type": "code",
    "id": "MOKVbdzBjlmP"
   },
   "outputs": [],
   "source": [
    "from pyspark.sql import SparkSession\n",
    "from bigdl.util.common import *\n",
    "from bigdl.nn.layer import *\n",
    "from bigdl.nn.criterion import BinaryCrossEntropy\n",
    "from bigdl.optim.optimizer import *\n",
    "from bigdl.util.common import Sample\n",
    "from bigdl.transform.vision.image import *\n",
    "\n",
    "from pyspark.ml.linalg import Vectors\n",
    "from pyspark.sql.functions import col"
   ]
  },
  {
   "cell_type": "code",
   "execution_count": 4,
   "metadata": {
    "colab": {},
    "colab_type": "code",
    "id": "u7H2jNs1csN2"
   },
   "outputs": [],
   "source": [
    "spark = (SparkSession\n",
    "\t.builder\n",
    "\t.appName(\"DS5110/CS5501: my awesome Spark program\")\n",
    "\t.master(private_IPv4_addr_of_master:7077) # Change it to the private IP address of the master\n",
    "\t.config(\"spark.executor.memory\", \"1024M\")\n",
    "\t.getOrCreate())\n",
    "\n",
    "sc = spark.sparkContext\n",
    "init_engine()  # Init BigDL Engine"
   ]
  },
  {
   "cell_type": "code",
   "execution_count": 6,
   "metadata": {
    "colab": {},
    "colab_type": "code",
    "id": "WkSbWhYPjpdP"
   },
   "outputs": [],
   "source": [
    "data_normal = spark.read.csv('dataset/dataset_normal.csv', header=True, inferSchema=True)\n",
    "data_attack = spark.read.csv('dataset/dataset_attack.csv', header=True, inferSchema=True)\n",
    "data = data_normal.union(data_attack)\n",
    "data = data.drop('ip.src', 'ip.dst', 'frame.protocols')\n",
    "def label_transform(label):\n",
    "    return 1.0 if label == 'normal' else 0.0\n",
    "data = data.withColumn('label', col('class').apply(label_transform))\n",
    "assembler = VectorAssembler(inputCols=features, outputCol='features')\n",
    "data = assembler.transform(data)"
   ]
  },
  {
   "cell_type": "code",
   "execution_count": 7,
   "metadata": {
    "colab": {},
    "colab_type": "code",
    "id": "MlnVmtsDj0Af"
   },
   "outputs": [],
   "source": [
    "def row_to_sample(row):\n",
    "    features = Vectors.dense(row.features)\n",
    "    label = row.label\n",
    "    return Sample.from_ndarray(features, label)\n",
    "\n",
    "rdd_samples = data.rdd.map(row_to_sample)\n",
    "train_rdd, test_rdd = rdd_samples.randomSplit([0.8, 0.2]) # Divide training and predict datasets"
   ]
  },
  {
   "cell_type": "code",
   "execution_count": 8,
   "metadata": {
    "colab": {},
    "colab_type": "code",
    "id": "kMoOG1gDj1eJ"
   },
   "outputs": [],
   "source": [
    "def build_model():\n",
    "    model = Sequential()\n",
    "    model.add(Bidirectional(LSTM(64, activation='tanh')))\n",
    "    model.add(Dense(128, activation='relu'))\n",
    "    model.add(Dense(1, activation='sigmoid'))\n",
    "    return model"
   ]
  },
  {
   "cell_type": "code",
   "execution_count": 9,
   "metadata": {
    "colab": {},
    "colab_type": "code",
    "id": "13n5FKSJj4Fn"
   },
   "outputs": [],
   "source": [
    "model = build_model()\n",
    "optimizer = Optimizer(\n",
    "    model=model,\n",
    "    training_rdd=train_rdd,\n",
    "    criterion=BinaryCrossEntropy(),\n",
    "    optim_method=Adam(),\n",
    "    end_trigger=MaxEpoch(40),\n",
    "    batch_size=64\n",
    ")\n",
    "\n",
    "optimizer.set_validation(\n",
    "    batch_size=64,\n",
    "    val_rdd=test_rdd,\n",
    "    trigger=EveryEpoch(),\n",
    "    val_method=[Top1Accuracy()]\n",
    ")\n",
    "\n",
    "trained_model = optimizer.optimize()"
   ]
  },
  {
   "cell_type": "code",
   "execution_count": 27,
   "metadata": {
    "colab": {},
    "colab_type": "code",
    "id": "rAjFgVm6uGGp"
   },
   "outputs": [],
   "source": [
    "predictions = trained_model.predict(test_rdd)\n",
    "predicted_labels = predictions.map(lambda x: (float(x.argmax() + 1), float(x.label)))\n",
    "\n",
    "metrics_rdd = predicted_labels.map(lambda x: (x[0], x[1], 1)).keyBy(lambda x: (x[0], x[1]))\n",
    "counts = metrics_rdd.reduceByKey(lambda x, y: (x[0], x[1], x[2] + y[2])).map(lambda x: ((x[0][0], x[0][1]), x[1][2]))\n",
    "\n",
    "counts_dict = counts.collectAsMap()\n",
    "tp = counts_dict.get((1.0, 1.0), 0)\n",
    "tn = counts_dict.get((0.0, 0.0), 0)\n",
    "fp = counts_dict.get((1.0, 0.0), 0)\n",
    "fn = counts_dict.get((0.0, 1.0), 0)\n",
    "\n",
    "accuracy = (tp + tn) / (tp + fp + fn + tn)\n",
    "precision = tp / (tp + fp) if (tp + fp) != 0 else 0\n",
    "recall = tp / (tp + fn) if (tp + fn) != 0 else 0\n",
    "\n",
    "print(f\"Accuracy: {accuracy}\")\n",
    "print(f\"Precision: {precision}\")\n",
    "print(f\"Recall: {recall}\")\n",
    "to_heat_map = pd.DataFrame([[tn, fp], [fn, tp]], index=[\"Attack\", \"Normal\"], columns=[\"Attack\", \"Normal\"])\n",
    "\n",
    "plt.figure(figsize=(10, 7))\n",
    "sns.heatmap(to_heat_map, annot=True, fmt=\"d\", cmap=\"Blues\")\n",
    "plt.title('Confusion Matrix')\n",
    "plt.show()"
   ]
  }
 ],
 "metadata": {
  "colab": {
   "collapsed_sections": [],
   "name": "brnn_classifier",
   "provenance": [],
   "version": "0.3.2"
  },
  "kernelspec": {
   "display_name": "Python 3 (ipykernel)",
   "language": "python",
   "name": "python3"
  },
  "language_info": {
   "codemirror_mode": {
    "name": "ipython",
    "version": 3
   },
   "file_extension": ".py",
   "mimetype": "text/x-python",
   "name": "python",
   "nbconvert_exporter": "python",
   "pygments_lexer": "ipython3",
   "version": "3.10.12"
  }
 },
 "nbformat": 4,
 "nbformat_minor": 4
}
